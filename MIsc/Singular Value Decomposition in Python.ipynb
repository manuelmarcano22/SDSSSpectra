{
 "cells": [
  {
   "cell_type": "markdown",
   "metadata": {},
   "source": [
    "# SVD\n",
    "\n",
    "\n",
    "\n",
    "From the Foundations of Data Science science book by \n",
    "Avrim Blum, John Hopcroft, and Ravindran Kannan:\n",
    "\n",
    "\n",
    "Consider each row of an $n \\times d$ matrix A as a point in d dimensional space. The singular value decomposition finds the best-fitting k-dimensional subspace for $k = 1, 2, 3, . . .$ , for the set of $n$ data points.\n",
    "\n",
    "\n",
    "\n",
    "![](svd.png)\n",
    "\n",
    "Geometrically, each point is decomposed in $A$ into its components along each of the $r$ orthogonal directions given by the $v_i$. So the projections of the rows of A in the $v_i$ direction.\n",
    ".\n",
    "\n",
    "\n",
    "\n",
    "The decomposition:\n",
    "\n",
    "$$ A = \\sum ^r _{i=1} \\sigma _i \\vec u_i \\vec v _i ^T $$ is called the *singular value decomposition*. of A. In matrix notation $A = UDV^T$. For any matrix A, the sequence of singular values is unique and if the singular values are all disticnt, then the sequence of singular vectors is unique up to signs. If some set of singular values are equal, the correspiinding singular vectors span some subspace. \n",
    "\n",
    "The columns of V are the *right-singular vectors*, and the columns of U are called the *left-singular vectors*. \n",
    "\n",
    "If A is a $ n \\times d$ matrix with singular vectors $v_1, v_2, ..., v_r$ and corresponding singular vecyors $\\sigma_1, \\sigma_2, \\sigma_3, ... \\sigma_r$. The left singular vectors of A are $u_i = \\frac{1}{\\sigma_i} A v_i$ where $\\sigma _i \\,  u_i$ corresponds to a vector whose coordinates correspond to the projections of the rows of A onto $v_i$. \n",
    "\n",
    "\n",
    "\n",
    "## Best Rank-k approximations\n",
    "\n",
    "\n",
    "Let $A$ be an $n \\times d$ matrix and think of the rows of $A$ as $n$ points in $d$ dimensional space. Let $ A = \\sum ^r _{i=1} \\sigma _i \\vec u_i \\vec v _i ^T$ be the SVD of A. For $k$ going from 1 to r, then $v_1 to v_k$ define the $k$dimensional space maximizing the variance of minimizind the sum of squared distacnes of the points to the space. \n",
    "\n",
    "### Square matrix\n",
    "\n",
    "For a square matrix $B = A^T A$, then the right singular vectors of A are eigenvectors of B with eigenvalues $\\sigma^2$, and the left singular vectors of A are eigenvectors of A A^T with eigenvalues $\\sigma^2$. \n",
    "\n",
    "\n",
    "\n",
    "Let's do an example. Lets define a matrix to decompose. Let's begin with a two dimentional dataset. We follow the example from [Vanderplas](https://jakevdp.github.io/PythonDataScienceHandbook/05.09-principal-component-analysis.html)\n"
   ]
  },
  {
   "cell_type": "code",
   "execution_count": 1,
   "metadata": {},
   "outputs": [
    {
     "data": {
      "text/html": [
       "\n",
       "    <div class=\"bk-root\">\n",
       "        <a href=\"https://bokeh.pydata.org\" target=\"_blank\" class=\"bk-logo bk-logo-small bk-logo-notebook\"></a>\n",
       "        <span id=\"9f52302b-e477-4265-8ad1-f5ca180d7dc9\">Loading BokehJS ...</span>\n",
       "    </div>"
      ]
     },
     "metadata": {},
     "output_type": "display_data"
    },
    {
     "data": {
      "application/javascript": [
       "\n",
       "(function(root) {\n",
       "  function now() {\n",
       "    return new Date();\n",
       "  }\n",
       "\n",
       "  var force = true;\n",
       "\n",
       "  if (typeof (root._bokeh_onload_callbacks) === \"undefined\" || force === true) {\n",
       "    root._bokeh_onload_callbacks = [];\n",
       "    root._bokeh_is_loading = undefined;\n",
       "  }\n",
       "\n",
       "  var JS_MIME_TYPE = 'application/javascript';\n",
       "  var HTML_MIME_TYPE = 'text/html';\n",
       "  var EXEC_MIME_TYPE = 'application/vnd.bokehjs_exec.v0+json';\n",
       "  var CLASS_NAME = 'output_bokeh rendered_html';\n",
       "\n",
       "  /**\n",
       "   * Render data to the DOM node\n",
       "   */\n",
       "  function render(props, node) {\n",
       "    var script = document.createElement(\"script\");\n",
       "    node.appendChild(script);\n",
       "  }\n",
       "\n",
       "  /**\n",
       "   * Handle when an output is cleared or removed\n",
       "   */\n",
       "  function handleClearOutput(event, handle) {\n",
       "    var cell = handle.cell;\n",
       "\n",
       "    var id = cell.output_area._bokeh_element_id;\n",
       "    var server_id = cell.output_area._bokeh_server_id;\n",
       "    // Clean up Bokeh references\n",
       "    if (id !== undefined) {\n",
       "      Bokeh.index[id].model.document.clear();\n",
       "      delete Bokeh.index[id];\n",
       "    }\n",
       "\n",
       "    if (server_id !== undefined) {\n",
       "      // Clean up Bokeh references\n",
       "      var cmd = \"from bokeh.io.state import curstate; print(curstate().uuid_to_server['\" + server_id + \"'].get_sessions()[0].document.roots[0]._id)\";\n",
       "      cell.notebook.kernel.execute(cmd, {\n",
       "        iopub: {\n",
       "          output: function(msg) {\n",
       "            var element_id = msg.content.text.trim();\n",
       "            Bokeh.index[element_id].model.document.clear();\n",
       "            delete Bokeh.index[element_id];\n",
       "          }\n",
       "        }\n",
       "      });\n",
       "      // Destroy server and session\n",
       "      var cmd = \"import bokeh.io.notebook as ion; ion.destroy_server('\" + server_id + \"')\";\n",
       "      cell.notebook.kernel.execute(cmd);\n",
       "    }\n",
       "  }\n",
       "\n",
       "  /**\n",
       "   * Handle when a new output is added\n",
       "   */\n",
       "  function handleAddOutput(event, handle) {\n",
       "    var output_area = handle.output_area;\n",
       "    var output = handle.output;\n",
       "\n",
       "    // limit handleAddOutput to display_data with EXEC_MIME_TYPE content only\n",
       "    if ((output.output_type != \"display_data\") || (!output.data.hasOwnProperty(EXEC_MIME_TYPE))) {\n",
       "      return\n",
       "    }\n",
       "\n",
       "    var toinsert = output_area.element.find(\".\" + CLASS_NAME.split(' ')[0]);\n",
       "\n",
       "    if (output.metadata[EXEC_MIME_TYPE][\"id\"] !== undefined) {\n",
       "      toinsert[0].firstChild.textContent = output.data[JS_MIME_TYPE];\n",
       "      // store reference to embed id on output_area\n",
       "      output_area._bokeh_element_id = output.metadata[EXEC_MIME_TYPE][\"id\"];\n",
       "    }\n",
       "    if (output.metadata[EXEC_MIME_TYPE][\"server_id\"] !== undefined) {\n",
       "      var bk_div = document.createElement(\"div\");\n",
       "      bk_div.innerHTML = output.data[HTML_MIME_TYPE];\n",
       "      var script_attrs = bk_div.children[0].attributes;\n",
       "      for (var i = 0; i < script_attrs.length; i++) {\n",
       "        toinsert[0].firstChild.setAttribute(script_attrs[i].name, script_attrs[i].value);\n",
       "      }\n",
       "      // store reference to server id on output_area\n",
       "      output_area._bokeh_server_id = output.metadata[EXEC_MIME_TYPE][\"server_id\"];\n",
       "    }\n",
       "  }\n",
       "\n",
       "  function register_renderer(events, OutputArea) {\n",
       "\n",
       "    function append_mime(data, metadata, element) {\n",
       "      // create a DOM node to render to\n",
       "      var toinsert = this.create_output_subarea(\n",
       "        metadata,\n",
       "        CLASS_NAME,\n",
       "        EXEC_MIME_TYPE\n",
       "      );\n",
       "      this.keyboard_manager.register_events(toinsert);\n",
       "      // Render to node\n",
       "      var props = {data: data, metadata: metadata[EXEC_MIME_TYPE]};\n",
       "      render(props, toinsert[0]);\n",
       "      element.append(toinsert);\n",
       "      return toinsert\n",
       "    }\n",
       "\n",
       "    /* Handle when an output is cleared or removed */\n",
       "    events.on('clear_output.CodeCell', handleClearOutput);\n",
       "    events.on('delete.Cell', handleClearOutput);\n",
       "\n",
       "    /* Handle when a new output is added */\n",
       "    events.on('output_added.OutputArea', handleAddOutput);\n",
       "\n",
       "    /**\n",
       "     * Register the mime type and append_mime function with output_area\n",
       "     */\n",
       "    OutputArea.prototype.register_mime_type(EXEC_MIME_TYPE, append_mime, {\n",
       "      /* Is output safe? */\n",
       "      safe: true,\n",
       "      /* Index of renderer in `output_area.display_order` */\n",
       "      index: 0\n",
       "    });\n",
       "  }\n",
       "\n",
       "  // register the mime type if in Jupyter Notebook environment and previously unregistered\n",
       "  if (root.Jupyter !== undefined) {\n",
       "    var events = require('base/js/events');\n",
       "    var OutputArea = require('notebook/js/outputarea').OutputArea;\n",
       "\n",
       "    if (OutputArea.prototype.mime_types().indexOf(EXEC_MIME_TYPE) == -1) {\n",
       "      register_renderer(events, OutputArea);\n",
       "    }\n",
       "  }\n",
       "\n",
       "  \n",
       "  if (typeof (root._bokeh_timeout) === \"undefined\" || force === true) {\n",
       "    root._bokeh_timeout = Date.now() + 5000;\n",
       "    root._bokeh_failed_load = false;\n",
       "  }\n",
       "\n",
       "  var NB_LOAD_WARNING = {'data': {'text/html':\n",
       "     \"<div style='background-color: #fdd'>\\n\"+\n",
       "     \"<p>\\n\"+\n",
       "     \"BokehJS does not appear to have successfully loaded. If loading BokehJS from CDN, this \\n\"+\n",
       "     \"may be due to a slow or bad network connection. Possible fixes:\\n\"+\n",
       "     \"</p>\\n\"+\n",
       "     \"<ul>\\n\"+\n",
       "     \"<li>re-rerun `output_notebook()` to attempt to load from CDN again, or</li>\\n\"+\n",
       "     \"<li>use INLINE resources instead, as so:</li>\\n\"+\n",
       "     \"</ul>\\n\"+\n",
       "     \"<code>\\n\"+\n",
       "     \"from bokeh.resources import INLINE\\n\"+\n",
       "     \"output_notebook(resources=INLINE)\\n\"+\n",
       "     \"</code>\\n\"+\n",
       "     \"</div>\"}};\n",
       "\n",
       "  function display_loaded() {\n",
       "    var el = document.getElementById(\"9f52302b-e477-4265-8ad1-f5ca180d7dc9\");\n",
       "    if (el != null) {\n",
       "      el.textContent = \"BokehJS is loading...\";\n",
       "    }\n",
       "    if (root.Bokeh !== undefined) {\n",
       "      if (el != null) {\n",
       "        el.textContent = \"BokehJS \" + root.Bokeh.version + \" successfully loaded.\";\n",
       "      }\n",
       "    } else if (Date.now() < root._bokeh_timeout) {\n",
       "      setTimeout(display_loaded, 100)\n",
       "    }\n",
       "  }\n",
       "\n",
       "\n",
       "  function run_callbacks() {\n",
       "    try {\n",
       "      root._bokeh_onload_callbacks.forEach(function(callback) { callback() });\n",
       "    }\n",
       "    finally {\n",
       "      delete root._bokeh_onload_callbacks\n",
       "    }\n",
       "    console.info(\"Bokeh: all callbacks have finished\");\n",
       "  }\n",
       "\n",
       "  function load_libs(js_urls, callback) {\n",
       "    root._bokeh_onload_callbacks.push(callback);\n",
       "    if (root._bokeh_is_loading > 0) {\n",
       "      console.log(\"Bokeh: BokehJS is being loaded, scheduling callback at\", now());\n",
       "      return null;\n",
       "    }\n",
       "    if (js_urls == null || js_urls.length === 0) {\n",
       "      run_callbacks();\n",
       "      return null;\n",
       "    }\n",
       "    console.log(\"Bokeh: BokehJS not loaded, scheduling load and callback at\", now());\n",
       "    root._bokeh_is_loading = js_urls.length;\n",
       "    for (var i = 0; i < js_urls.length; i++) {\n",
       "      var url = js_urls[i];\n",
       "      var s = document.createElement('script');\n",
       "      s.src = url;\n",
       "      s.async = false;\n",
       "      s.onreadystatechange = s.onload = function() {\n",
       "        root._bokeh_is_loading--;\n",
       "        if (root._bokeh_is_loading === 0) {\n",
       "          console.log(\"Bokeh: all BokehJS libraries loaded\");\n",
       "          run_callbacks()\n",
       "        }\n",
       "      };\n",
       "      s.onerror = function() {\n",
       "        console.warn(\"failed to load library \" + url);\n",
       "      };\n",
       "      console.log(\"Bokeh: injecting script tag for BokehJS library: \", url);\n",
       "      document.getElementsByTagName(\"head\")[0].appendChild(s);\n",
       "    }\n",
       "  };var element = document.getElementById(\"9f52302b-e477-4265-8ad1-f5ca180d7dc9\");\n",
       "  if (element == null) {\n",
       "    console.log(\"Bokeh: ERROR: autoload.js configured with elementid '9f52302b-e477-4265-8ad1-f5ca180d7dc9' but no matching script tag was found. \")\n",
       "    return false;\n",
       "  }\n",
       "\n",
       "  var js_urls = [\"https://cdn.pydata.org/bokeh/release/bokeh-0.12.13.min.js\", \"https://cdn.pydata.org/bokeh/release/bokeh-widgets-0.12.13.min.js\", \"https://cdn.pydata.org/bokeh/release/bokeh-tables-0.12.13.min.js\", \"https://cdn.pydata.org/bokeh/release/bokeh-gl-0.12.13.min.js\"];\n",
       "\n",
       "  var inline_js = [\n",
       "    function(Bokeh) {\n",
       "      Bokeh.set_log_level(\"info\");\n",
       "    },\n",
       "    \n",
       "    function(Bokeh) {\n",
       "      \n",
       "    },\n",
       "    function(Bokeh) {\n",
       "      console.log(\"Bokeh: injecting CSS: https://cdn.pydata.org/bokeh/release/bokeh-0.12.13.min.css\");\n",
       "      Bokeh.embed.inject_css(\"https://cdn.pydata.org/bokeh/release/bokeh-0.12.13.min.css\");\n",
       "      console.log(\"Bokeh: injecting CSS: https://cdn.pydata.org/bokeh/release/bokeh-widgets-0.12.13.min.css\");\n",
       "      Bokeh.embed.inject_css(\"https://cdn.pydata.org/bokeh/release/bokeh-widgets-0.12.13.min.css\");\n",
       "      console.log(\"Bokeh: injecting CSS: https://cdn.pydata.org/bokeh/release/bokeh-tables-0.12.13.min.css\");\n",
       "      Bokeh.embed.inject_css(\"https://cdn.pydata.org/bokeh/release/bokeh-tables-0.12.13.min.css\");\n",
       "    }\n",
       "  ];\n",
       "\n",
       "  function run_inline_js() {\n",
       "    \n",
       "    if ((root.Bokeh !== undefined) || (force === true)) {\n",
       "      for (var i = 0; i < inline_js.length; i++) {\n",
       "        inline_js[i].call(root, root.Bokeh);\n",
       "      }if (force === true) {\n",
       "        display_loaded();\n",
       "      }} else if (Date.now() < root._bokeh_timeout) {\n",
       "      setTimeout(run_inline_js, 100);\n",
       "    } else if (!root._bokeh_failed_load) {\n",
       "      console.log(\"Bokeh: BokehJS failed to load within specified timeout.\");\n",
       "      root._bokeh_failed_load = true;\n",
       "    } else if (force !== true) {\n",
       "      var cell = $(document.getElementById(\"9f52302b-e477-4265-8ad1-f5ca180d7dc9\")).parents('.cell').data().cell;\n",
       "      cell.output_area.append_execute_result(NB_LOAD_WARNING)\n",
       "    }\n",
       "\n",
       "  }\n",
       "\n",
       "  if (root._bokeh_is_loading === 0) {\n",
       "    console.log(\"Bokeh: BokehJS loaded, going straight to plotting\");\n",
       "    run_inline_js();\n",
       "  } else {\n",
       "    load_libs(js_urls, function() {\n",
       "      console.log(\"Bokeh: BokehJS plotting callback run at\", now());\n",
       "      run_inline_js();\n",
       "    });\n",
       "  }\n",
       "}(window));"
      ],
      "application/vnd.bokehjs_load.v0+json": "\n(function(root) {\n  function now() {\n    return new Date();\n  }\n\n  var force = true;\n\n  if (typeof (root._bokeh_onload_callbacks) === \"undefined\" || force === true) {\n    root._bokeh_onload_callbacks = [];\n    root._bokeh_is_loading = undefined;\n  }\n\n  \n\n  \n  if (typeof (root._bokeh_timeout) === \"undefined\" || force === true) {\n    root._bokeh_timeout = Date.now() + 5000;\n    root._bokeh_failed_load = false;\n  }\n\n  var NB_LOAD_WARNING = {'data': {'text/html':\n     \"<div style='background-color: #fdd'>\\n\"+\n     \"<p>\\n\"+\n     \"BokehJS does not appear to have successfully loaded. If loading BokehJS from CDN, this \\n\"+\n     \"may be due to a slow or bad network connection. Possible fixes:\\n\"+\n     \"</p>\\n\"+\n     \"<ul>\\n\"+\n     \"<li>re-rerun `output_notebook()` to attempt to load from CDN again, or</li>\\n\"+\n     \"<li>use INLINE resources instead, as so:</li>\\n\"+\n     \"</ul>\\n\"+\n     \"<code>\\n\"+\n     \"from bokeh.resources import INLINE\\n\"+\n     \"output_notebook(resources=INLINE)\\n\"+\n     \"</code>\\n\"+\n     \"</div>\"}};\n\n  function display_loaded() {\n    var el = document.getElementById(\"9f52302b-e477-4265-8ad1-f5ca180d7dc9\");\n    if (el != null) {\n      el.textContent = \"BokehJS is loading...\";\n    }\n    if (root.Bokeh !== undefined) {\n      if (el != null) {\n        el.textContent = \"BokehJS \" + root.Bokeh.version + \" successfully loaded.\";\n      }\n    } else if (Date.now() < root._bokeh_timeout) {\n      setTimeout(display_loaded, 100)\n    }\n  }\n\n\n  function run_callbacks() {\n    try {\n      root._bokeh_onload_callbacks.forEach(function(callback) { callback() });\n    }\n    finally {\n      delete root._bokeh_onload_callbacks\n    }\n    console.info(\"Bokeh: all callbacks have finished\");\n  }\n\n  function load_libs(js_urls, callback) {\n    root._bokeh_onload_callbacks.push(callback);\n    if (root._bokeh_is_loading > 0) {\n      console.log(\"Bokeh: BokehJS is being loaded, scheduling callback at\", now());\n      return null;\n    }\n    if (js_urls == null || js_urls.length === 0) {\n      run_callbacks();\n      return null;\n    }\n    console.log(\"Bokeh: BokehJS not loaded, scheduling load and callback at\", now());\n    root._bokeh_is_loading = js_urls.length;\n    for (var i = 0; i < js_urls.length; i++) {\n      var url = js_urls[i];\n      var s = document.createElement('script');\n      s.src = url;\n      s.async = false;\n      s.onreadystatechange = s.onload = function() {\n        root._bokeh_is_loading--;\n        if (root._bokeh_is_loading === 0) {\n          console.log(\"Bokeh: all BokehJS libraries loaded\");\n          run_callbacks()\n        }\n      };\n      s.onerror = function() {\n        console.warn(\"failed to load library \" + url);\n      };\n      console.log(\"Bokeh: injecting script tag for BokehJS library: \", url);\n      document.getElementsByTagName(\"head\")[0].appendChild(s);\n    }\n  };var element = document.getElementById(\"9f52302b-e477-4265-8ad1-f5ca180d7dc9\");\n  if (element == null) {\n    console.log(\"Bokeh: ERROR: autoload.js configured with elementid '9f52302b-e477-4265-8ad1-f5ca180d7dc9' but no matching script tag was found. \")\n    return false;\n  }\n\n  var js_urls = [\"https://cdn.pydata.org/bokeh/release/bokeh-0.12.13.min.js\", \"https://cdn.pydata.org/bokeh/release/bokeh-widgets-0.12.13.min.js\", \"https://cdn.pydata.org/bokeh/release/bokeh-tables-0.12.13.min.js\", \"https://cdn.pydata.org/bokeh/release/bokeh-gl-0.12.13.min.js\"];\n\n  var inline_js = [\n    function(Bokeh) {\n      Bokeh.set_log_level(\"info\");\n    },\n    \n    function(Bokeh) {\n      \n    },\n    function(Bokeh) {\n      console.log(\"Bokeh: injecting CSS: https://cdn.pydata.org/bokeh/release/bokeh-0.12.13.min.css\");\n      Bokeh.embed.inject_css(\"https://cdn.pydata.org/bokeh/release/bokeh-0.12.13.min.css\");\n      console.log(\"Bokeh: injecting CSS: https://cdn.pydata.org/bokeh/release/bokeh-widgets-0.12.13.min.css\");\n      Bokeh.embed.inject_css(\"https://cdn.pydata.org/bokeh/release/bokeh-widgets-0.12.13.min.css\");\n      console.log(\"Bokeh: injecting CSS: https://cdn.pydata.org/bokeh/release/bokeh-tables-0.12.13.min.css\");\n      Bokeh.embed.inject_css(\"https://cdn.pydata.org/bokeh/release/bokeh-tables-0.12.13.min.css\");\n    }\n  ];\n\n  function run_inline_js() {\n    \n    if ((root.Bokeh !== undefined) || (force === true)) {\n      for (var i = 0; i < inline_js.length; i++) {\n        inline_js[i].call(root, root.Bokeh);\n      }if (force === true) {\n        display_loaded();\n      }} else if (Date.now() < root._bokeh_timeout) {\n      setTimeout(run_inline_js, 100);\n    } else if (!root._bokeh_failed_load) {\n      console.log(\"Bokeh: BokehJS failed to load within specified timeout.\");\n      root._bokeh_failed_load = true;\n    } else if (force !== true) {\n      var cell = $(document.getElementById(\"9f52302b-e477-4265-8ad1-f5ca180d7dc9\")).parents('.cell').data().cell;\n      cell.output_area.append_execute_result(NB_LOAD_WARNING)\n    }\n\n  }\n\n  if (root._bokeh_is_loading === 0) {\n    console.log(\"Bokeh: BokehJS loaded, going straight to plotting\");\n    run_inline_js();\n  } else {\n    load_libs(js_urls, function() {\n      console.log(\"Bokeh: BokehJS plotting callback run at\", now());\n      run_inline_js();\n    });\n  }\n}(window));"
     },
     "metadata": {},
     "output_type": "display_data"
    },
    {
     "name": "stdout",
     "output_type": "stream",
     "text": [
      "Shape of X (n_points, d_dimensions): (200, 2)\n"
     ]
    },
    {
     "data": {
      "text/html": [
       "\n",
       "<div class=\"bk-root\">\n",
       "    <div class=\"bk-plotdiv\" id=\"a1557f97-d74c-4328-9fef-6673564210e2\"></div>\n",
       "</div>"
      ]
     },
     "metadata": {},
     "output_type": "display_data"
    },
    {
     "data": {
      "application/javascript": [
       "(function(root) {\n",
       "  function embed_document(root) {\n",
       "    \n",
       "  var docs_json = {\"6428bd51-a7f9-4b47-a221-edc4e08b529b\":{\"roots\":{\"references\":[{\"attributes\":{\"fill_alpha\":{\"value\":0.5},\"fill_color\":{\"value\":\"navy\"},\"line_alpha\":{\"value\":0.5},\"line_color\":{\"value\":\"navy\"},\"size\":{\"units\":\"screen\",\"value\":2},\"x\":{\"field\":\"x\"},\"y\":{\"field\":\"y\"}},\"id\":\"710ae73e-4b79-480d-ae23-39cc140cbff7\",\"type\":\"Circle\"},{\"attributes\":{},\"id\":\"b98e6deb-8101-486f-855a-5f5c61caff3c\",\"type\":\"LinearScale\"},{\"attributes\":{\"dimension\":1,\"plot\":{\"id\":\"a6893139-c556-4088-8970-af8bb816731d\",\"subtype\":\"Figure\",\"type\":\"Plot\"},\"ticker\":{\"id\":\"3301f9a5-f8f9-492a-8fbd-018031fe4194\",\"type\":\"BasicTicker\"}},\"id\":\"2b9358f9-9adc-45a7-a206-a544d04e4449\",\"type\":\"Grid\"},{\"attributes\":{\"callback\":null,\"column_names\":[\"y\",\"x\"],\"data\":{\"x\":{\"__ndarray__\":\"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\",\"dtype\":\"float64\",\"shape\":[200]},\"y\":{\"__ndarray__\":\"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\",\"dtype\":\"float64\",\"shape\":[200]}}},\"id\":\"dc53c7d9-81ce-4f19-97af-a2a4df47a97b\",\"type\":\"ColumnDataSource\"},{\"attributes\":{},\"id\":\"0049b5a0-87d7-4472-9fe3-1d0aa849150d\",\"type\":\"SaveTool\"},{\"attributes\":{\"plot\":null,\"text\":\"\"},\"id\":\"82ee4ea0-319e-42cd-9242-8a0abeae2745\",\"type\":\"Title\"},{\"attributes\":{\"source\":{\"id\":\"dc53c7d9-81ce-4f19-97af-a2a4df47a97b\",\"type\":\"ColumnDataSource\"}},\"id\":\"9bb73c29-1fc5-4c40-990f-2b8a8ab722d4\",\"type\":\"CDSView\"},{\"attributes\":{},\"id\":\"f8051662-7d43-487a-8623-93522492ca1a\",\"type\":\"ResetTool\"},{\"attributes\":{\"below\":[{\"id\":\"86fcafcb-4f6b-49b4-ac1b-7f1d26f7e5c5\",\"type\":\"LinearAxis\"}],\"left\":[{\"id\":\"9adb8a82-5eb4-4c64-a2ef-a7bc3a19e620\",\"type\":\"LinearAxis\"}],\"match_aspect\":true,\"plot_height\":400,\"plot_width\":400,\"renderers\":[{\"id\":\"86fcafcb-4f6b-49b4-ac1b-7f1d26f7e5c5\",\"type\":\"LinearAxis\"},{\"id\":\"b706b3b3-1163-4610-81d5-3e993f2f0280\",\"type\":\"Grid\"},{\"id\":\"9adb8a82-5eb4-4c64-a2ef-a7bc3a19e620\",\"type\":\"LinearAxis\"},{\"id\":\"2b9358f9-9adc-45a7-a206-a544d04e4449\",\"type\":\"Grid\"},{\"id\":\"06de1e00-c655-4ca1-9255-54d177f6f7ec\",\"type\":\"BoxAnnotation\"},{\"id\":\"1d790223-9a7a-4847-9efe-cfa9c4cc306d\",\"type\":\"GlyphRenderer\"}],\"title\":{\"id\":\"82ee4ea0-319e-42cd-9242-8a0abeae2745\",\"type\":\"Title\"},\"toolbar\":{\"id\":\"9d88e3d3-e13f-4b3b-97af-fd756a02b5a4\",\"type\":\"Toolbar\"},\"x_range\":{\"id\":\"3ac85635-c8a4-4747-a1ab-0158db24e587\",\"type\":\"DataRange1d\"},\"x_scale\":{\"id\":\"3c0e3db8-f4fd-48a6-983d-5f30e9b27eb9\",\"type\":\"LinearScale\"},\"y_range\":{\"id\":\"e3f2afed-29ff-42fb-a340-dc9a00d09d33\",\"type\":\"DataRange1d\"},\"y_scale\":{\"id\":\"b98e6deb-8101-486f-855a-5f5c61caff3c\",\"type\":\"LinearScale\"}},\"id\":\"a6893139-c556-4088-8970-af8bb816731d\",\"subtype\":\"Figure\",\"type\":\"Plot\"},{\"attributes\":{\"callback\":null},\"id\":\"3ac85635-c8a4-4747-a1ab-0158db24e587\",\"type\":\"DataRange1d\"},{\"attributes\":{\"callback\":null},\"id\":\"e3f2afed-29ff-42fb-a340-dc9a00d09d33\",\"type\":\"DataRange1d\"},{\"attributes\":{},\"id\":\"3301f9a5-f8f9-492a-8fbd-018031fe4194\",\"type\":\"BasicTicker\"},{\"attributes\":{\"plot\":{\"id\":\"a6893139-c556-4088-8970-af8bb816731d\",\"subtype\":\"Figure\",\"type\":\"Plot\"},\"ticker\":{\"id\":\"a417ac9d-70cf-431e-ba39-669a26dcb066\",\"type\":\"BasicTicker\"}},\"id\":\"b706b3b3-1163-4610-81d5-3e993f2f0280\",\"type\":\"Grid\"},{\"attributes\":{},\"id\":\"e80c0ba6-62fc-474d-9299-c9064e95dfda\",\"type\":\"HelpTool\"},{\"attributes\":{},\"id\":\"8b2963af-0946-4026-bd6f-d021f7cf4756\",\"type\":\"BasicTickFormatter\"},{\"attributes\":{\"formatter\":{\"id\":\"8b2963af-0946-4026-bd6f-d021f7cf4756\",\"type\":\"BasicTickFormatter\"},\"plot\":{\"id\":\"a6893139-c556-4088-8970-af8bb816731d\",\"subtype\":\"Figure\",\"type\":\"Plot\"},\"ticker\":{\"id\":\"a417ac9d-70cf-431e-ba39-669a26dcb066\",\"type\":\"BasicTicker\"}},\"id\":\"86fcafcb-4f6b-49b4-ac1b-7f1d26f7e5c5\",\"type\":\"LinearAxis\"},{\"attributes\":{},\"id\":\"2291c9fe-cd82-44a7-a11c-0b7fc1061f01\",\"type\":\"WheelZoomTool\"},{\"attributes\":{\"fill_alpha\":{\"value\":0.1},\"fill_color\":{\"value\":\"#1f77b4\"},\"line_alpha\":{\"value\":0.1},\"line_color\":{\"value\":\"#1f77b4\"},\"size\":{\"units\":\"screen\",\"value\":2},\"x\":{\"field\":\"x\"},\"y\":{\"field\":\"y\"}},\"id\":\"dd4eec00-75ee-4247-a904-562f56a33839\",\"type\":\"Circle\"},{\"attributes\":{\"active_drag\":\"auto\",\"active_inspect\":\"auto\",\"active_scroll\":\"auto\",\"active_tap\":\"auto\",\"tools\":[{\"id\":\"ac72fbb8-a904-473d-8b63-50fffde8124f\",\"type\":\"PanTool\"},{\"id\":\"2291c9fe-cd82-44a7-a11c-0b7fc1061f01\",\"type\":\"WheelZoomTool\"},{\"id\":\"43b9b0d3-fd1a-4be6-9817-e6008ddc2d3a\",\"type\":\"BoxZoomTool\"},{\"id\":\"0049b5a0-87d7-4472-9fe3-1d0aa849150d\",\"type\":\"SaveTool\"},{\"id\":\"f8051662-7d43-487a-8623-93522492ca1a\",\"type\":\"ResetTool\"},{\"id\":\"e80c0ba6-62fc-474d-9299-c9064e95dfda\",\"type\":\"HelpTool\"}]},\"id\":\"9d88e3d3-e13f-4b3b-97af-fd756a02b5a4\",\"type\":\"Toolbar\"},{\"attributes\":{\"overlay\":{\"id\":\"06de1e00-c655-4ca1-9255-54d177f6f7ec\",\"type\":\"BoxAnnotation\"}},\"id\":\"43b9b0d3-fd1a-4be6-9817-e6008ddc2d3a\",\"type\":\"BoxZoomTool\"},{\"attributes\":{},\"id\":\"3c0e3db8-f4fd-48a6-983d-5f30e9b27eb9\",\"type\":\"LinearScale\"},{\"attributes\":{\"data_source\":{\"id\":\"dc53c7d9-81ce-4f19-97af-a2a4df47a97b\",\"type\":\"ColumnDataSource\"},\"glyph\":{\"id\":\"710ae73e-4b79-480d-ae23-39cc140cbff7\",\"type\":\"Circle\"},\"hover_glyph\":null,\"muted_glyph\":null,\"nonselection_glyph\":{\"id\":\"dd4eec00-75ee-4247-a904-562f56a33839\",\"type\":\"Circle\"},\"selection_glyph\":null,\"view\":{\"id\":\"9bb73c29-1fc5-4c40-990f-2b8a8ab722d4\",\"type\":\"CDSView\"}},\"id\":\"1d790223-9a7a-4847-9efe-cfa9c4cc306d\",\"type\":\"GlyphRenderer\"},{\"attributes\":{},\"id\":\"7188696b-a814-44e9-8856-e5906aaf50a4\",\"type\":\"BasicTickFormatter\"},{\"attributes\":{},\"id\":\"a417ac9d-70cf-431e-ba39-669a26dcb066\",\"type\":\"BasicTicker\"},{\"attributes\":{},\"id\":\"ac72fbb8-a904-473d-8b63-50fffde8124f\",\"type\":\"PanTool\"},{\"attributes\":{\"formatter\":{\"id\":\"7188696b-a814-44e9-8856-e5906aaf50a4\",\"type\":\"BasicTickFormatter\"},\"plot\":{\"id\":\"a6893139-c556-4088-8970-af8bb816731d\",\"subtype\":\"Figure\",\"type\":\"Plot\"},\"ticker\":{\"id\":\"3301f9a5-f8f9-492a-8fbd-018031fe4194\",\"type\":\"BasicTicker\"}},\"id\":\"9adb8a82-5eb4-4c64-a2ef-a7bc3a19e620\",\"type\":\"LinearAxis\"},{\"attributes\":{\"bottom_units\":\"screen\",\"fill_alpha\":{\"value\":0.5},\"fill_color\":{\"value\":\"lightgrey\"},\"left_units\":\"screen\",\"level\":\"overlay\",\"line_alpha\":{\"value\":1.0},\"line_color\":{\"value\":\"black\"},\"line_dash\":[4,4],\"line_width\":{\"value\":2},\"plot\":null,\"render_mode\":\"css\",\"right_units\":\"screen\",\"top_units\":\"screen\"},\"id\":\"06de1e00-c655-4ca1-9255-54d177f6f7ec\",\"type\":\"BoxAnnotation\"}],\"root_ids\":[\"a6893139-c556-4088-8970-af8bb816731d\"]},\"title\":\"Bokeh Application\",\"version\":\"0.12.13\"}};\n",
       "  var render_items = [{\"docid\":\"6428bd51-a7f9-4b47-a221-edc4e08b529b\",\"elementid\":\"a1557f97-d74c-4328-9fef-6673564210e2\",\"modelid\":\"a6893139-c556-4088-8970-af8bb816731d\"}];\n",
       "  root.Bokeh.embed.embed_items_notebook(docs_json, render_items);\n",
       "\n",
       "  }\n",
       "  if (root.Bokeh !== undefined) {\n",
       "    embed_document(root);\n",
       "  } else {\n",
       "    var attempts = 0;\n",
       "    var timer = setInterval(function(root) {\n",
       "      if (root.Bokeh !== undefined) {\n",
       "        embed_document(root);\n",
       "        clearInterval(timer);\n",
       "      }\n",
       "      attempts++;\n",
       "      if (attempts > 100) {\n",
       "        console.log(\"Bokeh: ERROR: Unable to run BokehJS code because BokehJS library is missing\")\n",
       "        clearInterval(timer);\n",
       "      }\n",
       "    }, 10, root)\n",
       "  }\n",
       "})(window);"
      ],
      "application/vnd.bokehjs_exec.v0+json": ""
     },
     "metadata": {
      "application/vnd.bokehjs_exec.v0+json": {
       "id": "a6893139-c556-4088-8970-af8bb816731d"
      }
     },
     "output_type": "display_data"
    }
   ],
   "source": [
    "#Plotting\n",
    "from bokeh.io import push_notebook, show, output_notebook\n",
    "from bokeh.plotting import figure, show\n",
    "from bokeh.models import Arrow, OpenHead, NormalHead, VeeHead\n",
    "\n",
    "output_notebook()\n",
    "\n",
    "\n",
    "\n",
    "\n",
    "rng = np.random.RandomState(1)\n",
    "X = np.dot(rng.rand(2, 2), rng.randn(2, 200)).T\n",
    "print('Shape of X (n_points, d_dimensions): {}'.format(X.shape))\n",
    "p = figure(plot_width=400, plot_height=400,match_aspect=True)\n",
    "\n",
    "# add a circle renderer with a size, color, and alpha\n",
    "p.circle(X[:,0],X[:,1] ,size=2, color=\"navy\", alpha=0.5)\n",
    "\n",
    "# show the results\n",
    "show(p)"
   ]
  },
  {
   "cell_type": "markdown",
   "metadata": {},
   "source": [
    "We can decompose using the [numpy SVD](https://docs.scipy.org/doc/numpy/reference/generated/numpy.linalg.svd.html) function:"
   ]
  },
  {
   "cell_type": "code",
   "execution_count": 2,
   "metadata": {},
   "outputs": [],
   "source": [
    "U, D, Vtranspose = np.linalg.svd(X,full_matrices=False)"
   ]
  },
  {
   "cell_type": "code",
   "execution_count": 3,
   "metadata": {},
   "outputs": [
    {
     "name": "stdout",
     "output_type": "stream",
     "text": [
      "Shape of U: (200, 2)\n",
      "Shape of V Transpose: (2, 2)\n",
      "Shape of D: (2,)\n"
     ]
    }
   ],
   "source": [
    "print('Shape of U: {}'.format(U.shape))\n",
    "print('Shape of V Transpose: {}'.format(Vtranspose.shape))\n",
    "print('Shape of D: {}'.format(D.shape))"
   ]
  },
  {
   "cell_type": "markdown",
   "metadata": {},
   "source": [
    "We remember that the rows of V transpose are vectors that span a subspace and the singular value is the total variance along that subspace. So lets scaled the basis vector V by their singular value. Lets overplot them. We scaled them by the so called variance ratio. How much the first vector explains the percentage of the total variance. "
   ]
  },
  {
   "cell_type": "code",
   "execution_count": 4,
   "metadata": {},
   "outputs": [
    {
     "name": "stdout",
     "output_type": "stream",
     "text": [
      "Explained Variance ratios 0.976092003207,0.0239079967928\n"
     ]
    },
    {
     "data": {
      "text/html": [
       "\n",
       "<div class=\"bk-root\">\n",
       "    <div class=\"bk-plotdiv\" id=\"f98536b0-0d1f-4489-991c-19b29b441ed3\"></div>\n",
       "</div>"
      ]
     },
     "metadata": {},
     "output_type": "display_data"
    },
    {
     "data": {
      "application/javascript": [
       "(function(root) {\n",
       "  function embed_document(root) {\n",
       "    \n",
       "  var docs_json = {\"5b7d7f2b-1168-4ea1-bfaa-2fda4e4f0f80\":{\"roots\":{\"references\":[{\"attributes\":{\"fill_alpha\":{\"value\":0.5},\"fill_color\":{\"value\":\"navy\"},\"line_alpha\":{\"value\":0.5},\"line_color\":{\"value\":\"navy\"},\"size\":{\"units\":\"screen\",\"value\":2},\"x\":{\"field\":\"x\"},\"y\":{\"field\":\"y\"}},\"id\":\"710ae73e-4b79-480d-ae23-39cc140cbff7\",\"type\":\"Circle\"},{\"attributes\":{},\"id\":\"b98e6deb-8101-486f-855a-5f5c61caff3c\",\"type\":\"LinearScale\"},{\"attributes\":{\"end\":{\"id\":\"a6ca395a-4a57-4344-a64a-21432526d7cb\",\"type\":\"OpenHead\"},\"line_color\":{\"value\":\"red\"},\"line_width\":{\"value\":6},\"plot\":{\"id\":\"a6893139-c556-4088-8970-af8bb816731d\",\"subtype\":\"Figure\",\"type\":\"Plot\"},\"source\":null,\"start\":null,\"x_end\":{\"value\":0.01568609421366608},\"x_start\":{\"value\":0},\"y_end\":{\"value\":-0.04516985378423058},\"y_start\":{\"value\":0}},\"id\":\"3581c74e-f0b4-4426-9d94-fbcaadbdced5\",\"type\":\"Arrow\"},{\"attributes\":{\"dimension\":1,\"plot\":{\"id\":\"a6893139-c556-4088-8970-af8bb816731d\",\"subtype\":\"Figure\",\"type\":\"Plot\"},\"ticker\":{\"id\":\"3301f9a5-f8f9-492a-8fbd-018031fe4194\",\"type\":\"BasicTicker\"}},\"id\":\"2b9358f9-9adc-45a7-a206-a544d04e4449\",\"type\":\"Grid\"},{\"attributes\":{\"callback\":null,\"column_names\":[\"y\",\"x\"],\"data\":{\"x\":{\"__ndarray__\":\"UxHHiXgC5L/+SLKCA77uP0YI+3REJ+O/tiNiyxDTAcBS9yPyEYjdv6Z+ue2Lr+6/nz2t4N6J5b9LVRQyW+H0P9Q69hiO+Nc/RvS68nc4/b/m5R+WZ2LlPw1lVKQKpeK/7y+UCaDC2r/+fn7n9ArGPxwzrQeuItg/MNFlKZ295b/Nyto8+4DwPyaR/HW1gdU/7Z6emniV5j+Yih9SR93qP5wDBRk0+/c/cwHtZm900j/cdwQqCxjgv/MKbM7Yqvc/oOwtAMNw3L8wGMGSIxLhv3D67sMmuOO/6I3lNekcsz+mYAWuUBe9vwBR+vuujZS/0L45MUFEyD+8bJ8Q6gfuP1TjVNf6d9e/74DuDMmX7L+MlnA83xT1v0TmYe90b9i/XTCzLfhw4L+ybLjQa+vsP/fxVYCHFty/TW65tHID478kni77RQfUv/518xH0NtO/rd757/cs479UfMTZFTXMPwx924AmzuA/qwZAQd/P4T+/il0nI6v1P0dmD/Rx3OW/Zusm/TuSv7/sGLMTEQvUv9IcaTk16APAdHNIM9z/8z/ivsKEN6DGP95sBLH3P+C/rxUnEvg8/T+c0O/TzezpP1VJnsRzbNs/+EEdo9Fvsb88EvK0l3nOvyK8btnHcuK/0BmbYakr6T++m0y+wjfZv0nU693NN9M/A7tJMQiz6j/r+vUoMarlP7rZffLbVOo/XTbe3wbF8T9g83nq3cTxvwAAO2PgEQG/nx1Qk9PX7D+YlqNXXKDjPxhr4mF7C/A/tOHFgHYC4L/83xZZh373vyF+0OdDpvK/CEWiV/u58z+a0WZCo062vzxFfsjGN/U/uo98LoL95L/JDBi2EYfZv3pbZWe7wcI/eXJGPTi26j/MbP8bry/AP/GnvJ6N0ck/VeqKxTwj0b8kYmNq1T7SP8hQwDcBHOi/mTawsCLw4D+pto4WoGXXP/kVcsmVk6I/QoLMxaZcyT+AMR3qqzbov9I2afGxoL0/0g6MZvVJx7/T/SH4Eh/EPx2E0w3Kq+I/umq1C/FL7r8oQIe3C9LmP4EbUAc90/Q/NPx8Du6R4b9FEhfyqoDbv2BL1njHwNi/OYWS32kL5b+gcfekddXzP3bEd9RtYdQ/WHc482O97L+3YSWqdo/VPwwxTrjux9q/MKXzX/JIzj/CdR69BXzWP3pSD2LepvU/uCTNa9e26r+y9q0glaICQFANakdZ66c/Otsmy9Uk3T+CrKhM7r3mvzDPjRQ1Kqy/GJLVzWsX3b9GboEf47O7v/pCMNO/uOy/JJlWg4CD5z8sYeheiNXMP82GAYW/9NS/9CoC8YFE8z/sEBYpcM3FP7ZutidTAPA/Qj3LTRB95b9s9Jc/URPzP3o4G0IHvs4/aoBv15rP4T/qy7PmvrLzv7vYX0ZcisM/nOjiQpQE9j8WUrsXG5Hmv3drSVtzAfS/hGyodi8G/r/6R1j1con3v9zKCcIwDvi/8ZYkRdH01784zH0Y4BzsP4BmVRhwbKY/rCshA7F44T/JRFLo7x7CPwXj6nzwRrA/IcNXl1i1tr9emgLB3vLAP/fTC84Ud9s/Rt+gfZf/4b88+XoZOSXjP0QwDvwikta/vlC46bq70j/IjJ+R5t/3PxD2DbeBjdS/cjnqm4Fw2799kFsBf3+sPyTwAbzF5Me//5XpIfc41L9+RTMzI3nuvyjdLpg9wOO/CInwO7Sv0D+xC5iOsrz0v/cFGvqJqsA/sEJOwCiJoj+T2bl32ePcP4GIPnv1COk/RJzXAfyk/r+y0MLo81r1PwXCDz3s1OG/em+otAdC0L/4cEyOpaGjPxYqdn5AtPo/bmmEOUit2b9cO9c+1W/1P14DWDBx+tM/21RrEuzCAEBGASq63vDlv7BiR/xAZu+/Sh+yt8Jq2D8Ag7VwyWK1PyDuH2w//8M/TAeAmELB7L/0JEBj97vLP2WJ9iK2itk/bpA7Ebv32L9LXahKc1jDP0BK96hcnpq/16DyaR3I4b+oruydI4bav0CS3ln1ZeG/gO4wIWrX9j/NDqQJTuvcP8xIRlz41ek/SySuySOF3b9AQSNtXzq7v8pkb87UkfG/7WSLKD7U6j/JhuC2aQPUP4pFRXpES/8/Dg0leZy78b/KwqSRb4PZPw==\",\"dtype\":\"float64\",\"shape\":[200]},\"y\":{\"__ndarray__\":\"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\",\"dtype\":\"float64\",\"shape\":[200]}}},\"id\":\"dc53c7d9-81ce-4f19-97af-a2a4df47a97b\",\"type\":\"ColumnDataSource\"},{\"attributes\":{},\"id\":\"3301f9a5-f8f9-492a-8fbd-018031fe4194\",\"type\":\"BasicTicker\"},{\"attributes\":{\"plot\":null,\"text\":\"\"},\"id\":\"82ee4ea0-319e-42cd-9242-8a0abeae2745\",\"type\":\"Title\"},{\"attributes\":{\"source\":{\"id\":\"dc53c7d9-81ce-4f19-97af-a2a4df47a97b\",\"type\":\"ColumnDataSource\"}},\"id\":\"9bb73c29-1fc5-4c40-990f-2b8a8ab722d4\",\"type\":\"CDSView\"},{\"attributes\":{},\"id\":\"f8051662-7d43-487a-8623-93522492ca1a\",\"type\":\"ResetTool\"},{\"attributes\":{\"below\":[{\"id\":\"86fcafcb-4f6b-49b4-ac1b-7f1d26f7e5c5\",\"type\":\"LinearAxis\"}],\"left\":[{\"id\":\"9adb8a82-5eb4-4c64-a2ef-a7bc3a19e620\",\"type\":\"LinearAxis\"}],\"match_aspect\":true,\"plot_height\":400,\"plot_width\":400,\"renderers\":[{\"id\":\"86fcafcb-4f6b-49b4-ac1b-7f1d26f7e5c5\",\"type\":\"LinearAxis\"},{\"id\":\"b706b3b3-1163-4610-81d5-3e993f2f0280\",\"type\":\"Grid\"},{\"id\":\"9adb8a82-5eb4-4c64-a2ef-a7bc3a19e620\",\"type\":\"LinearAxis\"},{\"id\":\"2b9358f9-9adc-45a7-a206-a544d04e4449\",\"type\":\"Grid\"},{\"id\":\"06de1e00-c655-4ca1-9255-54d177f6f7ec\",\"type\":\"BoxAnnotation\"},{\"id\":\"1d790223-9a7a-4847-9efe-cfa9c4cc306d\",\"type\":\"GlyphRenderer\"},{\"id\":\"45e4909f-1006-41fa-aa83-456217d98951\",\"type\":\"Arrow\"},{\"id\":\"3581c74e-f0b4-4426-9d94-fbcaadbdced5\",\"type\":\"Arrow\"}],\"title\":{\"id\":\"82ee4ea0-319e-42cd-9242-8a0abeae2745\",\"type\":\"Title\"},\"toolbar\":{\"id\":\"9d88e3d3-e13f-4b3b-97af-fd756a02b5a4\",\"type\":\"Toolbar\"},\"x_range\":{\"id\":\"3ac85635-c8a4-4747-a1ab-0158db24e587\",\"type\":\"DataRange1d\"},\"x_scale\":{\"id\":\"3c0e3db8-f4fd-48a6-983d-5f30e9b27eb9\",\"type\":\"LinearScale\"},\"y_range\":{\"id\":\"e3f2afed-29ff-42fb-a340-dc9a00d09d33\",\"type\":\"DataRange1d\"},\"y_scale\":{\"id\":\"b98e6deb-8101-486f-855a-5f5c61caff3c\",\"type\":\"LinearScale\"}},\"id\":\"a6893139-c556-4088-8970-af8bb816731d\",\"subtype\":\"Figure\",\"type\":\"Plot\"},{\"attributes\":{\"callback\":null},\"id\":\"3ac85635-c8a4-4747-a1ab-0158db24e587\",\"type\":\"DataRange1d\"},{\"attributes\":{\"callback\":null},\"id\":\"e3f2afed-29ff-42fb-a340-dc9a00d09d33\",\"type\":\"DataRange1d\"},{\"attributes\":{},\"id\":\"0049b5a0-87d7-4472-9fe3-1d0aa849150d\",\"type\":\"SaveTool\"},{\"attributes\":{\"plot\":{\"id\":\"a6893139-c556-4088-8970-af8bb816731d\",\"subtype\":\"Figure\",\"type\":\"Plot\"},\"ticker\":{\"id\":\"a417ac9d-70cf-431e-ba39-669a26dcb066\",\"type\":\"BasicTicker\"}},\"id\":\"b706b3b3-1163-4610-81d5-3e993f2f0280\",\"type\":\"Grid\"},{\"attributes\":{\"end\":{\"id\":\"3dcb9c25-94cd-4a42-8b0e-69a73a9dfa58\",\"type\":\"OpenHead\"},\"line_color\":{\"value\":\"red\"},\"plot\":{\"id\":\"a6893139-c556-4088-8970-af8bb816731d\",\"subtype\":\"Figure\",\"type\":\"Plot\"},\"source\":null,\"start\":null,\"x_end\":{\"value\":1.8441500326031626},\"x_start\":{\"value\":0},\"y_end\":{\"value\":0.6404163115898234},\"y_start\":{\"value\":0}},\"id\":\"45e4909f-1006-41fa-aa83-456217d98951\",\"type\":\"Arrow\"},{\"attributes\":{},\"id\":\"e80c0ba6-62fc-474d-9299-c9064e95dfda\",\"type\":\"HelpTool\"},{\"attributes\":{},\"id\":\"8b2963af-0946-4026-bd6f-d021f7cf4756\",\"type\":\"BasicTickFormatter\"},{\"attributes\":{\"formatter\":{\"id\":\"8b2963af-0946-4026-bd6f-d021f7cf4756\",\"type\":\"BasicTickFormatter\"},\"plot\":{\"id\":\"a6893139-c556-4088-8970-af8bb816731d\",\"subtype\":\"Figure\",\"type\":\"Plot\"},\"ticker\":{\"id\":\"a417ac9d-70cf-431e-ba39-669a26dcb066\",\"type\":\"BasicTicker\"}},\"id\":\"86fcafcb-4f6b-49b4-ac1b-7f1d26f7e5c5\",\"type\":\"LinearAxis\"},{\"attributes\":{},\"id\":\"2291c9fe-cd82-44a7-a11c-0b7fc1061f01\",\"type\":\"WheelZoomTool\"},{\"attributes\":{\"line_color\":{\"value\":\"firebrick\"},\"line_width\":{\"value\":2},\"plot\":null},\"id\":\"3dcb9c25-94cd-4a42-8b0e-69a73a9dfa58\",\"type\":\"OpenHead\"},{\"attributes\":{\"fill_alpha\":{\"value\":0.1},\"fill_color\":{\"value\":\"#1f77b4\"},\"line_alpha\":{\"value\":0.1},\"line_color\":{\"value\":\"#1f77b4\"},\"size\":{\"units\":\"screen\",\"value\":2},\"x\":{\"field\":\"x\"},\"y\":{\"field\":\"y\"}},\"id\":\"dd4eec00-75ee-4247-a904-562f56a33839\",\"type\":\"Circle\"},{\"attributes\":{\"active_drag\":\"auto\",\"active_inspect\":\"auto\",\"active_scroll\":\"auto\",\"active_tap\":\"auto\",\"tools\":[{\"id\":\"ac72fbb8-a904-473d-8b63-50fffde8124f\",\"type\":\"PanTool\"},{\"id\":\"2291c9fe-cd82-44a7-a11c-0b7fc1061f01\",\"type\":\"WheelZoomTool\"},{\"id\":\"43b9b0d3-fd1a-4be6-9817-e6008ddc2d3a\",\"type\":\"BoxZoomTool\"},{\"id\":\"0049b5a0-87d7-4472-9fe3-1d0aa849150d\",\"type\":\"SaveTool\"},{\"id\":\"f8051662-7d43-487a-8623-93522492ca1a\",\"type\":\"ResetTool\"},{\"id\":\"e80c0ba6-62fc-474d-9299-c9064e95dfda\",\"type\":\"HelpTool\"}]},\"id\":\"9d88e3d3-e13f-4b3b-97af-fd756a02b5a4\",\"type\":\"Toolbar\"},{\"attributes\":{\"overlay\":{\"id\":\"06de1e00-c655-4ca1-9255-54d177f6f7ec\",\"type\":\"BoxAnnotation\"}},\"id\":\"43b9b0d3-fd1a-4be6-9817-e6008ddc2d3a\",\"type\":\"BoxZoomTool\"},{\"attributes\":{},\"id\":\"3c0e3db8-f4fd-48a6-983d-5f30e9b27eb9\",\"type\":\"LinearScale\"},{\"attributes\":{\"data_source\":{\"id\":\"dc53c7d9-81ce-4f19-97af-a2a4df47a97b\",\"type\":\"ColumnDataSource\"},\"glyph\":{\"id\":\"710ae73e-4b79-480d-ae23-39cc140cbff7\",\"type\":\"Circle\"},\"hover_glyph\":null,\"muted_glyph\":null,\"nonselection_glyph\":{\"id\":\"dd4eec00-75ee-4247-a904-562f56a33839\",\"type\":\"Circle\"},\"selection_glyph\":null,\"view\":{\"id\":\"9bb73c29-1fc5-4c40-990f-2b8a8ab722d4\",\"type\":\"CDSView\"}},\"id\":\"1d790223-9a7a-4847-9efe-cfa9c4cc306d\",\"type\":\"GlyphRenderer\"},{\"attributes\":{},\"id\":\"7188696b-a814-44e9-8856-e5906aaf50a4\",\"type\":\"BasicTickFormatter\"},{\"attributes\":{\"line_color\":{\"value\":\"firebrick\"},\"plot\":null},\"id\":\"a6ca395a-4a57-4344-a64a-21432526d7cb\",\"type\":\"OpenHead\"},{\"attributes\":{},\"id\":\"a417ac9d-70cf-431e-ba39-669a26dcb066\",\"type\":\"BasicTicker\"},{\"attributes\":{},\"id\":\"ac72fbb8-a904-473d-8b63-50fffde8124f\",\"type\":\"PanTool\"},{\"attributes\":{\"formatter\":{\"id\":\"7188696b-a814-44e9-8856-e5906aaf50a4\",\"type\":\"BasicTickFormatter\"},\"plot\":{\"id\":\"a6893139-c556-4088-8970-af8bb816731d\",\"subtype\":\"Figure\",\"type\":\"Plot\"},\"ticker\":{\"id\":\"3301f9a5-f8f9-492a-8fbd-018031fe4194\",\"type\":\"BasicTicker\"}},\"id\":\"9adb8a82-5eb4-4c64-a2ef-a7bc3a19e620\",\"type\":\"LinearAxis\"},{\"attributes\":{\"bottom_units\":\"screen\",\"fill_alpha\":{\"value\":0.5},\"fill_color\":{\"value\":\"lightgrey\"},\"left_units\":\"screen\",\"level\":\"overlay\",\"line_alpha\":{\"value\":1.0},\"line_color\":{\"value\":\"black\"},\"line_dash\":[4,4],\"line_width\":{\"value\":2},\"plot\":null,\"render_mode\":\"css\",\"right_units\":\"screen\",\"top_units\":\"screen\"},\"id\":\"06de1e00-c655-4ca1-9255-54d177f6f7ec\",\"type\":\"BoxAnnotation\"}],\"root_ids\":[\"a6893139-c556-4088-8970-af8bb816731d\"]},\"title\":\"Bokeh Application\",\"version\":\"0.12.13\"}};\n",
       "  var render_items = [{\"docid\":\"5b7d7f2b-1168-4ea1-bfaa-2fda4e4f0f80\",\"elementid\":\"f98536b0-0d1f-4489-991c-19b29b441ed3\",\"modelid\":\"a6893139-c556-4088-8970-af8bb816731d\"}];\n",
       "  root.Bokeh.embed.embed_items_notebook(docs_json, render_items);\n",
       "\n",
       "  }\n",
       "  if (root.Bokeh !== undefined) {\n",
       "    embed_document(root);\n",
       "  } else {\n",
       "    var attempts = 0;\n",
       "    var timer = setInterval(function(root) {\n",
       "      if (root.Bokeh !== undefined) {\n",
       "        embed_document(root);\n",
       "        clearInterval(timer);\n",
       "      }\n",
       "      attempts++;\n",
       "      if (attempts > 100) {\n",
       "        console.log(\"Bokeh: ERROR: Unable to run BokehJS code because BokehJS library is missing\")\n",
       "        clearInterval(timer);\n",
       "      }\n",
       "    }, 10, root)\n",
       "  }\n",
       "})(window);"
      ],
      "application/vnd.bokehjs_exec.v0+json": ""
     },
     "metadata": {
      "application/vnd.bokehjs_exec.v0+json": {
       "id": "a6893139-c556-4088-8970-af8bb816731d"
      }
     },
     "output_type": "display_data"
    }
   ],
   "source": [
    "length1 = D[0]**2/(D[1]**2+D[0]**2) *2 \n",
    "length2 = D[1]**2/(D[1]**2+D[0]**2) *2 \n",
    "\n",
    "print('Explained Variance ratios {},{}'.format(length1/2,length2/2))\n",
    "\n",
    "p.add_layout(Arrow(end=OpenHead(line_color=\"firebrick\", line_width=2),\n",
    "                   line_color='red',x_start=0, y_start=0, x_end=length1 *Vtranspose[0][0], y_end=length1 *Vtranspose[0][1]))\n",
    "\n",
    "p.add_layout(Arrow(end=OpenHead(line_color=\"firebrick\", line_width=1),\n",
    "                   line_color='red',line_width=6,x_start=0, y_start=0, x_end=length2 *Vtranspose[1][0] , y_end=length2 *Vtranspose[1][1]))\n",
    "\n",
    "\n",
    "\n",
    "show(p)"
   ]
  },
  {
   "cell_type": "markdown",
   "metadata": {},
   "source": [
    "We remember that $\\sigma_i u_i$ is a vector whose coordinates correspond to the projections of the rows of A onto $v_i$. We can plot his for each of the data points. These are the principal components. "
   ]
  },
  {
   "cell_type": "code",
   "execution_count": 5,
   "metadata": {},
   "outputs": [
    {
     "data": {
      "text/html": [
       "\n",
       "<div class=\"bk-root\">\n",
       "    <div class=\"bk-plotdiv\" id=\"7e55f09f-1943-4d27-b71f-a807c0b2e385\"></div>\n",
       "</div>"
      ]
     },
     "metadata": {},
     "output_type": "display_data"
    },
    {
     "data": {
      "application/javascript": [
       "(function(root) {\n",
       "  function embed_document(root) {\n",
       "    \n",
       "  var docs_json = {\"4b6f9dd5-9be2-4810-afe1-c9ea891e7d13\":{\"roots\":{\"references\":[{\"attributes\":{},\"id\":\"6032dda9-27bd-49fd-9fa4-25ad9372e198\",\"type\":\"SaveTool\"},{\"attributes\":{\"active_drag\":\"auto\",\"active_inspect\":\"auto\",\"active_scroll\":\"auto\",\"active_tap\":\"auto\",\"tools\":[{\"id\":\"b08d26d1-74fb-424c-9490-9dbaf219d91d\",\"type\":\"PanTool\"},{\"id\":\"37297db0-4530-4b8d-90ea-e051049091bc\",\"type\":\"WheelZoomTool\"},{\"id\":\"0cb62583-82a0-4dec-aaaf-05f204465265\",\"type\":\"BoxZoomTool\"},{\"id\":\"6032dda9-27bd-49fd-9fa4-25ad9372e198\",\"type\":\"SaveTool\"},{\"id\":\"f2342fe7-c0fc-4986-8510-a3e9c7223e82\",\"type\":\"ResetTool\"},{\"id\":\"81de10dc-4b47-478c-8a1e-cce47919e0ff\",\"type\":\"HelpTool\"}]},\"id\":\"3f266cda-005f-483e-9e9d-6e6faceecee5\",\"type\":\"Toolbar\"},{\"attributes\":{\"fill_alpha\":{\"value\":0.1},\"fill_color\":{\"value\":\"#1f77b4\"},\"line_alpha\":{\"value\":0.1},\"line_color\":{\"value\":\"#1f77b4\"},\"size\":{\"units\":\"screen\",\"value\":2},\"x\":{\"field\":\"x\"},\"y\":{\"field\":\"y\"}},\"id\":\"253692d0-5332-4dbb-8181-d23ca4e10166\",\"type\":\"Circle\"},{\"attributes\":{\"bottom_units\":\"screen\",\"fill_alpha\":{\"value\":0.5},\"fill_color\":{\"value\":\"lightgrey\"},\"left_units\":\"screen\",\"level\":\"overlay\",\"line_alpha\":{\"value\":1.0},\"line_color\":{\"value\":\"black\"},\"line_dash\":[4,4],\"line_width\":{\"value\":2},\"plot\":null,\"render_mode\":\"css\",\"right_units\":\"screen\",\"top_units\":\"screen\"},\"id\":\"f12c44c4-1eb1-40e4-a989-6571a249e8f2\",\"type\":\"BoxAnnotation\"},{\"attributes\":{\"formatter\":{\"id\":\"e4fd4464-9015-4a7a-9bb6-4b1e70b73af6\",\"type\":\"BasicTickFormatter\"},\"plot\":{\"id\":\"893253d7-8b49-487b-a8f0-9e285e52334c\",\"subtype\":\"Figure\",\"type\":\"Plot\"},\"ticker\":{\"id\":\"1a7dc405-1470-476a-a2a9-641cb6a01c45\",\"type\":\"BasicTicker\"}},\"id\":\"16e33981-2338-4923-a515-f7b884887e00\",\"type\":\"LinearAxis\"},{\"attributes\":{},\"id\":\"37297db0-4530-4b8d-90ea-e051049091bc\",\"type\":\"WheelZoomTool\"},{\"attributes\":{},\"id\":\"a3657478-8d90-43b1-a5da-62d3fea20744\",\"type\":\"LinearScale\"},{\"attributes\":{\"below\":[{\"id\":\"6fd951ca-68e9-4047-8e34-4758cb06f75c\",\"type\":\"LinearAxis\"}],\"left\":[{\"id\":\"16e33981-2338-4923-a515-f7b884887e00\",\"type\":\"LinearAxis\"}],\"match_aspect\":true,\"plot_height\":400,\"plot_width\":400,\"renderers\":[{\"id\":\"6fd951ca-68e9-4047-8e34-4758cb06f75c\",\"type\":\"LinearAxis\"},{\"id\":\"96e7e68d-5cdd-449f-8ad3-d23b54fdf6b0\",\"type\":\"Grid\"},{\"id\":\"16e33981-2338-4923-a515-f7b884887e00\",\"type\":\"LinearAxis\"},{\"id\":\"49b8e865-47b9-4a7d-a78a-0c16b1f7ae0c\",\"type\":\"Grid\"},{\"id\":\"f12c44c4-1eb1-40e4-a989-6571a249e8f2\",\"type\":\"BoxAnnotation\"},{\"id\":\"3faf399d-dd05-432f-bd91-7973f5902aef\",\"type\":\"GlyphRenderer\"}],\"title\":{\"id\":\"c62622d7-8d0c-4eeb-8814-f36ceba5a66e\",\"type\":\"Title\"},\"toolbar\":{\"id\":\"3f266cda-005f-483e-9e9d-6e6faceecee5\",\"type\":\"Toolbar\"},\"x_range\":{\"id\":\"fd9c5b28-2d01-4788-920f-9aa43386f585\",\"type\":\"DataRange1d\"},\"x_scale\":{\"id\":\"0871e98e-2117-4803-a041-980a47dd6e68\",\"type\":\"LinearScale\"},\"y_range\":{\"id\":\"49646eab-0d1a-4596-9a9e-b34b5af7af60\",\"type\":\"DataRange1d\"},\"y_scale\":{\"id\":\"a3657478-8d90-43b1-a5da-62d3fea20744\",\"type\":\"LinearScale\"}},\"id\":\"893253d7-8b49-487b-a8f0-9e285e52334c\",\"subtype\":\"Figure\",\"type\":\"Plot\"},{\"attributes\":{},\"id\":\"b08d26d1-74fb-424c-9490-9dbaf219d91d\",\"type\":\"PanTool\"},{\"attributes\":{},\"id\":\"81de10dc-4b47-478c-8a1e-cce47919e0ff\",\"type\":\"HelpTool\"},{\"attributes\":{\"callback\":null},\"id\":\"49646eab-0d1a-4596-9a9e-b34b5af7af60\",\"type\":\"DataRange1d\"},{\"attributes\":{\"callback\":null},\"id\":\"fd9c5b28-2d01-4788-920f-9aa43386f585\",\"type\":\"DataRange1d\"},{\"attributes\":{\"callback\":null,\"column_names\":[\"y\",\"x\"],\"data\":{\"x\":{\"__ndarray__\":\"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\",\"dtype\":\"float64\",\"shape\":[200]},\"y\":{\"__ndarray__\":\"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\",\"dtype\":\"float64\",\"shape\":[200]}}},\"id\":\"d0b58471-2ecf-44b5-954f-da2bae744f30\",\"type\":\"ColumnDataSource\"},{\"attributes\":{},\"id\":\"e4fd4464-9015-4a7a-9bb6-4b1e70b73af6\",\"type\":\"BasicTickFormatter\"},{\"attributes\":{\"dimension\":1,\"plot\":{\"id\":\"893253d7-8b49-487b-a8f0-9e285e52334c\",\"subtype\":\"Figure\",\"type\":\"Plot\"},\"ticker\":{\"id\":\"1a7dc405-1470-476a-a2a9-641cb6a01c45\",\"type\":\"BasicTicker\"}},\"id\":\"49b8e865-47b9-4a7d-a78a-0c16b1f7ae0c\",\"type\":\"Grid\"},{\"attributes\":{\"overlay\":{\"id\":\"f12c44c4-1eb1-40e4-a989-6571a249e8f2\",\"type\":\"BoxAnnotation\"}},\"id\":\"0cb62583-82a0-4dec-aaaf-05f204465265\",\"type\":\"BoxZoomTool\"},{\"attributes\":{},\"id\":\"f2342fe7-c0fc-4986-8510-a3e9c7223e82\",\"type\":\"ResetTool\"},{\"attributes\":{},\"id\":\"2376b568-6874-49ee-97aa-55d15134ce60\",\"type\":\"BasicTickFormatter\"},{\"attributes\":{},\"id\":\"1a7dc405-1470-476a-a2a9-641cb6a01c45\",\"type\":\"BasicTicker\"},{\"attributes\":{\"fill_alpha\":{\"value\":0.5},\"fill_color\":{\"value\":\"navy\"},\"line_alpha\":{\"value\":0.5},\"line_color\":{\"value\":\"navy\"},\"size\":{\"units\":\"screen\",\"value\":2},\"x\":{\"field\":\"x\"},\"y\":{\"field\":\"y\"}},\"id\":\"32f07b14-b40e-4558-985e-64da14266565\",\"type\":\"Circle\"},{\"attributes\":{},\"id\":\"0871e98e-2117-4803-a041-980a47dd6e68\",\"type\":\"LinearScale\"},{\"attributes\":{\"formatter\":{\"id\":\"2376b568-6874-49ee-97aa-55d15134ce60\",\"type\":\"BasicTickFormatter\"},\"plot\":{\"id\":\"893253d7-8b49-487b-a8f0-9e285e52334c\",\"subtype\":\"Figure\",\"type\":\"Plot\"},\"ticker\":{\"id\":\"30f7f4fa-08e9-413c-895e-2a1b1a80aa93\",\"type\":\"BasicTicker\"}},\"id\":\"6fd951ca-68e9-4047-8e34-4758cb06f75c\",\"type\":\"LinearAxis\"},{\"attributes\":{\"plot\":null,\"text\":\"\"},\"id\":\"c62622d7-8d0c-4eeb-8814-f36ceba5a66e\",\"type\":\"Title\"},{\"attributes\":{\"data_source\":{\"id\":\"d0b58471-2ecf-44b5-954f-da2bae744f30\",\"type\":\"ColumnDataSource\"},\"glyph\":{\"id\":\"32f07b14-b40e-4558-985e-64da14266565\",\"type\":\"Circle\"},\"hover_glyph\":null,\"muted_glyph\":null,\"nonselection_glyph\":{\"id\":\"253692d0-5332-4dbb-8181-d23ca4e10166\",\"type\":\"Circle\"},\"selection_glyph\":null,\"view\":{\"id\":\"1bc4a3a7-6e67-49d5-afdb-b9503c505d0a\",\"type\":\"CDSView\"}},\"id\":\"3faf399d-dd05-432f-bd91-7973f5902aef\",\"type\":\"GlyphRenderer\"},{\"attributes\":{\"plot\":{\"id\":\"893253d7-8b49-487b-a8f0-9e285e52334c\",\"subtype\":\"Figure\",\"type\":\"Plot\"},\"ticker\":{\"id\":\"30f7f4fa-08e9-413c-895e-2a1b1a80aa93\",\"type\":\"BasicTicker\"}},\"id\":\"96e7e68d-5cdd-449f-8ad3-d23b54fdf6b0\",\"type\":\"Grid\"},{\"attributes\":{\"source\":{\"id\":\"d0b58471-2ecf-44b5-954f-da2bae744f30\",\"type\":\"ColumnDataSource\"}},\"id\":\"1bc4a3a7-6e67-49d5-afdb-b9503c505d0a\",\"type\":\"CDSView\"},{\"attributes\":{},\"id\":\"30f7f4fa-08e9-413c-895e-2a1b1a80aa93\",\"type\":\"BasicTicker\"}],\"root_ids\":[\"893253d7-8b49-487b-a8f0-9e285e52334c\"]},\"title\":\"Bokeh Application\",\"version\":\"0.12.13\"}};\n",
       "  var render_items = [{\"docid\":\"4b6f9dd5-9be2-4810-afe1-c9ea891e7d13\",\"elementid\":\"7e55f09f-1943-4d27-b71f-a807c0b2e385\",\"modelid\":\"893253d7-8b49-487b-a8f0-9e285e52334c\"}];\n",
       "  root.Bokeh.embed.embed_items_notebook(docs_json, render_items);\n",
       "\n",
       "  }\n",
       "  if (root.Bokeh !== undefined) {\n",
       "    embed_document(root);\n",
       "  } else {\n",
       "    var attempts = 0;\n",
       "    var timer = setInterval(function(root) {\n",
       "      if (root.Bokeh !== undefined) {\n",
       "        embed_document(root);\n",
       "        clearInterval(timer);\n",
       "      }\n",
       "      attempts++;\n",
       "      if (attempts > 100) {\n",
       "        console.log(\"Bokeh: ERROR: Unable to run BokehJS code because BokehJS library is missing\")\n",
       "        clearInterval(timer);\n",
       "      }\n",
       "    }, 10, root)\n",
       "  }\n",
       "})(window);"
      ],
      "application/vnd.bokehjs_exec.v0+json": ""
     },
     "metadata": {
      "application/vnd.bokehjs_exec.v0+json": {
       "id": "893253d7-8b49-487b-a8f0-9e285e52334c"
      }
     },
     "output_type": "display_data"
    }
   ],
   "source": [
    "p2 = figure(plot_width=400, plot_height=400,match_aspect=True)\n",
    "\n",
    "# add a circle renderer with a size, color, and alpha\n",
    "p2.circle(U[:,0],U[:,1] ,size=2, color=\"navy\", alpha=0.5)\n",
    "\n",
    "# show the results\n",
    "show(p2)"
   ]
  },
  {
   "cell_type": "markdown",
   "metadata": {},
   "source": [
    "Much only along one axis. "
   ]
  },
  {
   "cell_type": "code",
   "execution_count": 6,
   "metadata": {},
   "outputs": [
    {
     "data": {
      "text/html": [
       "\n",
       "<div class=\"bk-root\">\n",
       "    <div class=\"bk-plotdiv\" id=\"19145a6c-f856-4a12-baba-129ef0c57c72\"></div>\n",
       "</div>"
      ]
     },
     "metadata": {},
     "output_type": "display_data"
    },
    {
     "data": {
      "application/javascript": [
       "(function(root) {\n",
       "  function embed_document(root) {\n",
       "    \n",
       "  var docs_json = {\"b74d7cce-a307-4d75-b23f-c5e147100dba\":{\"roots\":{\"references\":[{\"attributes\":{},\"id\":\"b7263298-cfd5-49cb-b1a4-e77217367a9d\",\"type\":\"SaveTool\"},{\"attributes\":{},\"id\":\"c8ec85ac-bb49-4542-ae32-eeb0dc79aa1a\",\"type\":\"BasicTicker\"},{\"attributes\":{\"formatter\":{\"id\":\"711d728c-eb80-4b55-ab51-74db0e57b7d2\",\"type\":\"BasicTickFormatter\"},\"plot\":{\"id\":\"cceba6f1-92e0-4123-8ed8-7abd7ed042ce\",\"subtype\":\"Figure\",\"type\":\"Plot\"},\"ticker\":{\"id\":\"5e54be55-2b55-4a30-9c85-74dcc94efd33\",\"type\":\"BasicTicker\"}},\"id\":\"edc694e8-211a-417e-a243-b577d5ce9219\",\"type\":\"LinearAxis\"},{\"attributes\":{\"fill_alpha\":{\"value\":0.5},\"fill_color\":{\"value\":\"navy\"},\"line_alpha\":{\"value\":0.5},\"line_color\":{\"value\":\"navy\"},\"size\":{\"units\":\"screen\",\"value\":2},\"x\":{\"field\":\"x\"},\"y\":{\"field\":\"y\"}},\"id\":\"6ebef015-e4a8-4bb5-984f-978112ee3969\",\"type\":\"Circle\"},{\"attributes\":{\"source\":{\"id\":\"01f7395c-6cf5-4922-bba8-700fd1bccac5\",\"type\":\"ColumnDataSource\"}},\"id\":\"5af66ad3-cc31-46fb-bc76-7843559e647c\",\"type\":\"CDSView\"},{\"attributes\":{},\"id\":\"3f5d7ee9-ac9a-4f26-bf2b-84208d18390d\",\"type\":\"BasicTickFormatter\"},{\"attributes\":{\"bottom_units\":\"screen\",\"fill_alpha\":{\"value\":0.5},\"fill_color\":{\"value\":\"lightgrey\"},\"left_units\":\"screen\",\"level\":\"overlay\",\"line_alpha\":{\"value\":1.0},\"line_color\":{\"value\":\"black\"},\"line_dash\":[4,4],\"line_width\":{\"value\":2},\"plot\":null,\"render_mode\":\"css\",\"right_units\":\"screen\",\"top_units\":\"screen\"},\"id\":\"110e8904-2851-4b88-a61f-9212692a8254\",\"type\":\"BoxAnnotation\"},{\"attributes\":{},\"id\":\"d80514bf-0475-4311-a4ac-5c16718f130c\",\"type\":\"PanTool\"},{\"attributes\":{\"callback\":null},\"id\":\"dd2121dd-bda8-43db-9b72-c22d8f9cf756\",\"type\":\"DataRange1d\"},{\"attributes\":{\"overlay\":{\"id\":\"110e8904-2851-4b88-a61f-9212692a8254\",\"type\":\"BoxAnnotation\"}},\"id\":\"ddfeb4b0-dd41-4360-9bb3-10e86eff88e8\",\"type\":\"BoxZoomTool\"},{\"attributes\":{\"formatter\":{\"id\":\"3f5d7ee9-ac9a-4f26-bf2b-84208d18390d\",\"type\":\"BasicTickFormatter\"},\"plot\":{\"id\":\"cceba6f1-92e0-4123-8ed8-7abd7ed042ce\",\"subtype\":\"Figure\",\"type\":\"Plot\"},\"ticker\":{\"id\":\"c8ec85ac-bb49-4542-ae32-eeb0dc79aa1a\",\"type\":\"BasicTicker\"}},\"id\":\"f647ace5-0501-499f-b5ec-b077922c703d\",\"type\":\"LinearAxis\"},{\"attributes\":{},\"id\":\"3d48390a-325a-4343-8fae-5ce40d2a072e\",\"type\":\"LinearScale\"},{\"attributes\":{\"below\":[{\"id\":\"f647ace5-0501-499f-b5ec-b077922c703d\",\"type\":\"LinearAxis\"}],\"left\":[{\"id\":\"edc694e8-211a-417e-a243-b577d5ce9219\",\"type\":\"LinearAxis\"}],\"match_aspect\":true,\"plot_height\":400,\"plot_width\":400,\"renderers\":[{\"id\":\"f647ace5-0501-499f-b5ec-b077922c703d\",\"type\":\"LinearAxis\"},{\"id\":\"5b9a326f-dd3b-4f55-8715-8abde5ceaf1a\",\"type\":\"Grid\"},{\"id\":\"edc694e8-211a-417e-a243-b577d5ce9219\",\"type\":\"LinearAxis\"},{\"id\":\"d4bf0de0-b378-4d03-ad25-f460f4b23897\",\"type\":\"Grid\"},{\"id\":\"110e8904-2851-4b88-a61f-9212692a8254\",\"type\":\"BoxAnnotation\"},{\"id\":\"cb9bcae6-6ab7-4727-8c64-850fd8ebd52f\",\"type\":\"GlyphRenderer\"}],\"title\":{\"id\":\"820b4fbd-2f1f-4146-b68f-1a314ae9223a\",\"type\":\"Title\"},\"toolbar\":{\"id\":\"211cf373-008c-4a22-9888-a29864f9f0db\",\"type\":\"Toolbar\"},\"x_range\":{\"id\":\"dd2121dd-bda8-43db-9b72-c22d8f9cf756\",\"type\":\"DataRange1d\"},\"x_scale\":{\"id\":\"706823aa-13b0-468c-9ef7-24ff922c87d5\",\"type\":\"LinearScale\"},\"y_range\":{\"id\":\"dd26d18c-45d6-484f-8b9f-2a5b7ca50e32\",\"type\":\"DataRange1d\"},\"y_scale\":{\"id\":\"3d48390a-325a-4343-8fae-5ce40d2a072e\",\"type\":\"LinearScale\"}},\"id\":\"cceba6f1-92e0-4123-8ed8-7abd7ed042ce\",\"subtype\":\"Figure\",\"type\":\"Plot\"},{\"attributes\":{\"fill_alpha\":{\"value\":0.1},\"fill_color\":{\"value\":\"#1f77b4\"},\"line_alpha\":{\"value\":0.1},\"line_color\":{\"value\":\"#1f77b4\"},\"size\":{\"units\":\"screen\",\"value\":2},\"x\":{\"field\":\"x\"},\"y\":{\"field\":\"y\"}},\"id\":\"074f7518-4836-4370-b503-c3747c3dfc76\",\"type\":\"Circle\"},{\"attributes\":{},\"id\":\"1b99f80d-0552-496f-b860-52377498728c\",\"type\":\"HelpTool\"},{\"attributes\":{},\"id\":\"5e54be55-2b55-4a30-9c85-74dcc94efd33\",\"type\":\"BasicTicker\"},{\"attributes\":{\"plot\":null,\"text\":\"\"},\"id\":\"820b4fbd-2f1f-4146-b68f-1a314ae9223a\",\"type\":\"Title\"},{\"attributes\":{},\"id\":\"711d728c-eb80-4b55-ab51-74db0e57b7d2\",\"type\":\"BasicTickFormatter\"},{\"attributes\":{},\"id\":\"f060fe73-51ab-4a55-bbbd-759e93adcf0a\",\"type\":\"WheelZoomTool\"},{\"attributes\":{},\"id\":\"7157646a-c064-439c-ac85-a8a038e225fe\",\"type\":\"ResetTool\"},{\"attributes\":{\"active_drag\":\"auto\",\"active_inspect\":\"auto\",\"active_scroll\":\"auto\",\"active_tap\":\"auto\",\"tools\":[{\"id\":\"d80514bf-0475-4311-a4ac-5c16718f130c\",\"type\":\"PanTool\"},{\"id\":\"f060fe73-51ab-4a55-bbbd-759e93adcf0a\",\"type\":\"WheelZoomTool\"},{\"id\":\"ddfeb4b0-dd41-4360-9bb3-10e86eff88e8\",\"type\":\"BoxZoomTool\"},{\"id\":\"b7263298-cfd5-49cb-b1a4-e77217367a9d\",\"type\":\"SaveTool\"},{\"id\":\"7157646a-c064-439c-ac85-a8a038e225fe\",\"type\":\"ResetTool\"},{\"id\":\"1b99f80d-0552-496f-b860-52377498728c\",\"type\":\"HelpTool\"}]},\"id\":\"211cf373-008c-4a22-9888-a29864f9f0db\",\"type\":\"Toolbar\"},{\"attributes\":{\"dimension\":1,\"plot\":{\"id\":\"cceba6f1-92e0-4123-8ed8-7abd7ed042ce\",\"subtype\":\"Figure\",\"type\":\"Plot\"},\"ticker\":{\"id\":\"5e54be55-2b55-4a30-9c85-74dcc94efd33\",\"type\":\"BasicTicker\"}},\"id\":\"d4bf0de0-b378-4d03-ad25-f460f4b23897\",\"type\":\"Grid\"},{\"attributes\":{\"plot\":{\"id\":\"cceba6f1-92e0-4123-8ed8-7abd7ed042ce\",\"subtype\":\"Figure\",\"type\":\"Plot\"},\"ticker\":{\"id\":\"c8ec85ac-bb49-4542-ae32-eeb0dc79aa1a\",\"type\":\"BasicTicker\"}},\"id\":\"5b9a326f-dd3b-4f55-8715-8abde5ceaf1a\",\"type\":\"Grid\"},{\"attributes\":{\"callback\":null,\"column_names\":[\"y\",\"x\"],\"data\":{\"x\":{\"__ndarray__\":\"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\",\"dtype\":\"float64\",\"shape\":[200]},\"y\":{\"__ndarray__\":\"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\",\"dtype\":\"float64\",\"shape\":[200]}}},\"id\":\"01f7395c-6cf5-4922-bba8-700fd1bccac5\",\"type\":\"ColumnDataSource\"},{\"attributes\":{\"data_source\":{\"id\":\"01f7395c-6cf5-4922-bba8-700fd1bccac5\",\"type\":\"ColumnDataSource\"},\"glyph\":{\"id\":\"6ebef015-e4a8-4bb5-984f-978112ee3969\",\"type\":\"Circle\"},\"hover_glyph\":null,\"muted_glyph\":null,\"nonselection_glyph\":{\"id\":\"074f7518-4836-4370-b503-c3747c3dfc76\",\"type\":\"Circle\"},\"selection_glyph\":null,\"view\":{\"id\":\"5af66ad3-cc31-46fb-bc76-7843559e647c\",\"type\":\"CDSView\"}},\"id\":\"cb9bcae6-6ab7-4727-8c64-850fd8ebd52f\",\"type\":\"GlyphRenderer\"},{\"attributes\":{\"callback\":null},\"id\":\"dd26d18c-45d6-484f-8b9f-2a5b7ca50e32\",\"type\":\"DataRange1d\"},{\"attributes\":{},\"id\":\"706823aa-13b0-468c-9ef7-24ff922c87d5\",\"type\":\"LinearScale\"}],\"root_ids\":[\"cceba6f1-92e0-4123-8ed8-7abd7ed042ce\"]},\"title\":\"Bokeh Application\",\"version\":\"0.12.13\"}};\n",
       "  var render_items = [{\"docid\":\"b74d7cce-a307-4d75-b23f-c5e147100dba\",\"elementid\":\"19145a6c-f856-4a12-baba-129ef0c57c72\",\"modelid\":\"cceba6f1-92e0-4123-8ed8-7abd7ed042ce\"}];\n",
       "  root.Bokeh.embed.embed_items_notebook(docs_json, render_items);\n",
       "\n",
       "  }\n",
       "  if (root.Bokeh !== undefined) {\n",
       "    embed_document(root);\n",
       "  } else {\n",
       "    var attempts = 0;\n",
       "    var timer = setInterval(function(root) {\n",
       "      if (root.Bokeh !== undefined) {\n",
       "        embed_document(root);\n",
       "        clearInterval(timer);\n",
       "      }\n",
       "      attempts++;\n",
       "      if (attempts > 100) {\n",
       "        console.log(\"Bokeh: ERROR: Unable to run BokehJS code because BokehJS library is missing\")\n",
       "        clearInterval(timer);\n",
       "      }\n",
       "    }, 10, root)\n",
       "  }\n",
       "})(window);"
      ],
      "application/vnd.bokehjs_exec.v0+json": ""
     },
     "metadata": {
      "application/vnd.bokehjs_exec.v0+json": {
       "id": "cceba6f1-92e0-4123-8ed8-7abd7ed042ce"
      }
     },
     "output_type": "display_data"
    }
   ],
   "source": [
    "Unew = U.dot(np.diag(D))\n",
    "\n",
    "p3 = figure(plot_width=400, plot_height=400,match_aspect=True)\n",
    "\n",
    "# add a circle renderer with a size, color, and alpha\n",
    "p3.circle(Unew[:,0],Unew[:,1] ,size=2, color=\"navy\", alpha=0.5)\n",
    "\n",
    "# show the results\n",
    "show(p3)"
   ]
  },
  {
   "cell_type": "markdown",
   "metadata": {},
   "source": [
    "# Using Correlation Matrix\n",
    "\n",
    "\n",
    "$$C_X = \\frac{1}{N-1} X^T X $$\n"
   ]
  },
  {
   "cell_type": "code",
   "execution_count": 7,
   "metadata": {},
   "outputs": [
    {
     "data": {
      "text/plain": [
       "array([[ 0.68330628,  0.23079731],\n",
       "       [ 0.23079731,  0.09884853]])"
      ]
     },
     "execution_count": 7,
     "metadata": {},
     "output_type": "execute_result"
    }
   ],
   "source": [
    "cor = X.T.dot(X)/199\n",
    "cor"
   ]
  },
  {
   "cell_type": "markdown",
   "metadata": {},
   "source": [
    "We can get the same result with numpy cov"
   ]
  },
  {
   "cell_type": "code",
   "execution_count": 8,
   "metadata": {},
   "outputs": [
    {
     "data": {
      "text/plain": [
       "array([[ 0.68217761,  0.23093475],\n",
       "       [ 0.23093475,  0.09883179]])"
      ]
     },
     "execution_count": 8,
     "metadata": {},
     "output_type": "execute_result"
    }
   ],
   "source": [
    "np.cov(X.T)"
   ]
  },
  {
   "cell_type": "markdown",
   "metadata": {},
   "source": [
    "We need the matrix that will diagonalize the Covariance matrix $C_x$. This is the eigenvalue of $C_x$. "
   ]
  },
  {
   "cell_type": "code",
   "execution_count": 9,
   "metadata": {},
   "outputs": [
    {
     "data": {
      "text/plain": [
       "(array([ 0.0184779,  0.7625315]), array([[ 0.32862557, -0.94446029],\n",
       "        [-0.94446029, -0.32862557]]))"
      ]
     },
     "execution_count": 9,
     "metadata": {},
     "output_type": "execute_result"
    }
   ],
   "source": [
    "np.linalg.eigh(np.cov(X.T))"
   ]
  },
  {
   "cell_type": "markdown",
   "metadata": {},
   "source": [
    "We check that this eigenvalues of the correlation function do indeed agree with V up to a sign. The columns of V are the eigenvectors, or the rows or Vtranspose are the eigenvectors. "
   ]
  },
  {
   "cell_type": "code",
   "execution_count": 10,
   "metadata": {},
   "outputs": [
    {
     "data": {
      "text/plain": [
       "array([[ 0.94465994,  0.3280512 ],\n",
       "       [ 0.3280512 , -0.94465994]])"
      ]
     },
     "execution_count": 10,
     "metadata": {},
     "output_type": "execute_result"
    }
   ],
   "source": [
    "Vtranspose.T"
   ]
  },
  {
   "cell_type": "markdown",
   "metadata": {},
   "source": [
    "So Vtranspose.T is the matrix with the right-singular vectors as columns, or the eigenvectos of the covariance matrix. We call it R or V\n",
    "\n",
    "$$R = V = Vtranspose.T$$"
   ]
  },
  {
   "cell_type": "markdown",
   "metadata": {},
   "source": [
    "This is the projection $Y = X V$ with the covariance:\n",
    "\n",
    "$$C_y = V^T C_x V$$"
   ]
  },
  {
   "cell_type": "code",
   "execution_count": 11,
   "metadata": {},
   "outputs": [],
   "source": [
    "V = Vtranspose.T"
   ]
  },
  {
   "cell_type": "code",
   "execution_count": 12,
   "metadata": {},
   "outputs": [
    {
     "data": {
      "text/plain": [
       "array([[  7.63455054e-01,   5.55111512e-17],\n",
       "       [  5.89805982e-17,   1.86997547e-02]])"
      ]
     },
     "execution_count": 12,
     "metadata": {},
     "output_type": "execute_result"
    }
   ],
   "source": [
    "np.dot(np.dot(V.T,cor) , V)"
   ]
  },
  {
   "cell_type": "markdown",
   "metadata": {},
   "source": [
    "So we see the off-diagonal elements are basically zero. So we build the diagonal new covariance matrix $C_y$. \n",
    "\n",
    "$C_y$ define the amount of variance contained withing each compinent. If we scaled the X matrix before taking the SVD like:\n",
    "\n",
    "## Scaled SVD\n",
    "\n",
    "\n",
    "$$U D V^T = \\frac{1}{\\sqrt{N-1}}X$$\n",
    "\n",
    "\n",
    "and the diagional of $C_y$ would be:\n",
    "\n",
    "$$ D^2 = C_y$$"
   ]
  },
  {
   "cell_type": "markdown",
   "metadata": {},
   "source": [
    "So for D divide by $\\sqrt{199}$ and then take the square and we see they match $C_y$. "
   ]
  },
  {
   "cell_type": "code",
   "execution_count": 13,
   "metadata": {},
   "outputs": [
    {
     "data": {
      "text/plain": [
       "array([ 0.76345505,  0.01869975])"
      ]
     },
     "execution_count": 13,
     "metadata": {},
     "output_type": "execute_result"
    }
   ],
   "source": [
    "(D/np.sqrt(199.)) **2"
   ]
  },
  {
   "cell_type": "markdown",
   "metadata": {},
   "source": [
    "$Y = X V$\n",
    "\n",
    "and this is just \n",
    "\n",
    "$$U D$$"
   ]
  },
  {
   "cell_type": "code",
   "execution_count": 14,
   "metadata": {},
   "outputs": [
    {
     "data": {
      "text/plain": [
       "array([[ -6.46486978e-01,  -4.44786232e-02],\n",
       "       [  1.10137577e+00,  -2.43042963e-01],\n",
       "       [ -6.97491207e-01,   1.83960974e-01],\n",
       "       [ -2.27947088e+00,  -2.27813646e-01],\n",
       "       [ -5.99548494e-01,   3.19887217e-01],\n",
       "       [ -9.94216207e-01,  -6.01515915e-02],\n",
       "       [ -7.46814155e-01,   9.87818594e-02],\n",
       "       [  1.42679446e+00,  -1.30519143e-01],\n",
       "       [  3.21490678e-01,   2.15960897e-01],\n",
       "       [ -1.85846412e+00,  -2.15422638e-01],\n",
       "       [  7.41793647e-01,  -9.90103354e-02],\n",
       "       [ -6.08589161e-01,  -2.35843480e-02],\n",
       "       [ -5.17618971e-01,   2.15956932e-01],\n",
       "       [  2.49504224e-01,  -1.93528557e-01],\n",
       "       [  4.18065971e-01,  -5.43009416e-02],\n",
       "       [ -6.84970591e-01,  -9.85576335e-02],\n",
       "       [  1.11400910e+00,  -6.36186517e-02],\n",
       "       [  3.30271462e-01,   7.33043448e-02],\n",
       "       [  8.27018639e-01,  -2.30163448e-01],\n",
       "       [  8.42958006e-01,   1.31695556e-01],\n",
       "       [  1.57052074e+00,   4.63980823e-02],\n",
       "       [  2.83268441e-01,   6.32958789e-02],\n",
       "       [ -5.96043695e-01,   1.83275025e-01],\n",
       "       [  1.64025518e+00,  -2.14212576e-01],\n",
       "       [ -4.73925081e-01,   1.01069924e-02],\n",
       "       [ -5.23698250e-01,  -1.18114090e-01],\n",
       "       [ -6.51603221e-01,  -2.09101597e-03],\n",
       "       [  5.03753368e-02,   8.25247202e-02],\n",
       "       [ -8.33061920e-02,  -1.06510777e-01],\n",
       "       [  1.04178537e-03,  -6.41846837e-02],\n",
       "       [  2.44626016e-01,  -1.26521200e-01],\n",
       "       [  1.06424688e+00,  -2.03886766e-01],\n",
       "       [ -3.58377831e-01,  -8.58183324e-02],\n",
       "       [ -9.66382654e-01,   5.90593697e-02],\n",
       "       [ -1.36198479e+00,  -9.44463405e-02],\n",
       "       [ -4.26694907e-01,   6.48642803e-02],\n",
       "       [ -6.51342444e-01,   3.09423953e-01],\n",
       "       [  9.35579791e-01,   6.07624105e-02],\n",
       "       [ -4.64008008e-01,  -1.66224422e-03],\n",
       "       [ -5.92166425e-01,  -1.06004809e-01],\n",
       "       [ -2.95841228e-01,  -1.02040696e-01],\n",
       "       [ -4.22068494e-01,   3.00203472e-01],\n",
       "       [ -6.51501318e-01,   4.94065504e-02],\n",
       "       [  2.75069115e-01,  -1.20337124e-01],\n",
       "       [  5.57456415e-01,  -4.39535421e-03],\n",
       "       [  4.81946112e-01,   3.08945137e-01],\n",
       "       [  1.45890994e+00,  -7.28307184e-02],\n",
       "       [ -7.74833278e-01,   1.48739448e-01],\n",
       "       [ -1.50705054e-01,   5.80394724e-02],\n",
       "       [ -3.18752343e-01,  -3.67713567e-02],\n",
       "       [ -2.62773814e+00,  -1.84843320e-02],\n",
       "       [  1.37294477e+00,  -1.43270531e-01],\n",
       "       [  2.03307455e-01,  -4.66146080e-02],\n",
       "       [ -5.83287338e-01,   1.31685680e-01],\n",
       "       [  1.92972544e+00,   1.35670522e-02],\n",
       "       [  8.23443843e-01,   9.84063632e-02],\n",
       "       [  4.47392854e-01,   1.78639490e-02],\n",
       "       [ -1.24512355e-01,   1.50919622e-01],\n",
       "       [ -2.14403111e-01,  -1.08360161e-01],\n",
       "       [ -6.95877968e-01,   2.46475947e-01],\n",
       "       [  8.21920802e-01,   3.09224049e-02],\n",
       "       [ -4.09371000e-01,  -2.22891366e-02],\n",
       "       [  2.96976753e-01,   6.01704043e-02],\n",
       "       [  9.07398911e-01,  -6.95894767e-02],\n",
       "       [  6.67842709e-01,   1.40652249e-01],\n",
       "       [  8.03410427e-01,   1.94814517e-01],\n",
       "       [  1.07664683e+00,   2.85129658e-01],\n",
       "       [ -1.12188326e+00,  -1.54747259e-01],\n",
       "       [  8.28304790e-02,  -2.38618829e-01],\n",
       "       [  1.00451776e+00,  -1.45043486e-01],\n",
       "       [  6.54648604e-01,  -1.55312073e-02],\n",
       "       [  1.03510666e+00,   7.61448755e-02],\n",
       "       [ -5.59611414e-01,   8.63945602e-02],\n",
       "       [ -1.47327347e+00,  -2.33647571e-01],\n",
       "       [ -1.24400656e+00,   2.91755042e-02],\n",
       "       [  1.28692326e+00,   5.24334543e-02],\n",
       "       [ -1.07516296e-01,   4.39837491e-02],\n",
       "       [  1.39159580e+00,   3.51545576e-02],\n",
       "       [ -6.97204567e-01,   8.15531831e-03],\n",
       "       [ -4.20195458e-01,  -5.87454502e-03],\n",
       "       [  1.47899168e-01,   2.07980132e-02],\n",
       "       [  8.79954178e-01,   1.06268475e-02],\n",
       "       [  1.25489842e-01,   2.41120101e-02],\n",
       "       [  2.11488986e-01,   5.86000757e-03],\n",
       "       [ -2.51342946e-01,  -9.24919825e-02],\n",
       "       [  2.86896183e-01,   4.28766300e-02],\n",
       "       [ -8.22451879e-01,   7.16924557e-02],\n",
       "       [  5.08089957e-01,   1.50406969e-01],\n",
       "       [  3.26886602e-01,   1.73085908e-01],\n",
       "       [  2.86454372e-02,   2.81115809e-02],\n",
       "       [  2.35991056e-01,  -7.55714321e-02],\n",
       "       [ -7.82333410e-01,  -5.37560510e-02],\n",
       "       [  1.00962913e-01,   6.20562963e-02],\n",
       "       [ -2.01365334e-01,   2.52315106e-02],\n",
       "       [  1.89874290e-01,  -6.75758212e-02],\n",
       "       [  6.29016719e-01,  -3.27282058e-02],\n",
       "       [ -9.89158775e-01,  -3.76512588e-02],\n",
       "       [  7.31812243e-01,   6.65342505e-02],\n",
       "       [  1.43441159e+00,  -1.62960226e-01],\n",
       "       [ -6.64542722e-01,   2.39911269e-01],\n",
       "       [ -4.88268848e-01,   9.60818475e-02],\n",
       "       [ -4.52676550e-01,   1.24550972e-01],\n",
       "       [ -6.48971394e-01,  -1.35911642e-01],\n",
       "       [  1.33197527e+00,  -5.68494747e-02],\n",
       "       [  3.02175855e-01,   1.00573231e-01],\n",
       "       [ -9.17352882e-01,  -9.61204461e-02],\n",
       "       [  3.79899121e-01,  -6.70449098e-02],\n",
       "       [ -4.54783432e-01,   3.40275515e-02],\n",
       "       [  3.34876769e-01,  -2.43082512e-01],\n",
       "       [  3.62166056e-01,   2.80320920e-02],\n",
       "       [  1.41612275e+00,   4.72029591e-02],\n",
       "       [ -8.54245303e-01,  -8.48897917e-02],\n",
       "       [  2.50109292e+00,  -1.01497245e-01],\n",
       "       [  1.25865628e-01,  -2.20035082e-01],\n",
       "       [  4.95093034e-01,  -3.75591350e-02],\n",
       "       [ -6.76493099e-01,  -2.18346970e-01],\n",
       "       [ -1.23888342e-01,   1.89064503e-01],\n",
       "       [ -5.15449883e-01,   9.86746768e-02],\n",
       "       [ -1.15712295e-01,   3.33837888e-03],\n",
       "       [ -9.26984557e-01,  -6.66579707e-02],\n",
       "       [  7.22222208e-01,   1.60182618e-01],\n",
       "       [  1.30941238e-01,   3.09621052e-01],\n",
       "       [ -2.47788169e-01,  -2.84597895e-01],\n",
       "       [  1.23245865e+00,   1.21844292e-01],\n",
       "       [  9.09612040e-02,   2.57290836e-01],\n",
       "       [  1.06303882e+00,  -1.25921975e-02],\n",
       "       [ -6.57999012e-01,  -1.52205674e-01],\n",
       "       [  1.24085334e+00,   6.10627442e-02],\n",
       "       [  2.70333748e-01,  -4.63319688e-02],\n",
       "       [  6.37081031e-01,  -1.37882566e-01],\n",
       "       [ -1.26193892e+00,  -1.18993437e-01],\n",
       "       [  1.33640486e-01,   8.05213090e-02],\n",
       "       [  1.44394683e+00,   3.68211598e-02],\n",
       "       [ -7.27507219e-01,  -5.47664081e-02],\n",
       "       [ -1.38319072e+00,   1.71591237e-01],\n",
       "       [ -1.96537396e+00,  -6.06614301e-02],\n",
       "       [ -1.63820864e+00,   2.33174515e-01],\n",
       "       [ -1.62994488e+00,   1.10589967e-01],\n",
       "       [ -3.94436327e-01,  -5.21038849e-03],\n",
       "       [  9.56708531e-01,  -7.69373820e-02],\n",
       "       [ -2.45555955e-03,   1.40574806e-01],\n",
       "       [  5.47883903e-01,   8.66293621e-02],\n",
       "       [  1.22845531e-01,   7.77984474e-02],\n",
       "       [  6.09168490e-02,   1.84018297e-02],\n",
       "       [ -1.00474838e-01,   1.89297701e-02],\n",
       "       [  1.07832029e-01,   9.31172024e-02],\n",
       "       [  4.51141577e-01,   9.04665934e-03],\n",
       "       [ -6.47933157e-01,   1.51276181e-01],\n",
       "       [  6.65357562e-01,  -9.21892908e-02],\n",
       "       [ -2.41996185e-01,  -3.78189047e-01],\n",
       "       [  2.57202733e-01,   1.51619680e-01],\n",
       "       [  1.48954828e+00,   2.59248109e-01],\n",
       "       [ -3.72908326e-01,   9.49079714e-02],\n",
       "       [ -4.58301081e-01,   1.27932312e-02],\n",
       "       [  6.80731958e-02,  -2.63550417e-02],\n",
       "       [ -1.95209498e-01,  -6.89674830e-03],\n",
       "       [ -3.42996149e-01,   2.45017624e-02],\n",
       "       [ -9.66323534e-01,  -1.20225614e-01],\n",
       "       [ -6.38372097e-01,  -4.32015546e-02],\n",
       "       [  3.39405512e-01,  -1.82589388e-01],\n",
       "       [ -1.41707478e+00,   1.29812238e-01],\n",
       "       [  1.57948375e-01,  -5.79271363e-02],\n",
       "       [  1.07678630e-02,   7.93495725e-02],\n",
       "       [  4.98604348e-01,  -5.97611771e-02],\n",
       "       [  7.90170977e-01,   1.09436414e-01],\n",
       "       [ -2.08525305e+00,   1.66363156e-01],\n",
       "       [  1.31891038e+00,   2.70639041e-01],\n",
       "       [ -4.94313225e-01,  -2.75212070e-01],\n",
       "       [ -2.37828019e-01,  -8.95090607e-02],\n",
       "       [ -1.02287515e-02,   1.46334880e-01],\n",
       "       [  1.66136766e+00,   3.03548149e-01],\n",
       "       [ -4.19972608e-01,  -1.36259274e-02],\n",
       "       [  1.44762817e+00,  -8.44787931e-02],\n",
       "       [  3.50853099e-01,  -5.87594036e-02],\n",
       "       [  2.19131058e+00,   7.66145824e-02],\n",
       "       [ -7.25629484e-01,  -5.48610319e-04],\n",
       "       [ -1.10105889e+00,   1.79527077e-01],\n",
       "       [  4.31284262e-01,  -7.89535751e-02],\n",
       "       [  1.63439509e-01,  -2.15991096e-01],\n",
       "       [  1.51100228e-01,   4.11176963e-02],\n",
       "       [ -1.00146273e+00,   1.44643282e-01],\n",
       "       [  1.60309065e-01,   1.98859890e-01],\n",
       "       [  4.38293552e-01,  -4.55632709e-02],\n",
       "       [ -3.86820881e-01,  -7.53116958e-02],\n",
       "       [  1.31290511e-01,   8.26453419e-02],\n",
       "       [ -4.19492650e-02,   4.15577273e-02],\n",
       "       [ -6.17542483e-01,   8.44062096e-02],\n",
       "       [ -4.44370224e-01,   1.62826658e-02],\n",
       "       [ -6.55050956e-01,   2.28940800e-01],\n",
       "       [  1.52394958e+00,  -3.66487921e-02],\n",
       "       [  3.79779520e-01,   2.83795232e-01],\n",
       "       [  8.10100870e-01,   1.28332289e-01],\n",
       "       [ -5.37052037e-01,   1.40466908e-01],\n",
       "       [ -2.17328135e-02,  -2.61633942e-01],\n",
       "       [ -1.22309280e+00,   1.74678332e-01],\n",
       "       [  8.83333865e-01,   1.20664906e-02],\n",
       "       [  2.91925631e-01,   1.12597849e-01],\n",
       "       [  2.05700776e+00,   3.87226712e-02],\n",
       "       [ -1.17656777e+00,   9.61106261e-03],\n",
       "       [  3.84192423e-01,   1.08873288e-01]])"
      ]
     },
     "execution_count": 14,
     "metadata": {},
     "output_type": "execute_result"
    }
   ],
   "source": [
    "np.dot(X, V)"
   ]
  },
  {
   "cell_type": "code",
   "execution_count": 15,
   "metadata": {},
   "outputs": [
    {
     "data": {
      "text/plain": [
       "array([[ -6.46486978e-01,  -4.44786232e-02],\n",
       "       [  1.10137577e+00,  -2.43042963e-01],\n",
       "       [ -6.97491207e-01,   1.83960974e-01],\n",
       "       [ -2.27947088e+00,  -2.27813646e-01],\n",
       "       [ -5.99548494e-01,   3.19887217e-01],\n",
       "       [ -9.94216207e-01,  -6.01515915e-02],\n",
       "       [ -7.46814155e-01,   9.87818594e-02],\n",
       "       [  1.42679446e+00,  -1.30519143e-01],\n",
       "       [  3.21490678e-01,   2.15960897e-01],\n",
       "       [ -1.85846412e+00,  -2.15422638e-01],\n",
       "       [  7.41793647e-01,  -9.90103354e-02],\n",
       "       [ -6.08589161e-01,  -2.35843480e-02],\n",
       "       [ -5.17618971e-01,   2.15956932e-01],\n",
       "       [  2.49504224e-01,  -1.93528557e-01],\n",
       "       [  4.18065971e-01,  -5.43009416e-02],\n",
       "       [ -6.84970591e-01,  -9.85576335e-02],\n",
       "       [  1.11400910e+00,  -6.36186517e-02],\n",
       "       [  3.30271462e-01,   7.33043448e-02],\n",
       "       [  8.27018639e-01,  -2.30163448e-01],\n",
       "       [  8.42958006e-01,   1.31695556e-01],\n",
       "       [  1.57052074e+00,   4.63980823e-02],\n",
       "       [  2.83268441e-01,   6.32958789e-02],\n",
       "       [ -5.96043695e-01,   1.83275025e-01],\n",
       "       [  1.64025518e+00,  -2.14212576e-01],\n",
       "       [ -4.73925081e-01,   1.01069924e-02],\n",
       "       [ -5.23698250e-01,  -1.18114090e-01],\n",
       "       [ -6.51603221e-01,  -2.09101597e-03],\n",
       "       [  5.03753368e-02,   8.25247202e-02],\n",
       "       [ -8.33061920e-02,  -1.06510777e-01],\n",
       "       [  1.04178537e-03,  -6.41846837e-02],\n",
       "       [  2.44626016e-01,  -1.26521200e-01],\n",
       "       [  1.06424688e+00,  -2.03886766e-01],\n",
       "       [ -3.58377831e-01,  -8.58183324e-02],\n",
       "       [ -9.66382654e-01,   5.90593697e-02],\n",
       "       [ -1.36198479e+00,  -9.44463405e-02],\n",
       "       [ -4.26694907e-01,   6.48642803e-02],\n",
       "       [ -6.51342444e-01,   3.09423953e-01],\n",
       "       [  9.35579791e-01,   6.07624105e-02],\n",
       "       [ -4.64008008e-01,  -1.66224422e-03],\n",
       "       [ -5.92166425e-01,  -1.06004809e-01],\n",
       "       [ -2.95841228e-01,  -1.02040696e-01],\n",
       "       [ -4.22068494e-01,   3.00203472e-01],\n",
       "       [ -6.51501318e-01,   4.94065504e-02],\n",
       "       [  2.75069115e-01,  -1.20337124e-01],\n",
       "       [  5.57456415e-01,  -4.39535421e-03],\n",
       "       [  4.81946112e-01,   3.08945137e-01],\n",
       "       [  1.45890994e+00,  -7.28307184e-02],\n",
       "       [ -7.74833278e-01,   1.48739448e-01],\n",
       "       [ -1.50705054e-01,   5.80394724e-02],\n",
       "       [ -3.18752343e-01,  -3.67713567e-02],\n",
       "       [ -2.62773814e+00,  -1.84843320e-02],\n",
       "       [  1.37294477e+00,  -1.43270531e-01],\n",
       "       [  2.03307455e-01,  -4.66146080e-02],\n",
       "       [ -5.83287338e-01,   1.31685680e-01],\n",
       "       [  1.92972544e+00,   1.35670522e-02],\n",
       "       [  8.23443843e-01,   9.84063632e-02],\n",
       "       [  4.47392854e-01,   1.78639490e-02],\n",
       "       [ -1.24512355e-01,   1.50919622e-01],\n",
       "       [ -2.14403111e-01,  -1.08360161e-01],\n",
       "       [ -6.95877968e-01,   2.46475947e-01],\n",
       "       [  8.21920802e-01,   3.09224049e-02],\n",
       "       [ -4.09371000e-01,  -2.22891366e-02],\n",
       "       [  2.96976753e-01,   6.01704043e-02],\n",
       "       [  9.07398911e-01,  -6.95894767e-02],\n",
       "       [  6.67842709e-01,   1.40652249e-01],\n",
       "       [  8.03410427e-01,   1.94814517e-01],\n",
       "       [  1.07664683e+00,   2.85129658e-01],\n",
       "       [ -1.12188326e+00,  -1.54747259e-01],\n",
       "       [  8.28304790e-02,  -2.38618829e-01],\n",
       "       [  1.00451776e+00,  -1.45043486e-01],\n",
       "       [  6.54648604e-01,  -1.55312073e-02],\n",
       "       [  1.03510666e+00,   7.61448755e-02],\n",
       "       [ -5.59611414e-01,   8.63945602e-02],\n",
       "       [ -1.47327347e+00,  -2.33647571e-01],\n",
       "       [ -1.24400656e+00,   2.91755042e-02],\n",
       "       [  1.28692326e+00,   5.24334543e-02],\n",
       "       [ -1.07516296e-01,   4.39837491e-02],\n",
       "       [  1.39159580e+00,   3.51545576e-02],\n",
       "       [ -6.97204567e-01,   8.15531831e-03],\n",
       "       [ -4.20195458e-01,  -5.87454502e-03],\n",
       "       [  1.47899168e-01,   2.07980132e-02],\n",
       "       [  8.79954178e-01,   1.06268475e-02],\n",
       "       [  1.25489842e-01,   2.41120101e-02],\n",
       "       [  2.11488986e-01,   5.86000757e-03],\n",
       "       [ -2.51342946e-01,  -9.24919825e-02],\n",
       "       [  2.86896183e-01,   4.28766300e-02],\n",
       "       [ -8.22451879e-01,   7.16924557e-02],\n",
       "       [  5.08089957e-01,   1.50406969e-01],\n",
       "       [  3.26886602e-01,   1.73085908e-01],\n",
       "       [  2.86454372e-02,   2.81115809e-02],\n",
       "       [  2.35991056e-01,  -7.55714321e-02],\n",
       "       [ -7.82333410e-01,  -5.37560510e-02],\n",
       "       [  1.00962913e-01,   6.20562963e-02],\n",
       "       [ -2.01365334e-01,   2.52315106e-02],\n",
       "       [  1.89874290e-01,  -6.75758212e-02],\n",
       "       [  6.29016719e-01,  -3.27282058e-02],\n",
       "       [ -9.89158775e-01,  -3.76512588e-02],\n",
       "       [  7.31812243e-01,   6.65342505e-02],\n",
       "       [  1.43441159e+00,  -1.62960226e-01],\n",
       "       [ -6.64542722e-01,   2.39911269e-01],\n",
       "       [ -4.88268848e-01,   9.60818475e-02],\n",
       "       [ -4.52676550e-01,   1.24550972e-01],\n",
       "       [ -6.48971394e-01,  -1.35911642e-01],\n",
       "       [  1.33197527e+00,  -5.68494747e-02],\n",
       "       [  3.02175855e-01,   1.00573231e-01],\n",
       "       [ -9.17352882e-01,  -9.61204461e-02],\n",
       "       [  3.79899121e-01,  -6.70449098e-02],\n",
       "       [ -4.54783432e-01,   3.40275515e-02],\n",
       "       [  3.34876769e-01,  -2.43082512e-01],\n",
       "       [  3.62166056e-01,   2.80320920e-02],\n",
       "       [  1.41612275e+00,   4.72029591e-02],\n",
       "       [ -8.54245303e-01,  -8.48897917e-02],\n",
       "       [  2.50109292e+00,  -1.01497245e-01],\n",
       "       [  1.25865628e-01,  -2.20035082e-01],\n",
       "       [  4.95093034e-01,  -3.75591350e-02],\n",
       "       [ -6.76493099e-01,  -2.18346970e-01],\n",
       "       [ -1.23888342e-01,   1.89064503e-01],\n",
       "       [ -5.15449883e-01,   9.86746768e-02],\n",
       "       [ -1.15712295e-01,   3.33837888e-03],\n",
       "       [ -9.26984557e-01,  -6.66579707e-02],\n",
       "       [  7.22222208e-01,   1.60182618e-01],\n",
       "       [  1.30941238e-01,   3.09621052e-01],\n",
       "       [ -2.47788169e-01,  -2.84597895e-01],\n",
       "       [  1.23245865e+00,   1.21844292e-01],\n",
       "       [  9.09612040e-02,   2.57290836e-01],\n",
       "       [  1.06303882e+00,  -1.25921975e-02],\n",
       "       [ -6.57999012e-01,  -1.52205674e-01],\n",
       "       [  1.24085334e+00,   6.10627442e-02],\n",
       "       [  2.70333748e-01,  -4.63319688e-02],\n",
       "       [  6.37081031e-01,  -1.37882566e-01],\n",
       "       [ -1.26193892e+00,  -1.18993437e-01],\n",
       "       [  1.33640486e-01,   8.05213090e-02],\n",
       "       [  1.44394683e+00,   3.68211598e-02],\n",
       "       [ -7.27507219e-01,  -5.47664081e-02],\n",
       "       [ -1.38319072e+00,   1.71591237e-01],\n",
       "       [ -1.96537396e+00,  -6.06614301e-02],\n",
       "       [ -1.63820864e+00,   2.33174515e-01],\n",
       "       [ -1.62994488e+00,   1.10589967e-01],\n",
       "       [ -3.94436327e-01,  -5.21038849e-03],\n",
       "       [  9.56708531e-01,  -7.69373820e-02],\n",
       "       [ -2.45555955e-03,   1.40574806e-01],\n",
       "       [  5.47883903e-01,   8.66293621e-02],\n",
       "       [  1.22845531e-01,   7.77984474e-02],\n",
       "       [  6.09168490e-02,   1.84018297e-02],\n",
       "       [ -1.00474838e-01,   1.89297701e-02],\n",
       "       [  1.07832029e-01,   9.31172024e-02],\n",
       "       [  4.51141577e-01,   9.04665934e-03],\n",
       "       [ -6.47933157e-01,   1.51276181e-01],\n",
       "       [  6.65357562e-01,  -9.21892908e-02],\n",
       "       [ -2.41996185e-01,  -3.78189047e-01],\n",
       "       [  2.57202733e-01,   1.51619680e-01],\n",
       "       [  1.48954828e+00,   2.59248109e-01],\n",
       "       [ -3.72908326e-01,   9.49079714e-02],\n",
       "       [ -4.58301081e-01,   1.27932312e-02],\n",
       "       [  6.80731958e-02,  -2.63550417e-02],\n",
       "       [ -1.95209498e-01,  -6.89674830e-03],\n",
       "       [ -3.42996149e-01,   2.45017624e-02],\n",
       "       [ -9.66323534e-01,  -1.20225614e-01],\n",
       "       [ -6.38372097e-01,  -4.32015546e-02],\n",
       "       [  3.39405512e-01,  -1.82589388e-01],\n",
       "       [ -1.41707478e+00,   1.29812238e-01],\n",
       "       [  1.57948375e-01,  -5.79271363e-02],\n",
       "       [  1.07678630e-02,   7.93495725e-02],\n",
       "       [  4.98604348e-01,  -5.97611771e-02],\n",
       "       [  7.90170977e-01,   1.09436414e-01],\n",
       "       [ -2.08525305e+00,   1.66363156e-01],\n",
       "       [  1.31891038e+00,   2.70639041e-01],\n",
       "       [ -4.94313225e-01,  -2.75212070e-01],\n",
       "       [ -2.37828019e-01,  -8.95090607e-02],\n",
       "       [ -1.02287515e-02,   1.46334880e-01],\n",
       "       [  1.66136766e+00,   3.03548149e-01],\n",
       "       [ -4.19972608e-01,  -1.36259274e-02],\n",
       "       [  1.44762817e+00,  -8.44787931e-02],\n",
       "       [  3.50853099e-01,  -5.87594036e-02],\n",
       "       [  2.19131058e+00,   7.66145824e-02],\n",
       "       [ -7.25629484e-01,  -5.48610319e-04],\n",
       "       [ -1.10105889e+00,   1.79527077e-01],\n",
       "       [  4.31284262e-01,  -7.89535751e-02],\n",
       "       [  1.63439509e-01,  -2.15991096e-01],\n",
       "       [  1.51100228e-01,   4.11176963e-02],\n",
       "       [ -1.00146273e+00,   1.44643282e-01],\n",
       "       [  1.60309065e-01,   1.98859890e-01],\n",
       "       [  4.38293552e-01,  -4.55632709e-02],\n",
       "       [ -3.86820881e-01,  -7.53116958e-02],\n",
       "       [  1.31290511e-01,   8.26453419e-02],\n",
       "       [ -4.19492650e-02,   4.15577273e-02],\n",
       "       [ -6.17542483e-01,   8.44062096e-02],\n",
       "       [ -4.44370224e-01,   1.62826658e-02],\n",
       "       [ -6.55050956e-01,   2.28940800e-01],\n",
       "       [  1.52394958e+00,  -3.66487921e-02],\n",
       "       [  3.79779520e-01,   2.83795232e-01],\n",
       "       [  8.10100870e-01,   1.28332289e-01],\n",
       "       [ -5.37052037e-01,   1.40466908e-01],\n",
       "       [ -2.17328135e-02,  -2.61633942e-01],\n",
       "       [ -1.22309280e+00,   1.74678332e-01],\n",
       "       [  8.83333865e-01,   1.20664906e-02],\n",
       "       [  2.91925631e-01,   1.12597849e-01],\n",
       "       [  2.05700776e+00,   3.87226712e-02],\n",
       "       [ -1.17656777e+00,   9.61106261e-03],\n",
       "       [  3.84192423e-01,   1.08873288e-01]])"
      ]
     },
     "execution_count": 15,
     "metadata": {},
     "output_type": "execute_result"
    }
   ],
   "source": [
    "Unew"
   ]
  },
  {
   "cell_type": "code",
   "execution_count": 16,
   "metadata": {},
   "outputs": [
    {
     "data": {
      "text/html": [
       "\n",
       "<div class=\"bk-root\">\n",
       "    <div class=\"bk-plotdiv\" id=\"1f376632-7e1e-4b9c-b424-2b77ea22065e\"></div>\n",
       "</div>"
      ]
     },
     "metadata": {},
     "output_type": "display_data"
    },
    {
     "data": {
      "application/javascript": [
       "(function(root) {\n",
       "  function embed_document(root) {\n",
       "    \n",
       "  var docs_json = {\"aa1a732b-cc1d-458d-b407-e4e1866b4728\":{\"roots\":{\"references\":[{\"attributes\":{\"callback\":null},\"id\":\"7a367254-cdf7-4130-929b-d59d781bc464\",\"type\":\"DataRange1d\"},{\"attributes\":{},\"id\":\"7f4ef773-90cb-4de8-9018-c76a112f1fad\",\"type\":\"PanTool\"},{\"attributes\":{},\"id\":\"240e67f1-2cce-4b7b-aab0-60ba826af715\",\"type\":\"BasicTickFormatter\"},{\"attributes\":{\"callback\":null},\"id\":\"152dffe2-401c-4003-8522-ebb72436ef16\",\"type\":\"DataRange1d\"},{\"attributes\":{},\"id\":\"5e89a03b-c926-4df6-bf42-be060ef86beb\",\"type\":\"BasicTicker\"},{\"attributes\":{\"plot\":{\"id\":\"1fc7879c-ca34-450f-84b3-d1c8aa36f4c8\",\"subtype\":\"Figure\",\"type\":\"Plot\"},\"ticker\":{\"id\":\"5e89a03b-c926-4df6-bf42-be060ef86beb\",\"type\":\"BasicTicker\"}},\"id\":\"a33ed1c2-f869-48b2-a8c2-8474bdc28c75\",\"type\":\"Grid\"},{\"attributes\":{},\"id\":\"c124259e-8c99-436e-832c-bfcd4af6cfb8\",\"type\":\"HelpTool\"},{\"attributes\":{\"overlay\":{\"id\":\"1973b794-93c3-4234-a9be-5e3f402674e7\",\"type\":\"BoxAnnotation\"}},\"id\":\"f7f3bd4a-7911-4714-b6bd-a0726f165263\",\"type\":\"BoxZoomTool\"},{\"attributes\":{\"source\":{\"id\":\"d89c9b9b-5384-4266-ab47-7ec4a3382a6a\",\"type\":\"ColumnDataSource\"}},\"id\":\"39c2d5f9-fd44-4f03-ac42-5252824dcaa6\",\"type\":\"CDSView\"},{\"attributes\":{},\"id\":\"4a3eb283-e95c-46c9-8582-dcae13759ce5\",\"type\":\"WheelZoomTool\"},{\"attributes\":{},\"id\":\"9e153ea5-dc52-4364-9ec8-e4f5e0fcb0be\",\"type\":\"ResetTool\"},{\"attributes\":{\"below\":[{\"id\":\"e8255d1d-0c44-4251-89aa-9897cff97a86\",\"type\":\"LinearAxis\"}],\"left\":[{\"id\":\"15452f31-2411-481a-a7e5-418836cde9f4\",\"type\":\"LinearAxis\"}],\"match_aspect\":true,\"plot_height\":400,\"plot_width\":400,\"renderers\":[{\"id\":\"e8255d1d-0c44-4251-89aa-9897cff97a86\",\"type\":\"LinearAxis\"},{\"id\":\"a33ed1c2-f869-48b2-a8c2-8474bdc28c75\",\"type\":\"Grid\"},{\"id\":\"15452f31-2411-481a-a7e5-418836cde9f4\",\"type\":\"LinearAxis\"},{\"id\":\"9dfda85a-68db-4a2d-865c-afa6e5bcd520\",\"type\":\"Grid\"},{\"id\":\"1973b794-93c3-4234-a9be-5e3f402674e7\",\"type\":\"BoxAnnotation\"},{\"id\":\"0771475c-3c7c-4272-8339-0f71b312e549\",\"type\":\"GlyphRenderer\"}],\"title\":{\"id\":\"a886cd2d-9659-49b5-84d2-80d89abe40d9\",\"type\":\"Title\"},\"toolbar\":{\"id\":\"e3a5317d-e076-4e10-83bf-7e542ae5fedb\",\"type\":\"Toolbar\"},\"x_range\":{\"id\":\"7a367254-cdf7-4130-929b-d59d781bc464\",\"type\":\"DataRange1d\"},\"x_scale\":{\"id\":\"8051bf58-7094-4f07-bbb5-5af5329ce057\",\"type\":\"LinearScale\"},\"y_range\":{\"id\":\"152dffe2-401c-4003-8522-ebb72436ef16\",\"type\":\"DataRange1d\"},\"y_scale\":{\"id\":\"43b92fc3-fcec-40ae-8c85-a2bfc6a193ca\",\"type\":\"LinearScale\"}},\"id\":\"1fc7879c-ca34-450f-84b3-d1c8aa36f4c8\",\"subtype\":\"Figure\",\"type\":\"Plot\"},{\"attributes\":{\"formatter\":{\"id\":\"240e67f1-2cce-4b7b-aab0-60ba826af715\",\"type\":\"BasicTickFormatter\"},\"plot\":{\"id\":\"1fc7879c-ca34-450f-84b3-d1c8aa36f4c8\",\"subtype\":\"Figure\",\"type\":\"Plot\"},\"ticker\":{\"id\":\"8fd6ed1c-6e54-49ea-9ca8-81bf81793467\",\"type\":\"BasicTicker\"}},\"id\":\"15452f31-2411-481a-a7e5-418836cde9f4\",\"type\":\"LinearAxis\"},{\"attributes\":{},\"id\":\"8051bf58-7094-4f07-bbb5-5af5329ce057\",\"type\":\"LinearScale\"},{\"attributes\":{},\"id\":\"900c07b3-0b1f-401b-9194-2c71d57947f0\",\"type\":\"BasicTickFormatter\"},{\"attributes\":{\"fill_alpha\":{\"value\":0.1},\"fill_color\":{\"value\":\"#1f77b4\"},\"line_alpha\":{\"value\":0.1},\"line_color\":{\"value\":\"#1f77b4\"},\"size\":{\"units\":\"screen\",\"value\":2},\"x\":{\"field\":\"x\"},\"y\":{\"field\":\"y\"}},\"id\":\"db7268a9-5e88-4a3d-a812-0b3fafa0fca1\",\"type\":\"Circle\"},{\"attributes\":{\"active_drag\":\"auto\",\"active_inspect\":\"auto\",\"active_scroll\":\"auto\",\"active_tap\":\"auto\",\"tools\":[{\"id\":\"7f4ef773-90cb-4de8-9018-c76a112f1fad\",\"type\":\"PanTool\"},{\"id\":\"4a3eb283-e95c-46c9-8582-dcae13759ce5\",\"type\":\"WheelZoomTool\"},{\"id\":\"f7f3bd4a-7911-4714-b6bd-a0726f165263\",\"type\":\"BoxZoomTool\"},{\"id\":\"d77d5226-f8ed-4234-a26e-ae7278cfb1b1\",\"type\":\"SaveTool\"},{\"id\":\"9e153ea5-dc52-4364-9ec8-e4f5e0fcb0be\",\"type\":\"ResetTool\"},{\"id\":\"c124259e-8c99-436e-832c-bfcd4af6cfb8\",\"type\":\"HelpTool\"}]},\"id\":\"e3a5317d-e076-4e10-83bf-7e542ae5fedb\",\"type\":\"Toolbar\"},{\"attributes\":{},\"id\":\"d77d5226-f8ed-4234-a26e-ae7278cfb1b1\",\"type\":\"SaveTool\"},{\"attributes\":{\"fill_alpha\":{\"value\":0.5},\"fill_color\":{\"value\":\"navy\"},\"line_alpha\":{\"value\":0.5},\"line_color\":{\"value\":\"navy\"},\"size\":{\"units\":\"screen\",\"value\":2},\"x\":{\"field\":\"x\"},\"y\":{\"field\":\"y\"}},\"id\":\"5564a707-b233-4140-a9bd-4a6651796b99\",\"type\":\"Circle\"},{\"attributes\":{},\"id\":\"43b92fc3-fcec-40ae-8c85-a2bfc6a193ca\",\"type\":\"LinearScale\"},{\"attributes\":{\"dimension\":1,\"plot\":{\"id\":\"1fc7879c-ca34-450f-84b3-d1c8aa36f4c8\",\"subtype\":\"Figure\",\"type\":\"Plot\"},\"ticker\":{\"id\":\"8fd6ed1c-6e54-49ea-9ca8-81bf81793467\",\"type\":\"BasicTicker\"}},\"id\":\"9dfda85a-68db-4a2d-865c-afa6e5bcd520\",\"type\":\"Grid\"},{\"attributes\":{\"callback\":null,\"column_names\":[\"y\",\"x\"],\"data\":{\"x\":{\"__ndarray__\":\"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\",\"dtype\":\"float64\",\"shape\":[200]},\"y\":{\"__ndarray__\":\"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\",\"dtype\":\"float64\",\"shape\":[200]}}},\"id\":\"d89c9b9b-5384-4266-ab47-7ec4a3382a6a\",\"type\":\"ColumnDataSource\"},{\"attributes\":{},\"id\":\"8fd6ed1c-6e54-49ea-9ca8-81bf81793467\",\"type\":\"BasicTicker\"},{\"attributes\":{\"data_source\":{\"id\":\"d89c9b9b-5384-4266-ab47-7ec4a3382a6a\",\"type\":\"ColumnDataSource\"},\"glyph\":{\"id\":\"5564a707-b233-4140-a9bd-4a6651796b99\",\"type\":\"Circle\"},\"hover_glyph\":null,\"muted_glyph\":null,\"nonselection_glyph\":{\"id\":\"db7268a9-5e88-4a3d-a812-0b3fafa0fca1\",\"type\":\"Circle\"},\"selection_glyph\":null,\"view\":{\"id\":\"39c2d5f9-fd44-4f03-ac42-5252824dcaa6\",\"type\":\"CDSView\"}},\"id\":\"0771475c-3c7c-4272-8339-0f71b312e549\",\"type\":\"GlyphRenderer\"},{\"attributes\":{\"bottom_units\":\"screen\",\"fill_alpha\":{\"value\":0.5},\"fill_color\":{\"value\":\"lightgrey\"},\"left_units\":\"screen\",\"level\":\"overlay\",\"line_alpha\":{\"value\":1.0},\"line_color\":{\"value\":\"black\"},\"line_dash\":[4,4],\"line_width\":{\"value\":2},\"plot\":null,\"render_mode\":\"css\",\"right_units\":\"screen\",\"top_units\":\"screen\"},\"id\":\"1973b794-93c3-4234-a9be-5e3f402674e7\",\"type\":\"BoxAnnotation\"},{\"attributes\":{\"formatter\":{\"id\":\"900c07b3-0b1f-401b-9194-2c71d57947f0\",\"type\":\"BasicTickFormatter\"},\"plot\":{\"id\":\"1fc7879c-ca34-450f-84b3-d1c8aa36f4c8\",\"subtype\":\"Figure\",\"type\":\"Plot\"},\"ticker\":{\"id\":\"5e89a03b-c926-4df6-bf42-be060ef86beb\",\"type\":\"BasicTicker\"}},\"id\":\"e8255d1d-0c44-4251-89aa-9897cff97a86\",\"type\":\"LinearAxis\"},{\"attributes\":{\"plot\":null,\"text\":\"\"},\"id\":\"a886cd2d-9659-49b5-84d2-80d89abe40d9\",\"type\":\"Title\"}],\"root_ids\":[\"1fc7879c-ca34-450f-84b3-d1c8aa36f4c8\"]},\"title\":\"Bokeh Application\",\"version\":\"0.12.13\"}};\n",
       "  var render_items = [{\"docid\":\"aa1a732b-cc1d-458d-b407-e4e1866b4728\",\"elementid\":\"1f376632-7e1e-4b9c-b424-2b77ea22065e\",\"modelid\":\"1fc7879c-ca34-450f-84b3-d1c8aa36f4c8\"}];\n",
       "  root.Bokeh.embed.embed_items_notebook(docs_json, render_items);\n",
       "\n",
       "  }\n",
       "  if (root.Bokeh !== undefined) {\n",
       "    embed_document(root);\n",
       "  } else {\n",
       "    var attempts = 0;\n",
       "    var timer = setInterval(function(root) {\n",
       "      if (root.Bokeh !== undefined) {\n",
       "        embed_document(root);\n",
       "        clearInterval(timer);\n",
       "      }\n",
       "      attempts++;\n",
       "      if (attempts > 100) {\n",
       "        console.log(\"Bokeh: ERROR: Unable to run BokehJS code because BokehJS library is missing\")\n",
       "        clearInterval(timer);\n",
       "      }\n",
       "    }, 10, root)\n",
       "  }\n",
       "})(window);"
      ],
      "application/vnd.bokehjs_exec.v0+json": ""
     },
     "metadata": {
      "application/vnd.bokehjs_exec.v0+json": {
       "id": "1fc7879c-ca34-450f-84b3-d1c8aa36f4c8"
      }
     },
     "output_type": "display_data"
    }
   ],
   "source": [
    "raro =np.dot(X, V)\n",
    "\n",
    "p6 = figure(plot_width=400, plot_height=400,match_aspect=True)\n",
    "\n",
    "# add a circle renderer with a size, color, and alpha\n",
    "p6.circle(raro[:,0],raro[:,1] ,size=2, color=\"navy\", alpha=0.5)\n",
    "\n",
    "# show the results\n",
    "show(p6)"
   ]
  },
  {
   "cell_type": "markdown",
   "metadata": {},
   "source": [
    "We reconstruct A in onyl one dimension. So best k apprxomation. We plot the reconstruct A in green."
   ]
  },
  {
   "cell_type": "code",
   "execution_count": 17,
   "metadata": {},
   "outputs": [
    {
     "data": {
      "text/html": [
       "\n",
       "<div class=\"bk-root\">\n",
       "    <div class=\"bk-plotdiv\" id=\"36006fbe-9b58-4888-a6a6-a17c99a54802\"></div>\n",
       "</div>"
      ]
     },
     "metadata": {},
     "output_type": "display_data"
    },
    {
     "data": {
      "application/javascript": [
       "(function(root) {\n",
       "  function embed_document(root) {\n",
       "    \n",
       "  var docs_json = {\"5ab86585-79e5-4402-a638-484c789febd9\":{\"roots\":{\"references\":[{\"attributes\":{\"fill_alpha\":{\"value\":0.5},\"fill_color\":{\"value\":\"navy\"},\"line_alpha\":{\"value\":0.5},\"line_color\":{\"value\":\"navy\"},\"size\":{\"units\":\"screen\",\"value\":2},\"x\":{\"field\":\"x\"},\"y\":{\"field\":\"y\"}},\"id\":\"710ae73e-4b79-480d-ae23-39cc140cbff7\",\"type\":\"Circle\"},{\"attributes\":{\"callback\":null,\"column_names\":[\"y\",\"x\"],\"data\":{\"x\":{\"__ndarray__\":\"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\",\"dtype\":\"float64\",\"shape\":[200]},\"y\":{\"__ndarray__\":\"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\",\"dtype\":\"float64\",\"shape\":[200]}}},\"id\":\"79b619e2-4bbc-4371-9af3-e9987965c1cc\",\"type\":\"ColumnDataSource\"},{\"attributes\":{},\"id\":\"0049b5a0-87d7-4472-9fe3-1d0aa849150d\",\"type\":\"SaveTool\"},{\"attributes\":{\"formatter\":{\"id\":\"8b2963af-0946-4026-bd6f-d021f7cf4756\",\"type\":\"BasicTickFormatter\"},\"plot\":{\"id\":\"a6893139-c556-4088-8970-af8bb816731d\",\"subtype\":\"Figure\",\"type\":\"Plot\"},\"ticker\":{\"id\":\"a417ac9d-70cf-431e-ba39-669a26dcb066\",\"type\":\"BasicTicker\"}},\"id\":\"86fcafcb-4f6b-49b4-ac1b-7f1d26f7e5c5\",\"type\":\"LinearAxis\"},{\"attributes\":{\"end\":{\"id\":\"a6ca395a-4a57-4344-a64a-21432526d7cb\",\"type\":\"OpenHead\"},\"line_color\":{\"value\":\"red\"},\"line_width\":{\"value\":6},\"plot\":{\"id\":\"a6893139-c556-4088-8970-af8bb816731d\",\"subtype\":\"Figure\",\"type\":\"Plot\"},\"source\":null,\"start\":null,\"x_end\":{\"value\":0.01568609421366608},\"x_start\":{\"value\":0},\"y_end\":{\"value\":-0.04516985378423058},\"y_start\":{\"value\":0}},\"id\":\"3581c74e-f0b4-4426-9d94-fbcaadbdced5\",\"type\":\"Arrow\"},{\"attributes\":{\"fill_alpha\":{\"value\":0.1},\"fill_color\":{\"value\":\"#1f77b4\"},\"line_alpha\":{\"value\":0.1},\"line_color\":{\"value\":\"#1f77b4\"},\"size\":{\"units\":\"screen\",\"value\":2},\"x\":{\"field\":\"x\"},\"y\":{\"field\":\"y\"}},\"id\":\"e47c0324-d8a7-45fe-9f58-2bafc6b4ffce\",\"type\":\"Circle\"},{\"attributes\":{\"line_color\":{\"value\":\"firebrick\"},\"line_width\":{\"value\":2},\"plot\":null},\"id\":\"3dcb9c25-94cd-4a42-8b0e-69a73a9dfa58\",\"type\":\"OpenHead\"},{\"attributes\":{\"callback\":null,\"column_names\":[\"y\",\"x\"],\"data\":{\"x\":{\"__ndarray__\":\"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\",\"dtype\":\"float64\",\"shape\":[200]},\"y\":{\"__ndarray__\":\"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\",\"dtype\":\"float64\",\"shape\":[200]}}},\"id\":\"dc53c7d9-81ce-4f19-97af-a2a4df47a97b\",\"type\":\"ColumnDataSource\"},{\"attributes\":{},\"id\":\"3301f9a5-f8f9-492a-8fbd-018031fe4194\",\"type\":\"BasicTicker\"},{\"attributes\":{\"plot\":null,\"text\":\"\"},\"id\":\"82ee4ea0-319e-42cd-9242-8a0abeae2745\",\"type\":\"Title\"},{\"attributes\":{\"source\":{\"id\":\"dc53c7d9-81ce-4f19-97af-a2a4df47a97b\",\"type\":\"ColumnDataSource\"}},\"id\":\"9bb73c29-1fc5-4c40-990f-2b8a8ab722d4\",\"type\":\"CDSView\"},{\"attributes\":{},\"id\":\"f8051662-7d43-487a-8623-93522492ca1a\",\"type\":\"ResetTool\"},{\"attributes\":{\"below\":[{\"id\":\"86fcafcb-4f6b-49b4-ac1b-7f1d26f7e5c5\",\"type\":\"LinearAxis\"}],\"left\":[{\"id\":\"9adb8a82-5eb4-4c64-a2ef-a7bc3a19e620\",\"type\":\"LinearAxis\"}],\"match_aspect\":true,\"plot_height\":400,\"plot_width\":400,\"renderers\":[{\"id\":\"86fcafcb-4f6b-49b4-ac1b-7f1d26f7e5c5\",\"type\":\"LinearAxis\"},{\"id\":\"b706b3b3-1163-4610-81d5-3e993f2f0280\",\"type\":\"Grid\"},{\"id\":\"9adb8a82-5eb4-4c64-a2ef-a7bc3a19e620\",\"type\":\"LinearAxis\"},{\"id\":\"2b9358f9-9adc-45a7-a206-a544d04e4449\",\"type\":\"Grid\"},{\"id\":\"06de1e00-c655-4ca1-9255-54d177f6f7ec\",\"type\":\"BoxAnnotation\"},{\"id\":\"1d790223-9a7a-4847-9efe-cfa9c4cc306d\",\"type\":\"GlyphRenderer\"},{\"id\":\"45e4909f-1006-41fa-aa83-456217d98951\",\"type\":\"Arrow\"},{\"id\":\"3581c74e-f0b4-4426-9d94-fbcaadbdced5\",\"type\":\"Arrow\"},{\"id\":\"3e3011d6-d88f-423a-a935-b5997ae85276\",\"type\":\"GlyphRenderer\"}],\"title\":{\"id\":\"82ee4ea0-319e-42cd-9242-8a0abeae2745\",\"type\":\"Title\"},\"toolbar\":{\"id\":\"9d88e3d3-e13f-4b3b-97af-fd756a02b5a4\",\"type\":\"Toolbar\"},\"x_range\":{\"id\":\"3ac85635-c8a4-4747-a1ab-0158db24e587\",\"type\":\"DataRange1d\"},\"x_scale\":{\"id\":\"3c0e3db8-f4fd-48a6-983d-5f30e9b27eb9\",\"type\":\"LinearScale\"},\"y_range\":{\"id\":\"e3f2afed-29ff-42fb-a340-dc9a00d09d33\",\"type\":\"DataRange1d\"},\"y_scale\":{\"id\":\"b98e6deb-8101-486f-855a-5f5c61caff3c\",\"type\":\"LinearScale\"}},\"id\":\"a6893139-c556-4088-8970-af8bb816731d\",\"subtype\":\"Figure\",\"type\":\"Plot\"},{\"attributes\":{\"fill_color\":{\"value\":\"green\"},\"line_color\":{\"value\":\"green\"},\"size\":{\"units\":\"screen\",\"value\":2},\"x\":{\"field\":\"x\"},\"y\":{\"field\":\"y\"}},\"id\":\"3e80736f-4cfb-456a-9bfc-ecff7b09e392\",\"type\":\"Circle\"},{\"attributes\":{\"callback\":null},\"id\":\"3ac85635-c8a4-4747-a1ab-0158db24e587\",\"type\":\"DataRange1d\"},{\"attributes\":{\"callback\":null},\"id\":\"e3f2afed-29ff-42fb-a340-dc9a00d09d33\",\"type\":\"DataRange1d\"},{\"attributes\":{\"data_source\":{\"id\":\"79b619e2-4bbc-4371-9af3-e9987965c1cc\",\"type\":\"ColumnDataSource\"},\"glyph\":{\"id\":\"3e80736f-4cfb-456a-9bfc-ecff7b09e392\",\"type\":\"Circle\"},\"hover_glyph\":null,\"muted_glyph\":null,\"nonselection_glyph\":{\"id\":\"e47c0324-d8a7-45fe-9f58-2bafc6b4ffce\",\"type\":\"Circle\"},\"selection_glyph\":null,\"view\":{\"id\":\"f1bf8163-a98e-4fa4-b8ce-5595d73fcb9e\",\"type\":\"CDSView\"}},\"id\":\"3e3011d6-d88f-423a-a935-b5997ae85276\",\"type\":\"GlyphRenderer\"},{\"attributes\":{\"plot\":{\"id\":\"a6893139-c556-4088-8970-af8bb816731d\",\"subtype\":\"Figure\",\"type\":\"Plot\"},\"ticker\":{\"id\":\"a417ac9d-70cf-431e-ba39-669a26dcb066\",\"type\":\"BasicTicker\"}},\"id\":\"b706b3b3-1163-4610-81d5-3e993f2f0280\",\"type\":\"Grid\"},{\"attributes\":{\"end\":{\"id\":\"3dcb9c25-94cd-4a42-8b0e-69a73a9dfa58\",\"type\":\"OpenHead\"},\"line_color\":{\"value\":\"red\"},\"plot\":{\"id\":\"a6893139-c556-4088-8970-af8bb816731d\",\"subtype\":\"Figure\",\"type\":\"Plot\"},\"source\":null,\"start\":null,\"x_end\":{\"value\":1.8441500326031626},\"x_start\":{\"value\":0},\"y_end\":{\"value\":0.6404163115898234},\"y_start\":{\"value\":0}},\"id\":\"45e4909f-1006-41fa-aa83-456217d98951\",\"type\":\"Arrow\"},{\"attributes\":{},\"id\":\"e80c0ba6-62fc-474d-9299-c9064e95dfda\",\"type\":\"HelpTool\"},{\"attributes\":{},\"id\":\"8b2963af-0946-4026-bd6f-d021f7cf4756\",\"type\":\"BasicTickFormatter\"},{\"attributes\":{},\"id\":\"b98e6deb-8101-486f-855a-5f5c61caff3c\",\"type\":\"LinearScale\"},{\"attributes\":{},\"id\":\"2291c9fe-cd82-44a7-a11c-0b7fc1061f01\",\"type\":\"WheelZoomTool\"},{\"attributes\":{\"source\":{\"id\":\"79b619e2-4bbc-4371-9af3-e9987965c1cc\",\"type\":\"ColumnDataSource\"}},\"id\":\"f1bf8163-a98e-4fa4-b8ce-5595d73fcb9e\",\"type\":\"CDSView\"},{\"attributes\":{\"dimension\":1,\"plot\":{\"id\":\"a6893139-c556-4088-8970-af8bb816731d\",\"subtype\":\"Figure\",\"type\":\"Plot\"},\"ticker\":{\"id\":\"3301f9a5-f8f9-492a-8fbd-018031fe4194\",\"type\":\"BasicTicker\"}},\"id\":\"2b9358f9-9adc-45a7-a206-a544d04e4449\",\"type\":\"Grid\"},{\"attributes\":{\"fill_alpha\":{\"value\":0.1},\"fill_color\":{\"value\":\"#1f77b4\"},\"line_alpha\":{\"value\":0.1},\"line_color\":{\"value\":\"#1f77b4\"},\"size\":{\"units\":\"screen\",\"value\":2},\"x\":{\"field\":\"x\"},\"y\":{\"field\":\"y\"}},\"id\":\"dd4eec00-75ee-4247-a904-562f56a33839\",\"type\":\"Circle\"},{\"attributes\":{\"active_drag\":\"auto\",\"active_inspect\":\"auto\",\"active_scroll\":\"auto\",\"active_tap\":\"auto\",\"tools\":[{\"id\":\"ac72fbb8-a904-473d-8b63-50fffde8124f\",\"type\":\"PanTool\"},{\"id\":\"2291c9fe-cd82-44a7-a11c-0b7fc1061f01\",\"type\":\"WheelZoomTool\"},{\"id\":\"43b9b0d3-fd1a-4be6-9817-e6008ddc2d3a\",\"type\":\"BoxZoomTool\"},{\"id\":\"0049b5a0-87d7-4472-9fe3-1d0aa849150d\",\"type\":\"SaveTool\"},{\"id\":\"f8051662-7d43-487a-8623-93522492ca1a\",\"type\":\"ResetTool\"},{\"id\":\"e80c0ba6-62fc-474d-9299-c9064e95dfda\",\"type\":\"HelpTool\"}]},\"id\":\"9d88e3d3-e13f-4b3b-97af-fd756a02b5a4\",\"type\":\"Toolbar\"},{\"attributes\":{\"overlay\":{\"id\":\"06de1e00-c655-4ca1-9255-54d177f6f7ec\",\"type\":\"BoxAnnotation\"}},\"id\":\"43b9b0d3-fd1a-4be6-9817-e6008ddc2d3a\",\"type\":\"BoxZoomTool\"},{\"attributes\":{},\"id\":\"3c0e3db8-f4fd-48a6-983d-5f30e9b27eb9\",\"type\":\"LinearScale\"},{\"attributes\":{\"data_source\":{\"id\":\"dc53c7d9-81ce-4f19-97af-a2a4df47a97b\",\"type\":\"ColumnDataSource\"},\"glyph\":{\"id\":\"710ae73e-4b79-480d-ae23-39cc140cbff7\",\"type\":\"Circle\"},\"hover_glyph\":null,\"muted_glyph\":null,\"nonselection_glyph\":{\"id\":\"dd4eec00-75ee-4247-a904-562f56a33839\",\"type\":\"Circle\"},\"selection_glyph\":null,\"view\":{\"id\":\"9bb73c29-1fc5-4c40-990f-2b8a8ab722d4\",\"type\":\"CDSView\"}},\"id\":\"1d790223-9a7a-4847-9efe-cfa9c4cc306d\",\"type\":\"GlyphRenderer\"},{\"attributes\":{},\"id\":\"7188696b-a814-44e9-8856-e5906aaf50a4\",\"type\":\"BasicTickFormatter\"},{\"attributes\":{\"line_color\":{\"value\":\"firebrick\"},\"plot\":null},\"id\":\"a6ca395a-4a57-4344-a64a-21432526d7cb\",\"type\":\"OpenHead\"},{\"attributes\":{},\"id\":\"a417ac9d-70cf-431e-ba39-669a26dcb066\",\"type\":\"BasicTicker\"},{\"attributes\":{},\"id\":\"ac72fbb8-a904-473d-8b63-50fffde8124f\",\"type\":\"PanTool\"},{\"attributes\":{\"formatter\":{\"id\":\"7188696b-a814-44e9-8856-e5906aaf50a4\",\"type\":\"BasicTickFormatter\"},\"plot\":{\"id\":\"a6893139-c556-4088-8970-af8bb816731d\",\"subtype\":\"Figure\",\"type\":\"Plot\"},\"ticker\":{\"id\":\"3301f9a5-f8f9-492a-8fbd-018031fe4194\",\"type\":\"BasicTicker\"}},\"id\":\"9adb8a82-5eb4-4c64-a2ef-a7bc3a19e620\",\"type\":\"LinearAxis\"},{\"attributes\":{\"bottom_units\":\"screen\",\"fill_alpha\":{\"value\":0.5},\"fill_color\":{\"value\":\"lightgrey\"},\"left_units\":\"screen\",\"level\":\"overlay\",\"line_alpha\":{\"value\":1.0},\"line_color\":{\"value\":\"black\"},\"line_dash\":[4,4],\"line_width\":{\"value\":2},\"plot\":null,\"render_mode\":\"css\",\"right_units\":\"screen\",\"top_units\":\"screen\"},\"id\":\"06de1e00-c655-4ca1-9255-54d177f6f7ec\",\"type\":\"BoxAnnotation\"}],\"root_ids\":[\"a6893139-c556-4088-8970-af8bb816731d\"]},\"title\":\"Bokeh Application\",\"version\":\"0.12.13\"}};\n",
       "  var render_items = [{\"docid\":\"5ab86585-79e5-4402-a638-484c789febd9\",\"elementid\":\"36006fbe-9b58-4888-a6a6-a17c99a54802\",\"modelid\":\"a6893139-c556-4088-8970-af8bb816731d\"}];\n",
       "  root.Bokeh.embed.embed_items_notebook(docs_json, render_items);\n",
       "\n",
       "  }\n",
       "  if (root.Bokeh !== undefined) {\n",
       "    embed_document(root);\n",
       "  } else {\n",
       "    var attempts = 0;\n",
       "    var timer = setInterval(function(root) {\n",
       "      if (root.Bokeh !== undefined) {\n",
       "        embed_document(root);\n",
       "        clearInterval(timer);\n",
       "      }\n",
       "      attempts++;\n",
       "      if (attempts > 100) {\n",
       "        console.log(\"Bokeh: ERROR: Unable to run BokehJS code because BokehJS library is missing\")\n",
       "        clearInterval(timer);\n",
       "      }\n",
       "    }, 10, root)\n",
       "  }\n",
       "})(window);"
      ],
      "application/vnd.bokehjs_exec.v0+json": ""
     },
     "metadata": {
      "application/vnd.bokehjs_exec.v0+json": {
       "id": "a6893139-c556-4088-8970-af8bb816731d"
      }
     },
     "output_type": "display_data"
    }
   ],
   "source": [
    "dim = 1\n",
    "Unew = U[:,0:dim]\n",
    "Dnew= D[0:dim]\n",
    "Vtranspose_new = Vtranspose[0:dim,:]\n",
    "\n",
    "Ddiagonalnew = np.diag(Dnew)\n",
    "\n",
    "Anew = np.dot(Unew.dot(Ddiagonalnew) , Vtranspose_new)\n",
    "\n",
    "\n",
    "#p4 = figure(plot_width=400, plot_height=400,match_aspect=True)\n",
    "\n",
    "# add a circle renderer with a size, color, and alpha\n",
    "p.circle(Anew[:,0],Anew[:,1] ,size=2, color=\"green\", alpha=1.)\n",
    "\n",
    "# show the results\n",
    "show(p)"
   ]
  },
  {
   "cell_type": "markdown",
   "metadata": {},
   "source": [
    "# other example"
   ]
  },
  {
   "cell_type": "code",
   "execution_count": 18,
   "metadata": {},
   "outputs": [
    {
     "name": "stdout",
     "output_type": "stream",
     "text": [
      "[[  1.   2.   5.   6.]\n",
      " [  2.   3.   7.   8.]\n",
      " [  6.   7.   9.  50.]]\n",
      "Shape of matrix: (3, 4)\n"
     ]
    }
   ],
   "source": [
    "import numpy as np\n",
    "matrix = np.array([ [1,2,5,6], [2,3,7,8],[6,7,9,50]],dtype='d')\n",
    "\n",
    "#Transpose\n",
    "#matrix = matrix.T\n",
    "\n",
    "print(matrix)\n",
    "print('Shape of matrix: {}'.format(matrix.shape))"
   ]
  },
  {
   "cell_type": "markdown",
   "metadata": {},
   "source": [
    "We can decompose using the [numpy SVD](https://docs.scipy.org/doc/numpy/reference/generated/numpy.linalg.svd.html) function:"
   ]
  },
  {
   "cell_type": "code",
   "execution_count": 19,
   "metadata": {},
   "outputs": [],
   "source": [
    "U, D, Vtranspose = np.linalg.svd(matrix,full_matrices=False)"
   ]
  },
  {
   "cell_type": "markdown",
   "metadata": {},
   "source": [
    "The *full_matrices=False* ensures that the convection stated above is followed. Let's look at the shapes of U, D and V tranpose. "
   ]
  },
  {
   "cell_type": "code",
   "execution_count": 20,
   "metadata": {},
   "outputs": [
    {
     "name": "stdout",
     "output_type": "stream",
     "text": [
      "Shape of U: (3, 3)\n",
      "Shape of V Transpose: (3, 4)\n",
      "Shape of D: (3,)\n"
     ]
    }
   ],
   "source": [
    "print('Shape of U: {}'.format(U.shape))\n",
    "print('Shape of V Transpose: {}'.format(Vtranspose.shape))\n",
    "print('Shape of D: {}'.format(D.shape))"
   ]
  },
  {
   "cell_type": "markdown",
   "metadata": {},
   "source": [
    "So D only return the list of the singular values, so we have to construct the diagonal matrix with *np.diag()*. Let's reconstructe the matrix via multiplication. "
   ]
  },
  {
   "cell_type": "code",
   "execution_count": 21,
   "metadata": {},
   "outputs": [
    {
     "data": {
      "text/plain": [
       "array([[  1.,   2.,   5.,   6.],\n",
       "       [  2.,   3.,   7.,   8.],\n",
       "       [  6.,   7.,   9.,  50.]])"
      ]
     },
     "execution_count": 21,
     "metadata": {},
     "output_type": "execute_result"
    }
   ],
   "source": [
    "Ddiagonal = np.diag(D)\n",
    "np.dot(U.dot(Ddiagonal) , Vtranspose)"
   ]
  },
  {
   "cell_type": "markdown",
   "metadata": {},
   "source": [
    "Remember that the dimensions of the matrices depend on R. We can try to reconstuct the matrix choosing less singular values $n < R$. So for instant lets reconstruct using the first two singular values"
   ]
  },
  {
   "cell_type": "code",
   "execution_count": 22,
   "metadata": {},
   "outputs": [],
   "source": [
    "dim = 2\n",
    "Unew = U[:,0:dim]\n",
    "Dnew= D[0:dim]\n",
    "Vtranspose_new = Vtranspose[0:dim,:]"
   ]
  },
  {
   "cell_type": "code",
   "execution_count": 23,
   "metadata": {},
   "outputs": [
    {
     "name": "stdout",
     "output_type": "stream",
     "text": [
      "Shape of new U: (3, 2)\n",
      "Shape of new V Transpose: (2, 4)\n",
      "Shape of new D: (2,)\n"
     ]
    }
   ],
   "source": [
    "print('Shape of new U: {}'.format(Unew.shape))\n",
    "print('Shape of new V Transpose: {}'.format(Vtranspose_new.shape))\n",
    "print('Shape of new D: {}'.format(Dnew.shape))"
   ]
  },
  {
   "cell_type": "markdown",
   "metadata": {},
   "source": [
    "Lets reconstruct the matrix"
   ]
  },
  {
   "cell_type": "code",
   "execution_count": 24,
   "metadata": {},
   "outputs": [
    {
     "data": {
      "text/plain": [
       "array([[  1.29139716,   2.0855279 ,   4.92872996,   5.96590467],\n",
       "       [  1.79958314,   2.9411757 ,   7.04901804,   8.02345005],\n",
       "       [  5.99739176,   6.99923445,   9.00063793,  50.00030518]])"
      ]
     },
     "execution_count": 24,
     "metadata": {},
     "output_type": "execute_result"
    }
   ],
   "source": [
    "Ddiagonalnew = np.diag(Dnew)\n",
    "np.dot(Unew.dot(Ddiagonalnew) , Vtranspose_new)"
   ]
  },
  {
   "cell_type": "markdown",
   "metadata": {},
   "source": [
    "We see it is not exact put a good approximation since the highest singular values account for much of the variation. "
   ]
  },
  {
   "cell_type": "markdown",
   "metadata": {},
   "source": [
    "# SVD with Scikit-learn\n",
    "\n",
    "The same can be achieved using [Truncated SVD](http://scikit-learn.org/stable/modules/generated/sklearn.decomposition.TruncatedSVD.html) from the scikitlearn package.\n",
    "\n",
    "\n",
    "We defined the dimeinsion and for the algoritm we use arpack to make scikit-learn call the scipy solver for SVD. "
   ]
  },
  {
   "cell_type": "code",
   "execution_count": 25,
   "metadata": {},
   "outputs": [],
   "source": [
    "from sklearn.decomposition import TruncatedSVD\n",
    "sklearn_svd = TruncatedSVD(n_components=2,algorithm='arpack')\n",
    "svdfit = sklearn_svd.fit(matrix)"
   ]
  },
  {
   "cell_type": "code",
   "execution_count": 26,
   "metadata": {},
   "outputs": [
    {
     "name": "stdout",
     "output_type": "stream",
     "text": [
      "First two singular values the matrix: [ 53.01701453   6.85938137]\n"
     ]
    }
   ],
   "source": [
    "singularvalues = svdfit.singular_values_\n",
    "print('First two singular values the matrix: {}'.format(singularvalues))"
   ]
  },
  {
   "cell_type": "markdown",
   "metadata": {},
   "source": [
    "We see that the fit model has a lot of attributes. For example the .components gives you the V transpose matrix up to a sign.\n",
    "\n",
    "> SVD suffers from a problem called “sign indeterminancy”, which means the sign of the components_ and the output from transform depend on the algorithm and random state. To work around this, fit instances of this class to data once, then keep the instance around to do transformations.\n",
    "\n",
    "\n",
    "One also useful information is the *explained_variance_ratio_ *. This represents the **percentage of variance explained by each of the selected components.**\n"
   ]
  },
  {
   "cell_type": "code",
   "execution_count": 27,
   "metadata": {},
   "outputs": [
    {
     "name": "stdout",
     "output_type": "stream",
     "text": [
      "[[ 0.11968113  0.14407797  0.20238613  0.96122725]\n",
      " [ 0.11424978  0.27818971  0.92043332 -0.24971981]]\n"
     ]
    },
    {
     "data": {
      "text/plain": [
       "array([[-0.11968113, -0.14407797, -0.20238613, -0.96122725],\n",
       "       [-0.11424978, -0.27818971, -0.92043332,  0.24971981]])"
      ]
     },
     "execution_count": 27,
     "metadata": {},
     "output_type": "execute_result"
    }
   ],
   "source": [
    "print(svdfit.components_)\n",
    "Vtranspose[0:2]"
   ]
  },
  {
   "cell_type": "code",
   "execution_count": 28,
   "metadata": {},
   "outputs": [
    {
     "name": "stdout",
     "output_type": "stream",
     "text": [
      "[ 0.97846786  0.02142035]\n"
     ]
    }
   ],
   "source": [
    "print(svdfit.explained_variance_ratio_)"
   ]
  },
  {
   "cell_type": "markdown",
   "metadata": {},
   "source": [
    "So the first component explain much of the variance of the data. "
   ]
  },
  {
   "cell_type": "markdown",
   "metadata": {},
   "source": [
    "There is also the mathod transform. This actually returns $U \\times D$:"
   ]
  },
  {
   "cell_type": "code",
   "execution_count": 29,
   "metadata": {},
   "outputs": [
    {
     "data": {
      "text/plain": [
       "array([[  7.1871312 ,   3.77447691],\n",
       "       [  9.77811705,   5.50834341],\n",
       "       [ 51.60947008,  -1.56926408]])"
      ]
     },
     "execution_count": 29,
     "metadata": {},
     "output_type": "execute_result"
    }
   ],
   "source": [
    "matrix_svd = svdfit.transform(matrix)\n",
    "matrix_svd"
   ]
  },
  {
   "cell_type": "code",
   "execution_count": 30,
   "metadata": {},
   "outputs": [
    {
     "data": {
      "text/plain": [
       "array([[ -7.1871312 ,  -3.77447691],\n",
       "       [ -9.77811705,  -5.50834341],\n",
       "       [-51.60947008,   1.56926408]])"
      ]
     },
     "execution_count": 30,
     "metadata": {},
     "output_type": "execute_result"
    }
   ],
   "source": [
    "Unew.dot(Ddiagonalnew)"
   ]
  },
  {
   "cell_type": "code",
   "execution_count": 31,
   "metadata": {
    "scrolled": false
   },
   "outputs": [
    {
     "data": {
      "text/plain": [
       "array([[-0.13556273, -0.55026492],\n",
       "       [-0.18443357, -0.80303793],\n",
       "       [-0.97345108,  0.22877633]])"
      ]
     },
     "execution_count": 31,
     "metadata": {},
     "output_type": "execute_result"
    }
   ],
   "source": [
    "Unew"
   ]
  },
  {
   "cell_type": "markdown",
   "metadata": {},
   "source": [
    "Where again the columns of U are called the **left-singular vectors**. In theory we can now plot this two as the first two principal components."
   ]
  },
  {
   "cell_type": "markdown",
   "metadata": {},
   "source": [
    "We multiply times V transpose and restore the approximation of the matrix:"
   ]
  },
  {
   "cell_type": "code",
   "execution_count": 32,
   "metadata": {},
   "outputs": [
    {
     "data": {
      "text/plain": [
       "array([[  1.29139716,   2.0855279 ,   4.92872996,   5.96590467],\n",
       "       [  1.79958314,   2.9411757 ,   7.04901804,   8.02345005],\n",
       "       [  5.99739176,   6.99923445,   9.00063793,  50.00030518]])"
      ]
     },
     "execution_count": 32,
     "metadata": {},
     "output_type": "execute_result"
    }
   ],
   "source": [
    "np.dot(matrix_svd , svdfit.components_)"
   ]
  },
  {
   "cell_type": "code",
   "execution_count": 33,
   "metadata": {},
   "outputs": [
    {
     "data": {
      "text/plain": [
       "array([[  1.,   2.,   5.,   6.],\n",
       "       [  2.,   3.,   7.,   8.],\n",
       "       [  6.,   7.,   9.,  50.]])"
      ]
     },
     "execution_count": 33,
     "metadata": {},
     "output_type": "execute_result"
    }
   ],
   "source": [
    "matrix"
   ]
  },
  {
   "cell_type": "markdown",
   "metadata": {},
   "source": [
    "# Principal Value Decomposition and PCA\n",
    "\n",
    "Let's see how this two method compare to each other. In summary:\n",
    "\n",
    "1. The *right-singular vectors* V correspond to the principal components R.\n",
    "2. The diagonal matrix of eigenvalues $C_y$ is equivalent of the singular values square. \n",
    "3. The left singular vectors, U, turn out to be the eigenvectors of the correlation matrix, which has eigenvalues identical to those of the covariance matrix. \n",
    "\n",
    "\n",
    "where the columns of $R = V$ are the eigenvectors or principal components, and the diagnoral values of $C_y$ define the amount of variance contained withing eacn component (the eigenvalue of the covariant matrix. "
   ]
  },
  {
   "cell_type": "code",
   "execution_count": 34,
   "metadata": {},
   "outputs": [],
   "source": [
    "from sklearn.decomposition import PCA\n",
    "\n",
    "pca = PCA(n_components=2, svd_solver='arpack')\n",
    "pca.fit(matrix)\n",
    "comp = pca.fit_transform(matrix)"
   ]
  },
  {
   "cell_type": "markdown",
   "metadata": {},
   "source": [
    "Look at the covariance Matrix"
   ]
  },
  {
   "cell_type": "code",
   "execution_count": 35,
   "metadata": {},
   "outputs": [
    {
     "data": {
      "text/plain": [
       "array([[   7.        ,    7.        ,    5.        ,   65.        ],\n",
       "       [   7.        ,    7.        ,    5.        ,   65.        ],\n",
       "       [   5.        ,    5.        ,    4.        ,   44.        ],\n",
       "       [  65.        ,   65.        ,   44.        ,  617.33333333]])"
      ]
     },
     "execution_count": 35,
     "metadata": {},
     "output_type": "execute_result"
    }
   ],
   "source": [
    "pca.get_covariance()"
   ]
  },
  {
   "cell_type": "markdown",
   "metadata": {},
   "source": [
    "From the matrix we can get it as:"
   ]
  },
  {
   "cell_type": "code",
   "execution_count": 36,
   "metadata": {},
   "outputs": [],
   "source": [
    "mean_vec = np.mean(matrix, axis=0)\n",
    "cov = np.dot((matrix - mean_vec).T , (matrix - mean_vec))/(matrix.shape[0]-1)"
   ]
  },
  {
   "cell_type": "markdown",
   "metadata": {},
   "source": [
    "Not sure why .T, but can do it with numpy directly"
   ]
  },
  {
   "cell_type": "code",
   "execution_count": 37,
   "metadata": {},
   "outputs": [
    {
     "data": {
      "text/plain": [
       "array([[   7.        ,    7.        ,    5.        ,   65.        ],\n",
       "       [   7.        ,    7.        ,    5.        ,   65.        ],\n",
       "       [   5.        ,    5.        ,    4.        ,   44.        ],\n",
       "       [  65.        ,   65.        ,   44.        ,  617.33333333]])"
      ]
     },
     "execution_count": 37,
     "metadata": {},
     "output_type": "execute_result"
    }
   ],
   "source": [
    "np.cov(matrix.T)"
   ]
  },
  {
   "cell_type": "markdown",
   "metadata": {},
   "source": [
    "Eigenvectors and values of covariance matrix"
   ]
  },
  {
   "cell_type": "code",
   "execution_count": 38,
   "metadata": {},
   "outputs": [
    {
     "name": "stdout",
     "output_type": "stream",
     "text": [
      "Eigenvectors \n",
      "[[ 0.00463616  0.92966512  0.35339877 -0.10397395]\n",
      " [-0.91886279 -0.14138562  0.35339877 -0.10397395]\n",
      " [ 0.38854632 -0.33501878  0.85546406 -0.07053657]\n",
      " [ 0.068567   -0.05912096 -0.13564605 -0.9866121 ]]\n",
      "\n",
      "Eigenvalues \n",
      "[ -7.66090223e-14   6.95035950e-14   1.15424809e+00   6.34179085e+02]\n"
     ]
    }
   ],
   "source": [
    "eig_vals, eig_vecs = np.linalg.eigh(cov)\n",
    "\n",
    "print('Eigenvectors \\n%s' %eig_vecs)\n",
    "print('\\nEigenvalues \\n%s' %eig_vals)"
   ]
  },
  {
   "cell_type": "markdown",
   "metadata": {},
   "source": [
    "# Example Vanderplas\n",
    "\n",
    "\n",
    "https://jakevdp.github.io/PythonDataScienceHandbook/05.09-principal-component-analysis.html\n"
   ]
  },
  {
   "cell_type": "code",
   "execution_count": 39,
   "metadata": {},
   "outputs": [],
   "source": [
    "rng = np.random.RandomState(1)\n",
    "X = np.dot(rng.rand(2, 2), rng.randn(2, 200)).T"
   ]
  },
  {
   "cell_type": "markdown",
   "metadata": {},
   "source": [
    "# PCA with scikit learn"
   ]
  },
  {
   "cell_type": "code",
   "execution_count": 40,
   "metadata": {},
   "outputs": [],
   "source": [
    "pca = PCA(n_components=1, svd_solver='arpack')\n",
    "pca.fit(X)\n",
    "comp = pca.fit_transform(X)"
   ]
  },
  {
   "cell_type": "code",
   "execution_count": 41,
   "metadata": {},
   "outputs": [
    {
     "name": "stdout",
     "output_type": "stream",
     "text": [
      "Shape of fit_transform: (200, 1)\n"
     ]
    }
   ],
   "source": [
    "print('Shape of fit_transform: {}'.format(comp.shape))"
   ]
  },
  {
   "cell_type": "code",
   "execution_count": 42,
   "metadata": {},
   "outputs": [],
   "source": [
    "U, D, Vtranspose = np.linalg.svd(X,full_matrices=False)\n",
    "dim = 1\n",
    "Unew = U[:,0:dim]\n",
    "Dnew= D[0:dim]\n",
    "Vtranspose_new = Vtranspose[0:dim,:]\n"
   ]
  },
  {
   "cell_type": "code",
   "execution_count": 43,
   "metadata": {},
   "outputs": [
    {
     "name": "stdout",
     "output_type": "stream",
     "text": [
      "Shape of new U: (200, 1)\n",
      "Shape of new V Transpose: (1, 2)\n",
      "Shape of new D: (1,)\n"
     ]
    }
   ],
   "source": [
    "print('Shape of new U: {}'.format(Unew.shape))\n",
    "print('Shape of new V Transpose: {}'.format(Vtranspose_new.shape))\n",
    "print('Shape of new D: {}'.format(Dnew.shape))"
   ]
  },
  {
   "cell_type": "code",
   "execution_count": 44,
   "metadata": {},
   "outputs": [
    {
     "name": "stdout",
     "output_type": "stream",
     "text": [
      "PCA Singular v 12.3184320705\n",
      "Singular values 12.3258896515\n"
     ]
    }
   ],
   "source": [
    "print('PCA Singular v '+ str(pca.singular_values_[0]))\n",
    "print('Singular values '+str(D[0]))"
   ]
  },
  {
   "cell_type": "code",
   "execution_count": 45,
   "metadata": {},
   "outputs": [
    {
     "name": "stdout",
     "output_type": "stream",
     "text": [
      "pca components [-0.94446029 -0.32862557]\n",
      "VTranspose [ 0.94465994  0.3280512 ]\n"
     ]
    }
   ],
   "source": [
    "print('pca components '+ str(pca.components_[0]))\n",
    "print('VTranspose '+ str(Vtranspose_new[0]))"
   ]
  },
  {
   "cell_type": "code",
   "execution_count": 46,
   "metadata": {
    "scrolled": false
   },
   "outputs": [
    {
     "data": {
      "image/png": "[encoded data removed]",
      "text/plain": [
       "<matplotlib.figure.Figure at 0x7f6830c34390>"
      ]
     },
     "metadata": {},
     "output_type": "display_data"
    }
   ],
   "source": [
    "%matplotlib inline\n",
    "import matplotlib.pyplot as plt\n",
    "\n",
    "\n",
    "pca = PCA(n_components=2, whiten=True)\n",
    "pca.fit(X)\n",
    "\n",
    "fig, ax = plt.subplots(1, 2, figsize=(16, 6))\n",
    "fig.subplots_adjust(left=0.0625, right=0.95, wspace=0.1)\n",
    "\n",
    "# plot data\n",
    "ax[0].scatter(-U[:, 0], -U[:, 1], alpha=0.2)\n",
    "ax[0].axis('equal');\n",
    "ax[0].set(xlabel='x', ylabel='y', title='U of SVD in Python')\n",
    "\n",
    "# plot principal components\n",
    "X_pca = pca.transform(X)\n",
    "ax[1].scatter(X_pca[:, 0], X_pca[:, 1], alpha=0.2)\n",
    "ax[1].axis('equal')\n",
    "ax[1].set(xlabel='component 1', ylabel='component 2',\n",
    "          title='principal components with PCA',\n",
    "          xlim=(-5, 5), ylim=(-3, 3.1))\n",
    "\n",
    "plt.show()"
   ]
  },
  {
   "cell_type": "code",
   "execution_count": 47,
   "metadata": {},
   "outputs": [
    {
     "data": {
      "text/plain": [
       "array([[  7.75017864e-01,   4.39469559e-01],\n",
       "       [ -1.22672528e+00,   1.89239746e+00],\n",
       "       [  8.33585596e-01,  -1.24082757e+00],\n",
       "       [  2.64493895e+00,   1.79548612e+00],\n",
       "       [  7.21518918e-01,  -2.24121269e+00],\n",
       "       [  1.17321701e+00,   5.56323914e-01],\n",
       "       [  8.90009579e-01,  -6.13983271e-01],\n",
       "       [ -1.59930756e+00,   1.06315564e+00],\n",
       "       [ -3.33302461e-01,  -1.48079459e+00],\n",
       "       [  2.16282209e+00,   1.70244785e+00],\n",
       "       [ -8.14841322e-01,   8.34424055e-01],\n",
       "       [  7.31632865e-01,   2.85590434e-01],\n",
       "       [  6.27623083e-01,  -1.47701178e+00],\n",
       "       [ -2.51150683e-01,   1.53195343e+00],\n",
       "       [ -4.44086059e-01,   5.06965713e-01],\n",
       "       [  8.19050593e-01,   8.37476172e-01],\n",
       "       [ -1.24106769e+00,   5.72398623e-01],\n",
       "       [ -3.43457316e-01,  -4.31375085e-01],\n",
       "       [ -9.12529995e-01,   1.79887607e+00],\n",
       "       [ -9.30531341e-01,  -8.63225862e-01],\n",
       "       [ -1.76377580e+00,  -2.38986147e-01],\n",
       "       [ -2.89637704e-01,  -3.57537132e-01],\n",
       "       [  7.17410187e-01,  -1.23623517e+00],\n",
       "       [ -1.84381525e+00,   1.67789493e+00],\n",
       "       [  5.77442685e-01,   3.71363014e-02],\n",
       "       [  6.34352276e-01,   9.80622620e-01],\n",
       "       [  7.80906364e-01,   1.27666271e-01],\n",
       "       [ -2.29214656e-02,  -4.97953078e-01],\n",
       "       [  1.30035349e-01,   8.93292333e-01],\n",
       "       [  3.34718136e-02,   5.81541370e-01],\n",
       "       [ -2.45517631e-01,   1.03903288e+00],\n",
       "       [ -1.18417903e+00,   1.60450938e+00],\n",
       "       [  4.45054318e-01,   7.42298012e-01],\n",
       "       [  1.14142579e+00,  -3.20780932e-01],\n",
       "       [  1.59435170e+00,   8.10259808e-01],\n",
       "       [  5.23394105e-01,  -3.65899216e-01],\n",
       "       [  7.80824654e-01,  -2.16400757e+00],\n",
       "       [ -1.03664868e+00,  -3.41817595e-01],\n",
       "       [  5.66077726e-01,   1.23672812e-01],\n",
       "       [  7.12768601e-01,   8.91846481e-01],\n",
       "       [  3.73427805e-01,   8.61358745e-01],\n",
       "       [  5.18259942e-01,  -2.09720235e+00],\n",
       "       [  7.80825528e-01,  -2.51178149e-01],\n",
       "       [ -2.80375934e-01,   9.93403283e-01],\n",
       "       [ -6.03677452e-01,   1.39209664e-01],\n",
       "       [ -5.16986911e-01,  -2.16555476e+00],\n",
       "       [ -1.63604516e+00,   6.38624703e-01],\n",
       "       [  9.22131106e-01,  -9.81372982e-01],\n",
       "       [  2.07333278e-01,  -3.16926839e-01],\n",
       "       [  3.99710441e-01,   3.81304659e-01],\n",
       "       [  3.04391091e+00,   2.57104347e-01],\n",
       "       [ -1.53764924e+00,   1.15720263e+00],\n",
       "       [ -1.98145095e-01,   4.51381578e-01],\n",
       "       [  7.02766029e-01,  -8.56773097e-01],\n",
       "       [ -2.17515011e+00,   9.29821649e-04],\n",
       "       [ -9.08207434e-01,  -6.18245256e-01],\n",
       "       [ -4.77620155e-01,  -2.40494606e-02],\n",
       "       [  1.77402790e-01,  -1.00032065e+00],\n",
       "       [  2.80162687e-01,   9.07483850e-01],\n",
       "       [  8.31781691e-01,  -1.70072875e+00],\n",
       "       [ -9.06510282e-01,  -1.21789929e-01],\n",
       "       [  5.03494548e-01,   2.75170982e-01],\n",
       "       [ -3.05338267e-01,  -3.34605772e-01],\n",
       "       [ -1.00446748e+00,   6.17247485e-01],\n",
       "       [ -7.29987828e-01,  -9.28332786e-01],\n",
       "       [ -8.85198577e-01,  -1.32738618e+00],\n",
       "       [ -1.19803858e+00,  -1.99301552e+00],\n",
       "       [  1.31935197e+00,   1.25279194e+00],\n",
       "       [ -6.03118423e-02,   1.86440746e+00],\n",
       "       [ -1.11573789e+00,   1.17189356e+00],\n",
       "       [ -7.14987059e-01,   2.20696249e-01],\n",
       "       [ -1.15061343e+00,  -4.55424551e-01],\n",
       "       [  6.75621466e-01,  -5.23693021e-01],\n",
       "       [  1.72169954e+00,   1.83479721e+00],\n",
       "       [  1.45933232e+00,  -9.96971335e-02],\n",
       "       [ -1.43900347e+00,  -2.82116974e-01],\n",
       "       [  1.57864900e-01,  -2.13718532e-01],\n",
       "       [ -1.55888365e+00,  -1.55472299e-01],\n",
       "       [  8.33134920e-01,   5.24926827e-02],\n",
       "       [  5.15901852e-01,   1.54464786e-01],\n",
       "       [ -1.34646088e-01,  -4.42942796e-02],\n",
       "       [ -9.72982658e-01,   2.72555689e-02],\n",
       "       [ -1.08981230e-01,  -6.85735893e-02],\n",
       "       [ -2.07477821e-01,   6.53133122e-02],\n",
       "       [  3.22476232e-01,   7.90914187e-01],\n",
       "       [ -2.93806315e-01,  -2.07338316e-01],\n",
       "       [  9.76608980e-01,  -4.14360603e-01],\n",
       "       [ -5.47036529e-01,  -9.99379153e-01],\n",
       "       [ -3.39511583e-01,  -1.16540711e+00],\n",
       "       [  1.92513345e-03,  -9.75633756e-02],\n",
       "       [ -2.35593630e-01,   6.64257439e-01],\n",
       "       [  9.30579044e-01,   5.08327029e-01],\n",
       "       [ -8.08672355e-02,  -3.47602573e-01],\n",
       "       [  2.65325207e-01,  -7.53470978e-02],\n",
       "       [ -1.82776396e-01,   6.05643696e-01],\n",
       "       [ -6.85646095e-01,   3.47321336e-01],\n",
       "       [  1.16744104e+00,   3.90776668e-01],\n",
       "       [ -8.03295612e-01,  -3.83366846e-01],\n",
       "       [ -1.60805309e+00,   1.30177572e+00],\n",
       "       [  7.95892848e-01,  -1.65257561e+00],\n",
       "       [  5.93928645e-01,  -5.95277090e-01],\n",
       "       [  5.53189138e-01,  -8.04870591e-01],\n",
       "       [  7.77799280e-01,   1.11211143e+00],\n",
       "       [ -1.49067191e+00,   5.21625852e-01],\n",
       "       [ -3.11264003e-01,  -6.31854086e-01],\n",
       "       [  1.08517017e+00,   8.20586434e-01],\n",
       "       [ -4.00387295e-01,   6.00887974e-01],\n",
       "       [  5.55538845e-01,  -1.38921903e-01],\n",
       "       [ -3.48951507e-01,   1.89611723e+00],\n",
       "       [ -3.80013664e-01,  -9.84705723e-02],\n",
       "       [ -1.58696286e+00,  -2.44216577e-01],\n",
       "       [  1.01290891e+00,   7.37685360e-01],\n",
       "       [ -2.82954473e+00,   8.44849116e-01],\n",
       "       [ -1.09581583e-01,   1.72750285e+00],\n",
       "       [ -5.32283698e-01,   3.83459355e-01],\n",
       "       [  8.09258984e-01,   1.71867343e+00],\n",
       "       [  1.76714749e-01,  -1.28093782e+00],\n",
       "       [  6.25057433e-01,  -6.14229754e-01],\n",
       "       [  1.67222431e-01,   8.53274682e-02],\n",
       "       [  1.09622062e+00,   6.03887609e-01],\n",
       "       [ -7.92248152e-01,  -1.07225202e+00],\n",
       "       [ -1.15025204e-01,  -2.16895698e+00],\n",
       "       [  3.18271624e-01,   2.20413333e+00],\n",
       "       [ -1.37658374e+00,  -7.92497014e-01],\n",
       "       [ -6.92775974e-02,  -1.78380875e+00],\n",
       "       [ -1.18266238e+00,   1.97248424e-01],\n",
       "       [  7.88126116e-01,   1.23201954e+00],\n",
       "       [ -1.38623945e+00,  -3.45392613e-01],\n",
       "       [ -2.74901586e-01,   4.49002498e-01],\n",
       "       [ -6.94954352e-01,   1.12085763e+00],\n",
       "       [  1.47976480e+00,   9.90393991e-01],\n",
       "       [ -1.18275844e-01,  -4.83587376e-01],\n",
       "       [ -1.61883346e+00,  -1.67966912e-01],\n",
       "       [  8.67792877e-01,   5.15514504e-01],\n",
       "       [  1.61882141e+00,  -1.14676170e+00],\n",
       "       [  2.28536010e+00,   5.64418906e-01],\n",
       "       [  1.91090388e+00,  -1.59866083e+00],\n",
       "       [  1.90135509e+00,  -6.96899534e-01],\n",
       "       [  4.86403658e-01,   1.49463661e-01],\n",
       "       [ -1.06094063e+00,   6.71082073e-01],\n",
       "       [  3.76194636e-02,  -9.24764585e-01],\n",
       "       [ -5.92651887e-01,  -5.30374582e-01],\n",
       "       [ -1.05915652e-01,  -4.63508243e-01],\n",
       "       [ -3.50379710e-02,  -2.62775534e-02],\n",
       "       [  1.49783767e-01,  -2.94394051e-02],\n",
       "       [ -8.87119302e-02,  -5.76134133e-01],\n",
       "       [ -4.81919231e-01,   4.07985238e-02],\n",
       "       [  7.76810304e-01,  -1.00060223e+00],\n",
       "       [ -7.27304047e-01,   7.84586686e-01],\n",
       "       [  3.11573628e-01,   2.89261458e+00],\n",
       "       [ -2.59726460e-01,  -1.00717820e+00],\n",
       "       [ -1.67090011e+00,  -1.80446390e+00],\n",
       "       [  4.61820095e-01,  -5.87157472e-01],\n",
       "       [  5.59552376e-01,   1.73049833e-02],\n",
       "       [ -4.32643916e-02,   3.02946198e-01],\n",
       "       [  2.58253338e-01,   1.60978222e-01],\n",
       "       [  4.27516456e-01,  -6.93451090e-02],\n",
       "       [  1.14123324e+00,   9.98136156e-01],\n",
       "       [  7.65725812e-01,   4.30038451e-01],\n",
       "       [ -3.54095576e-01,   1.45107682e+00],\n",
       "       [  1.65759543e+00,  -8.39261205e-01],\n",
       "       [ -1.46208988e-01,   5.34805565e-01],\n",
       "       [  2.24337251e-02,  -4.74417794e-01],\n",
       "       [ -5.36320220e-01,   5.46773883e-01],\n",
       "       [ -8.70096571e-01,  -6.99239437e-01],\n",
       "       [  2.42280046e+00,  -1.10516053e+00],\n",
       "       [ -1.47548230e+00,  -1.88749844e+00],\n",
       "       [  6.00591948e-01,   2.13618892e+00],\n",
       "       [  3.07001381e-01,   7.68909743e-01],\n",
       "       [  4.65251226e-02,  -9.67104034e-01],\n",
       "       [ -1.86763215e+00,  -2.13112757e+00],\n",
       "       [  5.15641253e-01,   2.11487153e-01],\n",
       "       [ -1.62313370e+00,   7.24364711e-01],\n",
       "       [ -3.67118810e-01,   5.40065240e-01],\n",
       "       [ -2.47466639e+00,  -4.64052092e-01],\n",
       "       [  8.65680301e-01,   1.16650647e-01],\n",
       "       [  1.29573725e+00,  -1.20640412e+00],\n",
       "       [ -4.59240453e-01,   6.88264695e-01],\n",
       "       [ -1.52607354e-01,   1.69758502e+00],\n",
       "       [ -1.38297706e-01,  -1.93791183e-01],\n",
       "       [  1.18165814e+00,  -9.50225578e-01],\n",
       "       [ -1.48733570e-01,  -1.35426931e+00],\n",
       "       [ -4.67244050e-01,   4.42596195e-01],\n",
       "       [  4.77633842e-01,   6.65132744e-01],\n",
       "       [ -1.15583239e-01,  -4.99202399e-01],\n",
       "       [  8.27776297e-02,  -1.96164708e-01],\n",
       "       [  7.41961166e-01,  -5.08806491e-01],\n",
       "       [  5.43601567e-01,  -8.42750339e-03],\n",
       "       [  7.85015496e-01,  -1.57191336e+00],\n",
       "       [ -1.71050160e+00,   3.72159928e-01],\n",
       "       [ -4.00006021e-01,  -1.98008142e+00],\n",
       "       [ -8.92906585e-01,  -8.38336873e-01],\n",
       "       [  6.49824734e-01,  -9.21579386e-01],\n",
       "       [  5.94151697e-02,   2.03418683e+00],\n",
       "       [  1.43548378e+00,  -1.17018822e+00],\n",
       "       [ -9.76851982e-01,   1.66496571e-02],\n",
       "       [ -2.99517351e-01,  -7.20267829e-01],\n",
       "       [ -2.32089284e+00,  -1.84697904e-01],\n",
       "       [  1.38208964e+00,   4.39278067e-02],\n",
       "       [ -4.05181366e-01,  -6.93280685e-01]])"
      ]
     },
     "execution_count": 47,
     "metadata": {},
     "output_type": "execute_result"
    }
   ],
   "source": [
    "X_pca"
   ]
  },
  {
   "cell_type": "code",
   "execution_count": 48,
   "metadata": {},
   "outputs": [
    {
     "data": {
      "text/plain": [
       "array([[ -7.41748205e-01,  -3.26078257e-01],\n",
       "       [  1.26366582e+00,  -1.78177785e+00],\n",
       "       [ -8.00268015e-01,   1.34864053e+00],\n",
       "       [ -2.61535575e+00,  -1.67012985e+00],\n",
       "       [ -6.87893235e-01,   2.34513253e+00],\n",
       "       [ -1.14071607e+00,  -4.40978715e-01],\n",
       "       [ -8.56858804e-01,   7.24181960e-01],\n",
       "       [  1.63703565e+00,  -9.56851893e-01],\n",
       "       [  3.68863011e-01,   1.58323590e+00],\n",
       "       [ -2.13231275e+00,  -1.57928985e+00],\n",
       "       [  8.51098513e-01,  -7.25856946e-01],\n",
       "       [ -6.98266064e-01,  -1.72899756e-01],\n",
       "       [ -5.93891223e-01,   1.58320683e+00],\n",
       "       [  2.86269201e-01,  -1.41878165e+00],\n",
       "       [  4.79668878e-01,  -3.98086881e-01],\n",
       "       [ -7.85902460e-01,  -7.22538132e-01],\n",
       "       [  1.27816070e+00,  -4.66396160e-01],\n",
       "       [  3.78937662e-01,   5.37403167e-01],\n",
       "       [  9.48881589e-01,  -1.68735654e+00],\n",
       "       [  9.67169655e-01,   9.65476315e-01],\n",
       "       [  1.80194030e+00,   3.40150048e-01],\n",
       "       [  3.25008646e-01,   4.64029873e-01],\n",
       "       [ -6.83871998e-01,   1.34361175e+00],\n",
       "       [  1.88195025e+00,  -1.57041874e+00],\n",
       "       [ -5.43758947e-01,   7.40956042e-02],\n",
       "       [ -6.00866297e-01,  -8.65908922e-01],\n",
       "       [ -7.47618337e-01,  -1.53294953e-02],\n",
       "       [  5.77982495e-02,   6.04998874e-01],\n",
       "       [ -9.55815360e-02,  -7.80843604e-01],\n",
       "       [  1.19529466e-03,  -4.70545810e-01],\n",
       "       [  2.80672179e-01,  -9.27542480e-01],\n",
       "       [  1.22106592e+00,  -1.49471896e+00],\n",
       "       [ -4.11185564e-01,  -6.29144750e-01],\n",
       "       [ -1.10878119e+00,   4.32971503e-01],\n",
       "       [ -1.56267613e+00,  -6.92397738e-01],\n",
       "       [ -4.89569307e-01,   4.75528016e-01],\n",
       "       [ -7.47319134e-01,   2.26842506e+00],\n",
       "       [  1.07343946e+00,   4.45456705e-01],\n",
       "       [ -5.32380571e-01,  -1.21861168e-02],\n",
       "       [ -6.79423404e-01,  -7.77134295e-01],\n",
       "       [ -3.39434061e-01,  -7.48072890e-01],\n",
       "       [ -4.84261181e-01,   2.20082857e+00],\n",
       "       [ -7.47501418e-01,   3.62205497e-01],\n",
       "       [  3.15601133e-01,  -8.82206258e-01],\n",
       "       [  6.39598800e-01,  -3.22228823e-02],\n",
       "       [  5.52961894e-01,   2.26491480e+00],\n",
       "       [  1.67388341e+00,  -5.33930954e-01],\n",
       "       [ -8.89006605e-01,   1.09042718e+00],\n",
       "       [ -1.72911763e-01,   4.25494510e-01],\n",
       "       [ -3.65721177e-01,  -2.69575338e-01],\n",
       "       [ -3.01494092e+00,  -1.35510911e-01],\n",
       "       [  1.57525109e+00,  -1.05033388e+00],\n",
       "       [  2.33265240e-01,  -3.41737424e-01],\n",
       "       [ -6.69235964e-01,   9.65403918e-01],\n",
       "       [  2.21407458e+00,   9.94617285e-02],\n",
       "       [  9.44780039e-01,   7.21429152e-01],\n",
       "       [  5.13317140e-01,   1.30962807e-01],\n",
       "       [ -1.42859515e-01,   1.10641031e+00],\n",
       "       [ -2.45995864e-01,  -7.94401669e-01],\n",
       "       [ -7.98417062e-01,   1.80694548e+00],\n",
       "       [  9.43032575e-01,   2.26695953e-01],\n",
       "       [ -4.69692685e-01,  -1.63404402e-01],\n",
       "       [  3.40736907e-01,   4.41116634e-01],\n",
       "       [  1.04110606e+00,  -5.10169012e-01],\n",
       "       [  7.66250748e-01,   1.03113893e+00],\n",
       "       [  9.21794657e-01,   1.42820918e+00],\n",
       "       [  1.23529302e+00,   2.09032059e+00],\n",
       "       [ -1.28719513e+00,  -1.13447119e+00],\n",
       "       [  9.50357257e-02,  -1.74934398e+00],\n",
       "       [  1.15253559e+00,  -1.06333164e+00],\n",
       "       [  7.51112464e-01,  -1.13861191e-01],\n",
       "       [  1.18763182e+00,   5.58227447e-01],\n",
       "       [ -6.42071342e-01,   6.33369146e-01],\n",
       "       [ -1.69036344e+00,  -1.71289908e+00],\n",
       "       [ -1.42731356e+00,   2.13889209e-01],\n",
       "       [  1.47655413e+00,   3.84396103e-01],\n",
       "       [ -1.23359051e-01,   3.22450274e-01],\n",
       "       [  1.59665040e+00,   2.57722386e-01],\n",
       "       [ -7.99939138e-01,   5.97876416e-02],\n",
       "       [ -4.82112149e-01,  -4.30670121e-02],\n",
       "       [  1.69692424e-01,   1.52472792e-01],\n",
       "       [  1.00961729e+00,   7.79067263e-02],\n",
       "       [  1.43981036e-01,   1.76768112e-01],\n",
       "       [  2.42652337e-01,   4.29604362e-02],\n",
       "       [ -2.88378862e-01,  -6.78070099e-01],\n",
       "       [  3.29170944e-01,   3.14333848e-01],\n",
       "       [ -9.43641908e-01,   5.25586210e-01],\n",
       "       [  5.82958089e-01,   1.10265198e+00],\n",
       "       [  3.75054035e-01,   1.26891408e+00],\n",
       "       [  3.28664031e-02,   2.06089457e-01],\n",
       "       [  2.70764838e-01,  -5.54023463e-01],\n",
       "       [ -8.97611897e-01,  -3.94092222e-01],\n",
       "       [  1.15840012e-01,   4.54942341e-01],\n",
       "       [ -2.31036942e-01,   1.84975307e-01],\n",
       "       [  2.17852669e-01,  -4.95406656e-01],\n",
       "       [  7.21703666e-01,  -2.39934502e-01],\n",
       "       [ -1.13491342e+00,  -2.76026009e-01],\n",
       "       [  8.39646328e-01,   4.87770774e-01],\n",
       "       [  1.64577518e+00,  -1.19468146e+00],\n",
       "       [ -7.62464501e-01,   1.75881902e+00],\n",
       "       [ -5.60216298e-01,   7.04387841e-01],\n",
       "       [ -5.19379399e-01,   9.13098493e-01],\n",
       "       [ -7.44598705e-01,  -9.96384962e-01],\n",
       "       [  1.52824465e+00,  -4.16770491e-01],\n",
       "       [  3.46702108e-01,   7.37314727e-01],\n",
       "       [ -1.05252677e+00,  -7.04670812e-01],\n",
       "       [  4.35878062e-01,  -4.91514479e-01],\n",
       "       [ -5.21796734e-01,   2.49460165e-01],\n",
       "       [  3.84221571e-01,  -1.78206779e+00],\n",
       "       [  4.15531992e-01,   2.05506714e-01],\n",
       "       [  1.62479144e+00,   3.46050698e-01],\n",
       "       [ -9.80120159e-01,  -6.22337503e-01],\n",
       "       [  2.86963426e+00,  -7.44088783e-01],\n",
       "       [  1.44412195e-01,  -1.61310425e+00],\n",
       "       [  5.68046042e-01,  -2.75350638e-01],\n",
       "       [ -7.76175792e-01,  -1.60072849e+00],\n",
       "       [ -1.42143552e-01,   1.38605512e+00],\n",
       "       [ -5.91402516e-01,   7.23396191e-01],\n",
       "       [ -1.32762747e-01,   2.44740662e-02],\n",
       "       [ -1.06357770e+00,  -4.88677781e-01],\n",
       "       [  8.28643182e-01,   1.17431848e+00],\n",
       "       [  1.50235707e-01,   2.26987001e+00],\n",
       "       [ -2.84300282e-01,  -2.08642217e+00],\n",
       "       [  1.41406404e+00,   8.93255490e-01],\n",
       "       [  1.04364530e-01,   1.88623076e+00],\n",
       "       [  1.21967984e+00,  -9.23149487e-02],\n",
       "       [ -7.54956561e-01,  -1.11583852e+00],\n",
       "       [  1.42369572e+00,   4.47658488e-01],\n",
       "       [  3.10167999e-01,  -3.39665362e-01],\n",
       "       [  7.30956272e-01,  -1.01083405e+00],\n",
       "       [ -1.44788830e+00,  -8.72355521e-01],\n",
       "       [  1.53332694e-01,   5.90311620e-01],\n",
       "       [  1.65671546e+00,   2.69940451e-01],\n",
       "       [ -8.34706950e-01,  -4.01499273e-01],\n",
       "       [ -1.58700680e+00,   1.25795646e+00],\n",
       "       [ -2.25497598e+00,  -4.44716404e-01],\n",
       "       [ -1.87960215e+00,   1.70943105e+00],\n",
       "       [ -1.87012072e+00,   8.10748651e-01],\n",
       "       [ -4.52557355e-01,  -3.81979988e-02],\n",
       "       [  1.09768156e+00,  -5.64037410e-01],\n",
       "       [ -2.81739146e-03,   1.03057119e+00],\n",
       "       [  6.28615758e-01,   6.35090508e-01],\n",
       "       [  1.40947080e-01,   5.70349986e-01],\n",
       "       [  6.98930758e-02,   1.34906076e-01],\n",
       "       [ -1.15280019e-01,   1.38776473e-01],\n",
       "       [  1.23721307e-01,   6.82653663e-01],\n",
       "       [  5.17618245e-01,   6.63221723e-02],\n",
       "       [ -7.43407481e-01,   1.10902429e+00],\n",
       "       [  7.63399409e-01,  -6.75851029e-01],\n",
       "       [ -2.77654835e-01,  -2.77255042e+00],\n",
       "       [  2.95102101e-01,   1.11154252e+00],\n",
       "       [  1.70903638e+00,   1.90057977e+00],\n",
       "       [ -4.27857158e-01,   6.95782011e-01],\n",
       "       [ -5.25832717e-01,   9.37887513e-02],\n",
       "       [  7.81039256e-02,  -1.93212052e-01],\n",
       "       [ -2.23974031e-01,  -5.05609100e-02],\n",
       "       [ -3.93537358e-01,   1.79625434e-01],\n",
       "       [ -1.10871336e+00,  -8.81388762e-01],\n",
       "       [ -7.32437579e-01,  -3.16715910e-01],\n",
       "       [  3.89417634e-01,  -1.33858526e+00],\n",
       "       [ -1.62588376e+00,   9.51669482e-01],\n",
       "       [  1.81222403e-01,  -4.24670960e-01],\n",
       "       [  1.23545304e-02,   5.81721475e-01],\n",
       "       [  5.72074755e-01,  -4.38116539e-01],\n",
       "       [  9.06604345e-01,   8.02291811e-01],\n",
       "       [ -2.39251951e+00,   1.21962876e+00],\n",
       "       [  1.51325462e+00,   1.98408810e+00],\n",
       "       [ -5.67151327e-01,  -2.01761353e+00],\n",
       "       [ -2.72872481e-01,  -6.56201933e-01],\n",
       "       [ -1.17359797e-02,   1.07279900e+00],\n",
       "       [  1.90617371e+00,   2.22534881e+00],\n",
       "       [ -4.81856462e-01,  -9.98933499e-02],\n",
       "       [  1.66093925e+00,  -6.19324422e-01],\n",
       "       [  4.02552047e-01,  -4.30772415e-01],\n",
       "       [  2.51420484e+00,   5.61670927e-01],\n",
       "       [ -8.32552527e-01,  -4.02192972e-03],\n",
       "       [ -1.26330226e+00,   1.31613508e+00],\n",
       "       [  4.94834912e-01,  -5.78818370e-01],\n",
       "       [  1.87522667e-01,  -1.58345729e+00],\n",
       "       [  1.73365167e-01,   3.01438888e-01],\n",
       "       [ -1.14903039e+00,   1.06039769e+00],\n",
       "       [  1.83930945e-01,   1.45786631e+00],\n",
       "       [  5.02877036e-01,  -3.34029943e-01],\n",
       "       [ -4.43819758e-01,  -5.52119305e-01],\n",
       "       [  1.50636446e-01,   6.05883166e-01],\n",
       "       [ -4.81305782e-02,   3.04664810e-01],\n",
       "       [ -7.08538677e-01,   6.18792303e-01],\n",
       "       [ -5.09849119e-01,   1.19370225e-01],\n",
       "       [ -7.51574103e-01,   1.67839316e+00],\n",
       "       [  1.74850679e+00,  -2.68676802e-01],\n",
       "       [  4.35740838e-01,   2.08053775e+00],\n",
       "       [  9.29470951e-01,   9.40819796e-01],\n",
       "       [ -6.16187793e-01,   1.02978018e+00],\n",
       "       [ -2.49351897e-02,  -1.91807060e+00],\n",
       "       [ -1.40331812e+00,   1.28058833e+00],\n",
       "       [  1.01349498e+00,   8.84609264e-02],\n",
       "       [  3.34941492e-01,   8.25468679e-01],\n",
       "       [  2.36011221e+00,   2.83880665e-01],\n",
       "       [ -1.34993752e+00,   7.04598821e-02],\n",
       "       [  4.40803991e-01,   7.98163464e-01]])"
      ]
     },
     "execution_count": 48,
     "metadata": {},
     "output_type": "execute_result"
    }
   ],
   "source": [
    "U * np.sqrt(X.shape[0])"
   ]
  },
  {
   "cell_type": "markdown",
   "metadata": {},
   "source": [
    "So we see that this two only differ by the factor that the matrix was divided to do the PCA, which is $1/\\sqrt{n}$. In this case"
   ]
  },
  {
   "cell_type": "code",
   "execution_count": 49,
   "metadata": {},
   "outputs": [
    {
     "name": "stdout",
     "output_type": "stream",
     "text": [
      "[-14.77645336 -13.72872088 -14.73091555 -14.30210226 -14.83343324]\n",
      "factor: 14.1421356237\n"
     ]
    }
   ],
   "source": [
    "print(X_pca[0:5,0]/U[0:5,0])\n",
    "\n",
    "print('factor: {}'.format(np.sqrt(X.shape[0])))"
   ]
  },
  {
   "cell_type": "markdown",
   "metadata": {},
   "source": [
    "So scaled SVD is just:\n",
    "\n",
    "$$ U D V^T = \\frac{1}{\\sqrt{N-1}} X $$"
   ]
  },
  {
   "cell_type": "code",
   "execution_count": 50,
   "metadata": {},
   "outputs": [
    {
     "data": {
      "text/plain": [
       "array([ 12.32588965,   1.92905448])"
      ]
     },
     "execution_count": 50,
     "metadata": {},
     "output_type": "execute_result"
    }
   ],
   "source": [
    "D"
   ]
  },
  {
   "cell_type": "code",
   "execution_count": 51,
   "metadata": {},
   "outputs": [
    {
     "data": {
      "text/plain": [
       "(200, 2)"
      ]
     },
     "execution_count": 51,
     "metadata": {},
     "output_type": "execute_result"
    }
   ],
   "source": [
    "X.shape"
   ]
  },
  {
   "cell_type": "code",
   "execution_count": 52,
   "metadata": {},
   "outputs": [
    {
     "data": {
      "text/plain": [
       "14.142135623730951"
      ]
     },
     "execution_count": 52,
     "metadata": {},
     "output_type": "execute_result"
    }
   ],
   "source": [
    "np.sqrt(X.shape[0])"
   ]
  },
  {
   "cell_type": "code",
   "execution_count": null,
   "metadata": {},
   "outputs": [],
   "source": []
  }
 ],
 "metadata": {
  "kernelspec": {
   "display_name": "Python 2",
   "language": "python",
   "name": "python2"
  },
  "language_info": {
   "codemirror_mode": {
    "name": "ipython",
    "version": 2
   },
   "file_extension": ".py",
   "mimetype": "text/x-python",
   "name": "python",
   "nbconvert_exporter": "python",
   "pygments_lexer": "ipython2",
   "version": "2.7.14"
  }
 },
 "nbformat": 4,
 "nbformat_minor": 2
}

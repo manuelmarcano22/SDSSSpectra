{
 "cells": [
  {
   "cell_type": "markdown",
   "metadata": {},
   "source": [
    "# PCA to Stellar Spectral Classification\n",
    "\n",
    "\n",
    "From Deeming 1963 applied to late stars\n",
    "\n",
    "He discussed the specific case of late-type giants. He used 84 G and K class III giants. \n",
    "\n",
    "\n",
    "\n",
    "\n",
    "First load all the relevant packages"
   ]
  },
  {
   "cell_type": "code",
   "execution_count": 1,
   "metadata": {},
   "outputs": [
    {
     "name": "stdout",
     "output_type": "stream",
     "text": [
      "\n",
      "No graphics display available for this session.\n",
      "Graphics tasks that attempt to plot to an interactive screen will fail.\n",
      "For help, search \"PyRAF FAQ 5.13\" or contact \"help@stsci.edu\".\n",
      "\n"
     ]
    },
    {
     "data": {
      "text/html": [
       "\n",
       "    <div class=\"bk-root\">\n",
       "        <a href=\"https://bokeh.pydata.org\" target=\"_blank\" class=\"bk-logo bk-logo-small bk-logo-notebook\"></a>\n",
       "        <span id=\"5b3a01d7-9117-48df-947e-1574e4a4a2fe\">Loading BokehJS ...</span>\n",
       "    </div>"
      ]
     },
     "metadata": {},
     "output_type": "display_data"
    },
    {
     "data": {
      "application/javascript": [
       "\n",
       "(function(root) {\n",
       "  function now() {\n",
       "    return new Date();\n",
       "  }\n",
       "\n",
       "  var force = true;\n",
       "\n",
       "  if (typeof (root._bokeh_onload_callbacks) === \"undefined\" || force === true) {\n",
       "    root._bokeh_onload_callbacks = [];\n",
       "    root._bokeh_is_loading = undefined;\n",
       "  }\n",
       "\n",
       "  var JS_MIME_TYPE = 'application/javascript';\n",
       "  var HTML_MIME_TYPE = 'text/html';\n",
       "  var EXEC_MIME_TYPE = 'application/vnd.bokehjs_exec.v0+json';\n",
       "  var CLASS_NAME = 'output_bokeh rendered_html';\n",
       "\n",
       "  /**\n",
       "   * Render data to the DOM node\n",
       "   */\n",
       "  function render(props, node) {\n",
       "    var script = document.createElement(\"script\");\n",
       "    node.appendChild(script);\n",
       "  }\n",
       "\n",
       "  /**\n",
       "   * Handle when an output is cleared or removed\n",
       "   */\n",
       "  function handleClearOutput(event, handle) {\n",
       "    var cell = handle.cell;\n",
       "\n",
       "    var id = cell.output_area._bokeh_element_id;\n",
       "    var server_id = cell.output_area._bokeh_server_id;\n",
       "    // Clean up Bokeh references\n",
       "    if (id !== undefined) {\n",
       "      Bokeh.index[id].model.document.clear();\n",
       "      delete Bokeh.index[id];\n",
       "    }\n",
       "\n",
       "    if (server_id !== undefined) {\n",
       "      // Clean up Bokeh references\n",
       "      var cmd = \"from bokeh.io.state import curstate; print(curstate().uuid_to_server['\" + server_id + \"'].get_sessions()[0].document.roots[0]._id)\";\n",
       "      cell.notebook.kernel.execute(cmd, {\n",
       "        iopub: {\n",
       "          output: function(msg) {\n",
       "            var element_id = msg.content.text.trim();\n",
       "            Bokeh.index[element_id].model.document.clear();\n",
       "            delete Bokeh.index[element_id];\n",
       "          }\n",
       "        }\n",
       "      });\n",
       "      // Destroy server and session\n",
       "      var cmd = \"import bokeh.io.notebook as ion; ion.destroy_server('\" + server_id + \"')\";\n",
       "      cell.notebook.kernel.execute(cmd);\n",
       "    }\n",
       "  }\n",
       "\n",
       "  /**\n",
       "   * Handle when a new output is added\n",
       "   */\n",
       "  function handleAddOutput(event, handle) {\n",
       "    var output_area = handle.output_area;\n",
       "    var output = handle.output;\n",
       "\n",
       "    // limit handleAddOutput to display_data with EXEC_MIME_TYPE content only\n",
       "    if ((output.output_type != \"display_data\") || (!output.data.hasOwnProperty(EXEC_MIME_TYPE))) {\n",
       "      return\n",
       "    }\n",
       "\n",
       "    var toinsert = output_area.element.find(\".\" + CLASS_NAME.split(' ')[0]);\n",
       "\n",
       "    if (output.metadata[EXEC_MIME_TYPE][\"id\"] !== undefined) {\n",
       "      toinsert[0].firstChild.textContent = output.data[JS_MIME_TYPE];\n",
       "      // store reference to embed id on output_area\n",
       "      output_area._bokeh_element_id = output.metadata[EXEC_MIME_TYPE][\"id\"];\n",
       "    }\n",
       "    if (output.metadata[EXEC_MIME_TYPE][\"server_id\"] !== undefined) {\n",
       "      var bk_div = document.createElement(\"div\");\n",
       "      bk_div.innerHTML = output.data[HTML_MIME_TYPE];\n",
       "      var script_attrs = bk_div.children[0].attributes;\n",
       "      for (var i = 0; i < script_attrs.length; i++) {\n",
       "        toinsert[0].firstChild.setAttribute(script_attrs[i].name, script_attrs[i].value);\n",
       "      }\n",
       "      // store reference to server id on output_area\n",
       "      output_area._bokeh_server_id = output.metadata[EXEC_MIME_TYPE][\"server_id\"];\n",
       "    }\n",
       "  }\n",
       "\n",
       "  function register_renderer(events, OutputArea) {\n",
       "\n",
       "    function append_mime(data, metadata, element) {\n",
       "      // create a DOM node to render to\n",
       "      var toinsert = this.create_output_subarea(\n",
       "        metadata,\n",
       "        CLASS_NAME,\n",
       "        EXEC_MIME_TYPE\n",
       "      );\n",
       "      this.keyboard_manager.register_events(toinsert);\n",
       "      // Render to node\n",
       "      var props = {data: data, metadata: metadata[EXEC_MIME_TYPE]};\n",
       "      render(props, toinsert[0]);\n",
       "      element.append(toinsert);\n",
       "      return toinsert\n",
       "    }\n",
       "\n",
       "    /* Handle when an output is cleared or removed */\n",
       "    events.on('clear_output.CodeCell', handleClearOutput);\n",
       "    events.on('delete.Cell', handleClearOutput);\n",
       "\n",
       "    /* Handle when a new output is added */\n",
       "    events.on('output_added.OutputArea', handleAddOutput);\n",
       "\n",
       "    /**\n",
       "     * Register the mime type and append_mime function with output_area\n",
       "     */\n",
       "    OutputArea.prototype.register_mime_type(EXEC_MIME_TYPE, append_mime, {\n",
       "      /* Is output safe? */\n",
       "      safe: true,\n",
       "      /* Index of renderer in `output_area.display_order` */\n",
       "      index: 0\n",
       "    });\n",
       "  }\n",
       "\n",
       "  // register the mime type if in Jupyter Notebook environment and previously unregistered\n",
       "  if (root.Jupyter !== undefined) {\n",
       "    var events = require('base/js/events');\n",
       "    var OutputArea = require('notebook/js/outputarea').OutputArea;\n",
       "\n",
       "    if (OutputArea.prototype.mime_types().indexOf(EXEC_MIME_TYPE) == -1) {\n",
       "      register_renderer(events, OutputArea);\n",
       "    }\n",
       "  }\n",
       "\n",
       "  \n",
       "  if (typeof (root._bokeh_timeout) === \"undefined\" || force === true) {\n",
       "    root._bokeh_timeout = Date.now() + 5000;\n",
       "    root._bokeh_failed_load = false;\n",
       "  }\n",
       "\n",
       "  var NB_LOAD_WARNING = {'data': {'text/html':\n",
       "     \"<div style='background-color: #fdd'>\\n\"+\n",
       "     \"<p>\\n\"+\n",
       "     \"BokehJS does not appear to have successfully loaded. If loading BokehJS from CDN, this \\n\"+\n",
       "     \"may be due to a slow or bad network connection. Possible fixes:\\n\"+\n",
       "     \"</p>\\n\"+\n",
       "     \"<ul>\\n\"+\n",
       "     \"<li>re-rerun `output_notebook()` to attempt to load from CDN again, or</li>\\n\"+\n",
       "     \"<li>use INLINE resources instead, as so:</li>\\n\"+\n",
       "     \"</ul>\\n\"+\n",
       "     \"<code>\\n\"+\n",
       "     \"from bokeh.resources import INLINE\\n\"+\n",
       "     \"output_notebook(resources=INLINE)\\n\"+\n",
       "     \"</code>\\n\"+\n",
       "     \"</div>\"}};\n",
       "\n",
       "  function display_loaded() {\n",
       "    var el = document.getElementById(\"5b3a01d7-9117-48df-947e-1574e4a4a2fe\");\n",
       "    if (el != null) {\n",
       "      el.textContent = \"BokehJS is loading...\";\n",
       "    }\n",
       "    if (root.Bokeh !== undefined) {\n",
       "      if (el != null) {\n",
       "        el.textContent = \"BokehJS \" + root.Bokeh.version + \" successfully loaded.\";\n",
       "      }\n",
       "    } else if (Date.now() < root._bokeh_timeout) {\n",
       "      setTimeout(display_loaded, 100)\n",
       "    }\n",
       "  }\n",
       "\n",
       "\n",
       "  function run_callbacks() {\n",
       "    try {\n",
       "      root._bokeh_onload_callbacks.forEach(function(callback) { callback() });\n",
       "    }\n",
       "    finally {\n",
       "      delete root._bokeh_onload_callbacks\n",
       "    }\n",
       "    console.info(\"Bokeh: all callbacks have finished\");\n",
       "  }\n",
       "\n",
       "  function load_libs(js_urls, callback) {\n",
       "    root._bokeh_onload_callbacks.push(callback);\n",
       "    if (root._bokeh_is_loading > 0) {\n",
       "      console.log(\"Bokeh: BokehJS is being loaded, scheduling callback at\", now());\n",
       "      return null;\n",
       "    }\n",
       "    if (js_urls == null || js_urls.length === 0) {\n",
       "      run_callbacks();\n",
       "      return null;\n",
       "    }\n",
       "    console.log(\"Bokeh: BokehJS not loaded, scheduling load and callback at\", now());\n",
       "    root._bokeh_is_loading = js_urls.length;\n",
       "    for (var i = 0; i < js_urls.length; i++) {\n",
       "      var url = js_urls[i];\n",
       "      var s = document.createElement('script');\n",
       "      s.src = url;\n",
       "      s.async = false;\n",
       "      s.onreadystatechange = s.onload = function() {\n",
       "        root._bokeh_is_loading--;\n",
       "        if (root._bokeh_is_loading === 0) {\n",
       "          console.log(\"Bokeh: all BokehJS libraries loaded\");\n",
       "          run_callbacks()\n",
       "        }\n",
       "      };\n",
       "      s.onerror = function() {\n",
       "        console.warn(\"failed to load library \" + url);\n",
       "      };\n",
       "      console.log(\"Bokeh: injecting script tag for BokehJS library: \", url);\n",
       "      document.getElementsByTagName(\"head\")[0].appendChild(s);\n",
       "    }\n",
       "  };var element = document.getElementById(\"5b3a01d7-9117-48df-947e-1574e4a4a2fe\");\n",
       "  if (element == null) {\n",
       "    console.log(\"Bokeh: ERROR: autoload.js configured with elementid '5b3a01d7-9117-48df-947e-1574e4a4a2fe' but no matching script tag was found. \")\n",
       "    return false;\n",
       "  }\n",
       "\n",
       "  var js_urls = [\"https://cdn.pydata.org/bokeh/release/bokeh-0.12.13.min.js\", \"https://cdn.pydata.org/bokeh/release/bokeh-widgets-0.12.13.min.js\", \"https://cdn.pydata.org/bokeh/release/bokeh-tables-0.12.13.min.js\", \"https://cdn.pydata.org/bokeh/release/bokeh-gl-0.12.13.min.js\"];\n",
       "\n",
       "  var inline_js = [\n",
       "    function(Bokeh) {\n",
       "      Bokeh.set_log_level(\"info\");\n",
       "    },\n",
       "    \n",
       "    function(Bokeh) {\n",
       "      \n",
       "    },\n",
       "    function(Bokeh) {\n",
       "      console.log(\"Bokeh: injecting CSS: https://cdn.pydata.org/bokeh/release/bokeh-0.12.13.min.css\");\n",
       "      Bokeh.embed.inject_css(\"https://cdn.pydata.org/bokeh/release/bokeh-0.12.13.min.css\");\n",
       "      console.log(\"Bokeh: injecting CSS: https://cdn.pydata.org/bokeh/release/bokeh-widgets-0.12.13.min.css\");\n",
       "      Bokeh.embed.inject_css(\"https://cdn.pydata.org/bokeh/release/bokeh-widgets-0.12.13.min.css\");\n",
       "      console.log(\"Bokeh: injecting CSS: https://cdn.pydata.org/bokeh/release/bokeh-tables-0.12.13.min.css\");\n",
       "      Bokeh.embed.inject_css(\"https://cdn.pydata.org/bokeh/release/bokeh-tables-0.12.13.min.css\");\n",
       "    }\n",
       "  ];\n",
       "\n",
       "  function run_inline_js() {\n",
       "    \n",
       "    if ((root.Bokeh !== undefined) || (force === true)) {\n",
       "      for (var i = 0; i < inline_js.length; i++) {\n",
       "        inline_js[i].call(root, root.Bokeh);\n",
       "      }if (force === true) {\n",
       "        display_loaded();\n",
       "      }} else if (Date.now() < root._bokeh_timeout) {\n",
       "      setTimeout(run_inline_js, 100);\n",
       "    } else if (!root._bokeh_failed_load) {\n",
       "      console.log(\"Bokeh: BokehJS failed to load within specified timeout.\");\n",
       "      root._bokeh_failed_load = true;\n",
       "    } else if (force !== true) {\n",
       "      var cell = $(document.getElementById(\"5b3a01d7-9117-48df-947e-1574e4a4a2fe\")).parents('.cell').data().cell;\n",
       "      cell.output_area.append_execute_result(NB_LOAD_WARNING)\n",
       "    }\n",
       "\n",
       "  }\n",
       "\n",
       "  if (root._bokeh_is_loading === 0) {\n",
       "    console.log(\"Bokeh: BokehJS loaded, going straight to plotting\");\n",
       "    run_inline_js();\n",
       "  } else {\n",
       "    load_libs(js_urls, function() {\n",
       "      console.log(\"Bokeh: BokehJS plotting callback run at\", now());\n",
       "      run_inline_js();\n",
       "    });\n",
       "  }\n",
       "}(window));"
      ],
      "application/vnd.bokehjs_load.v0+json": "\n(function(root) {\n  function now() {\n    return new Date();\n  }\n\n  var force = true;\n\n  if (typeof (root._bokeh_onload_callbacks) === \"undefined\" || force === true) {\n    root._bokeh_onload_callbacks = [];\n    root._bokeh_is_loading = undefined;\n  }\n\n  \n\n  \n  if (typeof (root._bokeh_timeout) === \"undefined\" || force === true) {\n    root._bokeh_timeout = Date.now() + 5000;\n    root._bokeh_failed_load = false;\n  }\n\n  var NB_LOAD_WARNING = {'data': {'text/html':\n     \"<div style='background-color: #fdd'>\\n\"+\n     \"<p>\\n\"+\n     \"BokehJS does not appear to have successfully loaded. If loading BokehJS from CDN, this \\n\"+\n     \"may be due to a slow or bad network connection. Possible fixes:\\n\"+\n     \"</p>\\n\"+\n     \"<ul>\\n\"+\n     \"<li>re-rerun `output_notebook()` to attempt to load from CDN again, or</li>\\n\"+\n     \"<li>use INLINE resources instead, as so:</li>\\n\"+\n     \"</ul>\\n\"+\n     \"<code>\\n\"+\n     \"from bokeh.resources import INLINE\\n\"+\n     \"output_notebook(resources=INLINE)\\n\"+\n     \"</code>\\n\"+\n     \"</div>\"}};\n\n  function display_loaded() {\n    var el = document.getElementById(\"5b3a01d7-9117-48df-947e-1574e4a4a2fe\");\n    if (el != null) {\n      el.textContent = \"BokehJS is loading...\";\n    }\n    if (root.Bokeh !== undefined) {\n      if (el != null) {\n        el.textContent = \"BokehJS \" + root.Bokeh.version + \" successfully loaded.\";\n      }\n    } else if (Date.now() < root._bokeh_timeout) {\n      setTimeout(display_loaded, 100)\n    }\n  }\n\n\n  function run_callbacks() {\n    try {\n      root._bokeh_onload_callbacks.forEach(function(callback) { callback() });\n    }\n    finally {\n      delete root._bokeh_onload_callbacks\n    }\n    console.info(\"Bokeh: all callbacks have finished\");\n  }\n\n  function load_libs(js_urls, callback) {\n    root._bokeh_onload_callbacks.push(callback);\n    if (root._bokeh_is_loading > 0) {\n      console.log(\"Bokeh: BokehJS is being loaded, scheduling callback at\", now());\n      return null;\n    }\n    if (js_urls == null || js_urls.length === 0) {\n      run_callbacks();\n      return null;\n    }\n    console.log(\"Bokeh: BokehJS not loaded, scheduling load and callback at\", now());\n    root._bokeh_is_loading = js_urls.length;\n    for (var i = 0; i < js_urls.length; i++) {\n      var url = js_urls[i];\n      var s = document.createElement('script');\n      s.src = url;\n      s.async = false;\n      s.onreadystatechange = s.onload = function() {\n        root._bokeh_is_loading--;\n        if (root._bokeh_is_loading === 0) {\n          console.log(\"Bokeh: all BokehJS libraries loaded\");\n          run_callbacks()\n        }\n      };\n      s.onerror = function() {\n        console.warn(\"failed to load library \" + url);\n      };\n      console.log(\"Bokeh: injecting script tag for BokehJS library: \", url);\n      document.getElementsByTagName(\"head\")[0].appendChild(s);\n    }\n  };var element = document.getElementById(\"5b3a01d7-9117-48df-947e-1574e4a4a2fe\");\n  if (element == null) {\n    console.log(\"Bokeh: ERROR: autoload.js configured with elementid '5b3a01d7-9117-48df-947e-1574e4a4a2fe' but no matching script tag was found. \")\n    return false;\n  }\n\n  var js_urls = [\"https://cdn.pydata.org/bokeh/release/bokeh-0.12.13.min.js\", \"https://cdn.pydata.org/bokeh/release/bokeh-widgets-0.12.13.min.js\", \"https://cdn.pydata.org/bokeh/release/bokeh-tables-0.12.13.min.js\", \"https://cdn.pydata.org/bokeh/release/bokeh-gl-0.12.13.min.js\"];\n\n  var inline_js = [\n    function(Bokeh) {\n      Bokeh.set_log_level(\"info\");\n    },\n    \n    function(Bokeh) {\n      \n    },\n    function(Bokeh) {\n      console.log(\"Bokeh: injecting CSS: https://cdn.pydata.org/bokeh/release/bokeh-0.12.13.min.css\");\n      Bokeh.embed.inject_css(\"https://cdn.pydata.org/bokeh/release/bokeh-0.12.13.min.css\");\n      console.log(\"Bokeh: injecting CSS: https://cdn.pydata.org/bokeh/release/bokeh-widgets-0.12.13.min.css\");\n      Bokeh.embed.inject_css(\"https://cdn.pydata.org/bokeh/release/bokeh-widgets-0.12.13.min.css\");\n      console.log(\"Bokeh: injecting CSS: https://cdn.pydata.org/bokeh/release/bokeh-tables-0.12.13.min.css\");\n      Bokeh.embed.inject_css(\"https://cdn.pydata.org/bokeh/release/bokeh-tables-0.12.13.min.css\");\n    }\n  ];\n\n  function run_inline_js() {\n    \n    if ((root.Bokeh !== undefined) || (force === true)) {\n      for (var i = 0; i < inline_js.length; i++) {\n        inline_js[i].call(root, root.Bokeh);\n      }if (force === true) {\n        display_loaded();\n      }} else if (Date.now() < root._bokeh_timeout) {\n      setTimeout(run_inline_js, 100);\n    } else if (!root._bokeh_failed_load) {\n      console.log(\"Bokeh: BokehJS failed to load within specified timeout.\");\n      root._bokeh_failed_load = true;\n    } else if (force !== true) {\n      var cell = $(document.getElementById(\"5b3a01d7-9117-48df-947e-1574e4a4a2fe\")).parents('.cell').data().cell;\n      cell.output_area.append_execute_result(NB_LOAD_WARNING)\n    }\n\n  }\n\n  if (root._bokeh_is_loading === 0) {\n    console.log(\"Bokeh: BokehJS loaded, going straight to plotting\");\n    run_inline_js();\n  } else {\n    load_libs(js_urls, function() {\n      console.log(\"Bokeh: BokehJS plotting callback run at\", now());\n      run_inline_js();\n    });\n  }\n}(window));"
     },
     "metadata": {},
     "output_type": "display_data"
    }
   ],
   "source": [
    "#Bokeh plotting\n",
    "from bokeh.io import push_notebook, show, output_notebook\n",
    "from bokeh.plotting import figure\n",
    "from bokeh.models import Span, Label, Arrow, NormalHead\n",
    "from bokeh.models import HoverTool, tools, ColumnDataSource, CustomJS, Slider, BoxAnnotation\n",
    "from bokeh.layouts import  column, row\n",
    "from bokeh.palettes import Category20_18\n",
    "import re\n",
    "import glob, os\n",
    "from astropy.io import fits\n",
    "import urllib\n",
    "#from urllib import urlretrieve\n",
    "from sklearn.decomposition import TruncatedSVD\n",
    "from sklearn.decomposition import PCA\n",
    "\n",
    "#Garbage collector\n",
    "import gc\n",
    "\n",
    "from pyraf import iraf\n",
    "output_notebook()\n",
    "iraf.noao()\n",
    "iraf.noao.onedspec()\n",
    "iraf.dataio()"
   ]
  },
  {
   "cell_type": "markdown",
   "metadata": {},
   "source": [
    "Defined the classes. Lines and spec. Add a new attribute with the general type of star. "
   ]
  },
  {
   "cell_type": "code",
   "execution_count": 2,
   "metadata": {},
   "outputs": [],
   "source": [
    "#Emission Lines\n",
    "class line(object):\n",
    "    \"\"\"Line with the name of the line, line center and the region around it. \n",
    "    This region around it will be use to fit it using IRAF function. It has to be a list of numbers\"\"\"\n",
    "    def __init__(self,name,linecenter,regiontofit):\n",
    "        self.name = name\n",
    "        self.linecenter = linecenter\n",
    "        self.regiontofit = regiontofit\n",
    "        \n",
    "def find_nearest(array,value):\n",
    "    idx = (np.abs(array-value)).argmin()\n",
    "    return idx, array[idx]\n",
    "\n",
    "def isDigit(x):\n",
    "    try:\n",
    "        float(x)\n",
    "        return True\n",
    "    except ValueError:\n",
    "        return False\n",
    "    \n",
    "def gaussian(x, mu, sig,core):\n",
    "    \"\"\"Gaussian\"\"\"\n",
    "    return core*np.exp(-np.power(x - mu, 2.) / (2 * np.power(sig, 2.)))\n",
    "\n",
    "        \n",
    "class spec2(object):\n",
    "    \"\"\"Spectra created from the url. Probably in the future better with the fiber\n",
    "    , plate and MJD\"\"\"\n",
    "    def __init__(self,url):\n",
    "        self.url = url\n",
    "        self.name = url.split('/')[-1]\n",
    "        self.wave, self.flux, self.model, self.type, self.typegeneral = self.get_type()\n",
    "       \n",
    "            \n",
    "    def get_type(self, verbose=False):\n",
    "        \"\"\"Get the type, flux, wavelenght and model from the SDSS TABLE. \n",
    "        It downloadst he fit if it doesnt exist. Had to do it like that becase it would waint until the download\n",
    "        to call the other method\"\"\"\n",
    "        #Download if it doesnt't exists. \n",
    "        if not os.path.isfile(self.name):\n",
    "            file_name = self.name\n",
    "            u = urllib.urlopen(self.url)\n",
    "            f = open(file_name, 'wb')\n",
    "            meta = u.info()\n",
    "            file_size = int(meta.getheaders(\"Content-Length\")[0])\n",
    "            #print \"Downloading: %s Bytes: %s\" % (file_name, file_size)\n",
    "\n",
    "            file_size_dl = 0\n",
    "            block_sz = 8192\n",
    "            while True:\n",
    "                buffer = u.read(block_sz)\n",
    "                if not buffer:\n",
    "                    break\n",
    "\n",
    "                file_size_dl += len(buffer)\n",
    "                f.write(buffer)\n",
    "                status = r\"%10d  [%3.2f%%]\" % (file_size_dl, file_size_dl * 100. / file_size)\n",
    "                status = status + chr(8)*(len(status)+1)\n",
    "                if verbose:\n",
    "                    print status,\n",
    "\n",
    "            f.close()\n",
    "            #print('Downloaded '+ self.name)\n",
    "        \n",
    "        ob = fits.open(self.name,memmap=False)\n",
    "        #Get data and save wavelenft in x, and flux on y\n",
    "        dataob = ob[1].data\n",
    "        x = 10**(dataob['loglam'])\n",
    "        y2 = dataob['model']\n",
    "        y = dataob['flux']\n",
    "        typee = ob[2].data['SUBCLASS'][0]\n",
    "        ob.close()\n",
    "        #Delete\n",
    "        del ob\n",
    "        del dataob\n",
    "        gc.collect()\n",
    "        \n",
    "        npattern = re.compile('[O,B,A,F,G,K,WD,M,CV]{1,2}')\n",
    "        typegeneral = npattern.findall(typee)\n",
    "        if 'WD' in typegeneral:\n",
    "            typegeneral = 'WD'\n",
    "        elif len(typegeneral) == 0:\n",
    "            typegeneral = 'Other'\n",
    "        else:\n",
    "            typegeneral = typegeneral[0]\n",
    "        #delete to aboid too many oepenf files see\n",
    "        #http://docs.astropy.org/en/stable/io/fits/appendix/faq.html#i-m-opening-many-fits-files-in-a-loop-and-getting-oserror-too-many-open-files\n",
    "        return x,y,y2, typee, typegeneral\n",
    "    \n",
    "    def get_iraffits(self, modelfit = True):\n",
    "        \"\"\"From the SDSS table creates a fits file to work with iraf\"\"\"\n",
    "        #Which one to convert to iraf fts\n",
    "        if modelfit:\n",
    "            fluxormodel = self.model\n",
    "        else:\n",
    "            fluxormodel = self.flux\n",
    "        #Name of iraf .txt file and create text file\n",
    "        \n",
    "        namenewfits = '{name}.txt'.format(name=self.name)\n",
    "        with open(namenewfits,'w') as file:\n",
    "            for x,y in zip(self.wave,fluxormodel):\n",
    "                file.write('{}\\t{}\\n'.format(x,y))\n",
    "                \n",
    "        #Create fits file from text file interpolation to work wtih IRAF functions\n",
    "        iraffitsname = 'iraf'+self.name\n",
    "        if os.path.exists(iraffitsname+'.fits'):\n",
    "            os.remove(iraffitsname+'.fits')\n",
    "        iraf.rspectext(namenewfits,iraffitsname,dtype='interp')\n",
    "        #Remove the text file\n",
    "        os.remove(namenewfits)\n",
    "        \n",
    "    \n",
    "    def fit_lines(self, dicoflines, errorestimate = True, verbose='No'):\n",
    "        \"\"\"Fit lines using gaussian fitport. It populates a diccionary with the lines\n",
    "         and the fit of the lines. The parameter if a diccionary of lines objects. \n",
    "         The class is define before. Verbose can be yes or NO\"\"\"\n",
    "        self.linesdicall = []\n",
    "        errorparam = []\n",
    "        if not os.path.exists('iraf'+self.name):\n",
    "            self.get_iraffits()\n",
    "            \n",
    "        #Initialize files log and lines\n",
    "        ! echo '' > fited.log\n",
    "\n",
    "        for indexline,linesfit in enumerate(dicoflines):\n",
    "            regionf = \"{} {}\".format(linesfit.regiontofit[0],linesfit.regiontofit[1])\n",
    "            #wavelenght\n",
    "            xlimns = [find_nearest(self.wave,i)[0] for i in linesfit.regiontofit   ]\n",
    "            wavex = self.wave[xlimns[0]:xlimns[1]]\n",
    "            lineszero = linesfit.linecenter\n",
    "            ! echo '$lineszero' > lines.lines\n",
    "\n",
    "            filename = 'iraf'+self.name\n",
    "            #Error estimation iraf: http://stsdas.stsci.edu/cgi-bin/gethelp.cgi?fitprofs\n",
    "            if errorestimate:        \n",
    "                iraf.fitprofs(filename,pos='lines.lines', reg=regionf ,\n",
    "                              fitbackground= 'yes', \n",
    "                              logfile='fited.log'\n",
    "                              ,nerrsample='100',sigma0='4',invgain='4',verbose=verbose)\n",
    "            else:\n",
    "                iraf.fitprofs(filename,pos='lines.lines', reg=regionf ,\n",
    "                              fitbackground= 'yes', \n",
    "                              logfile='fited.log', verbose=verbose)\n",
    "\n",
    "            #Plotting the gaussian\n",
    "            #Find in log file of fitprofs.  \n",
    "            npattern = re.compile('[-\\d.]+')\n",
    "            npattern2 = re.compile('[-\\d.E?]+') #Gets the exponentioals\n",
    "\n",
    "            gparameters=[]\n",
    "            with open('fited.log','r') as file:\n",
    "                for lines in file:\n",
    "\n",
    "                    if '(' not in lines:\n",
    "                        temp = npattern2.findall(lines)\n",
    "                        if 'INDEF' in lines:\n",
    "                            gparameters.append(7*[0])\n",
    "                    else:\n",
    "                        errorparam.append(npattern2.findall(lines))\n",
    "\n",
    "                    if len(temp) == 7 and all(isDigit(i) for i in temp) and 'INDEF' not in lines:\n",
    "                        gparameters.append(temp)\n",
    "\n",
    "            #gaussian\n",
    "            if len(gparameters) > 0:\n",
    "                gparamfinal = [ float(i) for i in gparameters[-1] ]\n",
    "                centerg, contg, fluxg, eqwg, coreg, fwhmg, fwhml = gparamfinal\n",
    "                yg = gaussian(wavex,centerg,fwhmg/2.3538,coreg) + contg\n",
    "\n",
    "\n",
    "            if errorestimate == True:\n",
    "                errorparamfinal = [ float(i) for i in errorparam[-1] ]\n",
    "                #print(gparamfinal)\n",
    "                #print(errorparamfinal)\n",
    "\n",
    "\n",
    "                linesdic = {'linename':linesfit.name,\n",
    "                             'center':centerg,\n",
    "                              'EW': eqwg,\n",
    "                              'EWerror':errorparamfinal[3],\n",
    "                            'fluxg':fluxg,\n",
    "                            'coregaus':coreg,\n",
    "                            'fwgmgaus':fwhmg,\n",
    "                            'contgaus':contg,\n",
    "                            'gaussian':{'x':wavex,'y':yg}\n",
    "                            }\n",
    "            else:\n",
    "                 linesdic = {'linename':linesfit.name,\n",
    "                             'center':centerg,\n",
    "                              'EW': eqwg,\n",
    "                              'EWerror':0,\n",
    "                            'fluxg':fluxg,\n",
    "                            'coregaus':coreg,\n",
    "                            'fwgmgaus':fwhmg,\n",
    "                            'contgaus':contg,\n",
    "                            'gaussian':{'x':wavex,'y':yg}\n",
    "                            }\n",
    "                \n",
    "                \n",
    "                \n",
    "            self.linesdicall.append(linesdic)\n",
    "\n",
    "        \n",
    "        \n"
   ]
  },
  {
   "cell_type": "code",
   "execution_count": 3,
   "metadata": {},
   "outputs": [
    {
     "name": "stdout",
     "output_type": "stream",
     "text": [
      "Reading 12 files and 10 lines per file\n"
     ]
    },
    {
     "name": "stderr",
     "output_type": "stream",
     "text": [
      "/home/mmarcano/anaconda3/envs/iraf27/lib/python2.7/site-packages/ipykernel_launcher.py:23: RuntimeWarning: divide by zero encountered in divide\n"
     ]
    },
    {
     "name": "stdout",
     "output_type": "stream",
     "text": [
      "CPU times: user 2min 29s, sys: 38.1 s, total: 3min 7s\n",
      "Wall time: 5min 47s\n"
     ]
    }
   ],
   "source": [
    "%%time\n",
    "diclines = {line('P15',8547,[8520,8560]),line('P14',8600,[8600-20,8600+20]),\n",
    "           line('Halpha',6562,[6550,6575]),line('P16',8504,[8504-20,8504+20]),\n",
    "            line('P13',8667,[8667-20,8667+20]),line('P12',8752,[8752-20,8752+20]),\n",
    "           line('P11',8865,[8865-20,8865+20]),line('P10',9017,[9017-20,9017+20])}\n",
    "\n",
    "\n",
    "\n",
    "\n",
    "dicofspectra = [];\n",
    "filestoread = ['../listG1V.txt',\n",
    "              '../listG2.txt','../listG4V.txt','../listG5III+.txt',\n",
    "               '../listG8V.txt','../listG9IV.txt','../listK1III.txt',\n",
    "               '../listK2III.txt','../listK3III.txt','../listK4III.txt',\n",
    "               '../listK5III.txt','../listK7.txt']\n",
    "\n",
    "#filestoread = glob.glob('../list*.txt')\n",
    "\n",
    "limitonlines = 10\n",
    "print('Reading {} files and {} lines per file'.format(len(filestoread),limitonlines))\n",
    "\n",
    "for index,files in enumerate(filestoread):\n",
    "    with open(files,'r') as f:\n",
    "        linereads = f.readlines()\n",
    "        for i in range(min(limitonlines, len(linereads))):\n",
    "            lineread = linereads[i]\n",
    "            #print(lineread)\n",
    "            url = lineread.split(',')[1]\n",
    "            #Strip Return a copy of the string with leading and trailing characters removed. \n",
    "            url = url.strip()\n",
    "            url = url.replace('segue1','sdss')\n",
    "            #print(url)\n",
    "            tempspec = spec2(url)\n",
    "            dicofspectra.append(tempspec)\n",
    "            gc.collect()\n",
    "            #print(index)\n",
    "            \n",
    "            \n",
    "#Plot parameters\n",
    "colors = 100*Category20_18 #+ Viridis8 + Dark2_8 + Paired8 + Set1_4\n",
    "#Plot range\n",
    "xr = (5000,8900)\n",
    "yr = (0,40)\n",
    "\n",
    "\n",
    "#Tool to get wavelength\n",
    "hover2 = HoverTool(\n",
    "        tooltips=[\n",
    "            (\"(x,y)\", \"($x{1}, $y)\"),\n",
    "        ]\n",
    "    )\n",
    "#Add the tool\n",
    "#Start index of color\n",
    "index = 0\n",
    "fit = True\n",
    "plot = False\n",
    "\n",
    "if plot:\n",
    "        #Create the Bokeh Figure\n",
    "    pl =  figure(x_axis_label='Angstrom', y_axis_label='Y',title=\"Click on the desired stellar template to overplot\", x_range=xr, y_range=yr\n",
    "                  ,active_drag='pan', active_scroll='wheel_zoom',\n",
    "                  plot_width=900, plot_height=1000\n",
    "                 )\n",
    "\n",
    "    pl.add_tools(hover2)\n",
    "\n",
    "\n",
    "\n",
    "\n",
    "\n",
    "# Loop over spec object list:\n",
    "\n",
    "for spectra in dicofspectra:\n",
    "\n",
    "    # Plot the \n",
    "    if plot:\n",
    "        t = pl.line(x=spectra.wave,y=spectra.model,color=colors[index], line_alpha=1.0, \n",
    "                line_width=4,legend=spectra.type+str(index),muted_alpha=0.,muted_color=colors[index])\n",
    "\n",
    "    if fit:\n",
    "        try:\n",
    "            spectra.fit_lines(diclines, verbose='No', errorestimate=False)\n",
    "        except:\n",
    "            pass\n",
    "        for i in spectra.linesdicall:\n",
    "            if plot:\n",
    "                pl.line(i['gaussian']['x'],i['gaussian']['y'],color='red', line_alpha=1.,\n",
    "                    line_width=5,legend=tryspec.name,muted_alpha=0.,muted_color=colors[index])\n",
    "\n",
    "    index = index +1\n",
    "\n",
    "if plot:    \n",
    "    pl.legend.location = \"top_left\"\n",
    "    pl.legend.click_policy=\"mute\"\n",
    "\n",
    "    show(pl)  \n",
    "\n",
    "            "
   ]
  },
  {
   "cell_type": "markdown",
   "metadata": {},
   "source": [
    "Now that we got all the spectra we can see all the types of stars and how many of them in the diccionary of spectra we created in the cell above"
   ]
  },
  {
   "cell_type": "code",
   "execution_count": 4,
   "metadata": {},
   "outputs": [
    {
     "data": {
      "text/plain": [
       "(array(['G1V (95128)', 'G2', 'G4V (32923)', 'G5III+... (157910)',\n",
       "        'G8V (101501)', 'G9IV (100030)', 'K1III (18322)', 'K2III (115136)',\n",
       "        'K3III (101673)', 'K4III (136726)', 'K5III (111335)', 'K7'],\n",
       "       dtype='|S18'), array([10, 10, 10, 10, 10, 10, 10, 10, 10, 10, 10, 10]))"
      ]
     },
     "execution_count": 4,
     "metadata": {},
     "output_type": "execute_result"
    }
   ],
   "source": [
    "typess = []\n",
    "for star in dicofspectra:\n",
    "    typess.append(star.type)\n",
    "np.unique(typess,return_counts=True)"
   ]
  },
  {
   "cell_type": "markdown",
   "metadata": {},
   "source": [
    "The lines we fitted"
   ]
  },
  {
   "cell_type": "code",
   "execution_count": 5,
   "metadata": {},
   "outputs": [
    {
     "name": "stdout",
     "output_type": "stream",
     "text": [
      "(0, 'P10')\n",
      "(1, 'P15')\n",
      "(2, 'P14')\n",
      "(3, 'Halpha')\n",
      "(4, 'P16')\n",
      "(5, 'P13')\n",
      "(6, 'P12')\n",
      "(7, 'P11')\n"
     ]
    }
   ],
   "source": [
    "for index,i in enumerate(diclines):\n",
    "    print(index,i.name)"
   ]
  },
  {
   "cell_type": "markdown",
   "metadata": {},
   "source": [
    "Now we created a matrix with n rows and k columns. Where n is the number of fitted lines, and k the number of stars we have in the diccionary. \n",
    "\n",
    "This will be called matrix, we also create a list of the starclass. I should make sure, but I think in each loop the dicofspectra order does not change. "
   ]
  },
  {
   "cell_type": "code",
   "execution_count": 6,
   "metadata": {},
   "outputs": [
    {
     "name": "stdout",
     "output_type": "stream",
     "text": [
      "P10\n",
      "P15\n",
      "P14\n",
      "Halpha\n",
      "P16\n",
      "P13\n",
      "P12\n",
      "P11\n"
     ]
    }
   ],
   "source": [
    "matrix = []\n",
    "#Loop over each line in the diccionart of lines we created. \n",
    "for linesfit in diclines:\n",
    "    print(linesfit.name)\n",
    "    listofeq = []\n",
    "    starclass = []\n",
    "    #Loop over all the stars in the diccionary of spectra.\n",
    "    #For each star if we were able to fit a line get the EW\n",
    "    #Of the line\n",
    "    for indexs,stars in enumerate(dicofspectra):\n",
    "        if hasattr(stars,'linesdicall'):\n",
    "            lines = stars.linesdicall\n",
    "            #We find the line and ew of the lne and append\n",
    "            for line in lines:\n",
    "                if line['linename'] == linesfit.name:\n",
    "                    eq = line['EW']\n",
    "                    listofeq.append(eq)\n",
    "                    starclass.append(stars.type)\n",
    "                    \n",
    "    matrix.append(listofeq)\n",
    "        #    print(stars.typegeneral)"
   ]
  },
  {
   "cell_type": "code",
   "execution_count": 7,
   "metadata": {},
   "outputs": [
    {
     "data": {
      "text/plain": [
       "(8, 120)"
      ]
     },
     "execution_count": 7,
     "metadata": {},
     "output_type": "execute_result"
    }
   ],
   "source": [
    "mat = np.array(matrix)\n",
    "mat.shape"
   ]
  },
  {
   "cell_type": "markdown",
   "metadata": {},
   "source": [
    "We can decompose using the [numpy SVD](https://docs.scipy.org/doc/numpy/reference/generated/numpy.linalg.svd.html) function:"
   ]
  },
  {
   "cell_type": "code",
   "execution_count": 8,
   "metadata": {},
   "outputs": [
    {
     "name": "stdout",
     "output_type": "stream",
     "text": [
      "Shape of U: (8, 8)\n",
      "Shape of V Transpose: (8, 120)\n",
      "Shape of D: (8,)\n"
     ]
    }
   ],
   "source": [
    "U, D, Vtranspose = np.linalg.svd(mat, full_matrices=False)\n",
    "print('Shape of U: {}'.format(U.shape))\n",
    "print('Shape of V Transpose: {}'.format(Vtranspose.shape))\n",
    "print('Shape of D: {}'.format(D.shape))"
   ]
  },
  {
   "cell_type": "markdown",
   "metadata": {},
   "source": [
    "We only care about the two main singular values so we do:\n"
   ]
  },
  {
   "cell_type": "code",
   "execution_count": 9,
   "metadata": {},
   "outputs": [
    {
     "name": "stdout",
     "output_type": "stream",
     "text": [
      "Shape of new U: (8, 2)\n",
      "Shape of new V Transpose: (2, 120)\n",
      "Shape of new D: (2,)\n",
      "Singular values: [ 118448.44344506   24518.51213346]\n"
     ]
    }
   ],
   "source": [
    "dim = 2\n",
    "Unew = U[:,0:dim]\n",
    "Dnew= D[0:dim]\n",
    "Vtranspose_new = Vtranspose[0:dim,:]\n",
    "\n",
    "print('Shape of new U: {}'.format(Unew.shape))\n",
    "print('Shape of new V Transpose: {}'.format(Vtranspose_new.shape))\n",
    "print('Shape of new D: {}'.format(Dnew.shape))\n",
    "\n",
    "print('Singular values: {}'.format(Dnew[0:dim]))"
   ]
  },
  {
   "cell_type": "markdown",
   "metadata": {},
   "source": [
    "To make sure it works we can also do it via Trucanted of Scikit-learn. Lets check the singular values and the Percentage of variance explained by each of the selected components. The fit and fit_transform expect a matrix in the form **(n_samples, n_features)** so lets transpose the matrix and call the TruncatedSVD."
   ]
  },
  {
   "cell_type": "code",
   "execution_count": 10,
   "metadata": {},
   "outputs": [
    {
     "name": "stdout",
     "output_type": "stream",
     "text": [
      "Singular values: [ 118448.44344506   24518.51213346]\n",
      "Variance ratio: [ 0.8808827   0.03662017]\n"
     ]
    }
   ],
   "source": [
    "sklearn_svd = TruncatedSVD(n_components=2,algorithm='arpack')\n",
    "matsvd = mat.T\n",
    "svdfit = sklearn_svd.fit(matsvd)\n",
    "fitmat = svdfit.fit_transform(matsvd)\n",
    "\n",
    "print('Singular values: {}'.format(svdfit.singular_values_))\n",
    "print('Variance ratio: {}'.format(svdfit.explained_variance_ratio_))"
   ]
  },
  {
   "cell_type": "markdown",
   "metadata": {},
   "source": [
    "So the first component accounts for almost 90% of the variance of the data.  Let's see the arrays we get"
   ]
  },
  {
   "cell_type": "code",
   "execution_count": 11,
   "metadata": {},
   "outputs": [
    {
     "name": "stdout",
     "output_type": "stream",
     "text": [
      "SVD compoments (n_components, n_features): (2, 8)\n"
     ]
    }
   ],
   "source": [
    "print('SVD compoments (n_components, n_features): {}'.format(svdfit.components_.shape))"
   ]
  },
  {
   "cell_type": "code",
   "execution_count": 12,
   "metadata": {},
   "outputs": [
    {
     "name": "stdout",
     "output_type": "stream",
     "text": [
      "fit model to matrix returns (n_samples, n_components): [[  2.09153658e-01   3.62483645e+00]\n",
      " [  1.27339359e-01   2.21618854e+00]\n",
      " [  2.34568067e-01   3.99900696e+00]\n",
      " [  2.18067204e-01   3.88359334e+00]\n",
      " [  9.69681518e-02   1.66905152e+00]\n",
      " [  1.96534337e-01   3.63353716e+00]\n",
      " [  2.41719280e-01   4.42623580e+00]\n",
      " [  9.71706776e-02   1.69529121e+00]\n",
      " [  1.32871719e-01   2.33492286e+00]\n",
      " [  1.32023983e-01   2.28317220e+00]\n",
      " [  1.23036971e-01   1.10719024e+00]\n",
      " [  1.39075862e-01   1.23406434e+00]\n",
      " [  7.33323691e+00   9.19153741e+03]\n",
      " [  1.02964534e-01   8.97023579e-01]\n",
      " [  1.80737008e-01   1.56643084e+00]\n",
      " [  1.91560953e-01   1.69119959e+00]\n",
      " [  1.74103539e-01   1.65402440e+00]\n",
      " [  1.51191679e-01   1.32549293e+00]\n",
      " [  1.75989787e-01   1.52545259e+00]\n",
      " [  1.98448869e-01   1.71000424e+00]\n",
      " [  5.73685109e+01   6.78102210e+02]\n",
      " [  2.45483470e+00   3.27276615e+01]\n",
      " [  3.60853561e+00   6.22064741e+02]\n",
      " [  4.10652501e-01   1.69348553e+00]\n",
      " [  8.23381430e-01   1.92182823e+00]\n",
      " [  1.35193130e+00   2.38103166e+00]\n",
      " [  9.06384625e-01   2.32821223e+00]\n",
      " [  6.06597586e+02   1.50933247e+04]\n",
      " [  8.57010245e+03   3.54523251e+02]\n",
      " [  8.79137642e-01   2.70294354e+00]\n",
      " [  1.52917847e-01   2.78824141e+00]\n",
      " [  2.31454144e-01   1.87924483e+00]\n",
      " [  3.09638212e-01   2.46993704e+00]\n",
      " [  3.91460881e-01   1.00427193e+00]\n",
      " [  1.40164247e-01   2.58452816e+00]\n",
      " [  1.25605790e-01   2.29301767e+00]\n",
      " [  1.61525576e-01   3.03151504e+00]\n",
      " [  9.57373440e-01   1.94503514e+00]\n",
      " [ -4.44171896e+00   3.98329307e+00]\n",
      " [  3.33226343e-01   6.05194249e+00]\n",
      " [  1.13621311e-01   1.67219853e+00]\n",
      " [  1.40877671e-01   2.06729265e+00]\n",
      " [  1.43687669e+04  -6.41337588e+01]\n",
      " [  1.83198731e+00   2.44483091e+00]\n",
      " [  7.73023880e+03   6.40403915e+03]\n",
      " [ -2.77889983e-01   2.05914677e+00]\n",
      " [  3.34502232e+00   2.24772313e+00]\n",
      " [  9.80585953e+03  -4.03407377e+01]\n",
      " [  1.37126998e-01   1.14996639e+00]\n",
      " [  1.97866599e-01   3.02664335e+00]\n",
      " [  1.45253086e+00   2.15521766e+00]\n",
      " [  3.04192225e+00   2.22623823e+00]\n",
      " [  2.20284527e+00   2.39871034e+00]\n",
      " [  3.43464400e+04  -1.53858119e+02]\n",
      " [  5.24719437e+00   7.73254571e+01]\n",
      " [  1.11257136e+05  -5.07835085e+02]\n",
      " [  8.51072762e-02   1.97326964e+00]\n",
      " [  3.10638157e+01   1.69044991e+00]\n",
      " [  3.01259386e+00   2.35133626e+00]\n",
      " [  2.25208768e+02   1.31615189e+00]\n",
      " [ -2.10434820e-01   2.81654827e+00]\n",
      " [  2.97015780e+00   5.48091278e+02]\n",
      " [ -2.02277344e-01   2.27969072e+00]\n",
      " [ -2.01627874e-01   2.69330134e+00]\n",
      " [  2.95935387e+00   1.15405096e+02]\n",
      " [ -1.49700294e-01   2.20565667e+00]\n",
      " [  3.29722223e+00   2.62126732e+02]\n",
      " [ -2.34468583e-01   2.42859963e+00]\n",
      " [ -2.36702427e-01   2.34809042e+00]\n",
      " [  3.68842094e-01   7.65825761e+01]\n",
      " [  1.30274693e+01   5.99636106e+02]\n",
      " [ -2.98493872e-01   2.22162926e+00]\n",
      " [ -2.36753888e-01   2.23288128e+00]\n",
      " [ -1.88811150e-01   2.31417549e+00]\n",
      " [  1.41867450e+01   3.30240916e+02]\n",
      " [  2.07314336e+01   2.68334918e+02]\n",
      " [  2.03231311e+01   2.63287973e+02]\n",
      " [  6.10947318e-01   1.06571533e+01]\n",
      " [ -2.97102223e-02   4.46092199e+01]\n",
      " [ -2.87512616e-01   2.32848336e+00]\n",
      " [  1.54126584e+01   2.01679332e+02]\n",
      " [ -2.87885244e-01   2.24958784e+00]\n",
      " [ -7.88846417e+00   2.03845791e+00]\n",
      " [  3.50666398e+00   1.18495511e+02]\n",
      " [  7.79174882e+01   1.34756767e+04]\n",
      " [ -3.65169659e-01   2.89868558e+00]\n",
      " [ -1.96056708e-01   2.28493244e+00]\n",
      " [  3.36780184e+00   6.29327016e+02]\n",
      " [  4.04419729e+00   7.32240825e+02]\n",
      " [ -3.23909952e-01   2.36690390e+00]\n",
      " [  1.51640466e-01   2.52668598e+02]\n",
      " [  1.23045733e+00   4.05243457e+01]\n",
      " [ -1.84601155e+00   3.83693160e+00]\n",
      " [  2.84142090e+01   5.16546070e+03]\n",
      " [ -1.72950532e+00   3.15465935e+00]\n",
      " [  3.33461294e+01   6.01892102e+03]\n",
      " [ -3.18218447e+00   2.80214494e+00]\n",
      " [ -2.07526242e+00   2.63090492e+00]\n",
      " [ -1.15581388e+00   1.70188443e+02]\n",
      " [ -1.30107611e+00   2.87894922e+00]\n",
      " [ -6.01998805e-01   3.28810805e+00]\n",
      " [  1.49204159e-02   2.84744526e+00]\n",
      " [  4.62793735e+03  -1.82289736e+01]\n",
      " [  3.80695212e+03  -1.42812948e+01]\n",
      " [ -3.13413795e+00   2.69907487e+00]\n",
      " [ -2.60027852e+00   2.69028213e+00]\n",
      " [ -4.14723202e-01   2.38685027e+00]\n",
      " [ -7.61789952e-01   2.59714483e+00]\n",
      " [ -5.22720839e-01   2.87741307e+00]\n",
      " [ -2.65058018e+00   2.75555664e+00]\n",
      " [  1.46730494e+00   2.07841245e+00]\n",
      " [  4.26671383e+00   2.48688305e+00]\n",
      " [  1.79271470e+00   2.08135194e+00]\n",
      " [  5.09511398e+00   2.25912854e+00]\n",
      " [  1.41822950e+00   1.81696306e+00]\n",
      " [  1.92695729e+00   1.76821011e+00]\n",
      " [  1.01252527e-01   2.28419902e+00]\n",
      " [  1.82540363e+00   1.91339848e+00]\n",
      " [  2.06210742e+02   1.60598552e+00]\n",
      " [  9.40237136e-02   2.92901485e+00]]\n"
     ]
    }
   ],
   "source": [
    "print('fit model to matrix returns (n_samples, n_components): {}'.format(fitmat))"
   ]
  },
  {
   "cell_type": "markdown",
   "metadata": {},
   "source": [
    "# Plot\n",
    "\n",
    "Create first a diccionary of type of star and color. Then from the list of star class created with the matrix can create a list of color"
   ]
  },
  {
   "cell_type": "code",
   "execution_count": 13,
   "metadata": {},
   "outputs": [
    {
     "data": {
      "text/html": [
       "\n",
       "<div class=\"bk-root\">\n",
       "    <div class=\"bk-plotdiv\" id=\"1e20eb5b-19a7-4660-8276-e8ddda6b1aac\"></div>\n",
       "</div>"
      ]
     },
     "metadata": {},
     "output_type": "display_data"
    },
    {
     "data": {
      "application/javascript": [
       "(function(root) {\n",
       "  function embed_document(root) {\n",
       "    \n",
       "  var docs_json = {\"71c08109-e180-4db7-a3a2-83e25f645378\":{\"roots\":{\"references\":[{\"attributes\":{\"data_source\":{\"id\":\"47a3ae9a-0f0b-40fb-acef-22a043496134\",\"type\":\"ColumnDataSource\"},\"glyph\":{\"id\":\"f2d494e8-7c86-4502-9a97-809105b540b8\",\"type\":\"Circle\"},\"hover_glyph\":null,\"muted_glyph\":null,\"nonselection_glyph\":{\"id\":\"61d3be8c-23e1-4477-960f-1838c46c8976\",\"type\":\"Circle\"},\"selection_glyph\":null,\"view\":{\"id\":\"9b8fc4e8-3381-4d90-9e88-89412a461162\",\"type\":\"CDSView\"}},\"id\":\"6ec71678-8a56-4b32-89c2-4da081c9e712\",\"type\":\"GlyphRenderer\"},{\"attributes\":{\"callback\":null,\"column_names\":[\"y\",\"x\",\"colors\",\"labels\"],\"data\":{\"colors\":[\"#1f77b4\",\"#1f77b4\",\"#1f77b4\",\"#1f77b4\",\"#1f77b4\",\"#1f77b4\",\"#1f77b4\",\"#1f77b4\",\"#1f77b4\",\"#1f77b4\",\"#aec7e8\",\"#aec7e8\",\"#aec7e8\",\"#aec7e8\",\"#aec7e8\",\"#aec7e8\",\"#aec7e8\",\"#aec7e8\",\"#aec7e8\",\"#aec7e8\",\"#ff7f0e\",\"#ff7f0e\",\"#ff7f0e\",\"#ff7f0e\",\"#ff7f0e\",\"#ff7f0e\",\"#ff7f0e\",\"#ff7f0e\",\"#ff7f0e\",\"#ff7f0e\",\"#ffbb78\",\"#ffbb78\",\"#ffbb78\",\"#ffbb78\",\"#ffbb78\",\"#ffbb78\",\"#ffbb78\",\"#ffbb78\",\"#ffbb78\",\"#ffbb78\",\"#2ca02c\",\"#2ca02c\",\"#2ca02c\",\"#2ca02c\",\"#2ca02c\",\"#2ca02c\",\"#2ca02c\",\"#2ca02c\",\"#2ca02c\",\"#2ca02c\",\"#98df8a\",\"#98df8a\",\"#98df8a\",\"#98df8a\",\"#98df8a\",\"#98df8a\",\"#98df8a\",\"#98df8a\",\"#98df8a\",\"#98df8a\",\"#d62728\",\"#d62728\",\"#d62728\",\"#d62728\",\"#d62728\",\"#d62728\",\"#d62728\",\"#d62728\",\"#d62728\",\"#d62728\",\"#ff9896\",\"#ff9896\",\"#ff9896\",\"#ff9896\",\"#ff9896\",\"#ff9896\",\"#ff9896\",\"#ff9896\",\"#ff9896\",\"#ff9896\",\"#9467bd\",\"#9467bd\",\"#9467bd\",\"#9467bd\",\"#9467bd\",\"#9467bd\",\"#9467bd\",\"#9467bd\",\"#9467bd\",\"#9467bd\",\"#c5b0d5\",\"#c5b0d5\",\"#c5b0d5\",\"#c5b0d5\",\"#c5b0d5\",\"#c5b0d5\",\"#c5b0d5\",\"#c5b0d5\",\"#c5b0d5\",\"#c5b0d5\",\"#8c564b\",\"#8c564b\",\"#8c564b\",\"#8c564b\",\"#8c564b\",\"#8c564b\",\"#8c564b\",\"#8c564b\",\"#8c564b\",\"#8c564b\",\"#c49c94\",\"#c49c94\",\"#c49c94\",\"#c49c94\",\"#c49c94\",\"#c49c94\",\"#c49c94\",\"#c49c94\",\"#c49c94\",\"#c49c94\"],\"labels\":[\"G1V (95128)\",\"G1V (95128)\",\"G1V (95128)\",\"G1V (95128)\",\"G1V (95128)\",\"G1V (95128)\",\"G1V (95128)\",\"G1V (95128)\",\"G1V (95128)\",\"G1V (95128)\",\"G2\",\"G2\",\"G2\",\"G2\",\"G2\",\"G2\",\"G2\",\"G2\",\"G2\",\"G2\",\"G4V (32923)\",\"G4V (32923)\",\"G4V (32923)\",\"G4V (32923)\",\"G4V (32923)\",\"G4V (32923)\",\"G4V (32923)\",\"G4V (32923)\",\"G4V (32923)\",\"G4V (32923)\",\"G5III+... (157910)\",\"G5III+... (157910)\",\"G5III+... (157910)\",\"G5III+... (157910)\",\"G5III+... (157910)\",\"G5III+... (157910)\",\"G5III+... (157910)\",\"G5III+... (157910)\",\"G5III+... (157910)\",\"G5III+... (157910)\",\"G8V (101501)\",\"G8V (101501)\",\"G8V (101501)\",\"G8V (101501)\",\"G8V (101501)\",\"G8V (101501)\",\"G8V (101501)\",\"G8V (101501)\",\"G8V (101501)\",\"G8V (101501)\",\"G9IV (100030)\",\"G9IV (100030)\",\"G9IV (100030)\",\"G9IV (100030)\",\"G9IV (100030)\",\"G9IV (100030)\",\"G9IV (100030)\",\"G9IV (100030)\",\"G9IV (100030)\",\"G9IV (100030)\",\"K1III (18322)\",\"K1III (18322)\",\"K1III (18322)\",\"K1III (18322)\",\"K1III (18322)\",\"K1III (18322)\",\"K1III (18322)\",\"K1III (18322)\",\"K1III (18322)\",\"K1III (18322)\",\"K2III (115136)\",\"K2III (115136)\",\"K2III (115136)\",\"K2III (115136)\",\"K2III (115136)\",\"K2III (115136)\",\"K2III (115136)\",\"K2III (115136)\",\"K2III (115136)\",\"K2III (115136)\",\"K3III (101673)\",\"K3III (101673)\",\"K3III (101673)\",\"K3III (101673)\",\"K3III (101673)\",\"K3III (101673)\",\"K3III (101673)\",\"K3III (101673)\",\"K3III (101673)\",\"K3III (101673)\",\"K4III (136726)\",\"K4III (136726)\",\"K4III (136726)\",\"K4III (136726)\",\"K4III (136726)\",\"K4III (136726)\",\"K4III (136726)\",\"K4III (136726)\",\"K4III (136726)\",\"K4III (136726)\",\"K5III (111335)\",\"K5III (111335)\",\"K5III (111335)\",\"K5III (111335)\",\"K5III (111335)\",\"K5III (111335)\",\"K5III (111335)\",\"K5III (111335)\",\"K5III (111335)\",\"K5III (111335)\",\"K7\",\"K7\",\"K7\",\"K7\",\"K7\",\"K7\",\"K7\",\"K7\",\"K7\",\"K7\"],\"x\":{\"__ndarray__\":\"PsgXDIzFyj/26Dz3p0zAPzwNfpBTBs4/UzONSqDpyz9goK2g59K4P6YtFYIJKMk/fX9FSKjwzj+5sWlyLeC4P8v5+8LwAcE/vcdqcSnmwD94ac/UWX+/P+H8ZuM8zcE/hfhrDjxVHUBBFOc74lu6P2BfSuhjIsc/SEl0vRGFyD/VBU5XBknGP+rFbrk/WsM/dHxyVtWGxj8Rzd/FxWbJP3dteV0rr0xAM14/YICjA0DjmcDqR94MQGYRUG0hSNo/vq84AyRZ6j+GTd23gqH1P4eHc1QaAe0/GQcF28f0gkCaBjEdDb3AQIe9yUPlIew/OpnB38+Swz+IG/oUSqDNP8r8K8oc0dM/z1CW8LEN2T9Lpt/r5vDBP/hfk7vZE8A/Aw8tvd6sxD8JBrqfzaLuPzoMYflRxBHATQwVlZRT1T+5f1RGSRa9P24gM45HCMI/ekHRKGIQzEC0DZbt0U/9PzNrQCI9Mr5AecckEfPI0b/YyrEPm8IKQB1BNQXuJsNAkeGjoWCNwT8JPQxVsVPJP3Dh5v+QPfc/Hj+RVdtVCEAn+opXbZ8BQM9pXRROxeBA2qOchSD9FED2uYYrkin7QOgHxSeXybU/WC2/OVYQP0DSu0jPyhkIQJjmCTuuJmxAZEsfN4fvyr+hOhcX4sIHQDyUkVc55Mm/wdaDMvHOyb+eDUm4wawHQE3gORZhKcO/Uqo1DLZgCkDMVngIEQPOvw7/cOBDTM6/TsLg3hub1z/ZmoV0EA4qQFbbmgqGGtO/tVMbjvNNzr9liB259irIv/bNmAqdXyxAQuNSPD+7NEBGHuG4uFI0QKXAkWPhjOM/lz3qQ1tsnr/xG9tQm2bSv358BPdH0y5AiQLxOrZs0r/nI1uNyY0fwBx+SNilDQxAeBxjILh6U0DDEG6P8F7Xv81Q0t5iGMm/cQhlF0LxCkAaoSsOQi0QQBRAIM/wutS/OvlkbfRowz/lIWoF9K/zP1FlgWdDif2/McQEmglqPECLB9XEDaz7v68tQPhNrEBA49IHIR11CcDtI6QuI5oAwETLX7E2fvK/3X8BMDXR9L9In1n/kkPjv+eWPVOYjo4/wo9g9u8TskB8zIJ8572tQBZoAuu2EgnAaauw017NBMBHtRcv04rav2D2Q1KVYOi/uJZjDSG64L+IGSthYzQFwN1c6L4Uevc/1Ewibh0REUDUs1Sb9a78P8tETo9lYRRApXA3aRGx9j9OhhUq0dT+P3maV4Ov67k/rgO9b9o0/T8ya25mvsZpQLRj5CbwEbg/\",\"dtype\":\"float64\",\"shape\":[120]},\"y\":{\"__ndarray__\":\"k4lbQar/DEABXyMPwboBQG7InFz3/Q9A4JR4YpkRD0DxVuRdb7T6PzCGz+57EQ1APWeVKHe0EUBswdKs6R/7P/gENAnsrQJAmwMTye9DAkDO17cdDbfxP2Oy1T66vvM/BcT7ycTzwUBe+RHLarTsP72018gZEPk/auYaTicP+z+yS35J4nb6PxQnkRM4NfU/ez4W+UBo+D8o5oZnLVz7P0zVRVPRMIVApGYBAyRdQECd8suWhHCDQMU2PEeEGPs/ur9s9M6//j8mt7BTWgwDQOKF5rstoAJAeQZpj6l6zUD8pf07Xyh2QJkYWdygnwVAewUug1FOBkCebmUGYxH+P1wQJlluwgNAmGtMcH8R8D+7AhQaHa0EQAA2f6UZWAJAtPtr9IpACEBMkuEr3R7/PzMpzsHI3Q9AkqJmaTA1GECFm0g/U8H6P70rL7vQiQBAQNgzgY8IUMCG2bqCA48DQN4rqwUKBLlA4JKL8SF5AEBQuGpDVvsBQHBB9EqdK0TAMySSKENm8j9Sch3KkDYIQGvw1cHiPQFAuxxh/VXPAUCHq84LjzADQHMEr7V1O2PAqurRSdRUU0Dp6k6CXL1/wJKPjC6Dkv8/p5pHNBUM+z8SZRFjic8CQApGLEn1DvU/NNIYdUqIBkDDwtbvuiCBQLgmYHzOPAJAxzFRkuGLBUDMeoMX7dlcQEdsKVMvpQFAljrnFwdicEBpyZCkxW0DQCkG9qHjyAJAruhJ7UglU0Bohsy+Fr2CQHVWIpDlxQFABDX72/DcAUATdcVwboMCQAYwZ8rao3RA+ukP01vFcEClHm6Jm3RwQEoCLmd2UCVAqEuX6vpNRkDq6CTiu6ACQL2emBW9NWlAL35C6Sf/AUAtTYIFw04AQJEts3S2n11AGUz/ntZRykCU7NgQgjAHQK/MqKiKRwJAwg+hup2qg0AN7p817eGGQPal+k9r7wJAtpIEJ2WVb0BUvJbCHUNEQCt9fjIJsg5AF7mJ8HUttECSDCoLvjwJQKQP8MfrgrdAxUar98pqBkDKtp3hFwwFQJjx3rgHRmVA8fa0hhYIB0BGEjmXC04KQBBiEmGRxwZAkMHYA546MsCWLKfdBZAswIuUG5G0lwVAUynJorKFBUDn1L/0RBgDQNBOld7zxgRARO1gJPEEB0DzyK5HYQsGQIo8SLSWoABAQL4+8CLlA0BcOhHZm6YAQLlbNfyxEgJARDNy20cS/T9neFawlkr8P+TtzCIKRgJAGwRfuked/j88mPbeHbL5P2giDVefbgdA\",\"dtype\":\"float64\",\"shape\":[120]}}},\"id\":\"47a3ae9a-0f0b-40fb-acef-22a043496134\",\"type\":\"ColumnDataSource\"},{\"attributes\":{\"below\":[{\"id\":\"5c57cf77-0fa9-4731-abad-94e7df6aec02\",\"type\":\"LinearAxis\"}],\"left\":[{\"id\":\"7faa70ec-ed47-435d-9518-0ca2caf2c2b1\",\"type\":\"LinearAxis\"}],\"renderers\":[{\"id\":\"5c57cf77-0fa9-4731-abad-94e7df6aec02\",\"type\":\"LinearAxis\"},{\"id\":\"3f709cc3-b476-4823-8ad8-da9a3104f27b\",\"type\":\"Grid\"},{\"id\":\"7faa70ec-ed47-435d-9518-0ca2caf2c2b1\",\"type\":\"LinearAxis\"},{\"id\":\"8ed6d380-f064-438f-86a8-460fb082af12\",\"type\":\"Grid\"},{\"id\":\"333214fa-9ba3-4fc6-be87-cd0e3e1d1cd2\",\"type\":\"BoxAnnotation\"},{\"id\":\"31b9e496-d310-4b23-8f46-7d8971b84d2f\",\"type\":\"Legend\"},{\"id\":\"6ec71678-8a56-4b32-89c2-4da081c9e712\",\"type\":\"GlyphRenderer\"}],\"title\":{\"id\":\"8a75e1d2-e2c3-40a5-a67d-8b9d84ba560d\",\"type\":\"Title\"},\"toolbar\":{\"id\":\"072b4f1a-0b23-4496-bd4a-a5512ea28772\",\"type\":\"Toolbar\"},\"x_range\":{\"id\":\"98aca1a3-8e82-45dd-983d-597990444b54\",\"type\":\"DataRange1d\"},\"x_scale\":{\"id\":\"b0681724-f668-454f-88d2-e81f3d10e9a9\",\"type\":\"LinearScale\"},\"y_range\":{\"id\":\"6c0d2ea2-f7a6-49eb-ad4c-89550e1181ea\",\"type\":\"DataRange1d\"},\"y_scale\":{\"id\":\"77cd4091-0b71-41dd-aadb-f220bf001a4f\",\"type\":\"LinearScale\"}},\"id\":\"eb2d6fc2-f3f7-4541-bd8a-1fe79ca3a9b5\",\"subtype\":\"Figure\",\"type\":\"Plot\"},{\"attributes\":{\"callback\":null},\"id\":\"98aca1a3-8e82-45dd-983d-597990444b54\",\"type\":\"DataRange1d\"},{\"attributes\":{\"plot\":null,\"text\":\"\"},\"id\":\"8a75e1d2-e2c3-40a5-a67d-8b9d84ba560d\",\"type\":\"Title\"},{\"attributes\":{\"active_drag\":\"auto\",\"active_inspect\":\"auto\",\"active_scroll\":\"auto\",\"active_tap\":\"auto\",\"tools\":[{\"id\":\"f8370a51-b497-4e69-a16e-347c41a4a68f\",\"type\":\"PanTool\"},{\"id\":\"2197477f-f7b8-421b-b44d-6332a4344694\",\"type\":\"WheelZoomTool\"},{\"id\":\"e945a65d-f472-4a9d-951b-27e71392dbfc\",\"type\":\"BoxZoomTool\"},{\"id\":\"7e814c29-0494-4f7e-9e78-a4653239a360\",\"type\":\"SaveTool\"},{\"id\":\"169151a3-d428-44bd-8aaa-13008f111ee1\",\"type\":\"ResetTool\"},{\"id\":\"62b9c275-36a7-4aaf-9427-6f5c6053c0b0\",\"type\":\"HelpTool\"}]},\"id\":\"072b4f1a-0b23-4496-bd4a-a5512ea28772\",\"type\":\"Toolbar\"},{\"attributes\":{\"callback\":null},\"id\":\"6c0d2ea2-f7a6-49eb-ad4c-89550e1181ea\",\"type\":\"DataRange1d\"},{\"attributes\":{\"bottom_units\":\"screen\",\"fill_alpha\":{\"value\":0.5},\"fill_color\":{\"value\":\"lightgrey\"},\"left_units\":\"screen\",\"level\":\"overlay\",\"line_alpha\":{\"value\":1.0},\"line_color\":{\"value\":\"black\"},\"line_dash\":[4,4],\"line_width\":{\"value\":2},\"plot\":null,\"render_mode\":\"css\",\"right_units\":\"screen\",\"top_units\":\"screen\"},\"id\":\"333214fa-9ba3-4fc6-be87-cd0e3e1d1cd2\",\"type\":\"BoxAnnotation\"},{\"attributes\":{},\"id\":\"77cd4091-0b71-41dd-aadb-f220bf001a4f\",\"type\":\"LinearScale\"},{\"attributes\":{\"plot\":{\"id\":\"eb2d6fc2-f3f7-4541-bd8a-1fe79ca3a9b5\",\"subtype\":\"Figure\",\"type\":\"Plot\"},\"ticker\":{\"id\":\"768d2265-69bc-454e-8371-510f010c6737\",\"type\":\"BasicTicker\"}},\"id\":\"3f709cc3-b476-4823-8ad8-da9a3104f27b\",\"type\":\"Grid\"},{\"attributes\":{\"items\":[{\"id\":\"1ebdb44a-7fae-4a78-a6f5-2fc6ca6b08d5\",\"type\":\"LegendItem\"}],\"plot\":{\"id\":\"eb2d6fc2-f3f7-4541-bd8a-1fe79ca3a9b5\",\"subtype\":\"Figure\",\"type\":\"Plot\"}},\"id\":\"31b9e496-d310-4b23-8f46-7d8971b84d2f\",\"type\":\"Legend\"},{\"attributes\":{},\"id\":\"5b172945-11a7-4270-9a8a-db1988dc0d0b\",\"type\":\"BasicTickFormatter\"},{\"attributes\":{},\"id\":\"f8370a51-b497-4e69-a16e-347c41a4a68f\",\"type\":\"PanTool\"},{\"attributes\":{},\"id\":\"2197477f-f7b8-421b-b44d-6332a4344694\",\"type\":\"WheelZoomTool\"},{\"attributes\":{\"formatter\":{\"id\":\"6aa6c999-ffe7-4b63-9a1e-0aff0cc6ed8d\",\"type\":\"BasicTickFormatter\"},\"plot\":{\"id\":\"eb2d6fc2-f3f7-4541-bd8a-1fe79ca3a9b5\",\"subtype\":\"Figure\",\"type\":\"Plot\"},\"ticker\":{\"id\":\"768d2265-69bc-454e-8371-510f010c6737\",\"type\":\"BasicTicker\"}},\"id\":\"5c57cf77-0fa9-4731-abad-94e7df6aec02\",\"type\":\"LinearAxis\"},{\"attributes\":{\"dimension\":1,\"plot\":{\"id\":\"eb2d6fc2-f3f7-4541-bd8a-1fe79ca3a9b5\",\"subtype\":\"Figure\",\"type\":\"Plot\"},\"ticker\":{\"id\":\"7dfc7850-9ec4-4672-b9d4-a1a725ec44cd\",\"type\":\"BasicTicker\"}},\"id\":\"8ed6d380-f064-438f-86a8-460fb082af12\",\"type\":\"Grid\"},{\"attributes\":{},\"id\":\"7dfc7850-9ec4-4672-b9d4-a1a725ec44cd\",\"type\":\"BasicTicker\"},{\"attributes\":{},\"id\":\"b0681724-f668-454f-88d2-e81f3d10e9a9\",\"type\":\"LinearScale\"},{\"attributes\":{\"overlay\":{\"id\":\"333214fa-9ba3-4fc6-be87-cd0e3e1d1cd2\",\"type\":\"BoxAnnotation\"}},\"id\":\"e945a65d-f472-4a9d-951b-27e71392dbfc\",\"type\":\"BoxZoomTool\"},{\"attributes\":{},\"id\":\"768d2265-69bc-454e-8371-510f010c6737\",\"type\":\"BasicTicker\"},{\"attributes\":{\"label\":{\"field\":\"labels\"},\"renderers\":[{\"id\":\"6ec71678-8a56-4b32-89c2-4da081c9e712\",\"type\":\"GlyphRenderer\"}]},\"id\":\"1ebdb44a-7fae-4a78-a6f5-2fc6ca6b08d5\",\"type\":\"LegendItem\"},{\"attributes\":{},\"id\":\"7e814c29-0494-4f7e-9e78-a4653239a360\",\"type\":\"SaveTool\"},{\"attributes\":{},\"id\":\"62b9c275-36a7-4aaf-9427-6f5c6053c0b0\",\"type\":\"HelpTool\"},{\"attributes\":{},\"id\":\"6aa6c999-ffe7-4b63-9a1e-0aff0cc6ed8d\",\"type\":\"BasicTickFormatter\"},{\"attributes\":{\"fill_color\":{\"field\":\"colors\"},\"line_color\":{\"field\":\"colors\"},\"size\":{\"units\":\"screen\",\"value\":5},\"x\":{\"field\":\"x\"},\"y\":{\"field\":\"y\"}},\"id\":\"f2d494e8-7c86-4502-9a97-809105b540b8\",\"type\":\"Circle\"},{\"attributes\":{\"fill_alpha\":{\"value\":0.1},\"fill_color\":{\"value\":\"#1f77b4\"},\"line_alpha\":{\"value\":0.1},\"line_color\":{\"value\":\"#1f77b4\"},\"size\":{\"units\":\"screen\",\"value\":5},\"x\":{\"field\":\"x\"},\"y\":{\"field\":\"y\"}},\"id\":\"61d3be8c-23e1-4477-960f-1838c46c8976\",\"type\":\"Circle\"},{\"attributes\":{\"formatter\":{\"id\":\"5b172945-11a7-4270-9a8a-db1988dc0d0b\",\"type\":\"BasicTickFormatter\"},\"plot\":{\"id\":\"eb2d6fc2-f3f7-4541-bd8a-1fe79ca3a9b5\",\"subtype\":\"Figure\",\"type\":\"Plot\"},\"ticker\":{\"id\":\"7dfc7850-9ec4-4672-b9d4-a1a725ec44cd\",\"type\":\"BasicTicker\"}},\"id\":\"7faa70ec-ed47-435d-9518-0ca2caf2c2b1\",\"type\":\"LinearAxis\"},{\"attributes\":{},\"id\":\"169151a3-d428-44bd-8aaa-13008f111ee1\",\"type\":\"ResetTool\"},{\"attributes\":{\"source\":{\"id\":\"47a3ae9a-0f0b-40fb-acef-22a043496134\",\"type\":\"ColumnDataSource\"}},\"id\":\"9b8fc4e8-3381-4d90-9e88-89412a461162\",\"type\":\"CDSView\"}],\"root_ids\":[\"eb2d6fc2-f3f7-4541-bd8a-1fe79ca3a9b5\"]},\"title\":\"Bokeh Application\",\"version\":\"0.12.13\"}};\n",
       "  var render_items = [{\"docid\":\"71c08109-e180-4db7-a3a2-83e25f645378\",\"elementid\":\"1e20eb5b-19a7-4660-8276-e8ddda6b1aac\",\"modelid\":\"eb2d6fc2-f3f7-4541-bd8a-1fe79ca3a9b5\"}];\n",
       "  root.Bokeh.embed.embed_items_notebook(docs_json, render_items);\n",
       "\n",
       "  }\n",
       "  if (root.Bokeh !== undefined) {\n",
       "    embed_document(root);\n",
       "  } else {\n",
       "    var attempts = 0;\n",
       "    var timer = setInterval(function(root) {\n",
       "      if (root.Bokeh !== undefined) {\n",
       "        embed_document(root);\n",
       "        clearInterval(timer);\n",
       "      }\n",
       "      attempts++;\n",
       "      if (attempts > 100) {\n",
       "        console.log(\"Bokeh: ERROR: Unable to run BokehJS code because BokehJS library is missing\")\n",
       "        clearInterval(timer);\n",
       "      }\n",
       "    }, 10, root)\n",
       "  }\n",
       "})(window);"
      ],
      "application/vnd.bokehjs_exec.v0+json": ""
     },
     "metadata": {
      "application/vnd.bokehjs_exec.v0+json": {
       "id": "eb2d6fc2-f3f7-4541-bd8a-1fe79ca3a9b5"
      }
     },
     "output_type": "display_data"
    }
   ],
   "source": [
    "coldic ={}\n",
    "for index,typestar in enumerate(np.unique([i.type for i in dicofspectra])):\n",
    "    coldic[str(typestar)] = colors[index]\n",
    "coldic\n",
    "label = starclass\n",
    "colorsvd = [ coldic[i] for i in starclass ]\n",
    "\n",
    "\n",
    "dd = {}\n",
    "dd['x'] = fitmat[:,0]\n",
    "dd['y'] = fitmat[:,1]\n",
    "dd['labels'] = label\n",
    "dd['colors'] = colorsvd\n",
    "source = ColumnDataSource(dd)\n",
    "\n",
    "\n",
    "p = figure()\n",
    "\n",
    "\n",
    "p.circle(x='x', y='y', color='colors', legend = 'labels',source=source , size =5)\n",
    "show(p)"
   ]
  },
  {
   "cell_type": "markdown",
   "metadata": {},
   "source": [
    "There are many outliers so we can change the zoom and see if we can learn somthing"
   ]
  },
  {
   "cell_type": "code",
   "execution_count": 14,
   "metadata": {},
   "outputs": [
    {
     "data": {
      "text/html": [
       "\n",
       "<div class=\"bk-root\">\n",
       "    <div class=\"bk-plotdiv\" id=\"2d7dc064-97eb-4b9e-bd0c-97707e7fecdc\"></div>\n",
       "</div>"
      ]
     },
     "metadata": {},
     "output_type": "display_data"
    },
    {
     "data": {
      "application/javascript": [
       "(function(root) {\n",
       "  function embed_document(root) {\n",
       "    \n",
       "  var docs_json = {\"4d04fee2-061f-42c1-b165-ffe1e7895c72\":{\"roots\":{\"references\":[{\"attributes\":{\"axis_label\":\"Y\",\"formatter\":{\"id\":\"7b6d5c5c-b2bf-4a17-95ae-9df44114eb6d\",\"type\":\"BasicTickFormatter\"},\"plot\":{\"id\":\"cc7967d7-8aaf-4b1e-85f0-2806e255225c\",\"subtype\":\"Figure\",\"type\":\"Plot\"},\"ticker\":{\"id\":\"e6a77b92-964e-4c8a-9656-ed8ff993f788\",\"type\":\"BasicTicker\"}},\"id\":\"c9cc9ef1-1ce6-4087-80cf-97fbf518095f\",\"type\":\"LinearAxis\"},{\"attributes\":{},\"id\":\"e8d3e1ed-7179-47da-9189-496dc2cfa3ef\",\"type\":\"BasicTicker\"},{\"attributes\":{\"active_drag\":{\"id\":\"5ff9721f-e681-4b58-8352-234280195c11\",\"type\":\"PanTool\"},\"active_inspect\":\"auto\",\"active_scroll\":{\"id\":\"debe6842-2e6e-4fdc-bce2-f4ae303e9a21\",\"type\":\"WheelZoomTool\"},\"active_tap\":\"auto\",\"tools\":[{\"id\":\"5ff9721f-e681-4b58-8352-234280195c11\",\"type\":\"PanTool\"},{\"id\":\"debe6842-2e6e-4fdc-bce2-f4ae303e9a21\",\"type\":\"WheelZoomTool\"},{\"id\":\"4efc91be-d976-4451-9505-e685c511f89f\",\"type\":\"BoxZoomTool\"},{\"id\":\"5db619da-b248-4c5b-8edf-fb249ed48e0b\",\"type\":\"SaveTool\"},{\"id\":\"67399751-0178-4d57-bb7b-7beb29d840a0\",\"type\":\"ResetTool\"},{\"id\":\"a4480351-ad18-4e98-8785-bac62ad6f61d\",\"type\":\"HelpTool\"}]},\"id\":\"d93cc075-29eb-4961-8a5b-6f2c5d3c3fd5\",\"type\":\"Toolbar\"},{\"attributes\":{\"overlay\":{\"id\":\"071f7e5a-0f74-4b04-932d-f578c66be4d3\",\"type\":\"BoxAnnotation\"}},\"id\":\"4efc91be-d976-4451-9505-e685c511f89f\",\"type\":\"BoxZoomTool\"},{\"attributes\":{},\"id\":\"92a9ecd8-a0eb-46ba-aae7-9d268d459d02\",\"type\":\"LinearScale\"},{\"attributes\":{\"callback\":null,\"end\":4,\"start\":-2},\"id\":\"714663b8-a545-4f8c-a4ed-7b2b5d45b4a2\",\"type\":\"Range1d\"},{\"attributes\":{\"fill_alpha\":{\"value\":0.1},\"fill_color\":{\"value\":\"#1f77b4\"},\"line_alpha\":{\"value\":0.1},\"line_color\":{\"value\":\"#1f77b4\"},\"size\":{\"units\":\"screen\",\"value\":5},\"x\":{\"field\":\"x\"},\"y\":{\"field\":\"y\"}},\"id\":\"4699fcd4-833b-4b8e-9526-45a45f765603\",\"type\":\"Circle\"},{\"attributes\":{},\"id\":\"67399751-0178-4d57-bb7b-7beb29d840a0\",\"type\":\"ResetTool\"},{\"attributes\":{\"bottom_units\":\"screen\",\"fill_alpha\":{\"value\":0.5},\"fill_color\":{\"value\":\"lightgrey\"},\"left_units\":\"screen\",\"level\":\"overlay\",\"line_alpha\":{\"value\":1.0},\"line_color\":{\"value\":\"black\"},\"line_dash\":[4,4],\"line_width\":{\"value\":2},\"plot\":null,\"render_mode\":\"css\",\"right_units\":\"screen\",\"top_units\":\"screen\"},\"id\":\"071f7e5a-0f74-4b04-932d-f578c66be4d3\",\"type\":\"BoxAnnotation\"},{\"attributes\":{\"fill_color\":{\"field\":\"colors\"},\"line_color\":{\"field\":\"colors\"},\"size\":{\"units\":\"screen\",\"value\":5},\"x\":{\"field\":\"x\"},\"y\":{\"field\":\"y\"}},\"id\":\"51bc968e-cdfd-4438-8bd1-814a8c95c892\",\"type\":\"Circle\"},{\"attributes\":{\"label\":{\"field\":\"labels\"},\"renderers\":[{\"id\":\"868227b3-ca81-4714-82cb-5394853edd29\",\"type\":\"GlyphRenderer\"}]},\"id\":\"8193b2e3-28cc-440f-84a7-e226ab2344c5\",\"type\":\"LegendItem\"},{\"attributes\":{\"data_source\":{\"id\":\"f229edde-4368-4e24-aa0d-16d6d3a15747\",\"type\":\"ColumnDataSource\"},\"glyph\":{\"id\":\"51bc968e-cdfd-4438-8bd1-814a8c95c892\",\"type\":\"Circle\"},\"hover_glyph\":null,\"muted_glyph\":null,\"nonselection_glyph\":{\"id\":\"4699fcd4-833b-4b8e-9526-45a45f765603\",\"type\":\"Circle\"},\"selection_glyph\":null,\"view\":{\"id\":\"e5261add-5230-430e-8d43-d2c07770c46f\",\"type\":\"CDSView\"}},\"id\":\"868227b3-ca81-4714-82cb-5394853edd29\",\"type\":\"GlyphRenderer\"},{\"attributes\":{},\"id\":\"c31350e6-19ac-4612-af12-70ba3818edba\",\"type\":\"LinearScale\"},{\"attributes\":{\"plot\":{\"id\":\"cc7967d7-8aaf-4b1e-85f0-2806e255225c\",\"subtype\":\"Figure\",\"type\":\"Plot\"},\"ticker\":{\"id\":\"e8d3e1ed-7179-47da-9189-496dc2cfa3ef\",\"type\":\"BasicTicker\"}},\"id\":\"0fd6b765-7d78-4f4d-a8cd-3ad8371a7346\",\"type\":\"Grid\"},{\"attributes\":{\"callback\":null,\"end\":5.6,\"start\":-2},\"id\":\"0aa8fd2d-3d0e-481a-b4b7-e3db4973a889\",\"type\":\"Range1d\"},{\"attributes\":{},\"id\":\"1c46cf58-99a8-47aa-9bda-8d1cdab0def7\",\"type\":\"BasicTickFormatter\"},{\"attributes\":{},\"id\":\"e6a77b92-964e-4c8a-9656-ed8ff993f788\",\"type\":\"BasicTicker\"},{\"attributes\":{},\"id\":\"debe6842-2e6e-4fdc-bce2-f4ae303e9a21\",\"type\":\"WheelZoomTool\"},{\"attributes\":{\"items\":[{\"id\":\"8193b2e3-28cc-440f-84a7-e226ab2344c5\",\"type\":\"LegendItem\"}],\"plot\":{\"id\":\"cc7967d7-8aaf-4b1e-85f0-2806e255225c\",\"subtype\":\"Figure\",\"type\":\"Plot\"}},\"id\":\"f577f7eb-b3fd-48dc-b62c-3c4486de8441\",\"type\":\"Legend\"},{\"attributes\":{},\"id\":\"7b6d5c5c-b2bf-4a17-95ae-9df44114eb6d\",\"type\":\"BasicTickFormatter\"},{\"attributes\":{},\"id\":\"a4480351-ad18-4e98-8785-bac62ad6f61d\",\"type\":\"HelpTool\"},{\"attributes\":{},\"id\":\"5ff9721f-e681-4b58-8352-234280195c11\",\"type\":\"PanTool\"},{\"attributes\":{},\"id\":\"5db619da-b248-4c5b-8edf-fb249ed48e0b\",\"type\":\"SaveTool\"},{\"attributes\":{\"dimension\":1,\"plot\":{\"id\":\"cc7967d7-8aaf-4b1e-85f0-2806e255225c\",\"subtype\":\"Figure\",\"type\":\"Plot\"},\"ticker\":{\"id\":\"e6a77b92-964e-4c8a-9656-ed8ff993f788\",\"type\":\"BasicTicker\"}},\"id\":\"36024fb4-eaea-4992-83d6-dda0f7e921e6\",\"type\":\"Grid\"},{\"attributes\":{\"source\":{\"id\":\"f229edde-4368-4e24-aa0d-16d6d3a15747\",\"type\":\"ColumnDataSource\"}},\"id\":\"e5261add-5230-430e-8d43-d2c07770c46f\",\"type\":\"CDSView\"},{\"attributes\":{\"plot\":null,\"text\":\"\"},\"id\":\"eb6b2af2-4113-4b9f-93cf-e9d26d9333c0\",\"type\":\"Title\"},{\"attributes\":{\"axis_label\":\"Star\",\"formatter\":{\"id\":\"1c46cf58-99a8-47aa-9bda-8d1cdab0def7\",\"type\":\"BasicTickFormatter\"},\"plot\":{\"id\":\"cc7967d7-8aaf-4b1e-85f0-2806e255225c\",\"subtype\":\"Figure\",\"type\":\"Plot\"},\"ticker\":{\"id\":\"e8d3e1ed-7179-47da-9189-496dc2cfa3ef\",\"type\":\"BasicTicker\"}},\"id\":\"a9613e5a-8e8b-4318-88bf-38cda46bf620\",\"type\":\"LinearAxis\"},{\"attributes\":{\"callback\":null,\"column_names\":[\"y\",\"x\",\"colors\",\"labels\"],\"data\":{\"colors\":[\"#1f77b4\",\"#1f77b4\",\"#1f77b4\",\"#1f77b4\",\"#1f77b4\",\"#1f77b4\",\"#1f77b4\",\"#1f77b4\",\"#1f77b4\",\"#1f77b4\",\"#aec7e8\",\"#aec7e8\",\"#aec7e8\",\"#aec7e8\",\"#aec7e8\",\"#aec7e8\",\"#aec7e8\",\"#aec7e8\",\"#aec7e8\",\"#aec7e8\",\"#ff7f0e\",\"#ff7f0e\",\"#ff7f0e\",\"#ff7f0e\",\"#ff7f0e\",\"#ff7f0e\",\"#ff7f0e\",\"#ff7f0e\",\"#ff7f0e\",\"#ff7f0e\",\"#ffbb78\",\"#ffbb78\",\"#ffbb78\",\"#ffbb78\",\"#ffbb78\",\"#ffbb78\",\"#ffbb78\",\"#ffbb78\",\"#ffbb78\",\"#ffbb78\",\"#2ca02c\",\"#2ca02c\",\"#2ca02c\",\"#2ca02c\",\"#2ca02c\",\"#2ca02c\",\"#2ca02c\",\"#2ca02c\",\"#2ca02c\",\"#2ca02c\",\"#98df8a\",\"#98df8a\",\"#98df8a\",\"#98df8a\",\"#98df8a\",\"#98df8a\",\"#98df8a\",\"#98df8a\",\"#98df8a\",\"#98df8a\",\"#d62728\",\"#d62728\",\"#d62728\",\"#d62728\",\"#d62728\",\"#d62728\",\"#d62728\",\"#d62728\",\"#d62728\",\"#d62728\",\"#ff9896\",\"#ff9896\",\"#ff9896\",\"#ff9896\",\"#ff9896\",\"#ff9896\",\"#ff9896\",\"#ff9896\",\"#ff9896\",\"#ff9896\",\"#9467bd\",\"#9467bd\",\"#9467bd\",\"#9467bd\",\"#9467bd\",\"#9467bd\",\"#9467bd\",\"#9467bd\",\"#9467bd\",\"#9467bd\",\"#c5b0d5\",\"#c5b0d5\",\"#c5b0d5\",\"#c5b0d5\",\"#c5b0d5\",\"#c5b0d5\",\"#c5b0d5\",\"#c5b0d5\",\"#c5b0d5\",\"#c5b0d5\",\"#8c564b\",\"#8c564b\",\"#8c564b\",\"#8c564b\",\"#8c564b\",\"#8c564b\",\"#8c564b\",\"#8c564b\",\"#8c564b\",\"#8c564b\",\"#c49c94\",\"#c49c94\",\"#c49c94\",\"#c49c94\",\"#c49c94\",\"#c49c94\",\"#c49c94\",\"#c49c94\",\"#c49c94\",\"#c49c94\"],\"labels\":[\"G1V (95128)\",\"G1V (95128)\",\"G1V (95128)\",\"G1V (95128)\",\"G1V (95128)\",\"G1V (95128)\",\"G1V (95128)\",\"G1V (95128)\",\"G1V (95128)\",\"G1V (95128)\",\"G2\",\"G2\",\"G2\",\"G2\",\"G2\",\"G2\",\"G2\",\"G2\",\"G2\",\"G2\",\"G4V (32923)\",\"G4V (32923)\",\"G4V (32923)\",\"G4V (32923)\",\"G4V (32923)\",\"G4V (32923)\",\"G4V (32923)\",\"G4V (32923)\",\"G4V (32923)\",\"G4V (32923)\",\"G5III+... (157910)\",\"G5III+... (157910)\",\"G5III+... (157910)\",\"G5III+... (157910)\",\"G5III+... (157910)\",\"G5III+... (157910)\",\"G5III+... (157910)\",\"G5III+... (157910)\",\"G5III+... (157910)\",\"G5III+... (157910)\",\"G8V (101501)\",\"G8V (101501)\",\"G8V (101501)\",\"G8V (101501)\",\"G8V (101501)\",\"G8V (101501)\",\"G8V (101501)\",\"G8V (101501)\",\"G8V (101501)\",\"G8V (101501)\",\"G9IV (100030)\",\"G9IV (100030)\",\"G9IV (100030)\",\"G9IV (100030)\",\"G9IV (100030)\",\"G9IV (100030)\",\"G9IV (100030)\",\"G9IV (100030)\",\"G9IV (100030)\",\"G9IV (100030)\",\"K1III (18322)\",\"K1III (18322)\",\"K1III (18322)\",\"K1III (18322)\",\"K1III (18322)\",\"K1III (18322)\",\"K1III (18322)\",\"K1III (18322)\",\"K1III (18322)\",\"K1III (18322)\",\"K2III (115136)\",\"K2III (115136)\",\"K2III (115136)\",\"K2III (115136)\",\"K2III (115136)\",\"K2III (115136)\",\"K2III (115136)\",\"K2III (115136)\",\"K2III (115136)\",\"K2III (115136)\",\"K3III (101673)\",\"K3III (101673)\",\"K3III (101673)\",\"K3III (101673)\",\"K3III (101673)\",\"K3III (101673)\",\"K3III (101673)\",\"K3III (101673)\",\"K3III (101673)\",\"K3III (101673)\",\"K4III (136726)\",\"K4III (136726)\",\"K4III (136726)\",\"K4III (136726)\",\"K4III (136726)\",\"K4III (136726)\",\"K4III (136726)\",\"K4III (136726)\",\"K4III (136726)\",\"K4III (136726)\",\"K5III (111335)\",\"K5III (111335)\",\"K5III (111335)\",\"K5III (111335)\",\"K5III (111335)\",\"K5III (111335)\",\"K5III (111335)\",\"K5III (111335)\",\"K5III (111335)\",\"K5III (111335)\",\"K7\",\"K7\",\"K7\",\"K7\",\"K7\",\"K7\",\"K7\",\"K7\",\"K7\",\"K7\"],\"x\":{\"__ndarray__\":\"PsgXDIzFyj/26Dz3p0zAPzwNfpBTBs4/UzONSqDpyz9goK2g59K4P6YtFYIJKMk/fX9FSKjwzj+5sWlyLeC4P8v5+8LwAcE/vcdqcSnmwD94ac/UWX+/P+H8ZuM8zcE/hfhrDjxVHUBBFOc74lu6P2BfSuhjIsc/SEl0vRGFyD/VBU5XBknGP+rFbrk/WsM/dHxyVtWGxj8Rzd/FxWbJP3dteV0rr0xAM14/YICjA0DjmcDqR94MQGYRUG0hSNo/vq84AyRZ6j+GTd23gqH1P4eHc1QaAe0/GQcF28f0gkCaBjEdDb3AQIe9yUPlIew/OpnB38+Swz+IG/oUSqDNP8r8K8oc0dM/z1CW8LEN2T9Lpt/r5vDBP/hfk7vZE8A/Aw8tvd6sxD8JBrqfzaLuPzoMYflRxBHATQwVlZRT1T+5f1RGSRa9P24gM45HCMI/ekHRKGIQzEC0DZbt0U/9PzNrQCI9Mr5AecckEfPI0b/YyrEPm8IKQB1BNQXuJsNAkeGjoWCNwT8JPQxVsVPJP3Dh5v+QPfc/Hj+RVdtVCEAn+opXbZ8BQM9pXRROxeBA2qOchSD9FED2uYYrkin7QOgHxSeXybU/WC2/OVYQP0DSu0jPyhkIQJjmCTuuJmxAZEsfN4fvyr+hOhcX4sIHQDyUkVc55Mm/wdaDMvHOyb+eDUm4wawHQE3gORZhKcO/Uqo1DLZgCkDMVngIEQPOvw7/cOBDTM6/TsLg3hub1z/ZmoV0EA4qQFbbmgqGGtO/tVMbjvNNzr9liB259irIv/bNmAqdXyxAQuNSPD+7NEBGHuG4uFI0QKXAkWPhjOM/lz3qQ1tsnr/xG9tQm2bSv358BPdH0y5AiQLxOrZs0r/nI1uNyY0fwBx+SNilDQxAeBxjILh6U0DDEG6P8F7Xv81Q0t5iGMm/cQhlF0LxCkAaoSsOQi0QQBRAIM/wutS/OvlkbfRowz/lIWoF9K/zP1FlgWdDif2/McQEmglqPECLB9XEDaz7v68tQPhNrEBA49IHIR11CcDtI6QuI5oAwETLX7E2fvK/3X8BMDXR9L9In1n/kkPjv+eWPVOYjo4/wo9g9u8TskB8zIJ8572tQBZoAuu2EgnAaauw017NBMBHtRcv04rav2D2Q1KVYOi/uJZjDSG64L+IGSthYzQFwN1c6L4Uevc/1Ewibh0REUDUs1Sb9a78P8tETo9lYRRApXA3aRGx9j9OhhUq0dT+P3maV4Ov67k/rgO9b9o0/T8ya25mvsZpQLRj5CbwEbg/\",\"dtype\":\"float64\",\"shape\":[120]},\"y\":{\"__ndarray__\":\"k4lbQar/DEABXyMPwboBQG7InFz3/Q9A4JR4YpkRD0DxVuRdb7T6PzCGz+57EQ1APWeVKHe0EUBswdKs6R/7P/gENAnsrQJAmwMTye9DAkDO17cdDbfxP2Oy1T66vvM/BcT7ycTzwUBe+RHLarTsP72018gZEPk/auYaTicP+z+yS35J4nb6PxQnkRM4NfU/ez4W+UBo+D8o5oZnLVz7P0zVRVPRMIVApGYBAyRdQECd8suWhHCDQMU2PEeEGPs/ur9s9M6//j8mt7BTWgwDQOKF5rstoAJAeQZpj6l6zUD8pf07Xyh2QJkYWdygnwVAewUug1FOBkCebmUGYxH+P1wQJlluwgNAmGtMcH8R8D+7AhQaHa0EQAA2f6UZWAJAtPtr9IpACEBMkuEr3R7/PzMpzsHI3Q9AkqJmaTA1GECFm0g/U8H6P70rL7vQiQBAQNgzgY8IUMCG2bqCA48DQN4rqwUKBLlA4JKL8SF5AEBQuGpDVvsBQHBB9EqdK0TAMySSKENm8j9Sch3KkDYIQGvw1cHiPQFAuxxh/VXPAUCHq84LjzADQHMEr7V1O2PAqurRSdRUU0Dp6k6CXL1/wJKPjC6Dkv8/p5pHNBUM+z8SZRFjic8CQApGLEn1DvU/NNIYdUqIBkDDwtbvuiCBQLgmYHzOPAJAxzFRkuGLBUDMeoMX7dlcQEdsKVMvpQFAljrnFwdicEBpyZCkxW0DQCkG9qHjyAJAruhJ7UglU0Bohsy+Fr2CQHVWIpDlxQFABDX72/DcAUATdcVwboMCQAYwZ8rao3RA+ukP01vFcEClHm6Jm3RwQEoCLmd2UCVAqEuX6vpNRkDq6CTiu6ACQL2emBW9NWlAL35C6Sf/AUAtTYIFw04AQJEts3S2n11AGUz/ntZRykCU7NgQgjAHQK/MqKiKRwJAwg+hup2qg0AN7p817eGGQPal+k9r7wJAtpIEJ2WVb0BUvJbCHUNEQCt9fjIJsg5AF7mJ8HUttECSDCoLvjwJQKQP8MfrgrdAxUar98pqBkDKtp3hFwwFQJjx3rgHRmVA8fa0hhYIB0BGEjmXC04KQBBiEmGRxwZAkMHYA546MsCWLKfdBZAswIuUG5G0lwVAUynJorKFBUDn1L/0RBgDQNBOld7zxgRARO1gJPEEB0DzyK5HYQsGQIo8SLSWoABAQL4+8CLlA0BcOhHZm6YAQLlbNfyxEgJARDNy20cS/T9neFawlkr8P+TtzCIKRgJAGwRfuked/j88mPbeHbL5P2giDVefbgdA\",\"dtype\":\"float64\",\"shape\":[120]}}},\"id\":\"f229edde-4368-4e24-aa0d-16d6d3a15747\",\"type\":\"ColumnDataSource\"},{\"attributes\":{\"below\":[{\"id\":\"a9613e5a-8e8b-4318-88bf-38cda46bf620\",\"type\":\"LinearAxis\"}],\"left\":[{\"id\":\"c9cc9ef1-1ce6-4087-80cf-97fbf518095f\",\"type\":\"LinearAxis\"}],\"plot_height\":900,\"plot_width\":900,\"renderers\":[{\"id\":\"a9613e5a-8e8b-4318-88bf-38cda46bf620\",\"type\":\"LinearAxis\"},{\"id\":\"0fd6b765-7d78-4f4d-a8cd-3ad8371a7346\",\"type\":\"Grid\"},{\"id\":\"c9cc9ef1-1ce6-4087-80cf-97fbf518095f\",\"type\":\"LinearAxis\"},{\"id\":\"36024fb4-eaea-4992-83d6-dda0f7e921e6\",\"type\":\"Grid\"},{\"id\":\"071f7e5a-0f74-4b04-932d-f578c66be4d3\",\"type\":\"BoxAnnotation\"},{\"id\":\"f577f7eb-b3fd-48dc-b62c-3c4486de8441\",\"type\":\"Legend\"},{\"id\":\"868227b3-ca81-4714-82cb-5394853edd29\",\"type\":\"GlyphRenderer\"}],\"title\":{\"id\":\"eb6b2af2-4113-4b9f-93cf-e9d26d9333c0\",\"type\":\"Title\"},\"toolbar\":{\"id\":\"d93cc075-29eb-4961-8a5b-6f2c5d3c3fd5\",\"type\":\"Toolbar\"},\"x_range\":{\"id\":\"714663b8-a545-4f8c-a4ed-7b2b5d45b4a2\",\"type\":\"Range1d\"},\"x_scale\":{\"id\":\"92a9ecd8-a0eb-46ba-aae7-9d268d459d02\",\"type\":\"LinearScale\"},\"y_range\":{\"id\":\"0aa8fd2d-3d0e-481a-b4b7-e3db4973a889\",\"type\":\"Range1d\"},\"y_scale\":{\"id\":\"c31350e6-19ac-4612-af12-70ba3818edba\",\"type\":\"LinearScale\"}},\"id\":\"cc7967d7-8aaf-4b1e-85f0-2806e255225c\",\"subtype\":\"Figure\",\"type\":\"Plot\"}],\"root_ids\":[\"cc7967d7-8aaf-4b1e-85f0-2806e255225c\"]},\"title\":\"Bokeh Application\",\"version\":\"0.12.13\"}};\n",
       "  var render_items = [{\"docid\":\"4d04fee2-061f-42c1-b165-ffe1e7895c72\",\"elementid\":\"2d7dc064-97eb-4b9e-bd0c-97707e7fecdc\",\"modelid\":\"cc7967d7-8aaf-4b1e-85f0-2806e255225c\"}];\n",
       "  root.Bokeh.embed.embed_items_notebook(docs_json, render_items);\n",
       "\n",
       "  }\n",
       "  if (root.Bokeh !== undefined) {\n",
       "    embed_document(root);\n",
       "  } else {\n",
       "    var attempts = 0;\n",
       "    var timer = setInterval(function(root) {\n",
       "      if (root.Bokeh !== undefined) {\n",
       "        embed_document(root);\n",
       "        clearInterval(timer);\n",
       "      }\n",
       "      attempts++;\n",
       "      if (attempts > 100) {\n",
       "        console.log(\"Bokeh: ERROR: Unable to run BokehJS code because BokehJS library is missing\")\n",
       "        clearInterval(timer);\n",
       "      }\n",
       "    }, 10, root)\n",
       "  }\n",
       "})(window);"
      ],
      "application/vnd.bokehjs_exec.v0+json": ""
     },
     "metadata": {
      "application/vnd.bokehjs_exec.v0+json": {
       "id": "cc7967d7-8aaf-4b1e-85f0-2806e255225c"
      }
     },
     "output_type": "display_data"
    }
   ],
   "source": [
    "coldic ={}\n",
    "for index,typestar in enumerate(np.unique([i.type for i in dicofspectra])):\n",
    "    coldic[str(typestar)] = colors[index]\n",
    "coldic\n",
    "label = starclass\n",
    "colorsvd = [ coldic[i] for i in starclass ]\n",
    "\n",
    "\n",
    "dd = {}\n",
    "dd['x'] = fitmat[:,0]\n",
    "dd['y'] = fitmat[:,1]\n",
    "dd['labels'] = label\n",
    "dd['colors'] = colorsvd\n",
    "source = ColumnDataSource(dd)\n",
    "\n",
    "#Plot range\n",
    "xr = (-2,4)\n",
    "yr = (-2,5.6)\n",
    "\n",
    "\n",
    "\n",
    "p = figure(x_axis_label='Star', y_axis_label='Y', x_range=xr, y_range=yr\n",
    "                  ,active_drag='pan', active_scroll='wheel_zoom',\n",
    "                  plot_width=900, plot_height=900\n",
    "                 )\n",
    "\n",
    "\n",
    "\n",
    "p.circle(x='x', y='y', color='colors', legend = 'labels',source=source , size =5)\n",
    "show(p)"
   ]
  },
  {
   "cell_type": "markdown",
   "metadata": {},
   "source": [
    "## The first compoment and star type:\n",
    "    "
   ]
  },
  {
   "cell_type": "code",
   "execution_count": 15,
   "metadata": {
    "scrolled": false
   },
   "outputs": [
    {
     "data": {
      "text/html": [
       "\n",
       "<div class=\"bk-root\">\n",
       "    <div class=\"bk-plotdiv\" id=\"e3c392b6-c730-497d-91ab-eb62b456de38\"></div>\n",
       "</div>"
      ]
     },
     "metadata": {},
     "output_type": "display_data"
    },
    {
     "data": {
      "application/javascript": [
       "(function(root) {\n",
       "  function embed_document(root) {\n",
       "    \n",
       "  var docs_json = {\"a154c436-ac63-447a-a053-d38f91f43b15\":{\"roots\":{\"references\":[{\"attributes\":{\"fill_alpha\":{\"value\":0.1},\"fill_color\":{\"value\":\"#1f77b4\"},\"line_alpha\":{\"value\":0.1},\"line_color\":{\"value\":\"#1f77b4\"},\"size\":{\"units\":\"screen\",\"value\":5},\"x\":{\"field\":\"x\"},\"y\":{\"field\":\"y\"}},\"id\":\"fb873b44-4600-4405-86ce-4d466938472e\",\"type\":\"Circle\"},{\"attributes\":{},\"id\":\"2990ba7d-8025-44f3-96c6-5eba779e342d\",\"type\":\"ResetTool\"},{\"attributes\":{\"active_drag\":{\"id\":\"729a45d5-12d6-40b2-8a45-7d5b878967be\",\"type\":\"PanTool\"},\"active_inspect\":\"auto\",\"active_scroll\":{\"id\":\"77106eeb-46f3-45cc-9300-28f2835c8e16\",\"type\":\"WheelZoomTool\"},\"active_tap\":\"auto\",\"tools\":[{\"id\":\"729a45d5-12d6-40b2-8a45-7d5b878967be\",\"type\":\"PanTool\"},{\"id\":\"77106eeb-46f3-45cc-9300-28f2835c8e16\",\"type\":\"WheelZoomTool\"},{\"id\":\"e9c8a55b-58a9-4247-b8ae-3a56afd8e0dc\",\"type\":\"BoxZoomTool\"},{\"id\":\"a1fd6c2a-9898-45ce-be19-a6ebf4549f7b\",\"type\":\"SaveTool\"},{\"id\":\"2990ba7d-8025-44f3-96c6-5eba779e342d\",\"type\":\"ResetTool\"},{\"id\":\"ffaf5ebb-786c-449f-910b-c2934949933d\",\"type\":\"HelpTool\"}]},\"id\":\"65ac6a7b-83ab-4768-9c30-bd6dd0ae3fa7\",\"type\":\"Toolbar\"},{\"attributes\":{\"fill_color\":{\"field\":\"colors\"},\"line_color\":{\"field\":\"colors\"},\"size\":{\"units\":\"screen\",\"value\":5},\"x\":{\"field\":\"x\"},\"y\":{\"field\":\"y\"}},\"id\":\"1492ef16-8dfc-41be-802e-3c365469104c\",\"type\":\"Circle\"},{\"attributes\":{\"callback\":null,\"end\":5.6,\"start\":-2},\"id\":\"0e82f2d8-19ab-47e0-8f27-03d31b1d2ba8\",\"type\":\"Range1d\"},{\"attributes\":{\"label\":{\"field\":\"labels\"},\"renderers\":[{\"id\":\"46eb5376-94fc-49f6-8251-7e0b4fe809a0\",\"type\":\"GlyphRenderer\"}]},\"id\":\"412e7d59-8559-4629-ab5e-b9dbcbdfed78\",\"type\":\"LegendItem\"},{\"attributes\":{},\"id\":\"88cc8242-f4f4-4374-98e8-79e58edc4cc5\",\"type\":\"BasicTickFormatter\"},{\"attributes\":{\"plot\":null,\"text\":\"\"},\"id\":\"3ff66aa0-47ff-40aa-85e2-e285d9cbcf10\",\"type\":\"Title\"},{\"attributes\":{},\"id\":\"ffaf5ebb-786c-449f-910b-c2934949933d\",\"type\":\"HelpTool\"},{\"attributes\":{},\"id\":\"7ddf7dd0-1810-4a32-b556-8261fa0a08bf\",\"type\":\"BasicTickFormatter\"},{\"attributes\":{},\"id\":\"0873f172-d853-4d70-94ca-1cf5745894f8\",\"type\":\"BasicTicker\"},{\"attributes\":{},\"id\":\"729a45d5-12d6-40b2-8a45-7d5b878967be\",\"type\":\"PanTool\"},{\"attributes\":{\"plot\":{\"id\":\"e712f157-3502-4d1d-b701-2bc8350e7a09\",\"subtype\":\"Figure\",\"type\":\"Plot\"},\"ticker\":{\"id\":\"706d69ee-5eb0-45d9-b2e9-4f9d275c6456\",\"type\":\"BasicTicker\"}},\"id\":\"3b2ae5a4-c56e-4e45-ab6c-f5de934b4287\",\"type\":\"Grid\"},{\"attributes\":{},\"id\":\"2af36b70-860f-478e-a349-fbd43371c7b9\",\"type\":\"LinearScale\"},{\"attributes\":{\"items\":[{\"id\":\"412e7d59-8559-4629-ab5e-b9dbcbdfed78\",\"type\":\"LegendItem\"}],\"plot\":{\"id\":\"e712f157-3502-4d1d-b701-2bc8350e7a09\",\"subtype\":\"Figure\",\"type\":\"Plot\"}},\"id\":\"777ea244-4ec6-4e01-aef5-64fb92276062\",\"type\":\"Legend\"},{\"attributes\":{},\"id\":\"706d69ee-5eb0-45d9-b2e9-4f9d275c6456\",\"type\":\"BasicTicker\"},{\"attributes\":{\"axis_label\":\"Star\",\"formatter\":{\"id\":\"88cc8242-f4f4-4374-98e8-79e58edc4cc5\",\"type\":\"BasicTickFormatter\"},\"plot\":{\"id\":\"e712f157-3502-4d1d-b701-2bc8350e7a09\",\"subtype\":\"Figure\",\"type\":\"Plot\"},\"ticker\":{\"id\":\"706d69ee-5eb0-45d9-b2e9-4f9d275c6456\",\"type\":\"BasicTicker\"}},\"id\":\"c588d0f9-da0b-42c3-b591-b9ebcdf2ed0d\",\"type\":\"LinearAxis\"},{\"attributes\":{},\"id\":\"77106eeb-46f3-45cc-9300-28f2835c8e16\",\"type\":\"WheelZoomTool\"},{\"attributes\":{\"below\":[{\"id\":\"c588d0f9-da0b-42c3-b591-b9ebcdf2ed0d\",\"type\":\"LinearAxis\"}],\"left\":[{\"id\":\"d933c188-73f3-4425-a256-7cf82f1fa164\",\"type\":\"LinearAxis\"}],\"plot_height\":900,\"plot_width\":900,\"renderers\":[{\"id\":\"c588d0f9-da0b-42c3-b591-b9ebcdf2ed0d\",\"type\":\"LinearAxis\"},{\"id\":\"3b2ae5a4-c56e-4e45-ab6c-f5de934b4287\",\"type\":\"Grid\"},{\"id\":\"d933c188-73f3-4425-a256-7cf82f1fa164\",\"type\":\"LinearAxis\"},{\"id\":\"68dceb8b-b1b4-4e81-a4b4-125bb9aee251\",\"type\":\"Grid\"},{\"id\":\"07eb0777-54c9-4438-9640-280d3e9a589c\",\"type\":\"BoxAnnotation\"},{\"id\":\"777ea244-4ec6-4e01-aef5-64fb92276062\",\"type\":\"Legend\"},{\"id\":\"46eb5376-94fc-49f6-8251-7e0b4fe809a0\",\"type\":\"GlyphRenderer\"}],\"title\":{\"id\":\"3ff66aa0-47ff-40aa-85e2-e285d9cbcf10\",\"type\":\"Title\"},\"toolbar\":{\"id\":\"65ac6a7b-83ab-4768-9c30-bd6dd0ae3fa7\",\"type\":\"Toolbar\"},\"x_range\":{\"id\":\"0287fef7-f427-4153-af5e-2f824921156d\",\"type\":\"Range1d\"},\"x_scale\":{\"id\":\"2af36b70-860f-478e-a349-fbd43371c7b9\",\"type\":\"LinearScale\"},\"y_range\":{\"id\":\"0e82f2d8-19ab-47e0-8f27-03d31b1d2ba8\",\"type\":\"Range1d\"},\"y_scale\":{\"id\":\"665519a2-b8f5-4086-9d96-5ebd1f6e3773\",\"type\":\"LinearScale\"}},\"id\":\"e712f157-3502-4d1d-b701-2bc8350e7a09\",\"subtype\":\"Figure\",\"type\":\"Plot\"},{\"attributes\":{},\"id\":\"a1fd6c2a-9898-45ce-be19-a6ebf4549f7b\",\"type\":\"SaveTool\"},{\"attributes\":{\"source\":{\"id\":\"8e33cbac-8e44-43f4-b49d-36fbbf887777\",\"type\":\"ColumnDataSource\"}},\"id\":\"eb142d53-c2d9-4edb-a4ec-7f158d31e4dd\",\"type\":\"CDSView\"},{\"attributes\":{\"bottom_units\":\"screen\",\"fill_alpha\":{\"value\":0.5},\"fill_color\":{\"value\":\"lightgrey\"},\"left_units\":\"screen\",\"level\":\"overlay\",\"line_alpha\":{\"value\":1.0},\"line_color\":{\"value\":\"black\"},\"line_dash\":[4,4],\"line_width\":{\"value\":2},\"plot\":null,\"render_mode\":\"css\",\"right_units\":\"screen\",\"top_units\":\"screen\"},\"id\":\"07eb0777-54c9-4438-9640-280d3e9a589c\",\"type\":\"BoxAnnotation\"},{\"attributes\":{\"dimension\":1,\"plot\":{\"id\":\"e712f157-3502-4d1d-b701-2bc8350e7a09\",\"subtype\":\"Figure\",\"type\":\"Plot\"},\"ticker\":{\"id\":\"0873f172-d853-4d70-94ca-1cf5745894f8\",\"type\":\"BasicTicker\"}},\"id\":\"68dceb8b-b1b4-4e81-a4b4-125bb9aee251\",\"type\":\"Grid\"},{\"attributes\":{\"axis_label\":\"Y\",\"formatter\":{\"id\":\"7ddf7dd0-1810-4a32-b556-8261fa0a08bf\",\"type\":\"BasicTickFormatter\"},\"plot\":{\"id\":\"e712f157-3502-4d1d-b701-2bc8350e7a09\",\"subtype\":\"Figure\",\"type\":\"Plot\"},\"ticker\":{\"id\":\"0873f172-d853-4d70-94ca-1cf5745894f8\",\"type\":\"BasicTicker\"}},\"id\":\"d933c188-73f3-4425-a256-7cf82f1fa164\",\"type\":\"LinearAxis\"},{\"attributes\":{\"data_source\":{\"id\":\"8e33cbac-8e44-43f4-b49d-36fbbf887777\",\"type\":\"ColumnDataSource\"},\"glyph\":{\"id\":\"1492ef16-8dfc-41be-802e-3c365469104c\",\"type\":\"Circle\"},\"hover_glyph\":null,\"muted_glyph\":null,\"nonselection_glyph\":{\"id\":\"fb873b44-4600-4405-86ce-4d466938472e\",\"type\":\"Circle\"},\"selection_glyph\":null,\"view\":{\"id\":\"eb142d53-c2d9-4edb-a4ec-7f158d31e4dd\",\"type\":\"CDSView\"}},\"id\":\"46eb5376-94fc-49f6-8251-7e0b4fe809a0\",\"type\":\"GlyphRenderer\"},{\"attributes\":{},\"id\":\"665519a2-b8f5-4086-9d96-5ebd1f6e3773\",\"type\":\"LinearScale\"},{\"attributes\":{\"callback\":null,\"column_names\":[\"y\",\"x\",\"colors\",\"labels\"],\"data\":{\"colors\":[\"#1f77b4\",\"#1f77b4\",\"#1f77b4\",\"#1f77b4\",\"#1f77b4\",\"#1f77b4\",\"#1f77b4\",\"#1f77b4\",\"#1f77b4\",\"#1f77b4\",\"#aec7e8\",\"#aec7e8\",\"#aec7e8\",\"#aec7e8\",\"#aec7e8\",\"#aec7e8\",\"#aec7e8\",\"#aec7e8\",\"#aec7e8\",\"#aec7e8\",\"#ff7f0e\",\"#ff7f0e\",\"#ff7f0e\",\"#ff7f0e\",\"#ff7f0e\",\"#ff7f0e\",\"#ff7f0e\",\"#ff7f0e\",\"#ff7f0e\",\"#ff7f0e\",\"#ffbb78\",\"#ffbb78\",\"#ffbb78\",\"#ffbb78\",\"#ffbb78\",\"#ffbb78\",\"#ffbb78\",\"#ffbb78\",\"#ffbb78\",\"#ffbb78\",\"#2ca02c\",\"#2ca02c\",\"#2ca02c\",\"#2ca02c\",\"#2ca02c\",\"#2ca02c\",\"#2ca02c\",\"#2ca02c\",\"#2ca02c\",\"#2ca02c\",\"#98df8a\",\"#98df8a\",\"#98df8a\",\"#98df8a\",\"#98df8a\",\"#98df8a\",\"#98df8a\",\"#98df8a\",\"#98df8a\",\"#98df8a\",\"#d62728\",\"#d62728\",\"#d62728\",\"#d62728\",\"#d62728\",\"#d62728\",\"#d62728\",\"#d62728\",\"#d62728\",\"#d62728\",\"#ff9896\",\"#ff9896\",\"#ff9896\",\"#ff9896\",\"#ff9896\",\"#ff9896\",\"#ff9896\",\"#ff9896\",\"#ff9896\",\"#ff9896\",\"#9467bd\",\"#9467bd\",\"#9467bd\",\"#9467bd\",\"#9467bd\",\"#9467bd\",\"#9467bd\",\"#9467bd\",\"#9467bd\",\"#9467bd\",\"#c5b0d5\",\"#c5b0d5\",\"#c5b0d5\",\"#c5b0d5\",\"#c5b0d5\",\"#c5b0d5\",\"#c5b0d5\",\"#c5b0d5\",\"#c5b0d5\",\"#c5b0d5\",\"#8c564b\",\"#8c564b\",\"#8c564b\",\"#8c564b\",\"#8c564b\",\"#8c564b\",\"#8c564b\",\"#8c564b\",\"#8c564b\",\"#8c564b\",\"#c49c94\",\"#c49c94\",\"#c49c94\",\"#c49c94\",\"#c49c94\",\"#c49c94\",\"#c49c94\",\"#c49c94\",\"#c49c94\",\"#c49c94\"],\"labels\":[\"G1V (95128)\",\"G1V (95128)\",\"G1V (95128)\",\"G1V (95128)\",\"G1V (95128)\",\"G1V (95128)\",\"G1V (95128)\",\"G1V (95128)\",\"G1V (95128)\",\"G1V (95128)\",\"G2\",\"G2\",\"G2\",\"G2\",\"G2\",\"G2\",\"G2\",\"G2\",\"G2\",\"G2\",\"G4V (32923)\",\"G4V (32923)\",\"G4V (32923)\",\"G4V (32923)\",\"G4V (32923)\",\"G4V (32923)\",\"G4V (32923)\",\"G4V (32923)\",\"G4V (32923)\",\"G4V (32923)\",\"G5III+... (157910)\",\"G5III+... (157910)\",\"G5III+... (157910)\",\"G5III+... (157910)\",\"G5III+... (157910)\",\"G5III+... (157910)\",\"G5III+... (157910)\",\"G5III+... (157910)\",\"G5III+... (157910)\",\"G5III+... (157910)\",\"G8V (101501)\",\"G8V (101501)\",\"G8V (101501)\",\"G8V (101501)\",\"G8V (101501)\",\"G8V (101501)\",\"G8V (101501)\",\"G8V (101501)\",\"G8V (101501)\",\"G8V (101501)\",\"G9IV (100030)\",\"G9IV (100030)\",\"G9IV (100030)\",\"G9IV (100030)\",\"G9IV (100030)\",\"G9IV (100030)\",\"G9IV (100030)\",\"G9IV (100030)\",\"G9IV (100030)\",\"G9IV (100030)\",\"K1III (18322)\",\"K1III (18322)\",\"K1III (18322)\",\"K1III (18322)\",\"K1III (18322)\",\"K1III (18322)\",\"K1III (18322)\",\"K1III (18322)\",\"K1III (18322)\",\"K1III (18322)\",\"K2III (115136)\",\"K2III (115136)\",\"K2III (115136)\",\"K2III (115136)\",\"K2III (115136)\",\"K2III (115136)\",\"K2III (115136)\",\"K2III (115136)\",\"K2III (115136)\",\"K2III (115136)\",\"K3III (101673)\",\"K3III (101673)\",\"K3III (101673)\",\"K3III (101673)\",\"K3III (101673)\",\"K3III (101673)\",\"K3III (101673)\",\"K3III (101673)\",\"K3III (101673)\",\"K3III (101673)\",\"K4III (136726)\",\"K4III (136726)\",\"K4III (136726)\",\"K4III (136726)\",\"K4III (136726)\",\"K4III (136726)\",\"K4III (136726)\",\"K4III (136726)\",\"K4III (136726)\",\"K4III (136726)\",\"K5III (111335)\",\"K5III (111335)\",\"K5III (111335)\",\"K5III (111335)\",\"K5III (111335)\",\"K5III (111335)\",\"K5III (111335)\",\"K5III (111335)\",\"K5III (111335)\",\"K5III (111335)\",\"K7\",\"K7\",\"K7\",\"K7\",\"K7\",\"K7\",\"K7\",\"K7\",\"K7\",\"K7\"],\"x\":[0,0,0,0,0,0,0,0,0,0,1,1,1,1,1,1,1,1,1,1,2,2,2,2,2,2,2,2,2,2,3,3,3,3,3,3,3,3,3,3,4,4,4,4,4,4,4,4,4,4,5,5,5,5,5,5,5,5,5,5,6,6,6,6,6,6,6,6,6,6,7,7,7,7,7,7,7,7,7,7,8,8,8,8,8,8,8,8,8,8,9,9,9,9,9,9,9,9,9,9,10,10,10,10,10,10,10,10,10,10,11,11,11,11,11,11,11,11,11,11],\"y\":{\"__ndarray__\":\"PsgXDIzFyj/26Dz3p0zAPzwNfpBTBs4/UzONSqDpyz9goK2g59K4P6YtFYIJKMk/fX9FSKjwzj+5sWlyLeC4P8v5+8LwAcE/vcdqcSnmwD94ac/UWX+/P+H8ZuM8zcE/hfhrDjxVHUBBFOc74lu6P2BfSuhjIsc/SEl0vRGFyD/VBU5XBknGP+rFbrk/WsM/dHxyVtWGxj8Rzd/FxWbJP3dteV0rr0xAM14/YICjA0DjmcDqR94MQGYRUG0hSNo/vq84AyRZ6j+GTd23gqH1P4eHc1QaAe0/GQcF28f0gkCaBjEdDb3AQIe9yUPlIew/OpnB38+Swz+IG/oUSqDNP8r8K8oc0dM/z1CW8LEN2T9Lpt/r5vDBP/hfk7vZE8A/Aw8tvd6sxD8JBrqfzaLuPzoMYflRxBHATQwVlZRT1T+5f1RGSRa9P24gM45HCMI/ekHRKGIQzEC0DZbt0U/9PzNrQCI9Mr5AecckEfPI0b/YyrEPm8IKQB1BNQXuJsNAkeGjoWCNwT8JPQxVsVPJP3Dh5v+QPfc/Hj+RVdtVCEAn+opXbZ8BQM9pXRROxeBA2qOchSD9FED2uYYrkin7QOgHxSeXybU/WC2/OVYQP0DSu0jPyhkIQJjmCTuuJmxAZEsfN4fvyr+hOhcX4sIHQDyUkVc55Mm/wdaDMvHOyb+eDUm4wawHQE3gORZhKcO/Uqo1DLZgCkDMVngIEQPOvw7/cOBDTM6/TsLg3hub1z/ZmoV0EA4qQFbbmgqGGtO/tVMbjvNNzr9liB259irIv/bNmAqdXyxAQuNSPD+7NEBGHuG4uFI0QKXAkWPhjOM/lz3qQ1tsnr/xG9tQm2bSv358BPdH0y5AiQLxOrZs0r/nI1uNyY0fwBx+SNilDQxAeBxjILh6U0DDEG6P8F7Xv81Q0t5iGMm/cQhlF0LxCkAaoSsOQi0QQBRAIM/wutS/OvlkbfRowz/lIWoF9K/zP1FlgWdDif2/McQEmglqPECLB9XEDaz7v68tQPhNrEBA49IHIR11CcDtI6QuI5oAwETLX7E2fvK/3X8BMDXR9L9In1n/kkPjv+eWPVOYjo4/wo9g9u8TskB8zIJ8572tQBZoAuu2EgnAaauw017NBMBHtRcv04rav2D2Q1KVYOi/uJZjDSG64L+IGSthYzQFwN1c6L4Uevc/1Ewibh0REUDUs1Sb9a78P8tETo9lYRRApXA3aRGx9j9OhhUq0dT+P3maV4Ov67k/rgO9b9o0/T8ya25mvsZpQLRj5CbwEbg/\",\"dtype\":\"float64\",\"shape\":[120]}}},\"id\":\"8e33cbac-8e44-43f4-b49d-36fbbf887777\",\"type\":\"ColumnDataSource\"},{\"attributes\":{\"callback\":null,\"end\":10.5,\"start\":-1},\"id\":\"0287fef7-f427-4153-af5e-2f824921156d\",\"type\":\"Range1d\"},{\"attributes\":{\"overlay\":{\"id\":\"07eb0777-54c9-4438-9640-280d3e9a589c\",\"type\":\"BoxAnnotation\"}},\"id\":\"e9c8a55b-58a9-4247-b8ae-3a56afd8e0dc\",\"type\":\"BoxZoomTool\"}],\"root_ids\":[\"e712f157-3502-4d1d-b701-2bc8350e7a09\"]},\"title\":\"Bokeh Application\",\"version\":\"0.12.13\"}};\n",
       "  var render_items = [{\"docid\":\"a154c436-ac63-447a-a053-d38f91f43b15\",\"elementid\":\"e3c392b6-c730-497d-91ab-eb62b456de38\",\"modelid\":\"e712f157-3502-4d1d-b701-2bc8350e7a09\"}];\n",
       "  root.Bokeh.embed.embed_items_notebook(docs_json, render_items);\n",
       "\n",
       "  }\n",
       "  if (root.Bokeh !== undefined) {\n",
       "    embed_document(root);\n",
       "  } else {\n",
       "    var attempts = 0;\n",
       "    var timer = setInterval(function(root) {\n",
       "      if (root.Bokeh !== undefined) {\n",
       "        embed_document(root);\n",
       "        clearInterval(timer);\n",
       "      }\n",
       "      attempts++;\n",
       "      if (attempts > 100) {\n",
       "        console.log(\"Bokeh: ERROR: Unable to run BokehJS code because BokehJS library is missing\")\n",
       "        clearInterval(timer);\n",
       "      }\n",
       "    }, 10, root)\n",
       "  }\n",
       "})(window);"
      ],
      "application/vnd.bokehjs_exec.v0+json": ""
     },
     "metadata": {
      "application/vnd.bokehjs_exec.v0+json": {
       "id": "e712f157-3502-4d1d-b701-2bc8350e7a09"
      }
     },
     "output_type": "display_data"
    }
   ],
   "source": [
    "indexstardic ={}\n",
    "for index,typestar in enumerate(np.unique([i.type for i in dicofspectra])):\n",
    "    indexstardic[str(typestar)] = index\n",
    "\n",
    "label = starclass\n",
    "indexsvd = [ indexstardic[i] for i in starclass ]\n",
    "\n",
    "\n",
    "dd = {}\n",
    "dd['x'] = indexsvd\n",
    "dd['y'] = fitmat[:,0]\n",
    "dd['labels'] = label\n",
    "dd['colors'] = colorsvd\n",
    "source = ColumnDataSource(dd)\n",
    "\n",
    "\n",
    "#Plot range\n",
    "xr = (-1,10.5)\n",
    "yr = (-2,5.6)\n",
    "\n",
    "\n",
    "\n",
    "pone = figure(x_axis_label='Star', y_axis_label='Y', x_range=xr, y_range=yr\n",
    "                  ,active_drag='pan', active_scroll='wheel_zoom',\n",
    "                  plot_width=900, plot_height=900\n",
    "                 )\n",
    "\n",
    "\n",
    "\n",
    "pone.circle(x='x', y='y', color='colors', legend = 'labels',source=source , size =5)\n",
    "show(pone)"
   ]
  },
  {
   "cell_type": "markdown",
   "metadata": {},
   "source": [
    "# Plotting SVD\n",
    "\n",
    "We get the same thing differing by a negative sign."
   ]
  },
  {
   "cell_type": "code",
   "execution_count": 16,
   "metadata": {},
   "outputs": [
    {
     "data": {
      "text/html": [
       "\n",
       "<div class=\"bk-root\">\n",
       "    <div class=\"bk-plotdiv\" id=\"657b98a1-11b1-4994-ad4b-a325f02e2629\"></div>\n",
       "</div>"
      ]
     },
     "metadata": {},
     "output_type": "display_data"
    },
    {
     "data": {
      "application/javascript": [
       "(function(root) {\n",
       "  function embed_document(root) {\n",
       "    \n",
       "  var docs_json = {\"5e511682-39c6-4edc-8bec-b58401e7688e\":{\"roots\":{\"references\":[{\"attributes\":{\"source\":{\"id\":\"4536667a-c7e4-49a6-8d7d-8c8cddd07312\",\"type\":\"ColumnDataSource\"}},\"id\":\"a45a63b8-7416-4607-9ff4-7229dfac8f17\",\"type\":\"CDSView\"},{\"attributes\":{},\"id\":\"3af1b36c-9b83-445b-8b21-68ca17288715\",\"type\":\"ResetTool\"},{\"attributes\":{\"data_source\":{\"id\":\"4536667a-c7e4-49a6-8d7d-8c8cddd07312\",\"type\":\"ColumnDataSource\"},\"glyph\":{\"id\":\"c03f0b74-7d69-4aa7-b8dc-838452d1be12\",\"type\":\"Circle\"},\"hover_glyph\":null,\"muted_glyph\":null,\"nonselection_glyph\":{\"id\":\"8042f462-908c-4472-ae1e-ed574e6ccb6d\",\"type\":\"Circle\"},\"selection_glyph\":null,\"view\":{\"id\":\"a45a63b8-7416-4607-9ff4-7229dfac8f17\",\"type\":\"CDSView\"}},\"id\":\"226ea4d2-808e-4594-b89a-d35e8a107057\",\"type\":\"GlyphRenderer\"},{\"attributes\":{},\"id\":\"62c40e2e-ba5d-4e79-830e-34c21cb32cfc\",\"type\":\"PanTool\"},{\"attributes\":{\"formatter\":{\"id\":\"d237985d-a51e-44fd-b467-823698f15b10\",\"type\":\"BasicTickFormatter\"},\"plot\":{\"id\":\"23e9374a-e43b-4934-9beb-ed7f6b5ed636\",\"subtype\":\"Figure\",\"type\":\"Plot\"},\"ticker\":{\"id\":\"cc9d45d5-da89-4114-a541-dd4439110c92\",\"type\":\"BasicTicker\"}},\"id\":\"ea7750b5-db7f-4a52-af94-646424902766\",\"type\":\"LinearAxis\"},{\"attributes\":{\"plot\":null,\"text\":\"\"},\"id\":\"1809aa5c-9f34-4d7c-89b8-fbde4d2a6b59\",\"type\":\"Title\"},{\"attributes\":{},\"id\":\"69cc35c1-c751-40c5-bd25-c6b8ef848a8c\",\"type\":\"BasicTicker\"},{\"attributes\":{\"callback\":null,\"column_names\":[\"y\",\"x\",\"colors\",\"labels\"],\"data\":{\"colors\":[\"#1f77b4\",\"#1f77b4\",\"#1f77b4\",\"#1f77b4\",\"#1f77b4\",\"#1f77b4\",\"#1f77b4\",\"#1f77b4\",\"#1f77b4\",\"#1f77b4\",\"#aec7e8\",\"#aec7e8\",\"#aec7e8\",\"#aec7e8\",\"#aec7e8\",\"#aec7e8\",\"#aec7e8\",\"#aec7e8\",\"#aec7e8\",\"#aec7e8\",\"#ff7f0e\",\"#ff7f0e\",\"#ff7f0e\",\"#ff7f0e\",\"#ff7f0e\",\"#ff7f0e\",\"#ff7f0e\",\"#ff7f0e\",\"#ff7f0e\",\"#ff7f0e\",\"#ffbb78\",\"#ffbb78\",\"#ffbb78\",\"#ffbb78\",\"#ffbb78\",\"#ffbb78\",\"#ffbb78\",\"#ffbb78\",\"#ffbb78\",\"#ffbb78\",\"#2ca02c\",\"#2ca02c\",\"#2ca02c\",\"#2ca02c\",\"#2ca02c\",\"#2ca02c\",\"#2ca02c\",\"#2ca02c\",\"#2ca02c\",\"#2ca02c\",\"#98df8a\",\"#98df8a\",\"#98df8a\",\"#98df8a\",\"#98df8a\",\"#98df8a\",\"#98df8a\",\"#98df8a\",\"#98df8a\",\"#98df8a\",\"#d62728\",\"#d62728\",\"#d62728\",\"#d62728\",\"#d62728\",\"#d62728\",\"#d62728\",\"#d62728\",\"#d62728\",\"#d62728\",\"#ff9896\",\"#ff9896\",\"#ff9896\",\"#ff9896\",\"#ff9896\",\"#ff9896\",\"#ff9896\",\"#ff9896\",\"#ff9896\",\"#ff9896\",\"#9467bd\",\"#9467bd\",\"#9467bd\",\"#9467bd\",\"#9467bd\",\"#9467bd\",\"#9467bd\",\"#9467bd\",\"#9467bd\",\"#9467bd\",\"#c5b0d5\",\"#c5b0d5\",\"#c5b0d5\",\"#c5b0d5\",\"#c5b0d5\",\"#c5b0d5\",\"#c5b0d5\",\"#c5b0d5\",\"#c5b0d5\",\"#c5b0d5\",\"#8c564b\",\"#8c564b\",\"#8c564b\",\"#8c564b\",\"#8c564b\",\"#8c564b\",\"#8c564b\",\"#8c564b\",\"#8c564b\",\"#8c564b\",\"#c49c94\",\"#c49c94\",\"#c49c94\",\"#c49c94\",\"#c49c94\",\"#c49c94\",\"#c49c94\",\"#c49c94\",\"#c49c94\",\"#c49c94\"],\"labels\":[\"G1V (95128)\",\"G1V (95128)\",\"G1V (95128)\",\"G1V (95128)\",\"G1V (95128)\",\"G1V (95128)\",\"G1V (95128)\",\"G1V (95128)\",\"G1V (95128)\",\"G1V (95128)\",\"G2\",\"G2\",\"G2\",\"G2\",\"G2\",\"G2\",\"G2\",\"G2\",\"G2\",\"G2\",\"G4V (32923)\",\"G4V (32923)\",\"G4V (32923)\",\"G4V (32923)\",\"G4V (32923)\",\"G4V (32923)\",\"G4V (32923)\",\"G4V (32923)\",\"G4V (32923)\",\"G4V (32923)\",\"G5III+... (157910)\",\"G5III+... (157910)\",\"G5III+... (157910)\",\"G5III+... (157910)\",\"G5III+... (157910)\",\"G5III+... (157910)\",\"G5III+... (157910)\",\"G5III+... (157910)\",\"G5III+... (157910)\",\"G5III+... (157910)\",\"G8V (101501)\",\"G8V (101501)\",\"G8V (101501)\",\"G8V (101501)\",\"G8V (101501)\",\"G8V (101501)\",\"G8V (101501)\",\"G8V (101501)\",\"G8V (101501)\",\"G8V (101501)\",\"G9IV (100030)\",\"G9IV (100030)\",\"G9IV (100030)\",\"G9IV (100030)\",\"G9IV (100030)\",\"G9IV (100030)\",\"G9IV (100030)\",\"G9IV (100030)\",\"G9IV (100030)\",\"G9IV (100030)\",\"K1III (18322)\",\"K1III (18322)\",\"K1III (18322)\",\"K1III (18322)\",\"K1III (18322)\",\"K1III (18322)\",\"K1III (18322)\",\"K1III (18322)\",\"K1III (18322)\",\"K1III (18322)\",\"K2III (115136)\",\"K2III (115136)\",\"K2III (115136)\",\"K2III (115136)\",\"K2III (115136)\",\"K2III (115136)\",\"K2III (115136)\",\"K2III (115136)\",\"K2III (115136)\",\"K2III (115136)\",\"K3III (101673)\",\"K3III (101673)\",\"K3III (101673)\",\"K3III (101673)\",\"K3III (101673)\",\"K3III (101673)\",\"K3III (101673)\",\"K3III (101673)\",\"K3III (101673)\",\"K3III (101673)\",\"K4III (136726)\",\"K4III (136726)\",\"K4III (136726)\",\"K4III (136726)\",\"K4III (136726)\",\"K4III (136726)\",\"K4III (136726)\",\"K4III (136726)\",\"K4III (136726)\",\"K4III (136726)\",\"K5III (111335)\",\"K5III (111335)\",\"K5III (111335)\",\"K5III (111335)\",\"K5III (111335)\",\"K5III (111335)\",\"K5III (111335)\",\"K5III (111335)\",\"K5III (111335)\",\"K5III (111335)\",\"K7\",\"K7\",\"K7\",\"K7\",\"K7\",\"K7\",\"K7\",\"K7\",\"K7\",\"K7\"],\"x\":{\"__ndarray__\":\"0ZnHdvWfvT4X4UqZWgmyPkN3Hdu+nMA+r8hggSrjvj4Ikq6ULHirPnE80iBh1rs+ae1+12UewT73YiqF3IarPmfF12D10bI+dO0SLTizsj4AhtorWW2xPgJt3hHssrM+8tduTcM6ED/1myvWCCutPh/sio+Qmbk+wb8yGwsiuz7UE9KbCKm4Po0dgJA+arU+AGn+7W3tuD4FrQgBzRu8Pod7lyfDvT8/VnwpxE279T4vnREN5fH/Pj+vpRotFc0+qt7Fxv8n3T4Q4uuxqu/nPrhEaME2DOA+XuYbVvb5dD+cM3A5uoWyP9Dos61uId8+Sn/x7NWotT6+YvgsSmTAPjMm15XG7cU+VrN13jq5yz6y7ychY9qzPtbOsIl+yrE+zj07L/Tgtj4eTQN3UvPgPlFsEdsNqQO/hERQY26Zxz6aOHwz7xewPiSgVZJB9LM+vb0byg0Ovz/mFiNgxDfwPotc7qsKtbA/fX28Py2uw75T76c6tJz9PvTYHrh0MbU/TeJkgkFssz4p//EBsAa8PiFZmBmjt+k+Zyi9mczt+j5zfjSrOoDzPtyurWDcjtI/21OKnsM5Bz/P7meKpA7uPzyVeKEEHKg+cEAU+OwvMT+hhYdVVav6Po5itjG6Jl8/Ks3wAGrOvb6T1zh5KUv6PrS0O0Sfpry+7olffRKPvL7QFlNtrTL6PsfUZp0qNLW+vPsyW2Aw/T7NxtQe8ZrAvlbm4BRxw8C+oRJgFyYfyj4+IaHo69QcP0flPUO6I8W+yWh07F/EwL7QDiC9Vb66vsSDB066ZR8/hWBr7dzwJj/7jBelMn0mP2Qp6JtFotU+Ks7kjDLVkL5YiqncolzEvvuMaPIkDiE/sSnDV2RjxL4j7FP3VXURvx8j4tYGC/8+r83V2iyORT/4JjQvkdzJvmqdaHwPxbu+++g0FFTQ/T6nt84NnOYBP4ZHgiSG8Ma+aXvnfIR6tT5zWOUhFcnlPr0y87mMV/C+4erQQ0NxLz81nYwaCJ/uvsEjSC4yczI/1fzYoasr/L57WSy9F1/yvhejt07CduS+sfXjCCoJ577N3/kzJ1HVvmwHLiUk6IA+QnUgCigBpD8/ToTerHSgP4O59crIvvu++CfR+uoE977yzvd7+l7Nvi53PT2r+dq+DvFBcH6C0r5AIwEr6nb3vtxrHt6Z+uk+I/90DcDiAj85AsKqh73vPv2JXt1vjQY/94K0Sioc6T7/ZsZ//g7xPiVFOgPhrqw+3KMvw9go8D5h9sYDAIZcP816VWSkoqo+\",\"dtype\":\"float64\",\"shape\":[120]},\"y\":{\"__ndarray__\":\"CIvjzbZgIz8bSqmC3LEXP6S2KoTHYCU/Kq2P8tTCJD/Buzw6T9gRP0BjlA2fbCM/cJx+8XSpJz/wqJMbISASP7iVc2zY9hg/UKSbRDNpGD/Aw3Kf6awHP0Rv1l1wYwo/nwf3HA/+1z/Bap1ibi4DP3FkCvltvxA/2rmbJ+4UEj/8+ajgLa8RP5HF2ITuVww/4w7r7kRPED/9TztgZkgSP1yOXakMUpw/oMXQ+p3eVT9jpn476vqZP+vdMeIvGxI/1zLdQy2MFD+Dt85iDHUZP4xB91p65Bg/Nygij+ey4z8hIw9U5ZyNP4sYwbkk5hw/xgh1EZzPHT/gMAyEnxcUP5cVtHdjaBo/8qXJAoZ5BT+H3tlKCKIbP8qI8+IlhBg/W893srs0ID9KWAQdsssUP1NZOTxGSyU/JiphdSUtMD/0fE1O7OARP5ufXLFSGhY/x7GXR5RtZb/n9xDeqyMaP1R2VaNet9A/gc4z9QYEFj+zyiF4LAgYP4oUeT329Fq/D6aZPBOXCD9yYoftEC4gP387KNf6Chc/KlUeOV7NFz/UrYWnb6UZP3HabkMBtHm/lTtSAenVaT95dyfDmzWVvwD2MLv5GBU/WszT2+ASEj/83ZcgxSMZP1kbaC3MJAw/FC4bZBYdHj8lABe/A+SWP2MXMtSrXxg/xW05icDLHD+VN1ftfkdzP4hOke8IlRc/izbw/yXlhT+UFvHFPvcZP1eqLc3iGhk//fMGeV6WaT8k6PeBHQuZP9wcOcTAwBc/ELb674zfFz9WBQv1Dr4YP9lkn3eolYs/2Fl4eOZphj9f0UrL+v2FP4Qgp2xXfDw/S+MIVijPXT+sFQ5VOOUYP7XELZGU2IA/0C9ZDkcNGD80BDR8ZssVP6I2HKapy3M/OZcJnGyW4T/ha4sp5/0eP67VpKYEbhg/HVchlY9Imj/KVxnM4ZSeP/yz6jVhThk/jox53eYahT+01mIBXxRbP2cbuD/5giQ/YNjZ6W33yj8k/wWtQt0gP+47z2cLbM8/8vtMIar1HT9ECQsD+CAcP/Eo2ypmbnw/mMYRGOLHHj/6zfS845MhP2C3TpincR4/nlNFyL5cSL/s6G6JHBZDv7EVKf6N2xw/jk6rAX3DHD9Py65t+YQZP4KJa6mQxBs/6S4Su63DHj+T3b8vJnYdP3whTjfCOBY/TGD3XMWWGj+7NGvkzUAWP1AeLiBkJxg/hJNFUidtEz/PBVuitucSP7IUbcACbBg/vdppoRp1FD8CK2qHsSsRP0eggZLqUB8/\",\"dtype\":\"float64\",\"shape\":[120]}}},\"id\":\"4536667a-c7e4-49a6-8d7d-8c8cddd07312\",\"type\":\"ColumnDataSource\"},{\"attributes\":{\"below\":[{\"id\":\"ea7750b5-db7f-4a52-af94-646424902766\",\"type\":\"LinearAxis\"}],\"left\":[{\"id\":\"14c86d9c-8a03-4755-9b8d-85cd2f2fa6dd\",\"type\":\"LinearAxis\"}],\"renderers\":[{\"id\":\"ea7750b5-db7f-4a52-af94-646424902766\",\"type\":\"LinearAxis\"},{\"id\":\"13e5cd4c-36c8-4460-80fb-855eefc28cb5\",\"type\":\"Grid\"},{\"id\":\"14c86d9c-8a03-4755-9b8d-85cd2f2fa6dd\",\"type\":\"LinearAxis\"},{\"id\":\"951f47bd-525f-4f79-b6aa-ecd8c4defd0d\",\"type\":\"Grid\"},{\"id\":\"1888893a-1a1c-4e0d-a9a4-eeec030530f6\",\"type\":\"BoxAnnotation\"},{\"id\":\"4198300c-8183-4e0a-b012-b731ce6c3e56\",\"type\":\"Legend\"},{\"id\":\"226ea4d2-808e-4594-b89a-d35e8a107057\",\"type\":\"GlyphRenderer\"}],\"title\":{\"id\":\"1809aa5c-9f34-4d7c-89b8-fbde4d2a6b59\",\"type\":\"Title\"},\"toolbar\":{\"id\":\"78d772be-2edf-4fba-a68e-6fce5df7746a\",\"type\":\"Toolbar\"},\"x_range\":{\"id\":\"09d3507d-20e8-46b7-9501-a3110d040b36\",\"type\":\"DataRange1d\"},\"x_scale\":{\"id\":\"149dc650-7d42-4d67-94fd-a1f224d07433\",\"type\":\"LinearScale\"},\"y_range\":{\"id\":\"f6528e14-e0b4-4f12-b051-99ebbecb415e\",\"type\":\"DataRange1d\"},\"y_scale\":{\"id\":\"415e9e08-e6f5-4f7d-8a5d-6539f1325839\",\"type\":\"LinearScale\"}},\"id\":\"23e9374a-e43b-4934-9beb-ed7f6b5ed636\",\"subtype\":\"Figure\",\"type\":\"Plot\"},{\"attributes\":{\"fill_color\":{\"field\":\"colors\"},\"line_color\":{\"field\":\"colors\"},\"size\":{\"units\":\"screen\",\"value\":5},\"x\":{\"field\":\"x\"},\"y\":{\"field\":\"y\"}},\"id\":\"c03f0b74-7d69-4aa7-b8dc-838452d1be12\",\"type\":\"Circle\"},{\"attributes\":{\"fill_alpha\":{\"value\":0.1},\"fill_color\":{\"value\":\"#1f77b4\"},\"line_alpha\":{\"value\":0.1},\"line_color\":{\"value\":\"#1f77b4\"},\"size\":{\"units\":\"screen\",\"value\":5},\"x\":{\"field\":\"x\"},\"y\":{\"field\":\"y\"}},\"id\":\"8042f462-908c-4472-ae1e-ed574e6ccb6d\",\"type\":\"Circle\"},{\"attributes\":{\"label\":{\"field\":\"labels\"},\"renderers\":[{\"id\":\"226ea4d2-808e-4594-b89a-d35e8a107057\",\"type\":\"GlyphRenderer\"}]},\"id\":\"ddab42e0-72cd-4f02-8e00-e9dce4fd3bbc\",\"type\":\"LegendItem\"},{\"attributes\":{\"active_drag\":\"auto\",\"active_inspect\":\"auto\",\"active_scroll\":\"auto\",\"active_tap\":\"auto\",\"tools\":[{\"id\":\"62c40e2e-ba5d-4e79-830e-34c21cb32cfc\",\"type\":\"PanTool\"},{\"id\":\"db15c0ff-a4a4-496a-982a-e23f213ff5a2\",\"type\":\"WheelZoomTool\"},{\"id\":\"7483284b-761d-4db5-871c-3e7f5c02d28a\",\"type\":\"BoxZoomTool\"},{\"id\":\"ec46e515-0d58-41ff-8d16-927ade7daa6a\",\"type\":\"SaveTool\"},{\"id\":\"3af1b36c-9b83-445b-8b21-68ca17288715\",\"type\":\"ResetTool\"},{\"id\":\"091eed94-163c-4287-95d3-bcaf82f0cb5a\",\"type\":\"HelpTool\"}]},\"id\":\"78d772be-2edf-4fba-a68e-6fce5df7746a\",\"type\":\"Toolbar\"},{\"attributes\":{},\"id\":\"ec46e515-0d58-41ff-8d16-927ade7daa6a\",\"type\":\"SaveTool\"},{\"attributes\":{\"overlay\":{\"id\":\"1888893a-1a1c-4e0d-a9a4-eeec030530f6\",\"type\":\"BoxAnnotation\"}},\"id\":\"7483284b-761d-4db5-871c-3e7f5c02d28a\",\"type\":\"BoxZoomTool\"},{\"attributes\":{\"bottom_units\":\"screen\",\"fill_alpha\":{\"value\":0.5},\"fill_color\":{\"value\":\"lightgrey\"},\"left_units\":\"screen\",\"level\":\"overlay\",\"line_alpha\":{\"value\":1.0},\"line_color\":{\"value\":\"black\"},\"line_dash\":[4,4],\"line_width\":{\"value\":2},\"plot\":null,\"render_mode\":\"css\",\"right_units\":\"screen\",\"top_units\":\"screen\"},\"id\":\"1888893a-1a1c-4e0d-a9a4-eeec030530f6\",\"type\":\"BoxAnnotation\"},{\"attributes\":{\"plot\":{\"id\":\"23e9374a-e43b-4934-9beb-ed7f6b5ed636\",\"subtype\":\"Figure\",\"type\":\"Plot\"},\"ticker\":{\"id\":\"cc9d45d5-da89-4114-a541-dd4439110c92\",\"type\":\"BasicTicker\"}},\"id\":\"13e5cd4c-36c8-4460-80fb-855eefc28cb5\",\"type\":\"Grid\"},{\"attributes\":{},\"id\":\"091eed94-163c-4287-95d3-bcaf82f0cb5a\",\"type\":\"HelpTool\"},{\"attributes\":{},\"id\":\"d237985d-a51e-44fd-b467-823698f15b10\",\"type\":\"BasicTickFormatter\"},{\"attributes\":{\"formatter\":{\"id\":\"39ee8ed4-9e7b-4658-9634-15382ef95b51\",\"type\":\"BasicTickFormatter\"},\"plot\":{\"id\":\"23e9374a-e43b-4934-9beb-ed7f6b5ed636\",\"subtype\":\"Figure\",\"type\":\"Plot\"},\"ticker\":{\"id\":\"69cc35c1-c751-40c5-bd25-c6b8ef848a8c\",\"type\":\"BasicTicker\"}},\"id\":\"14c86d9c-8a03-4755-9b8d-85cd2f2fa6dd\",\"type\":\"LinearAxis\"},{\"attributes\":{},\"id\":\"cc9d45d5-da89-4114-a541-dd4439110c92\",\"type\":\"BasicTicker\"},{\"attributes\":{},\"id\":\"39ee8ed4-9e7b-4658-9634-15382ef95b51\",\"type\":\"BasicTickFormatter\"},{\"attributes\":{\"callback\":null},\"id\":\"f6528e14-e0b4-4f12-b051-99ebbecb415e\",\"type\":\"DataRange1d\"},{\"attributes\":{\"dimension\":1,\"plot\":{\"id\":\"23e9374a-e43b-4934-9beb-ed7f6b5ed636\",\"subtype\":\"Figure\",\"type\":\"Plot\"},\"ticker\":{\"id\":\"69cc35c1-c751-40c5-bd25-c6b8ef848a8c\",\"type\":\"BasicTicker\"}},\"id\":\"951f47bd-525f-4f79-b6aa-ecd8c4defd0d\",\"type\":\"Grid\"},{\"attributes\":{},\"id\":\"db15c0ff-a4a4-496a-982a-e23f213ff5a2\",\"type\":\"WheelZoomTool\"},{\"attributes\":{},\"id\":\"415e9e08-e6f5-4f7d-8a5d-6539f1325839\",\"type\":\"LinearScale\"},{\"attributes\":{\"callback\":null},\"id\":\"09d3507d-20e8-46b7-9501-a3110d040b36\",\"type\":\"DataRange1d\"},{\"attributes\":{},\"id\":\"149dc650-7d42-4d67-94fd-a1f224d07433\",\"type\":\"LinearScale\"},{\"attributes\":{\"items\":[{\"id\":\"ddab42e0-72cd-4f02-8e00-e9dce4fd3bbc\",\"type\":\"LegendItem\"}],\"plot\":{\"id\":\"23e9374a-e43b-4934-9beb-ed7f6b5ed636\",\"subtype\":\"Figure\",\"type\":\"Plot\"}},\"id\":\"4198300c-8183-4e0a-b012-b731ce6c3e56\",\"type\":\"Legend\"}],\"root_ids\":[\"23e9374a-e43b-4934-9beb-ed7f6b5ed636\"]},\"title\":\"Bokeh Application\",\"version\":\"0.12.13\"}};\n",
       "  var render_items = [{\"docid\":\"5e511682-39c6-4edc-8bec-b58401e7688e\",\"elementid\":\"657b98a1-11b1-4994-ad4b-a325f02e2629\",\"modelid\":\"23e9374a-e43b-4934-9beb-ed7f6b5ed636\"}];\n",
       "  root.Bokeh.embed.embed_items_notebook(docs_json, render_items);\n",
       "\n",
       "  }\n",
       "  if (root.Bokeh !== undefined) {\n",
       "    embed_document(root);\n",
       "  } else {\n",
       "    var attempts = 0;\n",
       "    var timer = setInterval(function(root) {\n",
       "      if (root.Bokeh !== undefined) {\n",
       "        embed_document(root);\n",
       "        clearInterval(timer);\n",
       "      }\n",
       "      attempts++;\n",
       "      if (attempts > 100) {\n",
       "        console.log(\"Bokeh: ERROR: Unable to run BokehJS code because BokehJS library is missing\")\n",
       "        clearInterval(timer);\n",
       "      }\n",
       "    }, 10, root)\n",
       "  }\n",
       "})(window);"
      ],
      "application/vnd.bokehjs_exec.v0+json": ""
     },
     "metadata": {
      "application/vnd.bokehjs_exec.v0+json": {
       "id": "23e9374a-e43b-4934-9beb-ed7f6b5ed636"
      }
     },
     "output_type": "display_data"
    }
   ],
   "source": [
    "coldic ={}\n",
    "for index,typestar in enumerate(np.unique([i.type for i in dicofspectra])):\n",
    "    coldic[str(typestar)] = colors[index]\n",
    "coldic\n",
    "label = starclass\n",
    "colorsvd = [ coldic[i] for i in starclass ]\n",
    "\n",
    "\n",
    "dd = {}\n",
    "dd['x'] = -Vtranspose[0]\n",
    "dd['y'] = -Vtranspose[1]\n",
    "dd['labels'] = label\n",
    "dd['colors'] = colorsvd\n",
    "source = ColumnDataSource(dd)\n",
    "\n",
    "\n",
    "p = figure()\n",
    "\n",
    "\n",
    "p.circle(x='x', y='y', color='colors', legend = 'labels',source=source , size =5)\n",
    "show(p)"
   ]
  },
  {
   "cell_type": "code",
   "execution_count": 17,
   "metadata": {},
   "outputs": [
    {
     "data": {
      "text/html": [
       "\n",
       "<div class=\"bk-root\">\n",
       "    <div class=\"bk-plotdiv\" id=\"c3bde50f-849f-43b2-8b09-72fa34cc1904\"></div>\n",
       "</div>"
      ]
     },
     "metadata": {},
     "output_type": "display_data"
    },
    {
     "data": {
      "application/javascript": [
       "(function(root) {\n",
       "  function embed_document(root) {\n",
       "    \n",
       "  var docs_json = {\"cb51a252-062f-49d9-b060-27df63b737ac\":{\"roots\":{\"references\":[{\"attributes\":{\"formatter\":{\"id\":\"3387b1c2-129d-45e1-b49a-a8e908c0512f\",\"type\":\"BasicTickFormatter\"},\"plot\":{\"id\":\"750c8f30-2c5e-49ce-ad17-083f270c300f\",\"subtype\":\"Figure\",\"type\":\"Plot\"},\"ticker\":{\"id\":\"b1dbc07e-19ec-4c58-b3a6-c4bcaddc0b10\",\"type\":\"BasicTicker\"}},\"id\":\"201d0531-b66a-4a2a-b84b-555368956172\",\"type\":\"LinearAxis\"},{\"attributes\":{\"callback\":null,\"column_names\":[\"y\",\"x\",\"colors\",\"labels\"],\"data\":{\"colors\":[\"#1f77b4\",\"#1f77b4\",\"#1f77b4\",\"#1f77b4\",\"#1f77b4\",\"#1f77b4\",\"#1f77b4\",\"#1f77b4\",\"#1f77b4\",\"#1f77b4\",\"#aec7e8\",\"#aec7e8\",\"#aec7e8\",\"#aec7e8\",\"#aec7e8\",\"#aec7e8\",\"#aec7e8\",\"#aec7e8\",\"#aec7e8\",\"#aec7e8\",\"#ff7f0e\",\"#ff7f0e\",\"#ff7f0e\",\"#ff7f0e\",\"#ff7f0e\",\"#ff7f0e\",\"#ff7f0e\",\"#ff7f0e\",\"#ff7f0e\",\"#ff7f0e\",\"#ffbb78\",\"#ffbb78\",\"#ffbb78\",\"#ffbb78\",\"#ffbb78\",\"#ffbb78\",\"#ffbb78\",\"#ffbb78\",\"#ffbb78\",\"#ffbb78\",\"#2ca02c\",\"#2ca02c\",\"#2ca02c\",\"#2ca02c\",\"#2ca02c\",\"#2ca02c\",\"#2ca02c\",\"#2ca02c\",\"#2ca02c\",\"#2ca02c\",\"#98df8a\",\"#98df8a\",\"#98df8a\",\"#98df8a\",\"#98df8a\",\"#98df8a\",\"#98df8a\",\"#98df8a\",\"#98df8a\",\"#98df8a\",\"#d62728\",\"#d62728\",\"#d62728\",\"#d62728\",\"#d62728\",\"#d62728\",\"#d62728\",\"#d62728\",\"#d62728\",\"#d62728\",\"#ff9896\",\"#ff9896\",\"#ff9896\",\"#ff9896\",\"#ff9896\",\"#ff9896\",\"#ff9896\",\"#ff9896\",\"#ff9896\",\"#ff9896\",\"#9467bd\",\"#9467bd\",\"#9467bd\",\"#9467bd\",\"#9467bd\",\"#9467bd\",\"#9467bd\",\"#9467bd\",\"#9467bd\",\"#9467bd\",\"#c5b0d5\",\"#c5b0d5\",\"#c5b0d5\",\"#c5b0d5\",\"#c5b0d5\",\"#c5b0d5\",\"#c5b0d5\",\"#c5b0d5\",\"#c5b0d5\",\"#c5b0d5\",\"#8c564b\",\"#8c564b\",\"#8c564b\",\"#8c564b\",\"#8c564b\",\"#8c564b\",\"#8c564b\",\"#8c564b\",\"#8c564b\",\"#8c564b\",\"#c49c94\",\"#c49c94\",\"#c49c94\",\"#c49c94\",\"#c49c94\",\"#c49c94\",\"#c49c94\",\"#c49c94\",\"#c49c94\",\"#c49c94\"],\"labels\":[\"G1V (95128)\",\"G1V (95128)\",\"G1V (95128)\",\"G1V (95128)\",\"G1V (95128)\",\"G1V (95128)\",\"G1V (95128)\",\"G1V (95128)\",\"G1V (95128)\",\"G1V (95128)\",\"G2\",\"G2\",\"G2\",\"G2\",\"G2\",\"G2\",\"G2\",\"G2\",\"G2\",\"G2\",\"G4V (32923)\",\"G4V (32923)\",\"G4V (32923)\",\"G4V (32923)\",\"G4V (32923)\",\"G4V (32923)\",\"G4V (32923)\",\"G4V (32923)\",\"G4V (32923)\",\"G4V (32923)\",\"G5III+... (157910)\",\"G5III+... (157910)\",\"G5III+... (157910)\",\"G5III+... (157910)\",\"G5III+... (157910)\",\"G5III+... (157910)\",\"G5III+... (157910)\",\"G5III+... (157910)\",\"G5III+... (157910)\",\"G5III+... (157910)\",\"G8V (101501)\",\"G8V (101501)\",\"G8V (101501)\",\"G8V (101501)\",\"G8V (101501)\",\"G8V (101501)\",\"G8V (101501)\",\"G8V (101501)\",\"G8V (101501)\",\"G8V (101501)\",\"G9IV (100030)\",\"G9IV (100030)\",\"G9IV (100030)\",\"G9IV (100030)\",\"G9IV (100030)\",\"G9IV (100030)\",\"G9IV (100030)\",\"G9IV (100030)\",\"G9IV (100030)\",\"G9IV (100030)\",\"K1III (18322)\",\"K1III (18322)\",\"K1III (18322)\",\"K1III (18322)\",\"K1III (18322)\",\"K1III (18322)\",\"K1III (18322)\",\"K1III (18322)\",\"K1III (18322)\",\"K1III (18322)\",\"K2III (115136)\",\"K2III (115136)\",\"K2III (115136)\",\"K2III (115136)\",\"K2III (115136)\",\"K2III (115136)\",\"K2III (115136)\",\"K2III (115136)\",\"K2III (115136)\",\"K2III (115136)\",\"K3III (101673)\",\"K3III (101673)\",\"K3III (101673)\",\"K3III (101673)\",\"K3III (101673)\",\"K3III (101673)\",\"K3III (101673)\",\"K3III (101673)\",\"K3III (101673)\",\"K3III (101673)\",\"K4III (136726)\",\"K4III (136726)\",\"K4III (136726)\",\"K4III (136726)\",\"K4III (136726)\",\"K4III (136726)\",\"K4III (136726)\",\"K4III (136726)\",\"K4III (136726)\",\"K4III (136726)\",\"K5III (111335)\",\"K5III (111335)\",\"K5III (111335)\",\"K5III (111335)\",\"K5III (111335)\",\"K5III (111335)\",\"K5III (111335)\",\"K5III (111335)\",\"K5III (111335)\",\"K5III (111335)\",\"K7\",\"K7\",\"K7\",\"K7\",\"K7\",\"K7\",\"K7\",\"K7\",\"K7\",\"K7\"],\"x\":[0,0,0,0,0,0,0,0,0,0,1,1,1,1,1,1,1,1,1,1,2,2,2,2,2,2,2,2,2,2,3,3,3,3,3,3,3,3,3,3,4,4,4,4,4,4,4,4,4,4,5,5,5,5,5,5,5,5,5,5,6,6,6,6,6,6,6,6,6,6,7,7,7,7,7,7,7,7,7,7,8,8,8,8,8,8,8,8,8,8,9,9,9,9,9,9,9,9,9,9,10,10,10,10,10,10,10,10,10,10,11,11,11,11,11,11,11,11,11,11],\"y\":{\"__ndarray__\":\"0ZnHdvWfvT4X4UqZWgmyPkN3Hdu+nMA+r8hggSrjvj4Ikq6ULHirPnE80iBh1rs+ae1+12UewT73YiqF3IarPmfF12D10bI+dO0SLTizsj4AhtorWW2xPgJt3hHssrM+8tduTcM6ED/1myvWCCutPh/sio+Qmbk+wb8yGwsiuz7UE9KbCKm4Po0dgJA+arU+AGn+7W3tuD4FrQgBzRu8Pod7lyfDvT8/VnwpxE279T4vnREN5fH/Pj+vpRotFc0+qt7Fxv8n3T4Q4uuxqu/nPrhEaME2DOA+XuYbVvb5dD+cM3A5uoWyP9Dos61uId8+Sn/x7NWotT6+YvgsSmTAPjMm15XG7cU+VrN13jq5yz6y7ychY9qzPtbOsIl+yrE+zj07L/Tgtj4eTQN3UvPgPlFsEdsNqQO/hERQY26Zxz6aOHwz7xewPiSgVZJB9LM+vb0byg0Ovz/mFiNgxDfwPotc7qsKtbA/fX28Py2uw75T76c6tJz9PvTYHrh0MbU/TeJkgkFssz4p//EBsAa8PiFZmBmjt+k+Zyi9mczt+j5zfjSrOoDzPtyurWDcjtI/21OKnsM5Bz/P7meKpA7uPzyVeKEEHKg+cEAU+OwvMT+hhYdVVav6Po5itjG6Jl8/Ks3wAGrOvb6T1zh5KUv6PrS0O0Sfpry+7olffRKPvL7QFlNtrTL6PsfUZp0qNLW+vPsyW2Aw/T7NxtQe8ZrAvlbm4BRxw8C+oRJgFyYfyj4+IaHo69QcP0flPUO6I8W+yWh07F/EwL7QDiC9Vb66vsSDB066ZR8/hWBr7dzwJj/7jBelMn0mP2Qp6JtFotU+Ks7kjDLVkL5YiqncolzEvvuMaPIkDiE/sSnDV2RjxL4j7FP3VXURvx8j4tYGC/8+r83V2iyORT/4JjQvkdzJvmqdaHwPxbu+++g0FFTQ/T6nt84NnOYBP4ZHgiSG8Ma+aXvnfIR6tT5zWOUhFcnlPr0y87mMV/C+4erQQ0NxLz81nYwaCJ/uvsEjSC4yczI/1fzYoasr/L57WSy9F1/yvhejt07CduS+sfXjCCoJ577N3/kzJ1HVvmwHLiUk6IA+QnUgCigBpD8/ToTerHSgP4O59crIvvu++CfR+uoE977yzvd7+l7Nvi53PT2r+dq+DvFBcH6C0r5AIwEr6nb3vtxrHt6Z+uk+I/90DcDiAj85AsKqh73vPv2JXt1vjQY/94K0Sioc6T7/ZsZ//g7xPiVFOgPhrqw+3KMvw9go8D5h9sYDAIZcP816VWSkoqo+\",\"dtype\":\"float64\",\"shape\":[120]}}},\"id\":\"bed15232-f846-4831-855f-6a8e5602f2d6\",\"type\":\"ColumnDataSource\"},{\"attributes\":{\"formatter\":{\"id\":\"c88308ca-0bde-4e72-b22e-dc427e7bc099\",\"type\":\"BasicTickFormatter\"},\"plot\":{\"id\":\"750c8f30-2c5e-49ce-ad17-083f270c300f\",\"subtype\":\"Figure\",\"type\":\"Plot\"},\"ticker\":{\"id\":\"98f7678f-875d-4050-8a00-9c6e3ebbd037\",\"type\":\"BasicTicker\"}},\"id\":\"6f932c4c-d112-4555-b784-a18512d3f5f3\",\"type\":\"LinearAxis\"},{\"attributes\":{\"fill_color\":{\"field\":\"colors\"},\"line_color\":{\"field\":\"colors\"},\"size\":{\"units\":\"screen\",\"value\":5},\"x\":{\"field\":\"x\"},\"y\":{\"field\":\"y\"}},\"id\":\"d98ad32b-a660-4a78-a16a-631515a0fa4d\",\"type\":\"Circle\"},{\"attributes\":{},\"id\":\"c71cd78b-adf5-43c8-87d7-ef47a635d3ff\",\"type\":\"PanTool\"},{\"attributes\":{\"callback\":null},\"id\":\"daefabc1-6a71-4bfd-9931-ddf6621c9726\",\"type\":\"DataRange1d\"},{\"attributes\":{\"active_drag\":\"auto\",\"active_inspect\":\"auto\",\"active_scroll\":\"auto\",\"active_tap\":\"auto\",\"tools\":[{\"id\":\"c71cd78b-adf5-43c8-87d7-ef47a635d3ff\",\"type\":\"PanTool\"},{\"id\":\"bf2a747b-921c-47cd-b5ea-66b678f6fd86\",\"type\":\"WheelZoomTool\"},{\"id\":\"8af4c657-d373-4853-b3e3-bf5c4f0986fb\",\"type\":\"BoxZoomTool\"},{\"id\":\"f47fdd90-bbdd-49e8-895b-e8f8ec36a716\",\"type\":\"SaveTool\"},{\"id\":\"751b81b5-f9fc-47d4-b93a-abc4463c825a\",\"type\":\"ResetTool\"},{\"id\":\"b2d1a7e2-21b5-414a-85ad-e52782781862\",\"type\":\"HelpTool\"}]},\"id\":\"90731485-71f3-4d04-bbb7-e527db178c25\",\"type\":\"Toolbar\"},{\"attributes\":{},\"id\":\"98f7678f-875d-4050-8a00-9c6e3ebbd037\",\"type\":\"BasicTicker\"},{\"attributes\":{\"fill_alpha\":{\"value\":0.1},\"fill_color\":{\"value\":\"#1f77b4\"},\"line_alpha\":{\"value\":0.1},\"line_color\":{\"value\":\"#1f77b4\"},\"size\":{\"units\":\"screen\",\"value\":5},\"x\":{\"field\":\"x\"},\"y\":{\"field\":\"y\"}},\"id\":\"10988211-5a47-4159-aac1-8d8f99fc3670\",\"type\":\"Circle\"},{\"attributes\":{\"data_source\":{\"id\":\"bed15232-f846-4831-855f-6a8e5602f2d6\",\"type\":\"ColumnDataSource\"},\"glyph\":{\"id\":\"d98ad32b-a660-4a78-a16a-631515a0fa4d\",\"type\":\"Circle\"},\"hover_glyph\":null,\"muted_glyph\":null,\"nonselection_glyph\":{\"id\":\"10988211-5a47-4159-aac1-8d8f99fc3670\",\"type\":\"Circle\"},\"selection_glyph\":null,\"view\":{\"id\":\"2a1be2c9-1795-4251-8556-991bad0d56d5\",\"type\":\"CDSView\"}},\"id\":\"bb4e6a7e-7258-4243-920e-9cff26ab5a9a\",\"type\":\"GlyphRenderer\"},{\"attributes\":{\"overlay\":{\"id\":\"20c5d0fd-1379-492e-9380-b83110b62ae8\",\"type\":\"BoxAnnotation\"}},\"id\":\"8af4c657-d373-4853-b3e3-bf5c4f0986fb\",\"type\":\"BoxZoomTool\"},{\"attributes\":{},\"id\":\"bf2a747b-921c-47cd-b5ea-66b678f6fd86\",\"type\":\"WheelZoomTool\"},{\"attributes\":{\"plot\":null,\"text\":\"\"},\"id\":\"47c28abd-9085-4e98-80b4-bcd7f26a83ba\",\"type\":\"Title\"},{\"attributes\":{\"bottom_units\":\"screen\",\"fill_alpha\":{\"value\":0.5},\"fill_color\":{\"value\":\"lightgrey\"},\"left_units\":\"screen\",\"level\":\"overlay\",\"line_alpha\":{\"value\":1.0},\"line_color\":{\"value\":\"black\"},\"line_dash\":[4,4],\"line_width\":{\"value\":2},\"plot\":null,\"render_mode\":\"css\",\"right_units\":\"screen\",\"top_units\":\"screen\"},\"id\":\"20c5d0fd-1379-492e-9380-b83110b62ae8\",\"type\":\"BoxAnnotation\"},{\"attributes\":{\"below\":[{\"id\":\"6f932c4c-d112-4555-b784-a18512d3f5f3\",\"type\":\"LinearAxis\"}],\"left\":[{\"id\":\"201d0531-b66a-4a2a-b84b-555368956172\",\"type\":\"LinearAxis\"}],\"renderers\":[{\"id\":\"6f932c4c-d112-4555-b784-a18512d3f5f3\",\"type\":\"LinearAxis\"},{\"id\":\"0ad254b6-61c4-431b-9d86-dd4c11a0b281\",\"type\":\"Grid\"},{\"id\":\"201d0531-b66a-4a2a-b84b-555368956172\",\"type\":\"LinearAxis\"},{\"id\":\"6c79a3cc-0534-497e-a535-e3268a3c854e\",\"type\":\"Grid\"},{\"id\":\"20c5d0fd-1379-492e-9380-b83110b62ae8\",\"type\":\"BoxAnnotation\"},{\"id\":\"596581ca-03af-45e2-a190-bd061a3f4b34\",\"type\":\"Legend\"},{\"id\":\"bb4e6a7e-7258-4243-920e-9cff26ab5a9a\",\"type\":\"GlyphRenderer\"}],\"title\":{\"id\":\"47c28abd-9085-4e98-80b4-bcd7f26a83ba\",\"type\":\"Title\"},\"toolbar\":{\"id\":\"90731485-71f3-4d04-bbb7-e527db178c25\",\"type\":\"Toolbar\"},\"x_range\":{\"id\":\"daefabc1-6a71-4bfd-9931-ddf6621c9726\",\"type\":\"DataRange1d\"},\"x_scale\":{\"id\":\"c4fb772d-3785-465c-9dc8-3cdfc3824cf5\",\"type\":\"LinearScale\"},\"y_range\":{\"id\":\"53652e3e-2d9f-4b75-8402-7d51258f276f\",\"type\":\"DataRange1d\"},\"y_scale\":{\"id\":\"d1301b69-1e91-4096-8873-b2974fa51f72\",\"type\":\"LinearScale\"}},\"id\":\"750c8f30-2c5e-49ce-ad17-083f270c300f\",\"subtype\":\"Figure\",\"type\":\"Plot\"},{\"attributes\":{},\"id\":\"b1dbc07e-19ec-4c58-b3a6-c4bcaddc0b10\",\"type\":\"BasicTicker\"},{\"attributes\":{\"source\":{\"id\":\"bed15232-f846-4831-855f-6a8e5602f2d6\",\"type\":\"ColumnDataSource\"}},\"id\":\"2a1be2c9-1795-4251-8556-991bad0d56d5\",\"type\":\"CDSView\"},{\"attributes\":{\"callback\":null},\"id\":\"53652e3e-2d9f-4b75-8402-7d51258f276f\",\"type\":\"DataRange1d\"},{\"attributes\":{\"items\":[{\"id\":\"b3b569c1-06aa-426f-b9b1-d8b63affab3b\",\"type\":\"LegendItem\"}],\"plot\":{\"id\":\"750c8f30-2c5e-49ce-ad17-083f270c300f\",\"subtype\":\"Figure\",\"type\":\"Plot\"}},\"id\":\"596581ca-03af-45e2-a190-bd061a3f4b34\",\"type\":\"Legend\"},{\"attributes\":{},\"id\":\"3387b1c2-129d-45e1-b49a-a8e908c0512f\",\"type\":\"BasicTickFormatter\"},{\"attributes\":{},\"id\":\"751b81b5-f9fc-47d4-b93a-abc4463c825a\",\"type\":\"ResetTool\"},{\"attributes\":{\"plot\":{\"id\":\"750c8f30-2c5e-49ce-ad17-083f270c300f\",\"subtype\":\"Figure\",\"type\":\"Plot\"},\"ticker\":{\"id\":\"98f7678f-875d-4050-8a00-9c6e3ebbd037\",\"type\":\"BasicTicker\"}},\"id\":\"0ad254b6-61c4-431b-9d86-dd4c11a0b281\",\"type\":\"Grid\"},{\"attributes\":{\"dimension\":1,\"plot\":{\"id\":\"750c8f30-2c5e-49ce-ad17-083f270c300f\",\"subtype\":\"Figure\",\"type\":\"Plot\"},\"ticker\":{\"id\":\"b1dbc07e-19ec-4c58-b3a6-c4bcaddc0b10\",\"type\":\"BasicTicker\"}},\"id\":\"6c79a3cc-0534-497e-a535-e3268a3c854e\",\"type\":\"Grid\"},{\"attributes\":{\"label\":{\"field\":\"labels\"},\"renderers\":[{\"id\":\"bb4e6a7e-7258-4243-920e-9cff26ab5a9a\",\"type\":\"GlyphRenderer\"}]},\"id\":\"b3b569c1-06aa-426f-b9b1-d8b63affab3b\",\"type\":\"LegendItem\"},{\"attributes\":{},\"id\":\"d1301b69-1e91-4096-8873-b2974fa51f72\",\"type\":\"LinearScale\"},{\"attributes\":{},\"id\":\"c88308ca-0bde-4e72-b22e-dc427e7bc099\",\"type\":\"BasicTickFormatter\"},{\"attributes\":{},\"id\":\"b2d1a7e2-21b5-414a-85ad-e52782781862\",\"type\":\"HelpTool\"},{\"attributes\":{},\"id\":\"c4fb772d-3785-465c-9dc8-3cdfc3824cf5\",\"type\":\"LinearScale\"},{\"attributes\":{},\"id\":\"f47fdd90-bbdd-49e8-895b-e8f8ec36a716\",\"type\":\"SaveTool\"}],\"root_ids\":[\"750c8f30-2c5e-49ce-ad17-083f270c300f\"]},\"title\":\"Bokeh Application\",\"version\":\"0.12.13\"}};\n",
       "  var render_items = [{\"docid\":\"cb51a252-062f-49d9-b060-27df63b737ac\",\"elementid\":\"c3bde50f-849f-43b2-8b09-72fa34cc1904\",\"modelid\":\"750c8f30-2c5e-49ce-ad17-083f270c300f\"}];\n",
       "  root.Bokeh.embed.embed_items_notebook(docs_json, render_items);\n",
       "\n",
       "  }\n",
       "  if (root.Bokeh !== undefined) {\n",
       "    embed_document(root);\n",
       "  } else {\n",
       "    var attempts = 0;\n",
       "    var timer = setInterval(function(root) {\n",
       "      if (root.Bokeh !== undefined) {\n",
       "        embed_document(root);\n",
       "        clearInterval(timer);\n",
       "      }\n",
       "      attempts++;\n",
       "      if (attempts > 100) {\n",
       "        console.log(\"Bokeh: ERROR: Unable to run BokehJS code because BokehJS library is missing\")\n",
       "        clearInterval(timer);\n",
       "      }\n",
       "    }, 10, root)\n",
       "  }\n",
       "})(window);"
      ],
      "application/vnd.bokehjs_exec.v0+json": ""
     },
     "metadata": {
      "application/vnd.bokehjs_exec.v0+json": {
       "id": "750c8f30-2c5e-49ce-ad17-083f270c300f"
      }
     },
     "output_type": "display_data"
    }
   ],
   "source": [
    "indexstardic ={}\n",
    "for index,typestar in enumerate(np.unique([i.type for i in dicofspectra])):\n",
    "    indexstardic[str(typestar)] = index\n",
    "\n",
    "label = starclass\n",
    "indexsvd = [ indexstardic[i] for i in starclass ]\n",
    "\n",
    "\n",
    "dd = {}\n",
    "dd['x'] = indexsvd\n",
    "dd['y'] = -Vtranspose[0]\n",
    "dd['labels'] = label\n",
    "dd['colors'] = colorsvd\n",
    "source = ColumnDataSource(dd)\n",
    "\n",
    "\n",
    "\n",
    "\n",
    "\n",
    "\n",
    "pone = figure()\n",
    "\n",
    "\n",
    "pone.circle(x='x', y='y', color='colors', legend = 'labels',source=source , size =5)\n",
    "show(pone)"
   ]
  },
  {
   "cell_type": "markdown",
   "metadata": {},
   "source": [
    "# PCA\n",
    "\n",
    "The fit and the fit transform expect a array with shape (n_samples, n_features). So can transpose the matrix to apply the dimensionalty reduction using the PCA decomposition form scikit-learn"
   ]
  },
  {
   "cell_type": "code",
   "execution_count": 18,
   "metadata": {},
   "outputs": [
    {
     "name": "stdout",
     "output_type": "stream",
     "text": [
      "Shape matpca (n_samples, n_features): (120, 8)\n"
     ]
    }
   ],
   "source": [
    "matpca = mat.T\n",
    "\n",
    "print('Shape matpca (n_samples, n_features): {}'.format(matpca.shape))\n",
    "\n",
    "pca = PCA(n_components=2, svd_solver='full')\n",
    "pca.fit(matpca)\n",
    "# plot principal components\n",
    "mat_pca = pca.transform(matpca)"
   ]
  },
  {
   "cell_type": "code",
   "execution_count": 19,
   "metadata": {},
   "outputs": [
    {
     "data": {
      "text/html": [
       "\n",
       "<div class=\"bk-root\">\n",
       "    <div class=\"bk-plotdiv\" id=\"77e026c4-5308-4dfc-bf6a-4cf08ba56238\"></div>\n",
       "</div>"
      ]
     },
     "metadata": {},
     "output_type": "display_data"
    },
    {
     "data": {
      "application/javascript": [
       "(function(root) {\n",
       "  function embed_document(root) {\n",
       "    \n",
       "  var docs_json = {\"b568facb-cc1f-420e-9796-8d9ca727ad91\":{\"roots\":{\"references\":[{\"attributes\":{\"plot\":null,\"text\":\"\"},\"id\":\"5b5fceb0-58eb-445e-be7b-4ba3a50f6f88\",\"type\":\"Title\"},{\"attributes\":{\"formatter\":{\"id\":\"b4e00ae9-09fe-47e4-b43d-a1cfe87b97f7\",\"type\":\"BasicTickFormatter\"},\"plot\":{\"id\":\"253fcaa2-f386-4e3f-9ba8-fdf9f66a4215\",\"subtype\":\"Figure\",\"type\":\"Plot\"},\"ticker\":{\"id\":\"f59030c0-ca61-400b-a703-5175a831996e\",\"type\":\"BasicTicker\"}},\"id\":\"ab5141d9-c7b8-4857-9135-b01a30caac1f\",\"type\":\"LinearAxis\"},{\"attributes\":{\"overlay\":{\"id\":\"d5669b8c-af00-4046-b9ba-ea2dbc5f4d8b\",\"type\":\"BoxAnnotation\"}},\"id\":\"08b5eb68-df71-47fe-9503-7365af6210cc\",\"type\":\"BoxZoomTool\"},{\"attributes\":{\"dimension\":1,\"plot\":{\"id\":\"253fcaa2-f386-4e3f-9ba8-fdf9f66a4215\",\"subtype\":\"Figure\",\"type\":\"Plot\"},\"ticker\":{\"id\":\"f59030c0-ca61-400b-a703-5175a831996e\",\"type\":\"BasicTicker\"}},\"id\":\"81aa707c-f6ab-4e2d-a0e3-374a8c1631ce\",\"type\":\"Grid\"},{\"attributes\":{\"items\":[{\"id\":\"208d5cb2-6384-4a94-8e66-401b052b68f5\",\"type\":\"LegendItem\"}],\"plot\":{\"id\":\"253fcaa2-f386-4e3f-9ba8-fdf9f66a4215\",\"subtype\":\"Figure\",\"type\":\"Plot\"}},\"id\":\"69d951af-b18c-43e8-b359-fe3dfae66c2a\",\"type\":\"Legend\"},{\"attributes\":{},\"id\":\"ba62bc18-6ac4-40b2-8e44-3fbee02a4f7e\",\"type\":\"LinearScale\"},{\"attributes\":{\"data_source\":{\"id\":\"023e708d-6b3c-470c-a52b-ceb6d5b28850\",\"type\":\"ColumnDataSource\"},\"glyph\":{\"id\":\"689ddba9-7b9d-47ba-b7fb-93672803ee8f\",\"type\":\"Circle\"},\"hover_glyph\":null,\"muted_glyph\":null,\"nonselection_glyph\":{\"id\":\"408bdab1-f50e-47e1-ac18-6440e82461f1\",\"type\":\"Circle\"},\"selection_glyph\":null,\"view\":{\"id\":\"1bae1da0-bdee-466c-b14f-ae26f91cd6d9\",\"type\":\"CDSView\"}},\"id\":\"47d14385-47ac-481b-990e-5d3d0d27ba23\",\"type\":\"GlyphRenderer\"},{\"attributes\":{},\"id\":\"f59030c0-ca61-400b-a703-5175a831996e\",\"type\":\"BasicTicker\"},{\"attributes\":{},\"id\":\"701d572f-2fb4-4a0a-910e-aa402b1e223a\",\"type\":\"BasicTicker\"},{\"attributes\":{},\"id\":\"155e3d69-f5d6-42e9-8ce0-5e410a5d4dbd\",\"type\":\"PanTool\"},{\"attributes\":{\"label\":{\"field\":\"labels\"},\"renderers\":[{\"id\":\"47d14385-47ac-481b-990e-5d3d0d27ba23\",\"type\":\"GlyphRenderer\"}]},\"id\":\"208d5cb2-6384-4a94-8e66-401b052b68f5\",\"type\":\"LegendItem\"},{\"attributes\":{},\"id\":\"856705bf-6c96-4d6f-8a07-fdea530e4930\",\"type\":\"BasicTickFormatter\"},{\"attributes\":{\"below\":[{\"id\":\"4522574d-3341-4156-806e-f1eaf1d848f7\",\"type\":\"LinearAxis\"}],\"left\":[{\"id\":\"ab5141d9-c7b8-4857-9135-b01a30caac1f\",\"type\":\"LinearAxis\"}],\"renderers\":[{\"id\":\"4522574d-3341-4156-806e-f1eaf1d848f7\",\"type\":\"LinearAxis\"},{\"id\":\"7e132e4f-7001-4d60-8ec5-94d349543fea\",\"type\":\"Grid\"},{\"id\":\"ab5141d9-c7b8-4857-9135-b01a30caac1f\",\"type\":\"LinearAxis\"},{\"id\":\"81aa707c-f6ab-4e2d-a0e3-374a8c1631ce\",\"type\":\"Grid\"},{\"id\":\"d5669b8c-af00-4046-b9ba-ea2dbc5f4d8b\",\"type\":\"BoxAnnotation\"},{\"id\":\"69d951af-b18c-43e8-b359-fe3dfae66c2a\",\"type\":\"Legend\"},{\"id\":\"47d14385-47ac-481b-990e-5d3d0d27ba23\",\"type\":\"GlyphRenderer\"}],\"title\":{\"id\":\"5b5fceb0-58eb-445e-be7b-4ba3a50f6f88\",\"type\":\"Title\"},\"toolbar\":{\"id\":\"f5fc72cf-b232-45ea-a4da-12b43197fd94\",\"type\":\"Toolbar\"},\"x_range\":{\"id\":\"1827d5c0-d19e-4ab9-9399-6f235da07f43\",\"type\":\"DataRange1d\"},\"x_scale\":{\"id\":\"6c5a797e-18ab-4949-af30-9891c34eeb9f\",\"type\":\"LinearScale\"},\"y_range\":{\"id\":\"a45f41fd-98c5-42aa-b9fc-98ed3e531e83\",\"type\":\"DataRange1d\"},\"y_scale\":{\"id\":\"ba62bc18-6ac4-40b2-8e44-3fbee02a4f7e\",\"type\":\"LinearScale\"}},\"id\":\"253fcaa2-f386-4e3f-9ba8-fdf9f66a4215\",\"subtype\":\"Figure\",\"type\":\"Plot\"},{\"attributes\":{},\"id\":\"6c5a797e-18ab-4949-af30-9891c34eeb9f\",\"type\":\"LinearScale\"},{\"attributes\":{},\"id\":\"d7ea577c-132a-4916-bb0a-08e667d8b218\",\"type\":\"HelpTool\"},{\"attributes\":{\"source\":{\"id\":\"023e708d-6b3c-470c-a52b-ceb6d5b28850\",\"type\":\"ColumnDataSource\"}},\"id\":\"1bae1da0-bdee-466c-b14f-ae26f91cd6d9\",\"type\":\"CDSView\"},{\"attributes\":{},\"id\":\"b4e00ae9-09fe-47e4-b43d-a1cfe87b97f7\",\"type\":\"BasicTickFormatter\"},{\"attributes\":{\"callback\":null},\"id\":\"a45f41fd-98c5-42aa-b9fc-98ed3e531e83\",\"type\":\"DataRange1d\"},{\"attributes\":{},\"id\":\"5075f3c8-ca85-419f-b0a6-daf12eaa6274\",\"type\":\"SaveTool\"},{\"attributes\":{\"callback\":null},\"id\":\"1827d5c0-d19e-4ab9-9399-6f235da07f43\",\"type\":\"DataRange1d\"},{\"attributes\":{\"plot\":{\"id\":\"253fcaa2-f386-4e3f-9ba8-fdf9f66a4215\",\"subtype\":\"Figure\",\"type\":\"Plot\"},\"ticker\":{\"id\":\"701d572f-2fb4-4a0a-910e-aa402b1e223a\",\"type\":\"BasicTicker\"}},\"id\":\"7e132e4f-7001-4d60-8ec5-94d349543fea\",\"type\":\"Grid\"},{\"attributes\":{\"fill_alpha\":{\"value\":0.1},\"fill_color\":{\"value\":\"#1f77b4\"},\"line_alpha\":{\"value\":0.1},\"line_color\":{\"value\":\"#1f77b4\"},\"size\":{\"units\":\"screen\",\"value\":5},\"x\":{\"field\":\"x\"},\"y\":{\"field\":\"y\"}},\"id\":\"408bdab1-f50e-47e1-ac18-6440e82461f1\",\"type\":\"Circle\"},{\"attributes\":{\"bottom_units\":\"screen\",\"fill_alpha\":{\"value\":0.5},\"fill_color\":{\"value\":\"lightgrey\"},\"left_units\":\"screen\",\"level\":\"overlay\",\"line_alpha\":{\"value\":1.0},\"line_color\":{\"value\":\"black\"},\"line_dash\":[4,4],\"line_width\":{\"value\":2},\"plot\":null,\"render_mode\":\"css\",\"right_units\":\"screen\",\"top_units\":\"screen\"},\"id\":\"d5669b8c-af00-4046-b9ba-ea2dbc5f4d8b\",\"type\":\"BoxAnnotation\"},{\"attributes\":{\"active_drag\":\"auto\",\"active_inspect\":\"auto\",\"active_scroll\":\"auto\",\"active_tap\":\"auto\",\"tools\":[{\"id\":\"155e3d69-f5d6-42e9-8ce0-5e410a5d4dbd\",\"type\":\"PanTool\"},{\"id\":\"3716cadd-6cb3-401c-bc53-9fd70e7f70b3\",\"type\":\"WheelZoomTool\"},{\"id\":\"08b5eb68-df71-47fe-9503-7365af6210cc\",\"type\":\"BoxZoomTool\"},{\"id\":\"5075f3c8-ca85-419f-b0a6-daf12eaa6274\",\"type\":\"SaveTool\"},{\"id\":\"ae4f1281-0a4d-4e3f-9e02-3ce974df0175\",\"type\":\"ResetTool\"},{\"id\":\"d7ea577c-132a-4916-bb0a-08e667d8b218\",\"type\":\"HelpTool\"}]},\"id\":\"f5fc72cf-b232-45ea-a4da-12b43197fd94\",\"type\":\"Toolbar\"},{\"attributes\":{\"fill_color\":{\"field\":\"colors\"},\"line_color\":{\"field\":\"colors\"},\"size\":{\"units\":\"screen\",\"value\":5},\"x\":{\"field\":\"x\"},\"y\":{\"field\":\"y\"}},\"id\":\"689ddba9-7b9d-47ba-b7fb-93672803ee8f\",\"type\":\"Circle\"},{\"attributes\":{},\"id\":\"ae4f1281-0a4d-4e3f-9e02-3ce974df0175\",\"type\":\"ResetTool\"},{\"attributes\":{},\"id\":\"3716cadd-6cb3-401c-bc53-9fd70e7f70b3\",\"type\":\"WheelZoomTool\"},{\"attributes\":{\"formatter\":{\"id\":\"856705bf-6c96-4d6f-8a07-fdea530e4930\",\"type\":\"BasicTickFormatter\"},\"plot\":{\"id\":\"253fcaa2-f386-4e3f-9ba8-fdf9f66a4215\",\"subtype\":\"Figure\",\"type\":\"Plot\"},\"ticker\":{\"id\":\"701d572f-2fb4-4a0a-910e-aa402b1e223a\",\"type\":\"BasicTicker\"}},\"id\":\"4522574d-3341-4156-806e-f1eaf1d848f7\",\"type\":\"LinearAxis\"},{\"attributes\":{\"callback\":null,\"column_names\":[\"y\",\"x\",\"colors\",\"labels\"],\"data\":{\"colors\":[\"#1f77b4\",\"#1f77b4\",\"#1f77b4\",\"#1f77b4\",\"#1f77b4\",\"#1f77b4\",\"#1f77b4\",\"#1f77b4\",\"#1f77b4\",\"#1f77b4\",\"#aec7e8\",\"#aec7e8\",\"#aec7e8\",\"#aec7e8\",\"#aec7e8\",\"#aec7e8\",\"#aec7e8\",\"#aec7e8\",\"#aec7e8\",\"#aec7e8\",\"#ff7f0e\",\"#ff7f0e\",\"#ff7f0e\",\"#ff7f0e\",\"#ff7f0e\",\"#ff7f0e\",\"#ff7f0e\",\"#ff7f0e\",\"#ff7f0e\",\"#ff7f0e\",\"#ffbb78\",\"#ffbb78\",\"#ffbb78\",\"#ffbb78\",\"#ffbb78\",\"#ffbb78\",\"#ffbb78\",\"#ffbb78\",\"#ffbb78\",\"#ffbb78\",\"#2ca02c\",\"#2ca02c\",\"#2ca02c\",\"#2ca02c\",\"#2ca02c\",\"#2ca02c\",\"#2ca02c\",\"#2ca02c\",\"#2ca02c\",\"#2ca02c\",\"#98df8a\",\"#98df8a\",\"#98df8a\",\"#98df8a\",\"#98df8a\",\"#98df8a\",\"#98df8a\",\"#98df8a\",\"#98df8a\",\"#98df8a\",\"#d62728\",\"#d62728\",\"#d62728\",\"#d62728\",\"#d62728\",\"#d62728\",\"#d62728\",\"#d62728\",\"#d62728\",\"#d62728\",\"#ff9896\",\"#ff9896\",\"#ff9896\",\"#ff9896\",\"#ff9896\",\"#ff9896\",\"#ff9896\",\"#ff9896\",\"#ff9896\",\"#ff9896\",\"#9467bd\",\"#9467bd\",\"#9467bd\",\"#9467bd\",\"#9467bd\",\"#9467bd\",\"#9467bd\",\"#9467bd\",\"#9467bd\",\"#9467bd\",\"#c5b0d5\",\"#c5b0d5\",\"#c5b0d5\",\"#c5b0d5\",\"#c5b0d5\",\"#c5b0d5\",\"#c5b0d5\",\"#c5b0d5\",\"#c5b0d5\",\"#c5b0d5\",\"#8c564b\",\"#8c564b\",\"#8c564b\",\"#8c564b\",\"#8c564b\",\"#8c564b\",\"#8c564b\",\"#8c564b\",\"#8c564b\",\"#8c564b\",\"#c49c94\",\"#c49c94\",\"#c49c94\",\"#c49c94\",\"#c49c94\",\"#c49c94\",\"#c49c94\",\"#c49c94\",\"#c49c94\",\"#c49c94\"],\"labels\":[\"G1V (95128)\",\"G1V (95128)\",\"G1V (95128)\",\"G1V (95128)\",\"G1V (95128)\",\"G1V (95128)\",\"G1V (95128)\",\"G1V (95128)\",\"G1V (95128)\",\"G1V (95128)\",\"G2\",\"G2\",\"G2\",\"G2\",\"G2\",\"G2\",\"G2\",\"G2\",\"G2\",\"G2\",\"G4V (32923)\",\"G4V (32923)\",\"G4V (32923)\",\"G4V (32923)\",\"G4V (32923)\",\"G4V (32923)\",\"G4V (32923)\",\"G4V (32923)\",\"G4V (32923)\",\"G4V (32923)\",\"G5III+... (157910)\",\"G5III+... (157910)\",\"G5III+... (157910)\",\"G5III+... (157910)\",\"G5III+... (157910)\",\"G5III+... (157910)\",\"G5III+... (157910)\",\"G5III+... (157910)\",\"G5III+... (157910)\",\"G5III+... (157910)\",\"G8V (101501)\",\"G8V (101501)\",\"G8V (101501)\",\"G8V (101501)\",\"G8V (101501)\",\"G8V (101501)\",\"G8V (101501)\",\"G8V (101501)\",\"G8V (101501)\",\"G8V (101501)\",\"G9IV (100030)\",\"G9IV (100030)\",\"G9IV (100030)\",\"G9IV (100030)\",\"G9IV (100030)\",\"G9IV (100030)\",\"G9IV (100030)\",\"G9IV (100030)\",\"G9IV (100030)\",\"G9IV (100030)\",\"K1III (18322)\",\"K1III (18322)\",\"K1III (18322)\",\"K1III (18322)\",\"K1III (18322)\",\"K1III (18322)\",\"K1III (18322)\",\"K1III (18322)\",\"K1III (18322)\",\"K1III (18322)\",\"K2III (115136)\",\"K2III (115136)\",\"K2III (115136)\",\"K2III (115136)\",\"K2III (115136)\",\"K2III (115136)\",\"K2III (115136)\",\"K2III (115136)\",\"K2III (115136)\",\"K2III (115136)\",\"K3III (101673)\",\"K3III (101673)\",\"K3III (101673)\",\"K3III (101673)\",\"K3III (101673)\",\"K3III (101673)\",\"K3III (101673)\",\"K3III (101673)\",\"K3III (101673)\",\"K3III (101673)\",\"K4III (136726)\",\"K4III (136726)\",\"K4III (136726)\",\"K4III (136726)\",\"K4III (136726)\",\"K4III (136726)\",\"K4III (136726)\",\"K4III (136726)\",\"K4III (136726)\",\"K4III (136726)\",\"K5III (111335)\",\"K5III (111335)\",\"K5III (111335)\",\"K5III (111335)\",\"K5III (111335)\",\"K5III (111335)\",\"K5III (111335)\",\"K5III (111335)\",\"K5III (111335)\",\"K5III (111335)\",\"K7\",\"K7\",\"K7\",\"K7\",\"K7\",\"K7\",\"K7\",\"K7\",\"K7\",\"K7\"],\"x\":{\"__ndarray__\":\"X7vU0t1jmcDLqpbSHmSZwMdyJP3HY5nAERIsiddjmcCULcULN2SZwBCOsHnqY5nAUVZME8ZjmcCK0TP5NmSZwO+KauMaZJnAdsSPORtkmcCcBCFXD2SZwDylcPYAZJnAkSheL4k8msDT9nHwFmSZwLkTRWPSY5nAIqqwwM5jmcCFMBR94WOZwFwglELyY5nAFy2pac1jmcB39hRdwWOZwCuWWj4ebJrATAgiHGlxmcBNxskq2WiZwAcpVSv2YpnA88CUblJhmcD3afHCOl+ZwCTH5HoCYZnAFNc7TT2hkcBPXpmM9f66QPpk20EjYZnAGrBHHQxkmcCB+37tr2OZwOqTFzJmY5nAqk/IJfZimcAzAFNxFmSZwP8YBn0hZJnAVT5FowZkmcBEyVeYyWCZwGaucIh7dpnAyhw4yH1jmcAg/S6VJmSZwLTC7wAQZJnA09uYOc7jyECsK5AEUV2ZwFRluEVzqLdAOReu6rplmcDpMnKSQVeZwKSvYeCq9L9ADclDwz5lmcA8Sqgl4mOZwMOX9gnRXpnAgLdCjnZYmcBG03UI1FuZwNcm3GNQ9N9AzPdTUfGFmcCIWVQw/8P6QLmT+iBHZJnAuh2DbJrpmMAeJF1slliZwEWxzEbN35XAkoESSX9lmcDkam80MWiZwIdPE4xwZZnAXDxbAnVlmcD696jZ9HqZwN/qRHc5ZZnAkT3h+h5xmcDx7pRJk2WZwB+uLYeUZZnAewesx2VlmcBHhTxBfqCZwMtS7jCpZZnA8CX8D5NlmcAI+CYYYmWZwLCR2wqMrZnAXleM6XXTmcDKJr2+dtGZwC9du/NTaJnApIb3aAZmmcBMcVMLyGWZwI5hGo7yt5nAasLmaMdlmcBsZ9lVK4SZwN+9zyLIMJrABzGvTBjEmcB651m9H2WZwPEZjg9qZZnABKTrvBlqmcBQnufNDmqZwNwT2aPtZZnA0SUvZpVrmcBkk59qtoeZwJMgH3wVbJnAZixKS/eOmcAxf4Mpl2uZwJmrRPEQlZnA/FxouGJxmcCBdFnS7WyZwADv/8VRbpnAMG4Vd9xpmcBHipS/eHGZwB1VaUGZZJnA/Ks3v4p1p0A3pP76kAuhQJjesYzKcpnAMCS4uxNwmcBf14/XuWmZwPhWn+2vZ5nANcER0r5mmcCNpGAhhHKZwO9v7TKHcJnAfshO83N0mcBeF3fuRl2ZwOutG0scOZnApkXQ1MdemcAm0FxFvlyZwF0Dv9t7Y5nAqvaGXrxgmcBnAyLYmCuWwI+PzAhtY5nA\",\"dtype\":\"float64\",\"shape\":[120]},\"y\":{\"__ndarray__\":\"sI14Ndo9dsC+x6z1r052wPkZObg6OXbAfXgWlZg6dsBQpxRtZlV2wBGL/2mpPXbA5r5C60Q0dsACCS1tEVV2wPIbORtYTXbAqrdb2hFOdsCctbd4vFl2wFwz2JRYWHbAdSUTAyPqwECcUTAjFFh2wKBbtdntUHbAyJRjv9hRdsCQHkyKyFJ2wEC1q3LJVXbAKkrUPJJNdsDl0nOr0k52wIWsYucDcrLAFLyIMDVtgcDQIWDPzA1uQHkVsRQWVXbAa520/FNSdsC9RCS3kkx2wC4qIpNpTXbALesqL+Lgy0B9/b8TJgyUwK6BEebOSHbAaud8JthHdsC3lEgSLFN2wK/U6S26S3bA5btRMZFZdsApEm/dkkp2wAZdy1gUTnbAcbKF+0pFdsDfsX6CAlJ2wAozaAf5OXbAszufExkhdsD2/fvSp1V2wKBFTsYQUXbAdGTz96DadMAuuBL1S0x2wOM9R8+Z4rZAW77qubNQdsDMjH96nE52wOm+9KkbMXXATs54LSh5dsDoFbUUwUV2wF6E2e+jT3bAsEEiXatOdsBUVYhNs0x2wFLJ1FWttnLAzNVJkngnisDaMSwhgL5lwIQohW8CUnbAgayiVPxwdsC/x/9AQE12wIG9WkajR3bAWpROilJHdsCwaT0+RAJmQPxKpe72TXbAiR7hKfdIdsAXEazICfKBwB0ziByuTnbAd39+Bap7csB0XwxLIkx2wMevNeoVTXbAl9kXPufTccAZ50xRllKIwFFDVlKsPXbACh87AHpOdsAX4suI2Ex2wNPId8mBgJTAy9ZuuxYwoMDSofbQ+N+fwCroze35tHnAKV7MDevAc8BD+TELPk12wMo+iZjtnpnAxxcqeDZOdsBo7a7IY1F2wJw04m8sSZzAU2whISqpyEDPcddBudx1wC29an3aTXbAvXYI06ntbkD5QrYtyNd1QOko56a1THbA7wu03d/mXMALhu5M98yEwMLXZX42O3bAygtSRYUKskCRFN1IjUN2wHdhwauzQLVA4ih3HTlIdsC3xfjP20d2wNwM+m2MYWjACCxNJoRGdsCJx0LDNj13wLRiN25PR3bAu22eYCTLdcAWYaTPtN51wITLWwK7b3bAX6Sye7phdsCuZ9eJgJ92wHXIIqLESXbAvImVNmNGdsDmlNCiM5d2wDz35RgQ33fA0NDdPShFecBCEMcxcz52wJgdDW+u9HPAjqVJFZlDdsCbSUqk6UN2wOX7Ig2MNXbAgQTd6E6DdsCcuckz8C92wKY7Pxz0LHbA\",\"dtype\":\"float64\",\"shape\":[120]}}},\"id\":\"023e708d-6b3c-470c-a52b-ceb6d5b28850\",\"type\":\"ColumnDataSource\"}],\"root_ids\":[\"253fcaa2-f386-4e3f-9ba8-fdf9f66a4215\"]},\"title\":\"Bokeh Application\",\"version\":\"0.12.13\"}};\n",
       "  var render_items = [{\"docid\":\"b568facb-cc1f-420e-9796-8d9ca727ad91\",\"elementid\":\"77e026c4-5308-4dfc-bf6a-4cf08ba56238\",\"modelid\":\"253fcaa2-f386-4e3f-9ba8-fdf9f66a4215\"}];\n",
       "  root.Bokeh.embed.embed_items_notebook(docs_json, render_items);\n",
       "\n",
       "  }\n",
       "  if (root.Bokeh !== undefined) {\n",
       "    embed_document(root);\n",
       "  } else {\n",
       "    var attempts = 0;\n",
       "    var timer = setInterval(function(root) {\n",
       "      if (root.Bokeh !== undefined) {\n",
       "        embed_document(root);\n",
       "        clearInterval(timer);\n",
       "      }\n",
       "      attempts++;\n",
       "      if (attempts > 100) {\n",
       "        console.log(\"Bokeh: ERROR: Unable to run BokehJS code because BokehJS library is missing\")\n",
       "        clearInterval(timer);\n",
       "      }\n",
       "    }, 10, root)\n",
       "  }\n",
       "})(window);"
      ],
      "application/vnd.bokehjs_exec.v0+json": ""
     },
     "metadata": {
      "application/vnd.bokehjs_exec.v0+json": {
       "id": "253fcaa2-f386-4e3f-9ba8-fdf9f66a4215"
      }
     },
     "output_type": "display_data"
    }
   ],
   "source": [
    "coldic ={}\n",
    "for index,typestar in enumerate(np.unique([i.type for i in dicofspectra])):\n",
    "    coldic[str(typestar)] = colors[index]\n",
    "coldic\n",
    "label = starclass\n",
    "colorsvd = [ coldic[i] for i in starclass ]\n",
    "\n",
    "\n",
    "dd = {}\n",
    "dd['x'] = mat_pca[:,0]\n",
    "dd['y'] = mat_pca[:,1]\n",
    "dd['labels'] = label\n",
    "dd['colors'] = colorsvd\n",
    "source = ColumnDataSource(dd)\n",
    "\n",
    "\n",
    "p = figure()\n",
    "\n",
    "\n",
    "p.circle(x='x', y='y', color='colors', legend = 'labels',source=source , size =5)\n",
    "show(p)"
   ]
  },
  {
   "cell_type": "markdown",
   "metadata": {},
   "source": [
    "# Only one component"
   ]
  },
  {
   "cell_type": "code",
   "execution_count": 20,
   "metadata": {},
   "outputs": [
    {
     "data": {
      "text/html": [
       "\n",
       "<div class=\"bk-root\">\n",
       "    <div class=\"bk-plotdiv\" id=\"998e6116-3b50-4016-bb1c-ea2290ffa75e\"></div>\n",
       "</div>"
      ]
     },
     "metadata": {},
     "output_type": "display_data"
    },
    {
     "data": {
      "application/javascript": [
       "(function(root) {\n",
       "  function embed_document(root) {\n",
       "    \n",
       "  var docs_json = {\"d1d6ab24-4d6e-4340-bcb8-fb4c174b0acd\":{\"roots\":{\"references\":[{\"attributes\":{\"overlay\":{\"id\":\"35edcb0d-da44-4893-85c7-f9c1ee73f1ad\",\"type\":\"BoxAnnotation\"}},\"id\":\"bfac2c94-9641-446c-95e2-0190984ce01a\",\"type\":\"BoxZoomTool\"},{\"attributes\":{\"callback\":null,\"column_names\":[\"y\",\"x\",\"colors\",\"labels\"],\"data\":{\"colors\":[\"#1f77b4\",\"#1f77b4\",\"#1f77b4\",\"#1f77b4\",\"#1f77b4\",\"#1f77b4\",\"#1f77b4\",\"#1f77b4\",\"#1f77b4\",\"#1f77b4\",\"#aec7e8\",\"#aec7e8\",\"#aec7e8\",\"#aec7e8\",\"#aec7e8\",\"#aec7e8\",\"#aec7e8\",\"#aec7e8\",\"#aec7e8\",\"#aec7e8\",\"#ff7f0e\",\"#ff7f0e\",\"#ff7f0e\",\"#ff7f0e\",\"#ff7f0e\",\"#ff7f0e\",\"#ff7f0e\",\"#ff7f0e\",\"#ff7f0e\",\"#ff7f0e\",\"#ffbb78\",\"#ffbb78\",\"#ffbb78\",\"#ffbb78\",\"#ffbb78\",\"#ffbb78\",\"#ffbb78\",\"#ffbb78\",\"#ffbb78\",\"#ffbb78\",\"#2ca02c\",\"#2ca02c\",\"#2ca02c\",\"#2ca02c\",\"#2ca02c\",\"#2ca02c\",\"#2ca02c\",\"#2ca02c\",\"#2ca02c\",\"#2ca02c\",\"#98df8a\",\"#98df8a\",\"#98df8a\",\"#98df8a\",\"#98df8a\",\"#98df8a\",\"#98df8a\",\"#98df8a\",\"#98df8a\",\"#98df8a\",\"#d62728\",\"#d62728\",\"#d62728\",\"#d62728\",\"#d62728\",\"#d62728\",\"#d62728\",\"#d62728\",\"#d62728\",\"#d62728\",\"#ff9896\",\"#ff9896\",\"#ff9896\",\"#ff9896\",\"#ff9896\",\"#ff9896\",\"#ff9896\",\"#ff9896\",\"#ff9896\",\"#ff9896\",\"#9467bd\",\"#9467bd\",\"#9467bd\",\"#9467bd\",\"#9467bd\",\"#9467bd\",\"#9467bd\",\"#9467bd\",\"#9467bd\",\"#9467bd\",\"#c5b0d5\",\"#c5b0d5\",\"#c5b0d5\",\"#c5b0d5\",\"#c5b0d5\",\"#c5b0d5\",\"#c5b0d5\",\"#c5b0d5\",\"#c5b0d5\",\"#c5b0d5\",\"#8c564b\",\"#8c564b\",\"#8c564b\",\"#8c564b\",\"#8c564b\",\"#8c564b\",\"#8c564b\",\"#8c564b\",\"#8c564b\",\"#8c564b\",\"#c49c94\",\"#c49c94\",\"#c49c94\",\"#c49c94\",\"#c49c94\",\"#c49c94\",\"#c49c94\",\"#c49c94\",\"#c49c94\",\"#c49c94\"],\"labels\":[\"G1V (95128)\",\"G1V (95128)\",\"G1V (95128)\",\"G1V (95128)\",\"G1V (95128)\",\"G1V (95128)\",\"G1V (95128)\",\"G1V (95128)\",\"G1V (95128)\",\"G1V (95128)\",\"G2\",\"G2\",\"G2\",\"G2\",\"G2\",\"G2\",\"G2\",\"G2\",\"G2\",\"G2\",\"G4V (32923)\",\"G4V (32923)\",\"G4V (32923)\",\"G4V (32923)\",\"G4V (32923)\",\"G4V (32923)\",\"G4V (32923)\",\"G4V (32923)\",\"G4V (32923)\",\"G4V (32923)\",\"G5III+... (157910)\",\"G5III+... (157910)\",\"G5III+... (157910)\",\"G5III+... (157910)\",\"G5III+... (157910)\",\"G5III+... (157910)\",\"G5III+... (157910)\",\"G5III+... (157910)\",\"G5III+... (157910)\",\"G5III+... (157910)\",\"G8V (101501)\",\"G8V (101501)\",\"G8V (101501)\",\"G8V (101501)\",\"G8V (101501)\",\"G8V (101501)\",\"G8V (101501)\",\"G8V (101501)\",\"G8V (101501)\",\"G8V (101501)\",\"G9IV (100030)\",\"G9IV (100030)\",\"G9IV (100030)\",\"G9IV (100030)\",\"G9IV (100030)\",\"G9IV (100030)\",\"G9IV (100030)\",\"G9IV (100030)\",\"G9IV (100030)\",\"G9IV (100030)\",\"K1III (18322)\",\"K1III (18322)\",\"K1III (18322)\",\"K1III (18322)\",\"K1III (18322)\",\"K1III (18322)\",\"K1III (18322)\",\"K1III (18322)\",\"K1III (18322)\",\"K1III (18322)\",\"K2III (115136)\",\"K2III (115136)\",\"K2III (115136)\",\"K2III (115136)\",\"K2III (115136)\",\"K2III (115136)\",\"K2III (115136)\",\"K2III (115136)\",\"K2III (115136)\",\"K2III (115136)\",\"K3III (101673)\",\"K3III (101673)\",\"K3III (101673)\",\"K3III (101673)\",\"K3III (101673)\",\"K3III (101673)\",\"K3III (101673)\",\"K3III (101673)\",\"K3III (101673)\",\"K3III (101673)\",\"K4III (136726)\",\"K4III (136726)\",\"K4III (136726)\",\"K4III (136726)\",\"K4III (136726)\",\"K4III (136726)\",\"K4III (136726)\",\"K4III (136726)\",\"K4III (136726)\",\"K4III (136726)\",\"K5III (111335)\",\"K5III (111335)\",\"K5III (111335)\",\"K5III (111335)\",\"K5III (111335)\",\"K5III (111335)\",\"K5III (111335)\",\"K5III (111335)\",\"K5III (111335)\",\"K5III (111335)\",\"K7\",\"K7\",\"K7\",\"K7\",\"K7\",\"K7\",\"K7\",\"K7\",\"K7\",\"K7\"],\"x\":[0,0,0,0,0,0,0,0,0,0,1,1,1,1,1,1,1,1,1,1,2,2,2,2,2,2,2,2,2,2,3,3,3,3,3,3,3,3,3,3,4,4,4,4,4,4,4,4,4,4,5,5,5,5,5,5,5,5,5,5,6,6,6,6,6,6,6,6,6,6,7,7,7,7,7,7,7,7,7,7,8,8,8,8,8,8,8,8,8,8,9,9,9,9,9,9,9,9,9,9,10,10,10,10,10,10,10,10,10,10,11,11,11,11,11,11,11,11,11,11],\"y\":{\"__ndarray__\":\"X7vU0t1jmcDLqpbSHmSZwMdyJP3HY5nAERIsiddjmcCULcULN2SZwBCOsHnqY5nAUVZME8ZjmcCK0TP5NmSZwO+KauMaZJnAdsSPORtkmcCcBCFXD2SZwDylcPYAZJnAkSheL4k8msDT9nHwFmSZwLkTRWPSY5nAIqqwwM5jmcCFMBR94WOZwFwglELyY5nAFy2pac1jmcB39hRdwWOZwCuWWj4ebJrATAgiHGlxmcBNxskq2WiZwAcpVSv2YpnA88CUblJhmcD3afHCOl+ZwCTH5HoCYZnAFNc7TT2hkcBPXpmM9f66QPpk20EjYZnAGrBHHQxkmcCB+37tr2OZwOqTFzJmY5nAqk/IJfZimcAzAFNxFmSZwP8YBn0hZJnAVT5FowZkmcBEyVeYyWCZwGaucIh7dpnAyhw4yH1jmcAg/S6VJmSZwLTC7wAQZJnA09uYOc7jyECsK5AEUV2ZwFRluEVzqLdAOReu6rplmcDpMnKSQVeZwKSvYeCq9L9ADclDwz5lmcA8Sqgl4mOZwMOX9gnRXpnAgLdCjnZYmcBG03UI1FuZwNcm3GNQ9N9AzPdTUfGFmcCIWVQw/8P6QLmT+iBHZJnAuh2DbJrpmMAeJF1slliZwEWxzEbN35XAkoESSX9lmcDkam80MWiZwIdPE4xwZZnAXDxbAnVlmcD696jZ9HqZwN/qRHc5ZZnAkT3h+h5xmcDx7pRJk2WZwB+uLYeUZZnAewesx2VlmcBHhTxBfqCZwMtS7jCpZZnA8CX8D5NlmcAI+CYYYmWZwLCR2wqMrZnAXleM6XXTmcDKJr2+dtGZwC9du/NTaJnApIb3aAZmmcBMcVMLyGWZwI5hGo7yt5nAasLmaMdlmcBsZ9lVK4SZwN+9zyLIMJrABzGvTBjEmcB651m9H2WZwPEZjg9qZZnABKTrvBlqmcBQnufNDmqZwNwT2aPtZZnA0SUvZpVrmcBkk59qtoeZwJMgH3wVbJnAZixKS/eOmcAxf4Mpl2uZwJmrRPEQlZnA/FxouGJxmcCBdFnS7WyZwADv/8VRbpnAMG4Vd9xpmcBHipS/eHGZwB1VaUGZZJnA/Ks3v4p1p0A3pP76kAuhQJjesYzKcpnAMCS4uxNwmcBf14/XuWmZwPhWn+2vZ5nANcER0r5mmcCNpGAhhHKZwO9v7TKHcJnAfshO83N0mcBeF3fuRl2ZwOutG0scOZnApkXQ1MdemcAm0FxFvlyZwF0Dv9t7Y5nAqvaGXrxgmcBnAyLYmCuWwI+PzAhtY5nA\",\"dtype\":\"float64\",\"shape\":[120]}}},\"id\":\"984c4769-2175-4d67-9222-f7ae9180d003\",\"type\":\"ColumnDataSource\"},{\"attributes\":{\"label\":{\"field\":\"labels\"},\"renderers\":[{\"id\":\"76651d5b-1db5-4a3d-9f8b-a54113771da3\",\"type\":\"GlyphRenderer\"}]},\"id\":\"87bb5306-3d7d-475e-b221-e3d1a2628d31\",\"type\":\"LegendItem\"},{\"attributes\":{\"active_drag\":\"auto\",\"active_inspect\":\"auto\",\"active_scroll\":\"auto\",\"active_tap\":\"auto\",\"tools\":[{\"id\":\"3494ff54-5b15-458a-9c10-669fcd84432f\",\"type\":\"PanTool\"},{\"id\":\"d4e563fd-f5ba-4d97-a0d6-5f3236980818\",\"type\":\"WheelZoomTool\"},{\"id\":\"bfac2c94-9641-446c-95e2-0190984ce01a\",\"type\":\"BoxZoomTool\"},{\"id\":\"178d484e-dc39-403a-ae25-59b9c3bc7e27\",\"type\":\"SaveTool\"},{\"id\":\"655d9362-3de1-43a3-985e-5ba620b7845b\",\"type\":\"ResetTool\"},{\"id\":\"1f208547-1830-4cb6-bdf9-120a17ae1e17\",\"type\":\"HelpTool\"}]},\"id\":\"cd1b6908-7123-40e9-8e99-f6620afdee3d\",\"type\":\"Toolbar\"},{\"attributes\":{},\"id\":\"f88269f7-b360-4cad-89d0-349aa47aa205\",\"type\":\"BasicTicker\"},{\"attributes\":{},\"id\":\"c0cb9397-5c44-488f-93f4-90cf2c555288\",\"type\":\"BasicTickFormatter\"},{\"attributes\":{\"formatter\":{\"id\":\"132c0f04-e5fe-4605-a633-e989bababcdf\",\"type\":\"BasicTickFormatter\"},\"plot\":{\"id\":\"fdaa583d-2539-4bbf-977c-759a7f8d458b\",\"subtype\":\"Figure\",\"type\":\"Plot\"},\"ticker\":{\"id\":\"f88269f7-b360-4cad-89d0-349aa47aa205\",\"type\":\"BasicTicker\"}},\"id\":\"3eddf695-0d9a-4f6a-b2c4-1d542dc2adee\",\"type\":\"LinearAxis\"},{\"attributes\":{},\"id\":\"1f208547-1830-4cb6-bdf9-120a17ae1e17\",\"type\":\"HelpTool\"},{\"attributes\":{},\"id\":\"178d484e-dc39-403a-ae25-59b9c3bc7e27\",\"type\":\"SaveTool\"},{\"attributes\":{},\"id\":\"2d1da732-f6a4-4dcf-8451-50b86bd626e4\",\"type\":\"LinearScale\"},{\"attributes\":{\"data_source\":{\"id\":\"984c4769-2175-4d67-9222-f7ae9180d003\",\"type\":\"ColumnDataSource\"},\"glyph\":{\"id\":\"4eea6273-8b94-4922-8b55-c738ca4b372c\",\"type\":\"Circle\"},\"hover_glyph\":null,\"muted_glyph\":null,\"nonselection_glyph\":{\"id\":\"2262c521-fa59-4304-bd49-6b372e1f8aa2\",\"type\":\"Circle\"},\"selection_glyph\":null,\"view\":{\"id\":\"46cbeffb-f90f-49d8-847a-8b86b288f26e\",\"type\":\"CDSView\"}},\"id\":\"76651d5b-1db5-4a3d-9f8b-a54113771da3\",\"type\":\"GlyphRenderer\"},{\"attributes\":{\"fill_alpha\":{\"value\":0.1},\"fill_color\":{\"value\":\"#1f77b4\"},\"line_alpha\":{\"value\":0.1},\"line_color\":{\"value\":\"#1f77b4\"},\"size\":{\"units\":\"screen\",\"value\":5},\"x\":{\"field\":\"x\"},\"y\":{\"field\":\"y\"}},\"id\":\"2262c521-fa59-4304-bd49-6b372e1f8aa2\",\"type\":\"Circle\"},{\"attributes\":{},\"id\":\"21b902b2-86f3-430c-88e2-e22e8a6cdc5f\",\"type\":\"BasicTicker\"},{\"attributes\":{\"callback\":null},\"id\":\"0cc96364-32c6-446f-baa2-bc573f861af6\",\"type\":\"DataRange1d\"},{\"attributes\":{},\"id\":\"132c0f04-e5fe-4605-a633-e989bababcdf\",\"type\":\"BasicTickFormatter\"},{\"attributes\":{},\"id\":\"3494ff54-5b15-458a-9c10-669fcd84432f\",\"type\":\"PanTool\"},{\"attributes\":{\"dimension\":1,\"plot\":{\"id\":\"fdaa583d-2539-4bbf-977c-759a7f8d458b\",\"subtype\":\"Figure\",\"type\":\"Plot\"},\"ticker\":{\"id\":\"21b902b2-86f3-430c-88e2-e22e8a6cdc5f\",\"type\":\"BasicTicker\"}},\"id\":\"11ff818d-adde-4332-9ea8-881872c0edeb\",\"type\":\"Grid\"},{\"attributes\":{\"plot\":{\"id\":\"fdaa583d-2539-4bbf-977c-759a7f8d458b\",\"subtype\":\"Figure\",\"type\":\"Plot\"},\"ticker\":{\"id\":\"f88269f7-b360-4cad-89d0-349aa47aa205\",\"type\":\"BasicTicker\"}},\"id\":\"9251af14-faa2-4d6e-aa76-3b24a9308076\",\"type\":\"Grid\"},{\"attributes\":{\"source\":{\"id\":\"984c4769-2175-4d67-9222-f7ae9180d003\",\"type\":\"ColumnDataSource\"}},\"id\":\"46cbeffb-f90f-49d8-847a-8b86b288f26e\",\"type\":\"CDSView\"},{\"attributes\":{\"bottom_units\":\"screen\",\"fill_alpha\":{\"value\":0.5},\"fill_color\":{\"value\":\"lightgrey\"},\"left_units\":\"screen\",\"level\":\"overlay\",\"line_alpha\":{\"value\":1.0},\"line_color\":{\"value\":\"black\"},\"line_dash\":[4,4],\"line_width\":{\"value\":2},\"plot\":null,\"render_mode\":\"css\",\"right_units\":\"screen\",\"top_units\":\"screen\"},\"id\":\"35edcb0d-da44-4893-85c7-f9c1ee73f1ad\",\"type\":\"BoxAnnotation\"},{\"attributes\":{\"items\":[{\"id\":\"87bb5306-3d7d-475e-b221-e3d1a2628d31\",\"type\":\"LegendItem\"}],\"plot\":{\"id\":\"fdaa583d-2539-4bbf-977c-759a7f8d458b\",\"subtype\":\"Figure\",\"type\":\"Plot\"}},\"id\":\"37b211e9-1ff0-4df8-82ff-8ad780a08a45\",\"type\":\"Legend\"},{\"attributes\":{\"fill_color\":{\"field\":\"colors\"},\"line_color\":{\"field\":\"colors\"},\"size\":{\"units\":\"screen\",\"value\":5},\"x\":{\"field\":\"x\"},\"y\":{\"field\":\"y\"}},\"id\":\"4eea6273-8b94-4922-8b55-c738ca4b372c\",\"type\":\"Circle\"},{\"attributes\":{\"plot\":null,\"text\":\"\"},\"id\":\"9ce2ac03-05cc-4368-8e71-07d7b2afa104\",\"type\":\"Title\"},{\"attributes\":{\"callback\":null},\"id\":\"21251aa5-320c-4a5a-8186-9d2bef5c9746\",\"type\":\"DataRange1d\"},{\"attributes\":{},\"id\":\"655d9362-3de1-43a3-985e-5ba620b7845b\",\"type\":\"ResetTool\"},{\"attributes\":{\"formatter\":{\"id\":\"c0cb9397-5c44-488f-93f4-90cf2c555288\",\"type\":\"BasicTickFormatter\"},\"plot\":{\"id\":\"fdaa583d-2539-4bbf-977c-759a7f8d458b\",\"subtype\":\"Figure\",\"type\":\"Plot\"},\"ticker\":{\"id\":\"21b902b2-86f3-430c-88e2-e22e8a6cdc5f\",\"type\":\"BasicTicker\"}},\"id\":\"6c51aee2-6c45-4660-967c-1a95b6fdce7a\",\"type\":\"LinearAxis\"},{\"attributes\":{\"below\":[{\"id\":\"3eddf695-0d9a-4f6a-b2c4-1d542dc2adee\",\"type\":\"LinearAxis\"}],\"left\":[{\"id\":\"6c51aee2-6c45-4660-967c-1a95b6fdce7a\",\"type\":\"LinearAxis\"}],\"renderers\":[{\"id\":\"3eddf695-0d9a-4f6a-b2c4-1d542dc2adee\",\"type\":\"LinearAxis\"},{\"id\":\"9251af14-faa2-4d6e-aa76-3b24a9308076\",\"type\":\"Grid\"},{\"id\":\"6c51aee2-6c45-4660-967c-1a95b6fdce7a\",\"type\":\"LinearAxis\"},{\"id\":\"11ff818d-adde-4332-9ea8-881872c0edeb\",\"type\":\"Grid\"},{\"id\":\"35edcb0d-da44-4893-85c7-f9c1ee73f1ad\",\"type\":\"BoxAnnotation\"},{\"id\":\"37b211e9-1ff0-4df8-82ff-8ad780a08a45\",\"type\":\"Legend\"},{\"id\":\"76651d5b-1db5-4a3d-9f8b-a54113771da3\",\"type\":\"GlyphRenderer\"}],\"title\":{\"id\":\"9ce2ac03-05cc-4368-8e71-07d7b2afa104\",\"type\":\"Title\"},\"toolbar\":{\"id\":\"cd1b6908-7123-40e9-8e99-f6620afdee3d\",\"type\":\"Toolbar\"},\"x_range\":{\"id\":\"0cc96364-32c6-446f-baa2-bc573f861af6\",\"type\":\"DataRange1d\"},\"x_scale\":{\"id\":\"2d1da732-f6a4-4dcf-8451-50b86bd626e4\",\"type\":\"LinearScale\"},\"y_range\":{\"id\":\"21251aa5-320c-4a5a-8186-9d2bef5c9746\",\"type\":\"DataRange1d\"},\"y_scale\":{\"id\":\"f1f2fe93-ef75-48e9-a4b7-b55194baf4c7\",\"type\":\"LinearScale\"}},\"id\":\"fdaa583d-2539-4bbf-977c-759a7f8d458b\",\"subtype\":\"Figure\",\"type\":\"Plot\"},{\"attributes\":{},\"id\":\"f1f2fe93-ef75-48e9-a4b7-b55194baf4c7\",\"type\":\"LinearScale\"},{\"attributes\":{},\"id\":\"d4e563fd-f5ba-4d97-a0d6-5f3236980818\",\"type\":\"WheelZoomTool\"}],\"root_ids\":[\"fdaa583d-2539-4bbf-977c-759a7f8d458b\"]},\"title\":\"Bokeh Application\",\"version\":\"0.12.13\"}};\n",
       "  var render_items = [{\"docid\":\"d1d6ab24-4d6e-4340-bcb8-fb4c174b0acd\",\"elementid\":\"998e6116-3b50-4016-bb1c-ea2290ffa75e\",\"modelid\":\"fdaa583d-2539-4bbf-977c-759a7f8d458b\"}];\n",
       "  root.Bokeh.embed.embed_items_notebook(docs_json, render_items);\n",
       "\n",
       "  }\n",
       "  if (root.Bokeh !== undefined) {\n",
       "    embed_document(root);\n",
       "  } else {\n",
       "    var attempts = 0;\n",
       "    var timer = setInterval(function(root) {\n",
       "      if (root.Bokeh !== undefined) {\n",
       "        embed_document(root);\n",
       "        clearInterval(timer);\n",
       "      }\n",
       "      attempts++;\n",
       "      if (attempts > 100) {\n",
       "        console.log(\"Bokeh: ERROR: Unable to run BokehJS code because BokehJS library is missing\")\n",
       "        clearInterval(timer);\n",
       "      }\n",
       "    }, 10, root)\n",
       "  }\n",
       "})(window);"
      ],
      "application/vnd.bokehjs_exec.v0+json": ""
     },
     "metadata": {
      "application/vnd.bokehjs_exec.v0+json": {
       "id": "fdaa583d-2539-4bbf-977c-759a7f8d458b"
      }
     },
     "output_type": "display_data"
    }
   ],
   "source": [
    "indexstardic ={}\n",
    "for index,typestar in enumerate(np.unique([i.type for i in dicofspectra])):\n",
    "    indexstardic[str(typestar)] = index\n",
    "\n",
    "label = starclass\n",
    "indexsvd = [ indexstardic[i] for i in starclass ]\n",
    "\n",
    "\n",
    "dd = {}\n",
    "dd['x'] = indexsvd\n",
    "dd['y'] = mat_pca[:,0]\n",
    "dd['labels'] = label\n",
    "dd['colors'] = colorsvd\n",
    "source = ColumnDataSource(dd)\n",
    "\n",
    "\n",
    "pone = figure()\n",
    "\n",
    "\n",
    "pone.circle(x='x', y='y', color='colors', legend = 'labels',source=source , size =5)\n",
    "show(pone)"
   ]
  },
  {
   "cell_type": "markdown",
   "metadata": {},
   "source": [
    "# Covariance Matrix\n",
    "\n",
    "To double check I can get the PCA by building the covariance matrix, or even the correlation matrix, and then get the eigevalues. "
   ]
  },
  {
   "cell_type": "code",
   "execution_count": 21,
   "metadata": {},
   "outputs": [
    {
     "name": "stdout",
     "output_type": "stream",
     "text": [
      "Shape covariance Matrix: (8, 8)\n"
     ]
    }
   ],
   "source": [
    "print('Shape covariance Matrix: {}'.format(pca.get_covariance().shape))"
   ]
  },
  {
   "cell_type": "code",
   "execution_count": 22,
   "metadata": {},
   "outputs": [
    {
     "data": {
      "text/plain": [
       "array([[  1.79667055e+06,   9.41028388e+04,   2.76422091e+05,\n",
       "         -1.75669157e+03,   1.52861232e+05,  -4.67621908e+04,\n",
       "         -1.95294473e+02,   4.71916020e-01],\n",
       "       [  9.41028388e+04,   2.58376827e+06,  -3.39451297e+05,\n",
       "         -1.14484408e+04,   1.28894105e+06,  -3.82619055e+05,\n",
       "         -1.39795120e+03,   2.44178212e+00],\n",
       "       [  2.76422091e+05,  -3.39451297e+05,   1.15219962e+08,\n",
       "         -1.41388142e+05,  -1.65402941e+05,  -4.47071582e+05,\n",
       "         -1.03854021e+04,   6.49741668e+01],\n",
       "       [ -1.75669157e+03,  -1.14484408e+04,  -1.41388142e+05,\n",
       "          1.78505759e+06,  -1.89604108e+04,   6.26887779e+03,\n",
       "          3.42024367e+01,  -1.20200816e-01],\n",
       "       [  1.52861232e+05,   1.28894105e+06,  -1.65402941e+05,\n",
       "         -1.89604108e+04,   3.86513900e+06,  -6.19245595e+05,\n",
       "         -2.29202089e+03,   4.16142244e+00],\n",
       "       [ -4.67621908e+04,  -3.82619055e+05,  -4.47071582e+05,\n",
       "          6.26887779e+03,  -6.19245595e+05,   1.97119619e+06,\n",
       "          7.28465847e+02,  -1.52441296e+00],\n",
       "       [ -1.95294473e+02,  -1.39795120e+03,  -1.03854021e+04,\n",
       "          3.42024367e+01,  -2.29202089e+03,   7.28465847e+02,\n",
       "          1.78470827e+06,  -1.06691719e-02],\n",
       "       [  4.71916020e-01,   2.44178212e+00,   6.49741668e+01,\n",
       "         -1.20200816e-01,   4.16142244e+00,  -1.52441296e+00,\n",
       "         -1.06691719e-02,   1.78470476e+06]])"
      ]
     },
     "execution_count": 22,
     "metadata": {},
     "output_type": "execute_result"
    }
   ],
   "source": [
    "pca.get_covariance()"
   ]
  },
  {
   "cell_type": "markdown",
   "metadata": {},
   "source": [
    "Getting in from the mean and transposing"
   ]
  },
  {
   "cell_type": "markdown",
   "metadata": {},
   "source": [
    "If I don't tranpose the matrix just use the .components instarf of the transform"
   ]
  },
  {
   "cell_type": "code",
   "execution_count": 23,
   "metadata": {},
   "outputs": [],
   "source": [
    "matpca2 = mat\n",
    "\n",
    "pca = PCA(n_components=2, svd_solver='full')\n",
    "pca.fit(matpca2)\n",
    "# plot principal components\n",
    "mat_pca2 = pca.transform(matpca2)"
   ]
  },
  {
   "cell_type": "code",
   "execution_count": 24,
   "metadata": {},
   "outputs": [
    {
     "data": {
      "text/plain": [
       "(2, 120)"
      ]
     },
     "execution_count": 24,
     "metadata": {},
     "output_type": "execute_result"
    }
   ],
   "source": [
    "pca.components_.shape"
   ]
  },
  {
   "cell_type": "markdown",
   "metadata": {},
   "source": [
    "# To Do\n",
    "\n",
    "Deeming talks about a non linear PCA. Maybe try to explore this with the Kernel PCA of Scikit-learn"
   ]
  },
  {
   "cell_type": "code",
   "execution_count": 25,
   "metadata": {},
   "outputs": [
    {
     "data": {
      "text/plain": [
       "array([[ 1.   ,  0.285,  0.546,  0.463,  0.497],\n",
       "       [ 0.285,  1.   ,  0.7  ,  0.603,  0.812],\n",
       "       [ 0.546,  0.7  ,  1.   ,  0.558,  0.761],\n",
       "       [ 0.463,  0.603,  0.558,  1.   ,  0.615],\n",
       "       [ 0.497,  0.812,  0.761,  0.615,  1.   ]])"
      ]
     },
     "execution_count": 25,
     "metadata": {},
     "output_type": "execute_result"
    }
   ],
   "source": [
    "corrmatrix = np.array([[1,0.285,0.546,0.463,0.497],\n",
    "                          [0.285,1,0.7,0.603,0.812],\n",
    "                          [0.546,0.7,1,0.558,0.761],\n",
    "                          [0.463,0.603,0.558,1,0.615],\n",
    "                      [0.497,0.812,0.761,0.615,1]])\n",
    "corrmatrix"
   ]
  },
  {
   "cell_type": "code",
   "execution_count": 26,
   "metadata": {},
   "outputs": [],
   "source": [
    "U, D, Vtranspose = np.linalg.svd(corrmatrix, full_matrices='False')"
   ]
  },
  {
   "cell_type": "code",
   "execution_count": 27,
   "metadata": {},
   "outputs": [
    {
     "data": {
      "text/plain": [
       "array([ 3.37132909,  0.75205936,  0.47964116,  0.24572139,  0.151249  ])"
      ]
     },
     "execution_count": 27,
     "metadata": {},
     "output_type": "execute_result"
    }
   ],
   "source": [
    "D"
   ]
  },
  {
   "cell_type": "code",
   "execution_count": 28,
   "metadata": {},
   "outputs": [
    {
     "ename": "NameError",
     "evalue": "name 'V' is not defined",
     "output_type": "error",
     "traceback": [
      "\u001b[0;31m---------------------------------------------------------------------------\u001b[0m",
      "\u001b[0;31mNameError\u001b[0m                                 Traceback (most recent call last)",
      "\u001b[0;32m<ipython-input-28-59cae67717e7>\u001b[0m in \u001b[0;36m<module>\u001b[0;34m()\u001b[0m\n\u001b[0;32m----> 1\u001b[0;31m \u001b[0mV\u001b[0m\u001b[0;34m.\u001b[0m\u001b[0mT\u001b[0m\u001b[0;34m[\u001b[0m\u001b[0;36m0\u001b[0m\u001b[0;34m]\u001b[0m\u001b[0;34m\u001b[0m\u001b[0m\n\u001b[0m",
      "\u001b[0;31mNameError\u001b[0m: name 'V' is not defined"
     ]
    }
   ],
   "source": [
    "V.T[0]"
   ]
  },
  {
   "cell_type": "markdown",
   "metadata": {},
   "source": [
    "Match the Talbe IV and V of the paper. "
   ]
  },
  {
   "cell_type": "markdown",
   "metadata": {},
   "source": [
    "## Table VI"
   ]
  },
  {
   "cell_type": "code",
   "execution_count": null,
   "metadata": {},
   "outputs": [],
   "source": [
    "np.dot(V.T[0]**2, np.diag(D))"
   ]
  },
  {
   "cell_type": "code",
   "execution_count": null,
   "metadata": {},
   "outputs": [],
   "source": [
    "D[0]**2/(np.sum(D**2))"
   ]
  },
  {
   "cell_type": "code",
   "execution_count": null,
   "metadata": {},
   "outputs": [],
   "source": [
    "D[0]**2/(np.sum(D**2))"
   ]
  },
  {
   "cell_type": "code",
   "execution_count": 29,
   "metadata": {},
   "outputs": [
    {
     "data": {
      "text/plain": [
       "{'G1V (95128)': '#1f77b4',\n",
       " 'G2': '#aec7e8',\n",
       " 'G4V (32923)': '#ff7f0e',\n",
       " 'G5III+... (157910)': '#ffbb78',\n",
       " 'G8V (101501)': '#2ca02c',\n",
       " 'G9IV (100030)': '#98df8a',\n",
       " 'K1III (18322)': '#d62728',\n",
       " 'K2III (115136)': '#ff9896',\n",
       " 'K3III (101673)': '#9467bd',\n",
       " 'K4III (136726)': '#c5b0d5',\n",
       " 'K5III (111335)': '#8c564b',\n",
       " 'K7': '#c49c94'}"
      ]
     },
     "execution_count": 29,
     "metadata": {},
     "output_type": "execute_result"
    }
   ],
   "source": [
    "coldic"
   ]
  },
  {
   "cell_type": "code",
   "execution_count": null,
   "metadata": {},
   "outputs": [],
   "source": []
  }
 ],
 "metadata": {
  "kernelspec": {
   "display_name": "Python 2",
   "language": "python",
   "name": "python2"
  },
  "language_info": {
   "codemirror_mode": {
    "name": "ipython",
    "version": 2
   },
   "file_extension": ".py",
   "mimetype": "text/x-python",
   "name": "python",
   "nbconvert_exporter": "python",
   "pygments_lexer": "ipython2",
   "version": "2.7.14"
  }
 },
 "nbformat": 4,
 "nbformat_minor": 2
}

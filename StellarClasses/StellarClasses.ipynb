{
 "cells": [
  {
   "cell_type": "markdown",
   "metadata": {},
   "source": [
    "# Singular Value Decomposition of EW and Spectra"
   ]
  },
  {
   "cell_type": "markdown",
   "metadata": {},
   "source": [
    "Import the used packages\n",
    "\n",
    "Make sure that we don't get an error when we call pyraf. It is usually that we need to create a uparm folder and correctly initialize pyraf from the command line. "
   ]
  },
  {
   "cell_type": "code",
   "execution_count": 2,
   "metadata": {},
   "outputs": [
    {
     "data": {
      "text/html": [
       "\n",
       "    <div class=\"bk-root\">\n",
       "        <a href=\"https://bokeh.pydata.org\" target=\"_blank\" class=\"bk-logo bk-logo-small bk-logo-notebook\"></a>\n",
       "        <span id=\"fe0481bf-5694-4fe1-ab35-13d3f9c9ec1e\">Loading BokehJS ...</span>\n",
       "    </div>"
      ]
     },
     "metadata": {},
     "output_type": "display_data"
    },
    {
     "data": {
      "application/javascript": [
       "\n",
       "(function(root) {\n",
       "  function now() {\n",
       "    return new Date();\n",
       "  }\n",
       "\n",
       "  var force = true;\n",
       "\n",
       "  if (typeof (root._bokeh_onload_callbacks) === \"undefined\" || force === true) {\n",
       "    root._bokeh_onload_callbacks = [];\n",
       "    root._bokeh_is_loading = undefined;\n",
       "  }\n",
       "\n",
       "  var JS_MIME_TYPE = 'application/javascript';\n",
       "  var HTML_MIME_TYPE = 'text/html';\n",
       "  var EXEC_MIME_TYPE = 'application/vnd.bokehjs_exec.v0+json';\n",
       "  var CLASS_NAME = 'output_bokeh rendered_html';\n",
       "\n",
       "  /**\n",
       "   * Render data to the DOM node\n",
       "   */\n",
       "  function render(props, node) {\n",
       "    var script = document.createElement(\"script\");\n",
       "    node.appendChild(script);\n",
       "  }\n",
       "\n",
       "  /**\n",
       "   * Handle when an output is cleared or removed\n",
       "   */\n",
       "  function handleClearOutput(event, handle) {\n",
       "    var cell = handle.cell;\n",
       "\n",
       "    var id = cell.output_area._bokeh_element_id;\n",
       "    var server_id = cell.output_area._bokeh_server_id;\n",
       "    // Clean up Bokeh references\n",
       "    if (id !== undefined) {\n",
       "      Bokeh.index[id].model.document.clear();\n",
       "      delete Bokeh.index[id];\n",
       "    }\n",
       "\n",
       "    if (server_id !== undefined) {\n",
       "      // Clean up Bokeh references\n",
       "      var cmd = \"from bokeh.io.state import curstate; print(curstate().uuid_to_server['\" + server_id + \"'].get_sessions()[0].document.roots[0]._id)\";\n",
       "      cell.notebook.kernel.execute(cmd, {\n",
       "        iopub: {\n",
       "          output: function(msg) {\n",
       "            var element_id = msg.content.text.trim();\n",
       "            Bokeh.index[element_id].model.document.clear();\n",
       "            delete Bokeh.index[element_id];\n",
       "          }\n",
       "        }\n",
       "      });\n",
       "      // Destroy server and session\n",
       "      var cmd = \"import bokeh.io.notebook as ion; ion.destroy_server('\" + server_id + \"')\";\n",
       "      cell.notebook.kernel.execute(cmd);\n",
       "    }\n",
       "  }\n",
       "\n",
       "  /**\n",
       "   * Handle when a new output is added\n",
       "   */\n",
       "  function handleAddOutput(event, handle) {\n",
       "    var output_area = handle.output_area;\n",
       "    var output = handle.output;\n",
       "\n",
       "    // limit handleAddOutput to display_data with EXEC_MIME_TYPE content only\n",
       "    if ((output.output_type != \"display_data\") || (!output.data.hasOwnProperty(EXEC_MIME_TYPE))) {\n",
       "      return\n",
       "    }\n",
       "\n",
       "    var toinsert = output_area.element.find(\".\" + CLASS_NAME.split(' ')[0]);\n",
       "\n",
       "    if (output.metadata[EXEC_MIME_TYPE][\"id\"] !== undefined) {\n",
       "      toinsert[0].firstChild.textContent = output.data[JS_MIME_TYPE];\n",
       "      // store reference to embed id on output_area\n",
       "      output_area._bokeh_element_id = output.metadata[EXEC_MIME_TYPE][\"id\"];\n",
       "    }\n",
       "    if (output.metadata[EXEC_MIME_TYPE][\"server_id\"] !== undefined) {\n",
       "      var bk_div = document.createElement(\"div\");\n",
       "      bk_div.innerHTML = output.data[HTML_MIME_TYPE];\n",
       "      var script_attrs = bk_div.children[0].attributes;\n",
       "      for (var i = 0; i < script_attrs.length; i++) {\n",
       "        toinsert[0].firstChild.setAttribute(script_attrs[i].name, script_attrs[i].value);\n",
       "      }\n",
       "      // store reference to server id on output_area\n",
       "      output_area._bokeh_server_id = output.metadata[EXEC_MIME_TYPE][\"server_id\"];\n",
       "    }\n",
       "  }\n",
       "\n",
       "  function register_renderer(events, OutputArea) {\n",
       "\n",
       "    function append_mime(data, metadata, element) {\n",
       "      // create a DOM node to render to\n",
       "      var toinsert = this.create_output_subarea(\n",
       "        metadata,\n",
       "        CLASS_NAME,\n",
       "        EXEC_MIME_TYPE\n",
       "      );\n",
       "      this.keyboard_manager.register_events(toinsert);\n",
       "      // Render to node\n",
       "      var props = {data: data, metadata: metadata[EXEC_MIME_TYPE]};\n",
       "      render(props, toinsert[0]);\n",
       "      element.append(toinsert);\n",
       "      return toinsert\n",
       "    }\n",
       "\n",
       "    /* Handle when an output is cleared or removed */\n",
       "    events.on('clear_output.CodeCell', handleClearOutput);\n",
       "    events.on('delete.Cell', handleClearOutput);\n",
       "\n",
       "    /* Handle when a new output is added */\n",
       "    events.on('output_added.OutputArea', handleAddOutput);\n",
       "\n",
       "    /**\n",
       "     * Register the mime type and append_mime function with output_area\n",
       "     */\n",
       "    OutputArea.prototype.register_mime_type(EXEC_MIME_TYPE, append_mime, {\n",
       "      /* Is output safe? */\n",
       "      safe: true,\n",
       "      /* Index of renderer in `output_area.display_order` */\n",
       "      index: 0\n",
       "    });\n",
       "  }\n",
       "\n",
       "  // register the mime type if in Jupyter Notebook environment and previously unregistered\n",
       "  if (root.Jupyter !== undefined) {\n",
       "    var events = require('base/js/events');\n",
       "    var OutputArea = require('notebook/js/outputarea').OutputArea;\n",
       "\n",
       "    if (OutputArea.prototype.mime_types().indexOf(EXEC_MIME_TYPE) == -1) {\n",
       "      register_renderer(events, OutputArea);\n",
       "    }\n",
       "  }\n",
       "\n",
       "  \n",
       "  if (typeof (root._bokeh_timeout) === \"undefined\" || force === true) {\n",
       "    root._bokeh_timeout = Date.now() + 5000;\n",
       "    root._bokeh_failed_load = false;\n",
       "  }\n",
       "\n",
       "  var NB_LOAD_WARNING = {'data': {'text/html':\n",
       "     \"<div style='background-color: #fdd'>\\n\"+\n",
       "     \"<p>\\n\"+\n",
       "     \"BokehJS does not appear to have successfully loaded. If loading BokehJS from CDN, this \\n\"+\n",
       "     \"may be due to a slow or bad network connection. Possible fixes:\\n\"+\n",
       "     \"</p>\\n\"+\n",
       "     \"<ul>\\n\"+\n",
       "     \"<li>re-rerun `output_notebook()` to attempt to load from CDN again, or</li>\\n\"+\n",
       "     \"<li>use INLINE resources instead, as so:</li>\\n\"+\n",
       "     \"</ul>\\n\"+\n",
       "     \"<code>\\n\"+\n",
       "     \"from bokeh.resources import INLINE\\n\"+\n",
       "     \"output_notebook(resources=INLINE)\\n\"+\n",
       "     \"</code>\\n\"+\n",
       "     \"</div>\"}};\n",
       "\n",
       "  function display_loaded() {\n",
       "    var el = document.getElementById(\"fe0481bf-5694-4fe1-ab35-13d3f9c9ec1e\");\n",
       "    if (el != null) {\n",
       "      el.textContent = \"BokehJS is loading...\";\n",
       "    }\n",
       "    if (root.Bokeh !== undefined) {\n",
       "      if (el != null) {\n",
       "        el.textContent = \"BokehJS \" + root.Bokeh.version + \" successfully loaded.\";\n",
       "      }\n",
       "    } else if (Date.now() < root._bokeh_timeout) {\n",
       "      setTimeout(display_loaded, 100)\n",
       "    }\n",
       "  }\n",
       "\n",
       "\n",
       "  function run_callbacks() {\n",
       "    try {\n",
       "      root._bokeh_onload_callbacks.forEach(function(callback) { callback() });\n",
       "    }\n",
       "    finally {\n",
       "      delete root._bokeh_onload_callbacks\n",
       "    }\n",
       "    console.info(\"Bokeh: all callbacks have finished\");\n",
       "  }\n",
       "\n",
       "  function load_libs(js_urls, callback) {\n",
       "    root._bokeh_onload_callbacks.push(callback);\n",
       "    if (root._bokeh_is_loading > 0) {\n",
       "      console.log(\"Bokeh: BokehJS is being loaded, scheduling callback at\", now());\n",
       "      return null;\n",
       "    }\n",
       "    if (js_urls == null || js_urls.length === 0) {\n",
       "      run_callbacks();\n",
       "      return null;\n",
       "    }\n",
       "    console.log(\"Bokeh: BokehJS not loaded, scheduling load and callback at\", now());\n",
       "    root._bokeh_is_loading = js_urls.length;\n",
       "    for (var i = 0; i < js_urls.length; i++) {\n",
       "      var url = js_urls[i];\n",
       "      var s = document.createElement('script');\n",
       "      s.src = url;\n",
       "      s.async = false;\n",
       "      s.onreadystatechange = s.onload = function() {\n",
       "        root._bokeh_is_loading--;\n",
       "        if (root._bokeh_is_loading === 0) {\n",
       "          console.log(\"Bokeh: all BokehJS libraries loaded\");\n",
       "          run_callbacks()\n",
       "        }\n",
       "      };\n",
       "      s.onerror = function() {\n",
       "        console.warn(\"failed to load library \" + url);\n",
       "      };\n",
       "      console.log(\"Bokeh: injecting script tag for BokehJS library: \", url);\n",
       "      document.getElementsByTagName(\"head\")[0].appendChild(s);\n",
       "    }\n",
       "  };var element = document.getElementById(\"fe0481bf-5694-4fe1-ab35-13d3f9c9ec1e\");\n",
       "  if (element == null) {\n",
       "    console.log(\"Bokeh: ERROR: autoload.js configured with elementid 'fe0481bf-5694-4fe1-ab35-13d3f9c9ec1e' but no matching script tag was found. \")\n",
       "    return false;\n",
       "  }\n",
       "\n",
       "  var js_urls = [\"https://cdn.pydata.org/bokeh/release/bokeh-0.12.13.min.js\", \"https://cdn.pydata.org/bokeh/release/bokeh-widgets-0.12.13.min.js\", \"https://cdn.pydata.org/bokeh/release/bokeh-tables-0.12.13.min.js\", \"https://cdn.pydata.org/bokeh/release/bokeh-gl-0.12.13.min.js\"];\n",
       "\n",
       "  var inline_js = [\n",
       "    function(Bokeh) {\n",
       "      Bokeh.set_log_level(\"info\");\n",
       "    },\n",
       "    \n",
       "    function(Bokeh) {\n",
       "      \n",
       "    },\n",
       "    function(Bokeh) {\n",
       "      console.log(\"Bokeh: injecting CSS: https://cdn.pydata.org/bokeh/release/bokeh-0.12.13.min.css\");\n",
       "      Bokeh.embed.inject_css(\"https://cdn.pydata.org/bokeh/release/bokeh-0.12.13.min.css\");\n",
       "      console.log(\"Bokeh: injecting CSS: https://cdn.pydata.org/bokeh/release/bokeh-widgets-0.12.13.min.css\");\n",
       "      Bokeh.embed.inject_css(\"https://cdn.pydata.org/bokeh/release/bokeh-widgets-0.12.13.min.css\");\n",
       "      console.log(\"Bokeh: injecting CSS: https://cdn.pydata.org/bokeh/release/bokeh-tables-0.12.13.min.css\");\n",
       "      Bokeh.embed.inject_css(\"https://cdn.pydata.org/bokeh/release/bokeh-tables-0.12.13.min.css\");\n",
       "    }\n",
       "  ];\n",
       "\n",
       "  function run_inline_js() {\n",
       "    \n",
       "    if ((root.Bokeh !== undefined) || (force === true)) {\n",
       "      for (var i = 0; i < inline_js.length; i++) {\n",
       "        inline_js[i].call(root, root.Bokeh);\n",
       "      }if (force === true) {\n",
       "        display_loaded();\n",
       "      }} else if (Date.now() < root._bokeh_timeout) {\n",
       "      setTimeout(run_inline_js, 100);\n",
       "    } else if (!root._bokeh_failed_load) {\n",
       "      console.log(\"Bokeh: BokehJS failed to load within specified timeout.\");\n",
       "      root._bokeh_failed_load = true;\n",
       "    } else if (force !== true) {\n",
       "      var cell = $(document.getElementById(\"fe0481bf-5694-4fe1-ab35-13d3f9c9ec1e\")).parents('.cell').data().cell;\n",
       "      cell.output_area.append_execute_result(NB_LOAD_WARNING)\n",
       "    }\n",
       "\n",
       "  }\n",
       "\n",
       "  if (root._bokeh_is_loading === 0) {\n",
       "    console.log(\"Bokeh: BokehJS loaded, going straight to plotting\");\n",
       "    run_inline_js();\n",
       "  } else {\n",
       "    load_libs(js_urls, function() {\n",
       "      console.log(\"Bokeh: BokehJS plotting callback run at\", now());\n",
       "      run_inline_js();\n",
       "    });\n",
       "  }\n",
       "}(window));"
      ],
      "application/vnd.bokehjs_load.v0+json": "\n(function(root) {\n  function now() {\n    return new Date();\n  }\n\n  var force = true;\n\n  if (typeof (root._bokeh_onload_callbacks) === \"undefined\" || force === true) {\n    root._bokeh_onload_callbacks = [];\n    root._bokeh_is_loading = undefined;\n  }\n\n  \n\n  \n  if (typeof (root._bokeh_timeout) === \"undefined\" || force === true) {\n    root._bokeh_timeout = Date.now() + 5000;\n    root._bokeh_failed_load = false;\n  }\n\n  var NB_LOAD_WARNING = {'data': {'text/html':\n     \"<div style='background-color: #fdd'>\\n\"+\n     \"<p>\\n\"+\n     \"BokehJS does not appear to have successfully loaded. If loading BokehJS from CDN, this \\n\"+\n     \"may be due to a slow or bad network connection. Possible fixes:\\n\"+\n     \"</p>\\n\"+\n     \"<ul>\\n\"+\n     \"<li>re-rerun `output_notebook()` to attempt to load from CDN again, or</li>\\n\"+\n     \"<li>use INLINE resources instead, as so:</li>\\n\"+\n     \"</ul>\\n\"+\n     \"<code>\\n\"+\n     \"from bokeh.resources import INLINE\\n\"+\n     \"output_notebook(resources=INLINE)\\n\"+\n     \"</code>\\n\"+\n     \"</div>\"}};\n\n  function display_loaded() {\n    var el = document.getElementById(\"fe0481bf-5694-4fe1-ab35-13d3f9c9ec1e\");\n    if (el != null) {\n      el.textContent = \"BokehJS is loading...\";\n    }\n    if (root.Bokeh !== undefined) {\n      if (el != null) {\n        el.textContent = \"BokehJS \" + root.Bokeh.version + \" successfully loaded.\";\n      }\n    } else if (Date.now() < root._bokeh_timeout) {\n      setTimeout(display_loaded, 100)\n    }\n  }\n\n\n  function run_callbacks() {\n    try {\n      root._bokeh_onload_callbacks.forEach(function(callback) { callback() });\n    }\n    finally {\n      delete root._bokeh_onload_callbacks\n    }\n    console.info(\"Bokeh: all callbacks have finished\");\n  }\n\n  function load_libs(js_urls, callback) {\n    root._bokeh_onload_callbacks.push(callback);\n    if (root._bokeh_is_loading > 0) {\n      console.log(\"Bokeh: BokehJS is being loaded, scheduling callback at\", now());\n      return null;\n    }\n    if (js_urls == null || js_urls.length === 0) {\n      run_callbacks();\n      return null;\n    }\n    console.log(\"Bokeh: BokehJS not loaded, scheduling load and callback at\", now());\n    root._bokeh_is_loading = js_urls.length;\n    for (var i = 0; i < js_urls.length; i++) {\n      var url = js_urls[i];\n      var s = document.createElement('script');\n      s.src = url;\n      s.async = false;\n      s.onreadystatechange = s.onload = function() {\n        root._bokeh_is_loading--;\n        if (root._bokeh_is_loading === 0) {\n          console.log(\"Bokeh: all BokehJS libraries loaded\");\n          run_callbacks()\n        }\n      };\n      s.onerror = function() {\n        console.warn(\"failed to load library \" + url);\n      };\n      console.log(\"Bokeh: injecting script tag for BokehJS library: \", url);\n      document.getElementsByTagName(\"head\")[0].appendChild(s);\n    }\n  };var element = document.getElementById(\"fe0481bf-5694-4fe1-ab35-13d3f9c9ec1e\");\n  if (element == null) {\n    console.log(\"Bokeh: ERROR: autoload.js configured with elementid 'fe0481bf-5694-4fe1-ab35-13d3f9c9ec1e' but no matching script tag was found. \")\n    return false;\n  }\n\n  var js_urls = [\"https://cdn.pydata.org/bokeh/release/bokeh-0.12.13.min.js\", \"https://cdn.pydata.org/bokeh/release/bokeh-widgets-0.12.13.min.js\", \"https://cdn.pydata.org/bokeh/release/bokeh-tables-0.12.13.min.js\", \"https://cdn.pydata.org/bokeh/release/bokeh-gl-0.12.13.min.js\"];\n\n  var inline_js = [\n    function(Bokeh) {\n      Bokeh.set_log_level(\"info\");\n    },\n    \n    function(Bokeh) {\n      \n    },\n    function(Bokeh) {\n      console.log(\"Bokeh: injecting CSS: https://cdn.pydata.org/bokeh/release/bokeh-0.12.13.min.css\");\n      Bokeh.embed.inject_css(\"https://cdn.pydata.org/bokeh/release/bokeh-0.12.13.min.css\");\n      console.log(\"Bokeh: injecting CSS: https://cdn.pydata.org/bokeh/release/bokeh-widgets-0.12.13.min.css\");\n      Bokeh.embed.inject_css(\"https://cdn.pydata.org/bokeh/release/bokeh-widgets-0.12.13.min.css\");\n      console.log(\"Bokeh: injecting CSS: https://cdn.pydata.org/bokeh/release/bokeh-tables-0.12.13.min.css\");\n      Bokeh.embed.inject_css(\"https://cdn.pydata.org/bokeh/release/bokeh-tables-0.12.13.min.css\");\n    }\n  ];\n\n  function run_inline_js() {\n    \n    if ((root.Bokeh !== undefined) || (force === true)) {\n      for (var i = 0; i < inline_js.length; i++) {\n        inline_js[i].call(root, root.Bokeh);\n      }if (force === true) {\n        display_loaded();\n      }} else if (Date.now() < root._bokeh_timeout) {\n      setTimeout(run_inline_js, 100);\n    } else if (!root._bokeh_failed_load) {\n      console.log(\"Bokeh: BokehJS failed to load within specified timeout.\");\n      root._bokeh_failed_load = true;\n    } else if (force !== true) {\n      var cell = $(document.getElementById(\"fe0481bf-5694-4fe1-ab35-13d3f9c9ec1e\")).parents('.cell').data().cell;\n      cell.output_area.append_execute_result(NB_LOAD_WARNING)\n    }\n\n  }\n\n  if (root._bokeh_is_loading === 0) {\n    console.log(\"Bokeh: BokehJS loaded, going straight to plotting\");\n    run_inline_js();\n  } else {\n    load_libs(js_urls, function() {\n      console.log(\"Bokeh: BokehJS plotting callback run at\", now());\n      run_inline_js();\n    });\n  }\n}(window));"
     },
     "metadata": {},
     "output_type": "display_data"
    }
   ],
   "source": [
    "#Bokeh plotting\n",
    "from bokeh.io import push_notebook, show, output_notebook\n",
    "from bokeh.plotting import figure\n",
    "from bokeh.models import Span, Label, Arrow, NormalHead\n",
    "from bokeh.models import HoverTool, tools, ColumnDataSource, CustomJS, Slider, BoxAnnotation\n",
    "from bokeh.layouts import  column, row\n",
    "from bokeh.palettes import Category20_18\n",
    "import re\n",
    "import glob, os\n",
    "from astropy.io import fits\n",
    "import urllib\n",
    "#from urllib import urlretrieve\n",
    "from sklearn.decomposition import TruncatedSVD\n",
    "#Garbage collector\n",
    "import gc\n",
    "\n",
    "from pyraf import iraf\n",
    "output_notebook()\n",
    "iraf.noao.onedspec()\n",
    "iraf.dataio()"
   ]
  },
  {
   "cell_type": "markdown",
   "metadata": {},
   "source": [
    "Defined the classes. Lines and spec. Add a new attribute with the general type of star. "
   ]
  },
  {
   "cell_type": "code",
   "execution_count": 3,
   "metadata": {},
   "outputs": [],
   "source": [
    "#Emission Lines\n",
    "class line(object):\n",
    "    \"\"\"Line with the name of the line, line center and the region around it. \n",
    "    This region around it will be use to fit it using IRAF function. It has to be a list of numbers\"\"\"\n",
    "    def __init__(self,name,linecenter,regiontofit):\n",
    "        self.name = name\n",
    "        self.linecenter = linecenter\n",
    "        self.regiontofit = regiontofit\n",
    "        \n",
    "def find_nearest(array,value):\n",
    "    idx = (np.abs(array-value)).argmin()\n",
    "    return idx, array[idx]\n",
    "\n",
    "def isDigit(x):\n",
    "    try:\n",
    "        float(x)\n",
    "        return True\n",
    "    except ValueError:\n",
    "        return False\n",
    "    \n",
    "def gaussian(x, mu, sig,core):\n",
    "    \"\"\"Gaussian\"\"\"\n",
    "    return core*np.exp(-np.power(x - mu, 2.) / (2 * np.power(sig, 2.)))\n",
    "\n",
    "        \n",
    "class spec2(object):\n",
    "    \"\"\"Spectra created from the url. Probably in the future better with the fiber\n",
    "    , plate and MJD\"\"\"\n",
    "    def __init__(self,url):\n",
    "        self.url = url\n",
    "        self.name = url.split('/')[-1]\n",
    "        self.wave, self.flux, self.model, self.type, self.typegeneral = self.get_type()\n",
    "       \n",
    "            \n",
    "    def get_type(self, verbose=False):\n",
    "        \"\"\"Get the type, flux, wavelenght and model from the SDSS TABLE. \n",
    "        It downloadst he fit if it doesnt exist. Had to do it like that becase it would waint until the download\n",
    "        to call the other method\"\"\"\n",
    "        #Download if it doesnt't exists. \n",
    "        if not os.path.isfile(self.name):\n",
    "            file_name = self.name\n",
    "            u = urllib.urlopen(self.url)\n",
    "            f = open(file_name, 'wb')\n",
    "            meta = u.info()\n",
    "            file_size = int(meta.getheaders(\"Content-Length\")[0])\n",
    "            #print \"Downloading: %s Bytes: %s\" % (file_name, file_size)\n",
    "\n",
    "            file_size_dl = 0\n",
    "            block_sz = 8192\n",
    "            while True:\n",
    "                buffer = u.read(block_sz)\n",
    "                if not buffer:\n",
    "                    break\n",
    "\n",
    "                file_size_dl += len(buffer)\n",
    "                f.write(buffer)\n",
    "                status = r\"%10d  [%3.2f%%]\" % (file_size_dl, file_size_dl * 100. / file_size)\n",
    "                status = status + chr(8)*(len(status)+1)\n",
    "                if verbose:\n",
    "                    print status,\n",
    "\n",
    "            f.close()\n",
    "            #print('Downloaded '+ self.name)\n",
    "        \n",
    "        ob = fits.open(self.name,memmap=False)\n",
    "        #Get data and save wavelenft in x, and flux on y\n",
    "        dataob = ob[1].data\n",
    "        x = 10**(dataob['loglam'])\n",
    "        y2 = dataob['model']\n",
    "        y = dataob['flux']\n",
    "        typee = ob[2].data['SUBCLASS'][0]\n",
    "        ob.close()\n",
    "        #Delete\n",
    "        del ob\n",
    "        del dataob\n",
    "        gc.collect()\n",
    "        \n",
    "        npattern = re.compile('[O,B,A,F,G,K,WD,M,CV]{1,2}')\n",
    "        typegeneral = npattern.findall(typee)\n",
    "        if 'WD' in typegeneral:\n",
    "            typegeneral = 'WD'\n",
    "        elif len(typegeneral) == 0:\n",
    "            typegeneral = 'Other'\n",
    "        else:\n",
    "            typegeneral = typegeneral[0]\n",
    "        #delete to aboid too many oepenf files see\n",
    "        #http://docs.astropy.org/en/stable/io/fits/appendix/faq.html#i-m-opening-many-fits-files-in-a-loop-and-getting-oserror-too-many-open-files\n",
    "        return x,y,y2, typee, typegeneral\n",
    "    \n",
    "    def get_iraffits(self, modelfit = True):\n",
    "        \"\"\"From the SDSS table creates a fits file to work with iraf\"\"\"\n",
    "        #Which one to convert to iraf fts\n",
    "        if modelfit:\n",
    "            fluxormodel = self.model\n",
    "        else:\n",
    "            fluxormodel = self.flux\n",
    "        #Name of iraf .txt file and create text file\n",
    "        \n",
    "        namenewfits = '{name}.txt'.format(name=self.name)\n",
    "        with open(namenewfits,'w') as file:\n",
    "            for x,y in zip(self.wave,fluxormodel):\n",
    "                file.write('{}\\t{}\\n'.format(x,y))\n",
    "                \n",
    "        #Create fits file from text file interpolation to work wtih IRAF functions\n",
    "        iraffitsname = 'iraf'+self.name\n",
    "        if os.path.exists(iraffitsname+'.fits'):\n",
    "            os.remove(iraffitsname+'.fits')\n",
    "        iraf.rspectext(namenewfits,iraffitsname,dtype='interp')\n",
    "        #Remove the text file\n",
    "        os.remove(namenewfits)\n",
    "        \n",
    "    \n",
    "    def fit_lines(self, dicoflines, errorestimate = True, verbose='No'):\n",
    "        \"\"\"Fit lines using gaussian fitport. It populates a diccionary with the lines\n",
    "         and the fit of the lines. The parameter if a diccionary of lines objects. \n",
    "         The class is define before. Verbose can be yes or NO\"\"\"\n",
    "        self.linesdicall = []\n",
    "        errorparam = []\n",
    "        if not os.path.exists('iraf'+self.name):\n",
    "            self.get_iraffits()\n",
    "            \n",
    "        #Initialize files log and lines\n",
    "        ! echo '' > fited.log\n",
    "\n",
    "        for indexline,linesfit in enumerate(dicoflines):\n",
    "            regionf = \"{} {}\".format(linesfit.regiontofit[0],linesfit.regiontofit[1])\n",
    "            #wavelenght\n",
    "            xlimns = [find_nearest(self.wave,i)[0] for i in linesfit.regiontofit   ]\n",
    "            wavex = self.wave[xlimns[0]:xlimns[1]]\n",
    "            lineszero = linesfit.linecenter\n",
    "            ! echo '$lineszero' > lines.lines\n",
    "\n",
    "            filename = 'iraf'+self.name\n",
    "            #Error estimation iraf: http://stsdas.stsci.edu/cgi-bin/gethelp.cgi?fitprofs\n",
    "            if errorestimate:        \n",
    "                iraf.fitprofs(filename,pos='lines.lines', reg=regionf ,\n",
    "                              fitbackground= 'yes', \n",
    "                              logfile='fited.log'\n",
    "                              ,nerrsample='100',sigma0='4',invgain='4',verbose=verbose)\n",
    "            else:\n",
    "                iraf.fitprofs(filename,pos='lines.lines', reg=regionf ,\n",
    "                              fitbackground= 'yes', \n",
    "                              logfile='fited.log', verbose=verbose)\n",
    "\n",
    "            #Plotting the gaussian\n",
    "            #Find in log file of fitprofs.  \n",
    "            npattern = re.compile('[-\\d.]+')\n",
    "            npattern2 = re.compile('[-\\d.E?]+') #Gets the exponentioals\n",
    "\n",
    "            gparameters=[]\n",
    "            with open('fited.log','r') as file:\n",
    "                for lines in file:\n",
    "\n",
    "                    if '(' not in lines:\n",
    "                        temp = npattern2.findall(lines)\n",
    "                        if 'INDEF' in lines:\n",
    "                            gparameters.append(7*[0])\n",
    "                    else:\n",
    "                        errorparam.append(npattern2.findall(lines))\n",
    "\n",
    "                    if len(temp) == 7 and all(isDigit(i) for i in temp) and 'INDEF' not in lines:\n",
    "                        gparameters.append(temp)\n",
    "\n",
    "            #gaussian\n",
    "            if len(gparameters) > 0:\n",
    "                gparamfinal = [ float(i) for i in gparameters[-1] ]\n",
    "                centerg, contg, fluxg, eqwg, coreg, fwhmg, fwhml = gparamfinal\n",
    "                yg = gaussian(wavex,centerg,fwhmg/2.3538,coreg) + contg\n",
    "\n",
    "\n",
    "            if errorestimate == True:\n",
    "                errorparamfinal = [ float(i) for i in errorparam[-1] ]\n",
    "                #print(gparamfinal)\n",
    "                #print(errorparamfinal)\n",
    "\n",
    "\n",
    "                linesdic = {'linename':linesfit.name,\n",
    "                             'center':centerg,\n",
    "                              'EW': eqwg,\n",
    "                              'EWerror':errorparamfinal[3],\n",
    "                            'fluxg':fluxg,\n",
    "                            'coregaus':coreg,\n",
    "                            'fwgmgaus':fwhmg,\n",
    "                            'contgaus':contg,\n",
    "                            'gaussian':{'x':wavex,'y':yg}\n",
    "                            }\n",
    "            else:\n",
    "                 linesdic = {'linename':linesfit.name,\n",
    "                             'center':centerg,\n",
    "                              'EW': eqwg,\n",
    "                              'EWerror':0,\n",
    "                            'fluxg':fluxg,\n",
    "                            'coregaus':coreg,\n",
    "                            'fwgmgaus':fwhmg,\n",
    "                            'contgaus':contg,\n",
    "                            'gaussian':{'x':wavex,'y':yg}\n",
    "                            }\n",
    "                \n",
    "                \n",
    "                \n",
    "            self.linesdicall.append(linesdic)\n",
    "\n",
    "        \n",
    "        \n"
   ]
  },
  {
   "cell_type": "code",
   "execution_count": 4,
   "metadata": {},
   "outputs": [
    {
     "data": {
      "text/plain": [
       "'A'"
      ]
     },
     "execution_count": 4,
     "metadata": {},
     "output_type": "execute_result"
    }
   ],
   "source": [
    "gc.collect()\n",
    "#Define the new object\n",
    "tryspec = spec2('https://dr14.sdss.org/sas/dr14/sdss/spectro/redux/26/spectra/0266/spec-0266-51630-0015.fits')\n",
    "tryspec.typegeneral"
   ]
  },
  {
   "cell_type": "code",
   "execution_count": 5,
   "metadata": {},
   "outputs": [
    {
     "name": "stdout",
     "output_type": "stream",
     "text": [
      "Reading 154 files and 10 lines per file\n"
     ]
    },
    {
     "name": "stderr",
     "output_type": "stream",
     "text": [
      "/home/mmarcano/anaconda3/envs/iraf27/lib/python2.7/site-packages/ipykernel_launcher.py:23: RuntimeWarning: divide by zero encountered in divide\n",
      "Warning: Too few data points in fitting region\n",
      "Warning: Too few data points in fitting region\n",
      "Warning: Too few data points in fitting region\n",
      "Warning: Too few data points in fitting region\n"
     ]
    }
   ],
   "source": [
    "%%time\n",
    "diclines = {line('P15',8547,[8520,8560]),line('P14',8600,[8600-20,8600+20]),\n",
    "           line('Halpha',6562,[6550,6575]),line('P16',8504,[8504-20,8504+20]),\n",
    "            line('P13',8667,[8667-20,8667+20]),line('P12',8752,[8752-20,8752+20]),\n",
    "           line('P11',8865,[8865-20,8865+20]),line('P10',9017,[9017-20,9017+20])}\n",
    "\n",
    "\n",
    "\n",
    "\n",
    "dicofspectra = [];\n",
    "filestoread = ['../listA1V.txt','../listB1Ve.txt',\n",
    "              '../listF2V.txt','../listO.txt','../listG1V.txt',\n",
    "              '../listK0V.txt','../listM0V.txt','../listM2V.txt']\n",
    "\n",
    "filestoread = glob.glob('../list*.txt')\n",
    "\n",
    "limitonlines = 10\n",
    "print('Reading {} files and {} lines per file'.format(len(filestoread),limitonlines))\n",
    "\n",
    "for index,files in enumerate(filestoread):\n",
    "    with open(files,'r') as f:\n",
    "        linereads = f.readlines()\n",
    "        for i in range(min(limitonlines, len(linereads))):\n",
    "            lineread = linereads[i]\n",
    "            #print(lineread)\n",
    "            url = lineread.split(',')[1]\n",
    "            #Strip Return a copy of the string with leading and trailing characters removed. \n",
    "            url = url.strip()\n",
    "            url = url.replace('segue1','sdss')\n",
    "            #print(url)\n",
    "            tempspec = spec2(url)\n",
    "            dicofspectra.append(tempspec)\n",
    "            gc.collect()\n",
    "            #print(index)\n",
    "            \n",
    "            \n",
    "#Plot parameters\n",
    "colors = 100*Category20_18 #+ Viridis8 + Dark2_8 + Paired8 + Set1_4\n",
    "#Plot range\n",
    "xr = (5000,8900)\n",
    "yr = (0,40)\n",
    "\n",
    "\n",
    "#Tool to get wavelength\n",
    "hover2 = HoverTool(\n",
    "        tooltips=[\n",
    "            (\"(x,y)\", \"($x{1}, $y)\"),\n",
    "        ]\n",
    "    )\n",
    "#Add the tool\n",
    "#Start index of color\n",
    "index = 0\n",
    "fit = True\n",
    "plot = False\n",
    "\n",
    "if plot:\n",
    "        #Create the Bokeh Figure\n",
    "    pl =  figure(x_axis_label='Angstrom', y_axis_label='Y',title=\"Click on the desired stellar template to overplot\", x_range=xr, y_range=yr\n",
    "                  ,active_drag='pan', active_scroll='wheel_zoom',\n",
    "                  plot_width=900, plot_height=1000\n",
    "                 )\n",
    "\n",
    "    pl.add_tools(hover2)\n",
    "\n",
    "\n",
    "\n",
    "\n",
    "\n",
    "# Loop over spec object list:\n",
    "\n",
    "for spectra in dicofspectra:\n",
    "\n",
    "    # Plot the \n",
    "    if plot:\n",
    "        t = pl.line(x=spectra.wave,y=spectra.model,color=colors[index], line_alpha=1.0, \n",
    "                line_width=4,legend=spectra.type+str(index),muted_alpha=0.,muted_color=colors[index])\n",
    "\n",
    "    if fit:\n",
    "        try:\n",
    "            spectra.fit_lines(diclines, verbose='No', errorestimate=False)\n",
    "        except:\n",
    "            pass\n",
    "        for i in spectra.linesdicall:\n",
    "            if plot:\n",
    "                pl.line(i['gaussian']['x'],i['gaussian']['y'],color='red', line_alpha=1.,\n",
    "                    line_width=5,legend=tryspec.name,muted_alpha=0.,muted_color=colors[index])\n",
    "\n",
    "    index = index +1\n",
    "\n",
    "if plot:    \n",
    "    pl.legend.location = \"top_left\"\n",
    "    pl.legend.click_policy=\"mute\"\n",
    "\n",
    "    show(pl)  \n",
    "\n",
    "            "
   ]
  },
  {
   "cell_type": "code",
   "execution_count": 7,
   "metadata": {},
   "outputs": [
    {
     "data": {
      "text/plain": [
       "(array(['A', 'B', 'C', 'CV', 'F', 'G', 'K', 'M', 'O', 'OB', 'Other', 'WD'],\n",
       "       dtype='|S5'),\n",
       " array([188, 262,  20,  10, 210, 141, 200, 220,  35,  10, 100,  60]))"
      ]
     },
     "execution_count": 7,
     "metadata": {},
     "output_type": "execute_result"
    }
   ],
   "source": [
    "a=np.unique([ i.typegeneral for i in dicofspectra], return_counts=True)\n",
    "a"
   ]
  },
  {
   "cell_type": "markdown",
   "metadata": {},
   "source": [
    "%%time\n",
    "#Order type of stars and the index that will serve as type to scatter plto\n",
    "typesAstar, indexAstars = np.unique([i.typegeneral for i in dicofspectra],return_inverse=True)\n",
    "#Plot range\n",
    "xr = (0,len(typesAstar))\n",
    "yr = (0,10)\n",
    "\n",
    "\n",
    "\n",
    "\n",
    "#Plot\n",
    "p =  figure(x_axis_label='Type of Star', y_axis_label='Y',title=\"Click on the desired stellar template to overplot\", x_range=xr, y_range=yr\n",
    "              ,active_drag='pan', active_scroll='wheel_zoom',\n",
    "              plot_width=900, plot_height=1000\n",
    "             )\n",
    "\n",
    "\n",
    "halphalines = []\n",
    "for number, spectra in enumerate(dicofspectra):\n",
    "    #IF not lines fitted then try to do it\n",
    "    if not hasattr(spectra,'linesdicall'):\n",
    "        try:\n",
    "            spectra.fit_lines(diclines, verbose='No')\n",
    "        except:\n",
    "            pass\n",
    "    #If it already had the lines them get the information and plot\n",
    "    if hasattr(spectra,'linesdicall'):\n",
    "        lines = spectra.linesdicall\n",
    "        for line in lines:\n",
    "            if line['linename'] == 'P14':\n",
    "                stellartype = indexAstars[number]\n",
    "                #print(spectra.name,line['EW'])\n",
    "                p.circle(stellartype, line['EW'], \n",
    "                         legend = typesAstar[stellartype], color = colors[stellartype], size=10)\n",
    "                    \n",
    "\n",
    "\n",
    "show(p)"
   ]
  },
  {
   "cell_type": "markdown",
   "metadata": {},
   "source": [
    "# Singular Value Decomposition\n",
    "\n",
    "We build a matrix with all the lines and stars. The rows represent the Equivalent width of an specific line. Rows are equivalent width of lines, and columns each stars. "
   ]
  },
  {
   "cell_type": "code",
   "execution_count": 12,
   "metadata": {},
   "outputs": [
    {
     "name": "stdout",
     "output_type": "stream",
     "text": [
      "(0, 'P12')\n",
      "(1, 'P11')\n",
      "(2, 'P10')\n",
      "(3, 'P15')\n",
      "(4, 'P14')\n",
      "(5, 'Halpha')\n",
      "(6, 'P16')\n",
      "(7, 'P13')\n"
     ]
    }
   ],
   "source": [
    "for index,i in enumerate(diclines):\n",
    "    print(index,i.name)"
   ]
  },
  {
   "cell_type": "markdown",
   "metadata": {},
   "source": [
    "We build the matrix. "
   ]
  },
  {
   "cell_type": "code",
   "execution_count": 13,
   "metadata": {},
   "outputs": [],
   "source": [
    "matrix = []\n",
    "#Loop over each line in the diccionart of lines we created. \n",
    "for linesfit in diclines:\n",
    "    listofeq = []\n",
    "    starclass = []\n",
    "    #Loop over all the stars in the diccionary of spectra.\n",
    "    #For each star if we were able to fit a line get the EW\n",
    "    #Of the line\n",
    "    for indexs,stars in enumerate(dicofspectra):\n",
    "        if hasattr(stars,'linesdicall'):\n",
    "            lines = stars.linesdicall\n",
    "            #We find the line and ew of the lne and append\n",
    "            for line in lines:\n",
    "                if line['linename'] == linesfit.name:\n",
    "                    eq = line['EW']\n",
    "                    listofeq.append(eq)\n",
    "                    starclass.append(stars.typegeneral)\n",
    "                    \n",
    "    matrix.append(listofeq)\n",
    "        #    print(stars.typegeneral)"
   ]
  },
  {
   "cell_type": "code",
   "execution_count": 14,
   "metadata": {},
   "outputs": [
    {
     "data": {
      "text/plain": [
       "(8, 1452)"
      ]
     },
     "execution_count": 14,
     "metadata": {},
     "output_type": "execute_result"
    }
   ],
   "source": [
    "mat = np.array(matrix)\n",
    "mat.shape"
   ]
  },
  {
   "cell_type": "markdown",
   "metadata": {},
   "source": [
    "Lets print the first five columns:"
   ]
  },
  {
   "cell_type": "code",
   "execution_count": 17,
   "metadata": {},
   "outputs": [
    {
     "name": "stdout",
     "output_type": "stream",
     "text": [
      "17.03 0.331 9754.0 7224.0 3.479\n",
      "0.936 0.5198 1.045 1.024 1.15\n",
      "1.826 1.131 1.888 1.825 1.89\n",
      "0.867 0.7209 0.9137 0.9179 0.7509\n",
      "0.1015 10420.0 0.1073 0.3124 2430.0\n",
      "-2.105 -1.413 -2.221 -2.418 -1.137\n",
      "-0.4023 -0.2569 0.2294 0.2879 2.525\n",
      "0.692 0.5782 0.7486 0.748 0.6703\n"
     ]
    }
   ],
   "source": [
    "for row in mat:\n",
    "    print(' '.join([str(elem) for elem in row[0:5]]))"
   ]
  },
  {
   "cell_type": "markdown",
   "metadata": {},
   "source": [
    "We recognize that the fifth columns is the Halpha. We check this by printing the Halpha EW for the first five stars in the diccionary of spectra."
   ]
  },
  {
   "cell_type": "code",
   "execution_count": 18,
   "metadata": {},
   "outputs": [
    {
     "name": "stdout",
     "output_type": "stream",
     "text": [
      "-2.105\n",
      "-1.413\n",
      "-2.221\n",
      "-2.418\n",
      "-1.137\n"
     ]
    }
   ],
   "source": [
    "for stars in dicofspectra[0:5]:\n",
    "    if hasattr(stars,'linesdicall'):\n",
    "        lines = stars.linesdicall\n",
    "        #We find the line and ew of the lne and append\n",
    "        for line in lines:\n",
    "            if line['linename'] == 'Halpha':\n",
    "                  print(line['EW'])"
   ]
  },
  {
   "cell_type": "markdown",
   "metadata": {},
   "source": [
    "Since we get the expected values we can now we can proceed to do the Singular Value Decomposition of the matrix we just constructed. "
   ]
  },
  {
   "cell_type": "code",
   "execution_count": 19,
   "metadata": {},
   "outputs": [
    {
     "data": {
      "text/plain": [
       "array([ 887110.24336337,  246307.53069961,  199295.00741022,\n",
       "        131160.74439699,  122865.40933372,  112540.64757108,\n",
       "         97267.46532741,   64259.10148977])"
      ]
     },
     "execution_count": 19,
     "metadata": {},
     "output_type": "execute_result"
    }
   ],
   "source": [
    "U, D, V = np.linalg.svd(mat, full_matrices=False)\n",
    "D"
   ]
  },
  {
   "cell_type": "code",
   "execution_count": 20,
   "metadata": {},
   "outputs": [
    {
     "data": {
      "text/plain": [
       "array([[ -1.91981424e-05,  -1.54256135e-05,  -1.09952282e-02, ...,\n",
       "         -8.75442091e-08,  -4.65066621e-05,  -3.86848036e-07],\n",
       "       [  8.33938997e-06,  -3.20967445e-03,   4.84933984e-05, ...,\n",
       "         -2.94369314e-06,  -9.85483270e-03,  -1.00690067e-05],\n",
       "       [ -2.26713240e-06,  -5.14245448e-02,   6.12952035e-05, ...,\n",
       "         -3.09523753e-07,  -1.57328761e-01,  -1.71054902e-06],\n",
       "       ..., \n",
       "       [ -8.34087924e-06,   2.98427428e-03,  -5.14905613e-06, ...,\n",
       "         -1.50451041e-06,   8.38982253e-03,  -6.51125765e-06],\n",
       "       [  5.92056734e-06,  -1.18160435e-03,   5.68446269e-06, ...,\n",
       "         -5.84515804e-07,  -2.53625255e-02,  -2.54484597e-06],\n",
       "       [ -2.78738591e-05,   1.25264388e-04,   1.32394051e-04, ...,\n",
       "         -6.13664970e-06,   2.28864334e-04,  -2.79003293e-05]])"
      ]
     },
     "execution_count": 20,
     "metadata": {},
     "output_type": "execute_result"
    }
   ],
   "source": [
    "V"
   ]
  },
  {
   "cell_type": "markdown",
   "metadata": {},
   "source": [
    "Let's check we can reconstructed the original matrix m. We can use the function allclose that:\n",
    "\"Returns True if two arrays are element-wise equal within a tolerance.\""
   ]
  },
  {
   "cell_type": "code",
   "execution_count": 21,
   "metadata": {},
   "outputs": [
    {
     "data": {
      "text/plain": [
       "True"
      ]
     },
     "execution_count": 21,
     "metadata": {},
     "output_type": "execute_result"
    }
   ],
   "source": [
    "np.allclose(mat, np.dot(U * D, V))"
   ]
  },
  {
   "cell_type": "code",
   "execution_count": 22,
   "metadata": {},
   "outputs": [],
   "source": [
    "coldic ={}\n",
    "for index,typestar in enumerate(np.unique([i.typegeneral for i in dicofspectra])):\n",
    "    coldic[str(typestar)] = colors[index]\n",
    "coldic\n",
    "label = starclass\n",
    "colorsvd = [ coldic[i] for i in starclass ]"
   ]
  },
  {
   "cell_type": "code",
   "execution_count": 23,
   "metadata": {},
   "outputs": [],
   "source": [
    "dd = {}\n",
    "dd['x'] = V[0]\n",
    "dd['y'] = V[1]\n",
    "dd['labels'] = label\n",
    "dd['colors'] = colorsvd\n",
    "source = ColumnDataSource(dd)"
   ]
  },
  {
   "cell_type": "code",
   "execution_count": 24,
   "metadata": {},
   "outputs": [
    {
     "data": {
      "text/html": [
       "\n",
       "<div class=\"bk-root\">\n",
       "    <div class=\"bk-plotdiv\" id=\"5f16a31d-3984-4d43-8742-bc51536a00db\"></div>\n",
       "</div>"
      ]
     },
     "metadata": {},
     "output_type": "display_data"
    },
    {
     "data": {
      "application/javascript": [
       "(function(root) {\n",
       "  function embed_document(root) {\n",
       "    \n",
       "  var docs_json = {\"e4459f78-192a-4327-9084-60510e5874bc\":{\"roots\":{\"references\":[{\"attributes\":{\"dimension\":1,\"plot\":{\"id\":\"2cd8a13f-2761-4153-a533-82b9fe32f6bf\",\"subtype\":\"Figure\",\"type\":\"Plot\"},\"ticker\":{\"id\":\"b7f7186e-6348-4944-8b1f-b89707794a37\",\"type\":\"BasicTicker\"}},\"id\":\"1bc6b456-c0ff-4e62-a75a-33692f7ec78c\",\"type\":\"Grid\"},{\"attributes\":{\"callback\":null},\"id\":\"95d75b65-e25a-4873-a90c-eed81c411749\",\"type\":\"DataRange1d\"},{\"attributes\":{\"label\":{\"field\":\"labels\"},\"renderers\":[{\"id\":\"0ad9cc56-71ce-4615-b65c-fbf537730936\",\"type\":\"GlyphRenderer\"}]},\"id\":\"b5107b86-f4bd-4073-9e7c-b3640edc08cb\",\"type\":\"LegendItem\"},{\"attributes\":{\"below\":[{\"id\":\"4b16a909-f757-47bb-af97-e5714e139866\",\"type\":\"LinearAxis\"}],\"left\":[{\"id\":\"2fa67746-9b59-40f8-b683-62eb060d9832\",\"type\":\"LinearAxis\"}],\"renderers\":[{\"id\":\"4b16a909-f757-47bb-af97-e5714e139866\",\"type\":\"LinearAxis\"},{\"id\":\"fb747b91-d3b3-4f72-9a1f-51c94242408f\",\"type\":\"Grid\"},{\"id\":\"2fa67746-9b59-40f8-b683-62eb060d9832\",\"type\":\"LinearAxis\"},{\"id\":\"1bc6b456-c0ff-4e62-a75a-33692f7ec78c\",\"type\":\"Grid\"},{\"id\":\"1d5b2775-eff3-4f80-8d6e-22d99ec6b904\",\"type\":\"BoxAnnotation\"},{\"id\":\"7d3366ca-947f-4941-a933-5598b59a106f\",\"type\":\"Legend\"},{\"id\":\"0ad9cc56-71ce-4615-b65c-fbf537730936\",\"type\":\"GlyphRenderer\"}],\"title\":{\"id\":\"dd7671c9-0c2d-4309-9059-3f25590a14fd\",\"type\":\"Title\"},\"toolbar\":{\"id\":\"b7b28aa4-65d1-4dfe-8793-23914feeb054\",\"type\":\"Toolbar\"},\"x_range\":{\"id\":\"91b5efc7-9871-4880-b48b-6fc874b90c89\",\"type\":\"DataRange1d\"},\"x_scale\":{\"id\":\"1a69f1c9-bd7f-485b-a56a-530fd8ecf08f\",\"type\":\"LinearScale\"},\"y_range\":{\"id\":\"95d75b65-e25a-4873-a90c-eed81c411749\",\"type\":\"DataRange1d\"},\"y_scale\":{\"id\":\"c1bcc569-5a71-46b7-bdf3-21bd41c3a59b\",\"type\":\"LinearScale\"}},\"id\":\"2cd8a13f-2761-4153-a533-82b9fe32f6bf\",\"subtype\":\"Figure\",\"type\":\"Plot\"},{\"attributes\":{},\"id\":\"c2eed2de-3eca-439f-9952-91e392584e4d\",\"type\":\"BasicTickFormatter\"},{\"attributes\":{\"active_drag\":\"auto\",\"active_inspect\":\"auto\",\"active_scroll\":\"auto\",\"active_tap\":\"auto\",\"tools\":[{\"id\":\"f340b861-be94-43d0-93d1-8f9df7448ebf\",\"type\":\"PanTool\"},{\"id\":\"4b24bf8c-e16e-4c1d-b662-21c020bc4c1d\",\"type\":\"WheelZoomTool\"},{\"id\":\"2fa2a310-44d7-47bc-9e25-cd21bf461006\",\"type\":\"BoxZoomTool\"},{\"id\":\"f1243bc2-31ea-4c6a-b4c9-ff6e30b2739c\",\"type\":\"SaveTool\"},{\"id\":\"f8bad803-c5a2-41e0-9e9c-ca7c86650e57\",\"type\":\"ResetTool\"},{\"id\":\"a51db172-fbf6-41a9-92c9-041c94ebeeed\",\"type\":\"HelpTool\"}]},\"id\":\"b7b28aa4-65d1-4dfe-8793-23914feeb054\",\"type\":\"Toolbar\"},{\"attributes\":{\"formatter\":{\"id\":\"c2eed2de-3eca-439f-9952-91e392584e4d\",\"type\":\"BasicTickFormatter\"},\"plot\":{\"id\":\"2cd8a13f-2761-4153-a533-82b9fe32f6bf\",\"subtype\":\"Figure\",\"type\":\"Plot\"},\"ticker\":{\"id\":\"b7f7186e-6348-4944-8b1f-b89707794a37\",\"type\":\"BasicTicker\"}},\"id\":\"2fa67746-9b59-40f8-b683-62eb060d9832\",\"type\":\"LinearAxis\"},{\"attributes\":{},\"id\":\"4f22a80f-4f74-4a8e-bc5c-27327beac710\",\"type\":\"BasicTickFormatter\"},{\"attributes\":{\"fill_color\":{\"field\":\"colors\"},\"line_color\":{\"field\":\"colors\"},\"size\":{\"units\":\"screen\",\"value\":5},\"x\":{\"field\":\"x\"},\"y\":{\"field\":\"y\"}},\"id\":\"8e2d59a0-9a82-4e62-bb0d-a1f5a0dc4a18\",\"type\":\"Circle\"},{\"attributes\":{},\"id\":\"f1243bc2-31ea-4c6a-b4c9-ff6e30b2739c\",\"type\":\"SaveTool\"},{\"attributes\":{\"overlay\":{\"id\":\"1d5b2775-eff3-4f80-8d6e-22d99ec6b904\",\"type\":\"BoxAnnotation\"}},\"id\":\"2fa2a310-44d7-47bc-9e25-cd21bf461006\",\"type\":\"BoxZoomTool\"},{\"attributes\":{\"callback\":null,\"column_names\":[\"y\",\"x\",\"colors\",\"labels\"],\"data\":{\"colors\":[\"#ff9896\",\"#ff9896\",\"#ff9896\",\"#ff9896\",\"#ff9896\",\"#ff9896\",\"#ff9896\",\"#ff9896\",\"#ff9896\",\"#ff9896\",\"#ff9896\",\"#ff9896\",\"#ff9896\",\"#ff9896\",\"#ff9896\",\"#ff9896\",\"#ff9896\",\"#ff9896\",\"#ff9896\",\"#98df8a\",\"#98df8a\",\"#98df8a\",\"#98df8a\",\"#98df8a\",\"#98df8a\",\"#98df8a\",\"#98df8a\",\"#98df8a\",\"#98df8a\",\"#98df8a\",\"#98df8a\",\"#98df8a\",\"#98df8a\",\"#98df8a\",\"#98df8a\",\"#98df8a\",\"#98df8a\",\"#98df8a\",\"#98df8a\",\"#98df8a\",\"#98df8a\",\"#98df8a\",\"#98df8a\",\"#98df8a\",\"#98df8a\",\"#98df8a\",\"#98df8a\",\"#98df8a\",\"#98df8a\",\"#98df8a\",\"#98df8a\",\"#98df8a\",\"#98df8a\",\"#98df8a\",\"#98df8a\",\"#98df8a\",\"#98df8a\",\"#98df8a\",\"#98df8a\",\"#98df8a\",\"#ff9896\",\"#ff9896\",\"#ff9896\",\"#ff9896\",\"#ff9896\",\"#ff9896\",\"#ff9896\",\"#ff9896\",\"#ff9896\",\"#ff9896\",\"#98df8a\",\"#98df8a\",\"#98df8a\",\"#98df8a\",\"#98df8a\",\"#98df8a\",\"#98df8a\",\"#98df8a\",\"#98df8a\",\"#98df8a\",\"#98df8a\",\"#98df8a\",\"#98df8a\",\"#98df8a\",\"#98df8a\",\"#98df8a\",\"#98df8a\",\"#98df8a\",\"#98df8a\",\"#98df8a\",\"#98df8a\",\"#98df8a\",\"#98df8a\",\"#98df8a\",\"#98df8a\",\"#98df8a\",\"#98df8a\",\"#98df8a\",\"#98df8a\",\"#98df8a\",\"#98df8a\",\"#98df8a\",\"#98df8a\",\"#98df8a\",\"#98df8a\",\"#98df8a\",\"#98df8a\",\"#98df8a\",\"#98df8a\",\"#98df8a\",\"#ff9896\",\"#ff9896\",\"#ff9896\",\"#ff9896\",\"#ff9896\",\"#ff9896\",\"#ff9896\",\"#ff9896\",\"#ff9896\",\"#ff9896\",\"#ff9896\",\"#ff9896\",\"#ff9896\",\"#ff9896\",\"#ff9896\",\"#ff9896\",\"#ff9896\",\"#ff9896\",\"#ff9896\",\"#ff9896\",\"#1f77b4\",\"#1f77b4\",\"#1f77b4\",\"#1f77b4\",\"#1f77b4\",\"#1f77b4\",\"#1f77b4\",\"#1f77b4\",\"#1f77b4\",\"#1f77b4\",\"#1f77b4\",\"#1f77b4\",\"#1f77b4\",\"#1f77b4\",\"#1f77b4\",\"#1f77b4\",\"#1f77b4\",\"#1f77b4\",\"#1f77b4\",\"#1f77b4\",\"#1f77b4\",\"#1f77b4\",\"#1f77b4\",\"#1f77b4\",\"#1f77b4\",\"#1f77b4\",\"#1f77b4\",\"#1f77b4\",\"#1f77b4\",\"#1f77b4\",\"#1f77b4\",\"#1f77b4\",\"#1f77b4\",\"#1f77b4\",\"#1f77b4\",\"#1f77b4\",\"#1f77b4\",\"#1f77b4\",\"#1f77b4\",\"#1f77b4\",\"#1f77b4\",\"#1f77b4\",\"#1f77b4\",\"#1f77b4\",\"#1f77b4\",\"#1f77b4\",\"#1f77b4\",\"#1f77b4\",\"#1f77b4\",\"#1f77b4\",\"#1f77b4\",\"#1f77b4\",\"#1f77b4\",\"#1f77b4\",\"#1f77b4\",\"#1f77b4\",\"#1f77b4\",\"#1f77b4\",\"#1f77b4\",\"#1f77b4\",\"#1f77b4\",\"#1f77b4\",\"#1f77b4\",\"#1f77b4\",\"#1f77b4\",\"#1f77b4\",\"#1f77b4\",\"#1f77b4\",\"#1f77b4\",\"#1f77b4\",\"#1f77b4\",\"#1f77b4\",\"#1f77b4\",\"#1f77b4\",\"#1f77b4\",\"#1f77b4\",\"#1f77b4\",\"#1f77b4\",\"#1f77b4\",\"#1f77b4\",\"#1f77b4\",\"#1f77b4\",\"#1f77b4\",\"#1f77b4\",\"#1f77b4\",\"#1f77b4\",\"#1f77b4\",\"#1f77b4\",\"#1f77b4\",\"#1f77b4\",\"#1f77b4\",\"#1f77b4\",\"#1f77b4\",\"#1f77b4\",\"#1f77b4\",\"#1f77b4\",\"#1f77b4\",\"#1f77b4\",\"#1f77b4\",\"#1f77b4\",\"#1f77b4\",\"#1f77b4\",\"#1f77b4\",\"#1f77b4\",\"#1f77b4\",\"#1f77b4\",\"#1f77b4\",\"#1f77b4\",\"#1f77b4\",\"#1f77b4\",\"#1f77b4\",\"#1f77b4\",\"#1f77b4\",\"#1f77b4\",\"#1f77b4\",\"#1f77b4\",\"#1f77b4\",\"#1f77b4\",\"#1f77b4\",\"#1f77b4\",\"#1f77b4\",\"#1f77b4\",\"#1f77b4\",\"#1f77b4\",\"#1f77b4\",\"#1f77b4\",\"#1f77b4\",\"#1f77b4\",\"#1f77b4\",\"#1f77b4\",\"#1f77b4\",\"#1f77b4\",\"#1f77b4\",\"#1f77b4\",\"#1f77b4\",\"#1f77b4\",\"#1f77b4\",\"#1f77b4\",\"#1f77b4\",\"#1f77b4\",\"#1f77b4\",\"#1f77b4\",\"#1f77b4\",\"#1f77b4\",\"#1f77b4\",\"#1f77b4\",\"#1f77b4\",\"#1f77b4\",\"#1f77b4\",\"#1f77b4\",\"#1f77b4\",\"#1f77b4\",\"#1f77b4\",\"#1f77b4\",\"#1f77b4\",\"#1f77b4\",\"#1f77b4\",\"#1f77b4\",\"#1f77b4\",\"#1f77b4\",\"#1f77b4\",\"#1f77b4\",\"#1f77b4\",\"#1f77b4\",\"#1f77b4\",\"#1f77b4\",\"#1f77b4\",\"#1f77b4\",\"#1f77b4\",\"#1f77b4\",\"#1f77b4\",\"#1f77b4\",\"#1f77b4\",\"#1f77b4\",\"#1f77b4\",\"#1f77b4\",\"#1f77b4\",\"#1f77b4\",\"#1f77b4\",\"#1f77b4\",\"#1f77b4\",\"#1f77b4\",\"#1f77b4\",\"#1f77b4\",\"#1f77b4\",\"#1f77b4\",\"#1f77b4\",\"#1f77b4\",\"#aec7e8\",\"#aec7e8\",\"#aec7e8\",\"#aec7e8\",\"#aec7e8\",\"#aec7e8\",\"#aec7e8\",\"#aec7e8\",\"#aec7e8\",\"#aec7e8\",\"#aec7e8\",\"#aec7e8\",\"#aec7e8\",\"#aec7e8\",\"#aec7e8\",\"#aec7e8\",\"#aec7e8\",\"#aec7e8\",\"#aec7e8\",\"#aec7e8\",\"#aec7e8\",\"#aec7e8\",\"#aec7e8\",\"#aec7e8\",\"#aec7e8\",\"#aec7e8\",\"#aec7e8\",\"#aec7e8\",\"#aec7e8\",\"#aec7e8\",\"#aec7e8\",\"#aec7e8\",\"#aec7e8\",\"#aec7e8\",\"#aec7e8\",\"#aec7e8\",\"#aec7e8\",\"#aec7e8\",\"#aec7e8\",\"#aec7e8\",\"#aec7e8\",\"#aec7e8\",\"#aec7e8\",\"#aec7e8\",\"#aec7e8\",\"#aec7e8\",\"#aec7e8\",\"#aec7e8\",\"#aec7e8\",\"#aec7e8\",\"#ff9896\",\"#ff9896\",\"#ff9896\",\"#ff9896\",\"#ff9896\",\"#ff9896\",\"#ff9896\",\"#ff9896\",\"#ff9896\",\"#ff9896\",\"#ff9896\",\"#ff9896\",\"#ff9896\",\"#ff9896\",\"#ff9896\",\"#ff9896\",\"#ff9896\",\"#ff9896\",\"#ff9896\",\"#ff9896\",\"#aec7e8\",\"#aec7e8\",\"#aec7e8\",\"#aec7e8\",\"#aec7e8\",\"#aec7e8\",\"#aec7e8\",\"#aec7e8\",\"#aec7e8\",\"#aec7e8\",\"#aec7e8\",\"#aec7e8\",\"#aec7e8\",\"#aec7e8\",\"#aec7e8\",\"#aec7e8\",\"#aec7e8\",\"#aec7e8\",\"#aec7e8\",\"#aec7e8\",\"#aec7e8\",\"#aec7e8\",\"#aec7e8\",\"#aec7e8\",\"#aec7e8\",\"#aec7e8\",\"#aec7e8\",\"#aec7e8\",\"#aec7e8\",\"#aec7e8\",\"#aec7e8\",\"#aec7e8\",\"#aec7e8\",\"#aec7e8\",\"#aec7e8\",\"#aec7e8\",\"#aec7e8\",\"#98df8a\",\"#98df8a\",\"#98df8a\",\"#98df8a\",\"#98df8a\",\"#98df8a\",\"#98df8a\",\"#98df8a\",\"#98df8a\",\"#98df8a\",\"#ff9896\",\"#ff9896\",\"#ff9896\",\"#ff9896\",\"#ff9896\",\"#ff9896\",\"#ff9896\",\"#ff9896\",\"#ff9896\",\"#ff9896\",\"#aec7e8\",\"#aec7e8\",\"#aec7e8\",\"#aec7e8\",\"#aec7e8\",\"#aec7e8\",\"#aec7e8\",\"#aec7e8\",\"#aec7e8\",\"#aec7e8\",\"#aec7e8\",\"#aec7e8\",\"#aec7e8\",\"#aec7e8\",\"#aec7e8\",\"#aec7e8\",\"#aec7e8\",\"#aec7e8\",\"#aec7e8\",\"#aec7e8\",\"#aec7e8\",\"#aec7e8\",\"#aec7e8\",\"#aec7e8\",\"#aec7e8\",\"#aec7e8\",\"#aec7e8\",\"#aec7e8\",\"#aec7e8\",\"#aec7e8\",\"#aec7e8\",\"#aec7e8\",\"#aec7e8\",\"#aec7e8\",\"#aec7e8\",\"#aec7e8\",\"#aec7e8\",\"#aec7e8\",\"#aec7e8\",\"#aec7e8\",\"#aec7e8\",\"#aec7e8\",\"#aec7e8\",\"#aec7e8\",\"#aec7e8\",\"#aec7e8\",\"#aec7e8\",\"#aec7e8\",\"#aec7e8\",\"#aec7e8\",\"#aec7e8\",\"#aec7e8\",\"#aec7e8\",\"#aec7e8\",\"#aec7e8\",\"#aec7e8\",\"#aec7e8\",\"#aec7e8\",\"#aec7e8\",\"#aec7e8\",\"#aec7e8\",\"#aec7e8\",\"#aec7e8\",\"#aec7e8\",\"#aec7e8\",\"#aec7e8\",\"#aec7e8\",\"#aec7e8\",\"#aec7e8\",\"#aec7e8\",\"#aec7e8\",\"#aec7e8\",\"#aec7e8\",\"#aec7e8\",\"#aec7e8\",\"#aec7e8\",\"#aec7e8\",\"#aec7e8\",\"#aec7e8\",\"#aec7e8\",\"#aec7e8\",\"#aec7e8\",\"#aec7e8\",\"#aec7e8\",\"#aec7e8\",\"#aec7e8\",\"#aec7e8\",\"#aec7e8\",\"#aec7e8\",\"#aec7e8\",\"#aec7e8\",\"#aec7e8\",\"#aec7e8\",\"#aec7e8\",\"#aec7e8\",\"#aec7e8\",\"#aec7e8\",\"#aec7e8\",\"#aec7e8\",\"#aec7e8\",\"#aec7e8\",\"#aec7e8\",\"#aec7e8\",\"#aec7e8\",\"#aec7e8\",\"#aec7e8\",\"#aec7e8\",\"#aec7e8\",\"#aec7e8\",\"#aec7e8\",\"#aec7e8\",\"#aec7e8\",\"#aec7e8\",\"#aec7e8\",\"#aec7e8\",\"#aec7e8\",\"#aec7e8\",\"#aec7e8\",\"#aec7e8\",\"#aec7e8\",\"#aec7e8\",\"#aec7e8\",\"#aec7e8\",\"#aec7e8\",\"#aec7e8\",\"#aec7e8\",\"#aec7e8\",\"#aec7e8\",\"#aec7e8\",\"#aec7e8\",\"#aec7e8\",\"#aec7e8\",\"#aec7e8\",\"#aec7e8\",\"#aec7e8\",\"#aec7e8\",\"#aec7e8\",\"#aec7e8\",\"#aec7e8\",\"#aec7e8\",\"#aec7e8\",\"#aec7e8\",\"#aec7e8\",\"#aec7e8\",\"#aec7e8\",\"#aec7e8\",\"#aec7e8\",\"#aec7e8\",\"#aec7e8\",\"#aec7e8\",\"#aec7e8\",\"#aec7e8\",\"#aec7e8\",\"#aec7e8\",\"#aec7e8\",\"#aec7e8\",\"#aec7e8\",\"#aec7e8\",\"#aec7e8\",\"#aec7e8\",\"#aec7e8\",\"#aec7e8\",\"#aec7e8\",\"#aec7e8\",\"#aec7e8\",\"#aec7e8\",\"#aec7e8\",\"#aec7e8\",\"#aec7e8\",\"#aec7e8\",\"#aec7e8\",\"#aec7e8\",\"#aec7e8\",\"#aec7e8\",\"#aec7e8\",\"#ffbb78\",\"#ffbb78\",\"#ffbb78\",\"#ffbb78\",\"#ffbb78\",\"#ffbb78\",\"#ffbb78\",\"#ffbb78\",\"#ffbb78\",\"#ffbb78\",\"#c49c94\",\"#c49c94\",\"#c49c94\",\"#c49c94\",\"#c49c94\",\"#c49c94\",\"#c49c94\",\"#c49c94\",\"#c49c94\",\"#c49c94\",\"#ff7f0e\",\"#ff7f0e\",\"#ff7f0e\",\"#ff7f0e\",\"#ff7f0e\",\"#ff7f0e\",\"#ff7f0e\",\"#ff7f0e\",\"#ff7f0e\",\"#ff7f0e\",\"#c49c94\",\"#c49c94\",\"#c49c94\",\"#c49c94\",\"#c49c94\",\"#c49c94\",\"#c49c94\",\"#c49c94\",\"#c49c94\",\"#c49c94\",\"#ff7f0e\",\"#ff7f0e\",\"#ff7f0e\",\"#ff7f0e\",\"#ff7f0e\",\"#ff7f0e\",\"#ff7f0e\",\"#ff7f0e\",\"#ff7f0e\",\"#ff7f0e\",\"#2ca02c\",\"#2ca02c\",\"#2ca02c\",\"#2ca02c\",\"#2ca02c\",\"#2ca02c\",\"#2ca02c\",\"#2ca02c\",\"#2ca02c\",\"#2ca02c\",\"#2ca02c\",\"#2ca02c\",\"#2ca02c\",\"#2ca02c\",\"#2ca02c\",\"#2ca02c\",\"#2ca02c\",\"#2ca02c\",\"#2ca02c\",\"#2ca02c\",\"#2ca02c\",\"#2ca02c\",\"#2ca02c\",\"#2ca02c\",\"#2ca02c\",\"#2ca02c\",\"#2ca02c\",\"#2ca02c\",\"#2ca02c\",\"#2ca02c\",\"#2ca02c\",\"#2ca02c\",\"#2ca02c\",\"#2ca02c\",\"#2ca02c\",\"#2ca02c\",\"#2ca02c\",\"#2ca02c\",\"#2ca02c\",\"#2ca02c\",\"#2ca02c\",\"#2ca02c\",\"#2ca02c\",\"#2ca02c\",\"#2ca02c\",\"#2ca02c\",\"#2ca02c\",\"#2ca02c\",\"#2ca02c\",\"#2ca02c\",\"#2ca02c\",\"#2ca02c\",\"#2ca02c\",\"#2ca02c\",\"#2ca02c\",\"#2ca02c\",\"#2ca02c\",\"#2ca02c\",\"#2ca02c\",\"#2ca02c\",\"#2ca02c\",\"#2ca02c\",\"#2ca02c\",\"#2ca02c\",\"#2ca02c\",\"#2ca02c\",\"#2ca02c\",\"#2ca02c\",\"#2ca02c\",\"#2ca02c\",\"#2ca02c\",\"#2ca02c\",\"#2ca02c\",\"#2ca02c\",\"#2ca02c\",\"#2ca02c\",\"#2ca02c\",\"#2ca02c\",\"#2ca02c\",\"#2ca02c\",\"#2ca02c\",\"#2ca02c\",\"#2ca02c\",\"#2ca02c\",\"#2ca02c\",\"#2ca02c\",\"#2ca02c\",\"#2ca02c\",\"#2ca02c\",\"#2ca02c\",\"#2ca02c\",\"#2ca02c\",\"#2ca02c\",\"#2ca02c\",\"#2ca02c\",\"#2ca02c\",\"#2ca02c\",\"#2ca02c\",\"#2ca02c\",\"#2ca02c\",\"#2ca02c\",\"#2ca02c\",\"#2ca02c\",\"#2ca02c\",\"#2ca02c\",\"#2ca02c\",\"#2ca02c\",\"#2ca02c\",\"#2ca02c\",\"#2ca02c\",\"#2ca02c\",\"#2ca02c\",\"#2ca02c\",\"#2ca02c\",\"#2ca02c\",\"#2ca02c\",\"#2ca02c\",\"#2ca02c\",\"#2ca02c\",\"#2ca02c\",\"#2ca02c\",\"#2ca02c\",\"#2ca02c\",\"#2ca02c\",\"#2ca02c\",\"#2ca02c\",\"#2ca02c\",\"#2ca02c\",\"#2ca02c\",\"#2ca02c\",\"#2ca02c\",\"#2ca02c\",\"#2ca02c\",\"#2ca02c\",\"#2ca02c\",\"#2ca02c\",\"#2ca02c\",\"#2ca02c\",\"#2ca02c\",\"#2ca02c\",\"#2ca02c\",\"#2ca02c\",\"#2ca02c\",\"#2ca02c\",\"#2ca02c\",\"#2ca02c\",\"#2ca02c\",\"#2ca02c\",\"#2ca02c\",\"#2ca02c\",\"#2ca02c\",\"#2ca02c\",\"#2ca02c\",\"#2ca02c\",\"#2ca02c\",\"#2ca02c\",\"#2ca02c\",\"#2ca02c\",\"#2ca02c\",\"#2ca02c\",\"#2ca02c\",\"#2ca02c\",\"#2ca02c\",\"#2ca02c\",\"#2ca02c\",\"#2ca02c\",\"#2ca02c\",\"#2ca02c\",\"#2ca02c\",\"#2ca02c\",\"#2ca02c\",\"#2ca02c\",\"#2ca02c\",\"#2ca02c\",\"#2ca02c\",\"#2ca02c\",\"#2ca02c\",\"#2ca02c\",\"#2ca02c\",\"#2ca02c\",\"#2ca02c\",\"#2ca02c\",\"#2ca02c\",\"#2ca02c\",\"#2ca02c\",\"#2ca02c\",\"#2ca02c\",\"#2ca02c\",\"#2ca02c\",\"#2ca02c\",\"#98df8a\",\"#98df8a\",\"#98df8a\",\"#98df8a\",\"#98df8a\",\"#98df8a\",\"#98df8a\",\"#98df8a\",\"#98df8a\",\"#98df8a\",\"#98df8a\",\"#98df8a\",\"#98df8a\",\"#98df8a\",\"#98df8a\",\"#98df8a\",\"#98df8a\",\"#98df8a\",\"#98df8a\",\"#98df8a\",\"#98df8a\",\"#98df8a\",\"#98df8a\",\"#98df8a\",\"#98df8a\",\"#98df8a\",\"#98df8a\",\"#98df8a\",\"#98df8a\",\"#98df8a\",\"#98df8a\",\"#98df8a\",\"#98df8a\",\"#98df8a\",\"#98df8a\",\"#98df8a\",\"#98df8a\",\"#98df8a\",\"#98df8a\",\"#98df8a\",\"#98df8a\",\"#98df8a\",\"#98df8a\",\"#98df8a\",\"#98df8a\",\"#98df8a\",\"#98df8a\",\"#98df8a\",\"#98df8a\",\"#98df8a\",\"#d62728\",\"#d62728\",\"#d62728\",\"#d62728\",\"#d62728\",\"#d62728\",\"#d62728\",\"#d62728\",\"#d62728\",\"#d62728\",\"#d62728\",\"#d62728\",\"#d62728\",\"#d62728\",\"#d62728\",\"#d62728\",\"#d62728\",\"#d62728\",\"#d62728\",\"#d62728\",\"#d62728\",\"#d62728\",\"#d62728\",\"#d62728\",\"#d62728\",\"#d62728\",\"#d62728\",\"#d62728\",\"#d62728\",\"#d62728\",\"#d62728\",\"#d62728\",\"#d62728\",\"#d62728\",\"#d62728\",\"#d62728\",\"#d62728\",\"#d62728\",\"#d62728\",\"#d62728\",\"#d62728\",\"#d62728\",\"#d62728\",\"#d62728\",\"#d62728\",\"#d62728\",\"#d62728\",\"#d62728\",\"#d62728\",\"#d62728\",\"#d62728\",\"#d62728\",\"#d62728\",\"#d62728\",\"#d62728\",\"#d62728\",\"#d62728\",\"#d62728\",\"#d62728\",\"#d62728\",\"#d62728\",\"#d62728\",\"#d62728\",\"#d62728\",\"#d62728\",\"#d62728\",\"#d62728\",\"#d62728\",\"#d62728\",\"#d62728\",\"#d62728\",\"#d62728\",\"#d62728\",\"#d62728\",\"#d62728\",\"#d62728\",\"#d62728\",\"#d62728\",\"#d62728\",\"#d62728\",\"#d62728\",\"#d62728\",\"#d62728\",\"#d62728\",\"#d62728\",\"#d62728\",\"#d62728\",\"#d62728\",\"#d62728\",\"#d62728\",\"#d62728\",\"#d62728\",\"#d62728\",\"#d62728\",\"#d62728\",\"#d62728\",\"#d62728\",\"#d62728\",\"#d62728\",\"#d62728\",\"#d62728\",\"#d62728\",\"#d62728\",\"#d62728\",\"#d62728\",\"#d62728\",\"#d62728\",\"#d62728\",\"#d62728\",\"#d62728\",\"#d62728\",\"#d62728\",\"#d62728\",\"#d62728\",\"#d62728\",\"#d62728\",\"#d62728\",\"#d62728\",\"#d62728\",\"#d62728\",\"#d62728\",\"#d62728\",\"#d62728\",\"#d62728\",\"#d62728\",\"#d62728\",\"#d62728\",\"#d62728\",\"#d62728\",\"#d62728\",\"#d62728\",\"#d62728\",\"#d62728\",\"#d62728\",\"#d62728\",\"#d62728\",\"#d62728\",\"#d62728\",\"#d62728\",\"#d62728\",\"#d62728\",\"#d62728\",\"#d62728\",\"#d62728\",\"#d62728\",\"#d62728\",\"#d62728\",\"#d62728\",\"#d62728\",\"#d62728\",\"#d62728\",\"#d62728\",\"#d62728\",\"#d62728\",\"#d62728\",\"#d62728\",\"#d62728\",\"#d62728\",\"#d62728\",\"#d62728\",\"#d62728\",\"#d62728\",\"#d62728\",\"#d62728\",\"#d62728\",\"#d62728\",\"#d62728\",\"#d62728\",\"#d62728\",\"#d62728\",\"#d62728\",\"#d62728\",\"#d62728\",\"#d62728\",\"#d62728\",\"#d62728\",\"#d62728\",\"#d62728\",\"#d62728\",\"#d62728\",\"#d62728\",\"#d62728\",\"#d62728\",\"#d62728\",\"#d62728\",\"#d62728\",\"#d62728\",\"#d62728\",\"#d62728\",\"#d62728\",\"#d62728\",\"#d62728\",\"#d62728\",\"#d62728\",\"#d62728\",\"#d62728\",\"#d62728\",\"#d62728\",\"#d62728\",\"#d62728\",\"#8c564b\",\"#8c564b\",\"#8c564b\",\"#8c564b\",\"#8c564b\",\"#8c564b\",\"#8c564b\",\"#8c564b\",\"#8c564b\",\"#8c564b\",\"#8c564b\",\"#8c564b\",\"#8c564b\",\"#8c564b\",\"#8c564b\",\"#8c564b\",\"#8c564b\",\"#8c564b\",\"#8c564b\",\"#8c564b\",\"#8c564b\",\"#8c564b\",\"#8c564b\",\"#8c564b\",\"#8c564b\",\"#8c564b\",\"#8c564b\",\"#8c564b\",\"#8c564b\",\"#8c564b\",\"#8c564b\",\"#8c564b\",\"#8c564b\",\"#8c564b\",\"#8c564b\",\"#8c564b\",\"#8c564b\",\"#8c564b\",\"#8c564b\",\"#8c564b\",\"#8c564b\",\"#8c564b\",\"#8c564b\",\"#8c564b\",\"#8c564b\",\"#8c564b\",\"#8c564b\",\"#8c564b\",\"#8c564b\",\"#8c564b\",\"#8c564b\",\"#8c564b\",\"#8c564b\",\"#8c564b\",\"#8c564b\",\"#8c564b\",\"#8c564b\",\"#8c564b\",\"#8c564b\",\"#8c564b\",\"#8c564b\",\"#8c564b\",\"#8c564b\",\"#8c564b\",\"#8c564b\",\"#8c564b\",\"#8c564b\",\"#8c564b\",\"#8c564b\",\"#8c564b\",\"#8c564b\",\"#8c564b\",\"#8c564b\",\"#8c564b\",\"#8c564b\",\"#8c564b\",\"#8c564b\",\"#8c564b\",\"#8c564b\",\"#8c564b\",\"#8c564b\",\"#8c564b\",\"#8c564b\",\"#8c564b\",\"#8c564b\",\"#8c564b\",\"#8c564b\",\"#8c564b\",\"#8c564b\",\"#8c564b\",\"#ff9896\",\"#ff9896\",\"#ff9896\",\"#ff9896\",\"#ff9896\",\"#ff9896\",\"#ff9896\",\"#ff9896\",\"#ff9896\",\"#ff9896\",\"#ff9896\",\"#ff9896\",\"#ff9896\",\"#ff9896\",\"#ff9896\",\"#ff9896\",\"#ff9896\",\"#ff9896\",\"#ff9896\",\"#ff9896\",\"#ff9896\",\"#ff9896\",\"#ff9896\",\"#ff9896\",\"#ff9896\",\"#ff9896\",\"#ff9896\",\"#ff9896\",\"#ff9896\",\"#ff9896\",\"#ff9896\",\"#ff9896\",\"#ff9896\",\"#ff9896\",\"#ff9896\",\"#ff9896\",\"#ff9896\",\"#ff9896\",\"#ff9896\",\"#ff9896\",\"#ff9896\",\"#ff9896\",\"#ff9896\",\"#ff9896\",\"#ff9896\",\"#ff9896\",\"#ff9896\",\"#ff9896\",\"#ff9896\",\"#ff9896\",\"#ff9896\",\"#ff9896\",\"#ff9896\",\"#ff9896\",\"#ff9896\",\"#ff9896\",\"#ff9896\",\"#ff9896\",\"#ff9896\",\"#ff9896\",\"#ff9896\",\"#ff9896\",\"#ff9896\",\"#ff9896\",\"#ff9896\",\"#ff9896\",\"#ff9896\",\"#ff9896\",\"#ff9896\",\"#ff9896\",\"#ff9896\",\"#ff9896\",\"#ff9896\",\"#ff9896\",\"#ff9896\",\"#ff9896\",\"#ff9896\",\"#ff9896\",\"#ff9896\",\"#ff9896\",\"#ff9896\",\"#ff9896\",\"#ff9896\",\"#ff9896\",\"#ff9896\",\"#ff9896\",\"#ff9896\",\"#ff9896\",\"#ff9896\",\"#ff9896\",\"#ff9896\",\"#ff9896\",\"#ff9896\",\"#ff9896\",\"#ff9896\",\"#ff9896\",\"#ff9896\",\"#ff9896\",\"#ff9896\",\"#ff9896\",\"#ff9896\",\"#ff9896\",\"#ff9896\",\"#ff9896\",\"#ff9896\",\"#ff9896\",\"#ff9896\",\"#ff9896\",\"#ff9896\",\"#ff9896\",\"#ff9896\",\"#ff9896\",\"#ff9896\",\"#ff9896\",\"#ff9896\",\"#ff9896\",\"#ff9896\",\"#ff9896\",\"#ff9896\",\"#ff9896\",\"#ff9896\",\"#ff9896\",\"#ff9896\",\"#ff9896\",\"#ff9896\",\"#ff9896\",\"#ff9896\",\"#ff9896\",\"#ff9896\",\"#ff9896\",\"#ff9896\",\"#ff9896\",\"#ff9896\",\"#ff9896\",\"#ff9896\",\"#ff9896\",\"#ff9896\",\"#ff9896\",\"#ff9896\",\"#9467bd\",\"#9467bd\",\"#9467bd\",\"#9467bd\",\"#9467bd\",\"#9467bd\",\"#9467bd\",\"#9467bd\",\"#9467bd\",\"#9467bd\",\"#9467bd\",\"#9467bd\",\"#9467bd\",\"#9467bd\",\"#9467bd\",\"#9467bd\",\"#9467bd\",\"#9467bd\",\"#9467bd\",\"#9467bd\",\"#9467bd\",\"#9467bd\",\"#9467bd\",\"#9467bd\",\"#9467bd\",\"#9467bd\",\"#9467bd\",\"#9467bd\",\"#9467bd\",\"#9467bd\",\"#9467bd\",\"#9467bd\",\"#9467bd\",\"#c5b0d5\",\"#c5b0d5\",\"#c5b0d5\",\"#c5b0d5\",\"#c5b0d5\",\"#c5b0d5\",\"#c5b0d5\",\"#c5b0d5\",\"#c5b0d5\",\"#c5b0d5\",\"#8c564b\",\"#8c564b\",\"#8c564b\",\"#8c564b\",\"#8c564b\",\"#8c564b\",\"#8c564b\",\"#8c564b\",\"#8c564b\",\"#8c564b\",\"#c49c94\",\"#c49c94\",\"#c49c94\",\"#c49c94\",\"#c49c94\",\"#c49c94\",\"#c49c94\",\"#c49c94\",\"#c49c94\",\"#c49c94\",\"#c49c94\",\"#c49c94\",\"#c49c94\",\"#c49c94\",\"#c49c94\",\"#c49c94\",\"#c49c94\",\"#c49c94\",\"#c49c94\",\"#c49c94\",\"#c49c94\",\"#c49c94\",\"#c49c94\",\"#c49c94\",\"#c49c94\",\"#c49c94\",\"#c49c94\",\"#c49c94\",\"#c49c94\",\"#c49c94\",\"#c49c94\",\"#c49c94\",\"#c49c94\",\"#c49c94\",\"#c49c94\",\"#c49c94\",\"#c49c94\",\"#c49c94\",\"#c49c94\",\"#c49c94\",\"#2ca02c\",\"#2ca02c\",\"#2ca02c\",\"#2ca02c\",\"#2ca02c\",\"#2ca02c\",\"#2ca02c\",\"#2ca02c\",\"#2ca02c\",\"#2ca02c\",\"#2ca02c\",\"#2ca02c\",\"#2ca02c\",\"#2ca02c\",\"#2ca02c\",\"#2ca02c\",\"#2ca02c\",\"#2ca02c\",\"#2ca02c\",\"#2ca02c\"],\"labels\":[\"M\",\"M\",\"M\",\"M\",\"M\",\"M\",\"M\",\"M\",\"M\",\"M\",\"M\",\"M\",\"M\",\"M\",\"M\",\"M\",\"M\",\"M\",\"M\",\"G\",\"G\",\"G\",\"G\",\"G\",\"G\",\"G\",\"G\",\"G\",\"G\",\"G\",\"G\",\"G\",\"G\",\"G\",\"G\",\"G\",\"G\",\"G\",\"G\",\"G\",\"G\",\"G\",\"G\",\"G\",\"G\",\"G\",\"G\",\"G\",\"G\",\"G\",\"G\",\"G\",\"G\",\"G\",\"G\",\"G\",\"G\",\"G\",\"G\",\"G\",\"M\",\"M\",\"M\",\"M\",\"M\",\"M\",\"M\",\"M\",\"M\",\"M\",\"G\",\"G\",\"G\",\"G\",\"G\",\"G\",\"G\",\"G\",\"G\",\"G\",\"G\",\"G\",\"G\",\"G\",\"G\",\"G\",\"G\",\"G\",\"G\",\"G\",\"G\",\"G\",\"G\",\"G\",\"G\",\"G\",\"G\",\"G\",\"G\",\"G\",\"G\",\"G\",\"G\",\"G\",\"G\",\"G\",\"G\",\"G\",\"G\",\"G\",\"M\",\"M\",\"M\",\"M\",\"M\",\"M\",\"M\",\"M\",\"M\",\"M\",\"M\",\"M\",\"M\",\"M\",\"M\",\"M\",\"M\",\"M\",\"M\",\"M\",\"A\",\"A\",\"A\",\"A\",\"A\",\"A\",\"A\",\"A\",\"A\",\"A\",\"A\",\"A\",\"A\",\"A\",\"A\",\"A\",\"A\",\"A\",\"A\",\"A\",\"A\",\"A\",\"A\",\"A\",\"A\",\"A\",\"A\",\"A\",\"A\",\"A\",\"A\",\"A\",\"A\",\"A\",\"A\",\"A\",\"A\",\"A\",\"A\",\"A\",\"A\",\"A\",\"A\",\"A\",\"A\",\"A\",\"A\",\"A\",\"A\",\"A\",\"A\",\"A\",\"A\",\"A\",\"A\",\"A\",\"A\",\"A\",\"A\",\"A\",\"A\",\"A\",\"A\",\"A\",\"A\",\"A\",\"A\",\"A\",\"A\",\"A\",\"A\",\"A\",\"A\",\"A\",\"A\",\"A\",\"A\",\"A\",\"A\",\"A\",\"A\",\"A\",\"A\",\"A\",\"A\",\"A\",\"A\",\"A\",\"A\",\"A\",\"A\",\"A\",\"A\",\"A\",\"A\",\"A\",\"A\",\"A\",\"A\",\"A\",\"A\",\"A\",\"A\",\"A\",\"A\",\"A\",\"A\",\"A\",\"A\",\"A\",\"A\",\"A\",\"A\",\"A\",\"A\",\"A\",\"A\",\"A\",\"A\",\"A\",\"A\",\"A\",\"A\",\"A\",\"A\",\"A\",\"A\",\"A\",\"A\",\"A\",\"A\",\"A\",\"A\",\"A\",\"A\",\"A\",\"A\",\"A\",\"A\",\"A\",\"A\",\"A\",\"A\",\"A\",\"A\",\"A\",\"A\",\"A\",\"A\",\"A\",\"A\",\"A\",\"A\",\"A\",\"A\",\"A\",\"A\",\"A\",\"A\",\"A\",\"A\",\"A\",\"A\",\"A\",\"A\",\"A\",\"A\",\"A\",\"A\",\"A\",\"A\",\"A\",\"A\",\"A\",\"A\",\"A\",\"A\",\"A\",\"A\",\"A\",\"A\",\"A\",\"A\",\"A\",\"A\",\"A\",\"A\",\"A\",\"B\",\"B\",\"B\",\"B\",\"B\",\"B\",\"B\",\"B\",\"B\",\"B\",\"B\",\"B\",\"B\",\"B\",\"B\",\"B\",\"B\",\"B\",\"B\",\"B\",\"B\",\"B\",\"B\",\"B\",\"B\",\"B\",\"B\",\"B\",\"B\",\"B\",\"B\",\"B\",\"B\",\"B\",\"B\",\"B\",\"B\",\"B\",\"B\",\"B\",\"B\",\"B\",\"B\",\"B\",\"B\",\"B\",\"B\",\"B\",\"B\",\"B\",\"M\",\"M\",\"M\",\"M\",\"M\",\"M\",\"M\",\"M\",\"M\",\"M\",\"M\",\"M\",\"M\",\"M\",\"M\",\"M\",\"M\",\"M\",\"M\",\"M\",\"B\",\"B\",\"B\",\"B\",\"B\",\"B\",\"B\",\"B\",\"B\",\"B\",\"B\",\"B\",\"B\",\"B\",\"B\",\"B\",\"B\",\"B\",\"B\",\"B\",\"B\",\"B\",\"B\",\"B\",\"B\",\"B\",\"B\",\"B\",\"B\",\"B\",\"B\",\"B\",\"B\",\"B\",\"B\",\"B\",\"B\",\"G\",\"G\",\"G\",\"G\",\"G\",\"G\",\"G\",\"G\",\"G\",\"G\",\"M\",\"M\",\"M\",\"M\",\"M\",\"M\",\"M\",\"M\",\"M\",\"M\",\"B\",\"B\",\"B\",\"B\",\"B\",\"B\",\"B\",\"B\",\"B\",\"B\",\"B\",\"B\",\"B\",\"B\",\"B\",\"B\",\"B\",\"B\",\"B\",\"B\",\"B\",\"B\",\"B\",\"B\",\"B\",\"B\",\"B\",\"B\",\"B\",\"B\",\"B\",\"B\",\"B\",\"B\",\"B\",\"B\",\"B\",\"B\",\"B\",\"B\",\"B\",\"B\",\"B\",\"B\",\"B\",\"B\",\"B\",\"B\",\"B\",\"B\",\"B\",\"B\",\"B\",\"B\",\"B\",\"B\",\"B\",\"B\",\"B\",\"B\",\"B\",\"B\",\"B\",\"B\",\"B\",\"B\",\"B\",\"B\",\"B\",\"B\",\"B\",\"B\",\"B\",\"B\",\"B\",\"B\",\"B\",\"B\",\"B\",\"B\",\"B\",\"B\",\"B\",\"B\",\"B\",\"B\",\"B\",\"B\",\"B\",\"B\",\"B\",\"B\",\"B\",\"B\",\"B\",\"B\",\"B\",\"B\",\"B\",\"B\",\"B\",\"B\",\"B\",\"B\",\"B\",\"B\",\"B\",\"B\",\"B\",\"B\",\"B\",\"B\",\"B\",\"B\",\"B\",\"B\",\"B\",\"B\",\"B\",\"B\",\"B\",\"B\",\"B\",\"B\",\"B\",\"B\",\"B\",\"B\",\"B\",\"B\",\"B\",\"B\",\"B\",\"B\",\"B\",\"B\",\"B\",\"B\",\"B\",\"B\",\"B\",\"B\",\"B\",\"B\",\"B\",\"B\",\"B\",\"B\",\"B\",\"B\",\"B\",\"B\",\"B\",\"B\",\"B\",\"B\",\"B\",\"B\",\"B\",\"B\",\"B\",\"B\",\"B\",\"B\",\"B\",\"B\",\"B\",\"B\",\"B\",\"B\",\"B\",\"B\",\"B\",\"B\",\"B\",\"CV\",\"CV\",\"CV\",\"CV\",\"CV\",\"CV\",\"CV\",\"CV\",\"CV\",\"CV\",\"WD\",\"WD\",\"WD\",\"WD\",\"WD\",\"WD\",\"WD\",\"WD\",\"WD\",\"WD\",\"C\",\"C\",\"C\",\"C\",\"C\",\"C\",\"C\",\"C\",\"C\",\"C\",\"WD\",\"WD\",\"WD\",\"WD\",\"WD\",\"WD\",\"WD\",\"WD\",\"WD\",\"WD\",\"C\",\"C\",\"C\",\"C\",\"C\",\"C\",\"C\",\"C\",\"C\",\"C\",\"F\",\"F\",\"F\",\"F\",\"F\",\"F\",\"F\",\"F\",\"F\",\"F\",\"F\",\"F\",\"F\",\"F\",\"F\",\"F\",\"F\",\"F\",\"F\",\"F\",\"F\",\"F\",\"F\",\"F\",\"F\",\"F\",\"F\",\"F\",\"F\",\"F\",\"F\",\"F\",\"F\",\"F\",\"F\",\"F\",\"F\",\"F\",\"F\",\"F\",\"F\",\"F\",\"F\",\"F\",\"F\",\"F\",\"F\",\"F\",\"F\",\"F\",\"F\",\"F\",\"F\",\"F\",\"F\",\"F\",\"F\",\"F\",\"F\",\"F\",\"F\",\"F\",\"F\",\"F\",\"F\",\"F\",\"F\",\"F\",\"F\",\"F\",\"F\",\"F\",\"F\",\"F\",\"F\",\"F\",\"F\",\"F\",\"F\",\"F\",\"F\",\"F\",\"F\",\"F\",\"F\",\"F\",\"F\",\"F\",\"F\",\"F\",\"F\",\"F\",\"F\",\"F\",\"F\",\"F\",\"F\",\"F\",\"F\",\"F\",\"F\",\"F\",\"F\",\"F\",\"F\",\"F\",\"F\",\"F\",\"F\",\"F\",\"F\",\"F\",\"F\",\"F\",\"F\",\"F\",\"F\",\"F\",\"F\",\"F\",\"F\",\"F\",\"F\",\"F\",\"F\",\"F\",\"F\",\"F\",\"F\",\"F\",\"F\",\"F\",\"F\",\"F\",\"F\",\"F\",\"F\",\"F\",\"F\",\"F\",\"F\",\"F\",\"F\",\"F\",\"F\",\"F\",\"F\",\"F\",\"F\",\"F\",\"F\",\"F\",\"F\",\"F\",\"F\",\"F\",\"F\",\"F\",\"F\",\"F\",\"F\",\"F\",\"F\",\"F\",\"F\",\"F\",\"F\",\"F\",\"F\",\"F\",\"F\",\"F\",\"F\",\"F\",\"F\",\"F\",\"F\",\"F\",\"F\",\"F\",\"F\",\"F\",\"F\",\"F\",\"F\",\"F\",\"F\",\"F\",\"F\",\"F\",\"G\",\"G\",\"G\",\"G\",\"G\",\"G\",\"G\",\"G\",\"G\",\"G\",\"G\",\"G\",\"G\",\"G\",\"G\",\"G\",\"G\",\"G\",\"G\",\"G\",\"G\",\"G\",\"G\",\"G\",\"G\",\"G\",\"G\",\"G\",\"G\",\"G\",\"G\",\"G\",\"G\",\"G\",\"G\",\"G\",\"G\",\"G\",\"G\",\"G\",\"G\",\"G\",\"G\",\"G\",\"G\",\"G\",\"G\",\"G\",\"G\",\"G\",\"K\",\"K\",\"K\",\"K\",\"K\",\"K\",\"K\",\"K\",\"K\",\"K\",\"K\",\"K\",\"K\",\"K\",\"K\",\"K\",\"K\",\"K\",\"K\",\"K\",\"K\",\"K\",\"K\",\"K\",\"K\",\"K\",\"K\",\"K\",\"K\",\"K\",\"K\",\"K\",\"K\",\"K\",\"K\",\"K\",\"K\",\"K\",\"K\",\"K\",\"K\",\"K\",\"K\",\"K\",\"K\",\"K\",\"K\",\"K\",\"K\",\"K\",\"K\",\"K\",\"K\",\"K\",\"K\",\"K\",\"K\",\"K\",\"K\",\"K\",\"K\",\"K\",\"K\",\"K\",\"K\",\"K\",\"K\",\"K\",\"K\",\"K\",\"K\",\"K\",\"K\",\"K\",\"K\",\"K\",\"K\",\"K\",\"K\",\"K\",\"K\",\"K\",\"K\",\"K\",\"K\",\"K\",\"K\",\"K\",\"K\",\"K\",\"K\",\"K\",\"K\",\"K\",\"K\",\"K\",\"K\",\"K\",\"K\",\"K\",\"K\",\"K\",\"K\",\"K\",\"K\",\"K\",\"K\",\"K\",\"K\",\"K\",\"K\",\"K\",\"K\",\"K\",\"K\",\"K\",\"K\",\"K\",\"K\",\"K\",\"K\",\"K\",\"K\",\"K\",\"K\",\"K\",\"K\",\"K\",\"K\",\"K\",\"K\",\"K\",\"K\",\"K\",\"K\",\"K\",\"K\",\"K\",\"K\",\"K\",\"K\",\"K\",\"K\",\"K\",\"K\",\"K\",\"K\",\"K\",\"K\",\"K\",\"K\",\"K\",\"K\",\"K\",\"K\",\"K\",\"K\",\"K\",\"K\",\"K\",\"K\",\"K\",\"K\",\"K\",\"K\",\"K\",\"K\",\"K\",\"K\",\"K\",\"K\",\"K\",\"K\",\"K\",\"K\",\"K\",\"K\",\"K\",\"K\",\"K\",\"K\",\"K\",\"K\",\"K\",\"K\",\"K\",\"K\",\"K\",\"K\",\"K\",\"K\",\"K\",\"K\",\"K\",\"K\",\"K\",\"K\",\"K\",\"K\",\"K\",\"Other\",\"Other\",\"Other\",\"Other\",\"Other\",\"Other\",\"Other\",\"Other\",\"Other\",\"Other\",\"Other\",\"Other\",\"Other\",\"Other\",\"Other\",\"Other\",\"Other\",\"Other\",\"Other\",\"Other\",\"Other\",\"Other\",\"Other\",\"Other\",\"Other\",\"Other\",\"Other\",\"Other\",\"Other\",\"Other\",\"Other\",\"Other\",\"Other\",\"Other\",\"Other\",\"Other\",\"Other\",\"Other\",\"Other\",\"Other\",\"Other\",\"Other\",\"Other\",\"Other\",\"Other\",\"Other\",\"Other\",\"Other\",\"Other\",\"Other\",\"Other\",\"Other\",\"Other\",\"Other\",\"Other\",\"Other\",\"Other\",\"Other\",\"Other\",\"Other\",\"Other\",\"Other\",\"Other\",\"Other\",\"Other\",\"Other\",\"Other\",\"Other\",\"Other\",\"Other\",\"Other\",\"Other\",\"Other\",\"Other\",\"Other\",\"Other\",\"Other\",\"Other\",\"Other\",\"Other\",\"Other\",\"Other\",\"Other\",\"Other\",\"Other\",\"Other\",\"Other\",\"Other\",\"Other\",\"Other\",\"M\",\"M\",\"M\",\"M\",\"M\",\"M\",\"M\",\"M\",\"M\",\"M\",\"M\",\"M\",\"M\",\"M\",\"M\",\"M\",\"M\",\"M\",\"M\",\"M\",\"M\",\"M\",\"M\",\"M\",\"M\",\"M\",\"M\",\"M\",\"M\",\"M\",\"M\",\"M\",\"M\",\"M\",\"M\",\"M\",\"M\",\"M\",\"M\",\"M\",\"M\",\"M\",\"M\",\"M\",\"M\",\"M\",\"M\",\"M\",\"M\",\"M\",\"M\",\"M\",\"M\",\"M\",\"M\",\"M\",\"M\",\"M\",\"M\",\"M\",\"M\",\"M\",\"M\",\"M\",\"M\",\"M\",\"M\",\"M\",\"M\",\"M\",\"M\",\"M\",\"M\",\"M\",\"M\",\"M\",\"M\",\"M\",\"M\",\"M\",\"M\",\"M\",\"M\",\"M\",\"M\",\"M\",\"M\",\"M\",\"M\",\"M\",\"M\",\"M\",\"M\",\"M\",\"M\",\"M\",\"M\",\"M\",\"M\",\"M\",\"M\",\"M\",\"M\",\"M\",\"M\",\"M\",\"M\",\"M\",\"M\",\"M\",\"M\",\"M\",\"M\",\"M\",\"M\",\"M\",\"M\",\"M\",\"M\",\"M\",\"M\",\"M\",\"M\",\"M\",\"M\",\"M\",\"M\",\"M\",\"M\",\"M\",\"M\",\"M\",\"M\",\"M\",\"M\",\"M\",\"M\",\"M\",\"M\",\"O\",\"O\",\"O\",\"O\",\"O\",\"O\",\"O\",\"O\",\"O\",\"O\",\"O\",\"O\",\"O\",\"O\",\"O\",\"O\",\"O\",\"O\",\"O\",\"O\",\"O\",\"O\",\"O\",\"O\",\"O\",\"O\",\"O\",\"O\",\"O\",\"O\",\"O\",\"O\",\"O\",\"OB\",\"OB\",\"OB\",\"OB\",\"OB\",\"OB\",\"OB\",\"OB\",\"OB\",\"OB\",\"Other\",\"Other\",\"Other\",\"Other\",\"Other\",\"Other\",\"Other\",\"Other\",\"Other\",\"Other\",\"WD\",\"WD\",\"WD\",\"WD\",\"WD\",\"WD\",\"WD\",\"WD\",\"WD\",\"WD\",\"WD\",\"WD\",\"WD\",\"WD\",\"WD\",\"WD\",\"WD\",\"WD\",\"WD\",\"WD\",\"WD\",\"WD\",\"WD\",\"WD\",\"WD\",\"WD\",\"WD\",\"WD\",\"WD\",\"WD\",\"WD\",\"WD\",\"WD\",\"WD\",\"WD\",\"WD\",\"WD\",\"WD\",\"WD\",\"WD\",\"F\",\"F\",\"F\",\"F\",\"F\",\"F\",\"F\",\"F\",\"F\",\"F\",\"F\",\"F\",\"F\",\"F\",\"F\",\"F\",\"F\",\"F\",\"F\",\"F\"],\"x\":{\"__ndarray__\":\"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\",\"dtype\":\"float64\",\"shape\":[1452]},\"y\":{\"__ndarray__\":\"qDzdBy194T4h38DYLEtqv/XBAHusbAk/Hy4V/lhmBD+3aV7qAW1Ivy2BrVwVugU/K7TVBrW+4j4a7oUz95DjPnriYEn4a+M+7T6LfuUehr++BoFQJUJfvzhkUEkAkUK/4RcaZuEQ0L4/jGQPfhxGv6uKS0mKt9K+zs+9i9tPVb/JYTuPb1phv5W9DNI1k86+QgALE8ZJyL4wtANTM0tNv85ZQlIXlAi/Tohee2KS7r4gsgvJes/bvkANb2kE/dy+yTstG6z74L4feZNByeTfviLSjOxdAV+/D7GpCnueZ7+JbHx4IT3jvu+/qepT+t6+RsRMGJpC1b70RkzZ/XvOPnL7UvxqIPE+zhoHnR6tCb9rZz/GHmjVvjktkBzWb9W+aR9aHa3HZ79X9c2t5lTivsSaQ1MGKRC/xdbCFbOH6L5SVc9Hq6bgvhku2YU5KOq+aFwIwaDY6L6MCyMP3TPbvigT5LtYvOm+JVNKvCFF6r6l0QDxVPrYvhOsXDbv3OG+GQRBJvJx4b5QQWewkPyDPsY8PWD8e9e+C/rE6Bq4276AC3fvVi9yv9x3r03dGt++gdb0aEoAZL8SPMYC1n7Zvjmfr5mCrN++TcrC8ULhaL+Io8se5mLWPu/z5pXpouC+EFI6xA+hxz423vTQkVfkvmndRSXXiiw/sgGkwTrVtL7DDU5g2SnfvqwsKTBuXr2+StmOelZEdr/6ZsMnuZTAvlUJLW4tFLy+E2erOY/0vL7uKYM7rD4Rv0QQOhUkjd6+sEMfWlik6746z2VGuFyCv31JqTdvhA2/NdsqorUZ5b4zCJHyabzyvm4deTO5NNe+vCVO/3V04L49tz2YxyXjvlZ5pWhKvtm+LrFpc3hS3L6qtDKdagNpv8JMgl/tO9W+ZnUYRUnF4L6snZYXmQPivhDNqjFVROG+M1um3HQ43r6Rma0+uu/gvmKIrhtmKeO+qW1fELQVZb8tuRiQgAXavkXNQJ6qpEK/lDkM6voUgL+HuToxxDEFv8f4SLTlzjA/puS0bdSb/j7pzEh31ONGv8R2AFEmwMC/Gn1hLThdgz8PrC9IRXfVvjrVrEWQvdi+wjBk9gKN2b57WLSWcLiFv0r+HSSlFxu/B9LwsFyUob8D9MkoDK3UvrbZC+JoglC/6a3UWR6B277JkXDJB4cTvygigWGgQQa/xZiipFBI+r5BYMfePqaQv+oy1KiTGVC/Sx4nMTBoUL+Y8p7rmP65viyoClZxyt6+/v+0D9uHr74tA6WqdRDIvmDoeQ4xA+y+JuDArqfbP79J/gM5jcDkvjAqA+1/V0M/rJB337iJ+T4Inw/Zd9dkv57Ac4LF0SG/DMBxbAFO9D4ObNPlwEjxvmykUsqvZPM+ST392sKJI78Smqg6qJPavhjno6MEF9a+LTxX6xCU5b4bbt0JsCfKvgXSK9y8OeG+pCddVSyt574EqZqDpPPVvibQA78Txd6+/wI89OgWnb7XXkMWID7Tvs1rj10/n+G+DsNVTTmS8r79dDCtuvXyvjo4vA8yMPC+rWjt4EEa7b5zRGTmYvYQvxiHTurxpf++Hp5JSgLx1r5QpDRRwYXbvmBn0JvL6O2+7DsQGkguuD4FZNLjldXbvhJO7IcdEDq/ljnQIyT6wr41yqsk4njYvhjLNncwCvG+wth221r77r6ec11S5mPuvgitVugs4tW+sCdOjnoo6L6tuSOnk77qvrRmhOCah/e+WlLJml1E4L66yxO1rEzivom8OuiNTuq+rzt6qZvh4r4XwjsRF4XMvk3r15RhJvG+qaP8OFBG576S7uWvH1b7vgFqkoAT5Uk/MbOvM3IL4L5NAAkddHaAP6lS++dBON+++XlcCBPh2r4y/CPPYrnxvi1Ygo3VSeu+8IYPtBWT6r44hipU/y3gvqyCvcKrGPq+TWhdeD+A4L4LHuS7/HrivhSlEUaJTPK+XBzYGOwY0L577Qp3v/7bvq4+TrQN79W+/u+/HkBW5r57Bj9BLpDEvmjgJ6RRBNa+HsB6WTtf4L40/fhDSNDlvhkJpeE9x/G+wVM/912S177QwVROcqnUvizcGEGKj9O+uDkZl0bO1779Cu3nTj3RvuX4RSx2d+y+jjhU4IlKzL6EyZQ9k0/cvs58YyE+WBa/YeBIleAY1L5NEIWz/vPWvlWeiHmb9MK+LocEilOM7z6s1n6E8lfRvtoB2Bzh586+zwRxbse/w75ztUXlhsLGvi4OlKJ1Q1C/qN3FKCx2IL+a4bZholrKPrzwNGULkdC+4oDq4rJX+D40odCa+nfIPoVsPNPFkqG+XWwBJ/hL5T5rvfRUeapLP8JzHbKko9S+krPGUJ1x177sAqx2y4wUvxH9JewoiuS+fE4WvkCi+76+3GWh94IKv6WZJByPl3K/Al0jDnR62773y59vXrzmvh9nklOPPt2+FvYCdA/W5L4MX42AGDLkvqyQwfw+4em+hdkXgJSD276U53lnkdPlvrHWtIO9S+6+uQ28KVs3574fJaUCTM/xvjAIqL1FnOG+QIT78U5f7r42URKoPjvqvoA54t5aiue+Tquz4FFA4r7c/PbPBP3ovknIUV8PK+K+tkoozKyu6L7lUZeTEE7ovhd/DSuDmdS+//Qe3VMS2b7pGyr8HLTpvhAsKchS5di+RbI8YxOaKr9Y6d8ow7LJvnxCB2V8Ndy+t1Rpa2xmkr8aEEwncN3Evv5eBz9428a+r9Q+34Uoxr5IEpw0ZqjQvnEsvIxqAM++YpfxcDot275s+zteTMjXvvNjqSPGGzW/Nnnal8yv+r7B2LOqBxn0vtSIhiDO1Ny+7iGG673D0r4XX4+rg+TNvktJcaIgK96+cqnpgTPE3r7p49G5aYbnvsdhwWl024S/s7v3DOG8zb5mY2hC8YLHvm1BwbMLRM6+dquCwbe72r7ZUSMGmobevqmEKs52/tO+RW103LXSyr5Af8RxPGjZvtHvWgLZ1tq+BYI1n/jd6b4SeAM7lUPjvqMCTytNsfC+UEy2pV7A8L5ADU6BUdH4vnbUYgQplPK+yuj5ZI164r6x9TM04GPgvphHyZGE8t6+H6jcjmhU2b5fTbc7f/nkvlpf543HWOS+4TO4yxVi675H6Hy3AgrovnlU+ZEfr+q+v7Q/NcWt574SrnVxO9XgvkyiMAoX7PG+0cn46olY8L5MvytRPn33vv3S+xviBfC+wxDrfsKCy75bMlly1qLbvuIHiCZiEvm+rT0h5QsLyr4FhJQbyuvjvrlljIIqbMS+odF7tQrS3b4vsjh/xM7VvlmIxksOYuG+yXIL2OOw5b5FBAhINpvovuf7pxLf/di+zawWtd6Z1r7uoGGW0ddpv+he9fH01+G+CD/QzOW/x74/BxYhW2Tfvn9k1SYAkGS/ZCMeGkk+x75TxAjaq0jNvkasTsnUbdu+MyTLKp9YsL76pNjj+Yq/viODGzQeDb++7I/c2WwRwL57mgQKiGQXPx9gSYY1ysK+MAhcbagMu75Qbvvo/s23vqmbo1c9WM6+EtjWx6rVEz/GJi7LhX36vvvk2qKUbM6+f4uVnhea9j4TiexKh03mPr7RQx4WDam+MDoblBLBBr8eki0ex1OTvwXpb6Rt69G+2xBWc+Zyz76kpFb+vhjQvmngSGNVAt6+vd7PlXnhzr6EqLxMbSbLvp7sLGAcG82+yG/RSYdrzL4Sd65F0sDWvrxRDN/sK7++iqEGnrzQ2r5KQSt/s1jzvjJH2cPtiPW+pLgw01a72b4Hlnj1TpDkvheLfo5VqOC+r2RM/sBh5r7G5I6V2RvvvpFg7RiriOu+JHzQzLVM5b5lTWYjmYf2PvU4ATyqtug+TPxt3bzGjj4024O9LaRIv3gAtPgZENa+XzoAwYxN4j6lzr+EvljnPoa4bRa8wOw+4F416mxrIT+jUHsT8qPkPpXrpKCEq2a/OC2E0GZw2D620vclOFpyvx4ntF+h8N0+6v9xQA+W5D5Zo0p8+VnkPifFyXEpXeE+nn/jg6kF5r62K4KpD7nbPgPNt8M6PBq/23hjTloHnj5rtYtAMbOePvHrJVCu5B4/p91flWva5j4fNZ6hp/nFvohzbuZgptY+/zSptnWQtT568Wj0so+XvpnGq+hGM+M+B3a/HLilRb+JIIY5+UTWvq2mBsH+FNO+NGhvmrTwxL6EIglZs1TRvvAqDCfq3Na+7HQWAiDYyL6yGMng+eDUvgaiNDzzLLu+gpWDvvW8y75S8D1/0CLKvtwnnjU+ONu+YJAA8mTjx74f74juf6/svqIYD/iLQtG+tou/BMnw0b7xTdwHW7zQvsvZl72Wwta+lVR4Ah2q0b7spERrDB4Dv3/BVLsvI/S+0oLbSHplzD6wfRsRRpKFvkwDfexEjjO/pHCjO32tWr+Uc+9AmOTzPunaEi57x5s+qCkLxkvP6b6huPLlTzLjPgwwK6XXBQM/u45bti5LCD9PAgrviztVv0HRRRkrqxU/4NdUDYxSDT8neBK51fP9Pj/25qday/8+v33lMYsbCD8ZryAvHmrxvuhrLpWnf+C+FsitNXvr0L4L8w23oFjCvjHvF73Ft/A+rHdY5dpG2L6IS1HB+FTUvlX3zQtIg96+6sIXUWha2r6u6zMH0+Pdvn0Vxy2HYuu+xn9kjRMNzr5SvErlurPLvqifLLlYkmu/muv1iu/fXr9VOfOJFU08v3HLnSMyGNi+se+HbIFUOr/9NTZFtp/Svr0Xu2v3w8m+5JpaZFujxr70dBCliLmNPm/EoVCiIpa/cvtEIcoFob8MMTlhvOj6PozmE0iFWgm/1wn6zR+G876QlB9+INeHv8RIwR1jxLK/AIswku4j4b7hRA/cv438PufkHRf4EFa/HMd18Byd0L7N1vRsJsTnvpu1X/z1fdK+LPlGgzvh0r52fhzdXEPavg7hP/21Dn2/Ppghb9Zr177r/xRJ6FLLvr5xyCgoW8y+f7HQ+5is0r4Ky/+u6d7LvsUCWk/6O9G+NIuoNDX20b7WtW7RAFAev0/vpirwhsW+z6ua9POby77VcuSPluPEvoZpJ8WJp8q+aWuTEiVCx74Y+U2Q7b30vvRQQXiFnMS+xEMBOgaQ0r6elpPBHk7JvrmLwfupMtC+UE4UB2Lm3L4i3aUcJdLVvqZ/b8/a/dK+upfomUxuyr50x+bOBzjCvnj6yF+H09S+M2wkDBsj1L6bAQqEGdXPvj1d+WEpDt6+57NqFSXU2b6EbJjr7mnmvpuQvjEFb+e+tfRJUnrZ6r6uA0EMAiHivukptRpcPOK+cx8paFpp5r555UbllmbTvmri9k0u+8i+5YYpDvNEyr6ImDg39+XDvoUuTksYNsq+vAFB2B94xb42CB8ry0XQvnxQnrwb1Lu+qMM0m4Sr0L5ZkUKlLwngvk2YhwK8ntO+buDQPSMvxL66ijibQT/ivkIclYn/uO2/B+ko4oIDy75AH36jB+PQvpHDXgKdQc6+rv4KMjfC4b4PvI4OICXZvngZdQ3dxgG/Cby6bygBB7/7XzWDCwfzvkjLp8qtdfa+ZiIxmPcoAL+cup/G7ETlvs6zsrK5CtW+pZdVuJQp5r49b3ohTJXgvpD44NAT2mm/e68J4TgjKb+HerfUTYRjv3YMVDIpF0G/I/7DkvWA0L7ekYaDeaLRvuUaUplRddG+Ie3eujhBMb/qwFo+ICLhvgcH4rhW/uK+5mqqtEAm8z6aRGUi0rHXvvJhUEUYBfY+tBf79CN69z4B0F78g277PmMuvsY49tu+8n8wErn49756PUVL2gQAv3cvPtvg28q+vnEEtl1D275okCbSi4fhvs5IeC0hr9u+nWiJaZvZ0r4UNZo/pVn4vldYwiwO4ui+Y6PYAyQ19L4OLW3qOy8vv6vHtDJmK5a+t3RCX0zsYL+Ra8+Y+lyKvjByUYr/0uG+3jFt2POu375v3wo/Qbbxvj7TMys4Bee+jSxyyxwI1b6dW1yYAXzZvvWDrYeS68i+f14RDPDoA7+31QeOxf7zvv9g42/+JuS+1LdiS+0K274ZyhuX9D7ovqsbaWOf+NW+C6Yu0mUR6L6YGr/WR8Tpvku8cYjExeO++vNSeRkM8b6UVSSjKT7uvn0cyQ2jv9G+RFrqnuol8L4bWO+7KRa9vj6FZ2cmt8S+a7ubAZBGyr74wQdeZJvWvv5Ll/mViMI+jApg4uyrvb5FrfTrTBwcvxbmSkFRic2+WDCYfjOf4L49zTVoFPDWvtpIBU+KvdK+U0RJygyA3L4nAmjcVNLYvuS5zwiAYuO+439FCEsoib/DYijYr5X6PpnpyPhmBOC+4GoM46YMyb7l+6s4FUjLvuzC+v8DVdO+FuJGWY8O2L5kLmFBdWfovksaWu/bwM6+f4mkfjpt/b7Xnl4r9gDQvrc8flBKg+e+P/IDs+NE7b6KCOnDkbXqvorCaNn+T+a+JtM1WDXd+b4H2yl6ZpHlPqyNXzAGj/G+imowKS2Kzr4mWyNGbJfhvrk3lOK6qeO+5egFnFtP4r5mgKRi5LzovkbTCqCWr92+JFq/aaeP576w58Qwfvngvsb8bg/rQOK+x047s2IF4b5UAUEmEKbtvo/OVBFHT+i+HaOGVDqK/L4W02vWA8LtvkHGVQ8XHUW/2ip7TJhdIr+aofYzyS/gPmbKwTAZUN4+mYs85NBH2T4eQjNK2xdav3Li40NWWwY/uJJqjNuO875BuGMcGtQCvxoQfNDT1wu/TTkrdic6qb6PyswEi17jvqb/jmejtcu+uT7OhmGUQ79Axo4mXpbBvo77IbDuRce+4dpEHHB9AL+UVp/wupCzvmmX118PaL++Af/I9x5GxL5icjjOCzGvPmZK66Wk8KA+ooW4O23X2z6GgEqJO8LlvmeSjrx77Lm+Zkqi3aP0A791NUnyVICxP2FbJfgROkY/OHrFLIckBr9EdGvPAxUMv6bwdLTHVuU+BwIBczaWgr8ElM5csBNwv0ogEJ75pRS/iqNrdGlTb7/TlQgVUXzaPom1SxqdMic/hAoMc2Wp0r720zlKAXJivyIDkVRLJpk+Owo84DPb+r6PoEoFqA62Pgar4RjcCuW+zvrQ1S86db9/B2x4I8Eov0MWTvkGTAC/iGpIZYQ+p77e7nV3rT9ev9P3tzzbYSe/NopR+327ir9WPxIhuLjfvv4qeT6BcuG+vyD94IeT1b7xXIXGsJrevoVTGI8pqtC+G9iWWtJX1L77j56HAablvkDLAYSI2OC+jy7AvyT55b6kCsAfFkzcvhmcPFzunuC+632+xrK33L4JuxaunJbavvSX2e5VJOu+T1ybiskM6b7waPcSlJPhvuhxQV2rBeW+LxTVBdHp6747ABJIMarjvlmIHd8dStm+k4srCrNSGL+WwFbJ9iVEv6Ghf6eSmNq+O1FP3Han3b5DNMXvNyLevjAP+k5Qg96+eYgxVPsH3L5ov6wvACb4vur6tLUTj+G+nJ/q/aTu2b6OnXrVx4zUvo1upcG2Id6+01C6UMJH4b403EgWw4DOvg7dB8eMWNm+EmY3BDAx4L7SK6gPCkvdvlHvWCChGNS+91Qm1QUg176oV8nV5xHUvhDLpfGQPuW+k3PKMEc04r4T0OcrSF7vvlh1C55t7Ou+xbp+3m455b6WlZ17g63qvssJHB3omOW+ACufQ8Tp9L5xO2JTEG/wvkQVp8JVQ+C+11QiLOUw8b7qikv5aHzfvlq+Ii66+N2+hnMVYj8l4b6tfTYHExYZv4r9SX+6dOK+3/UzOKxQ4r516qCgjHnivgH+UXlITzO/CTGoSO131r7hxziPzOXnvlPjGMTk3Nm+QpAzPYyp075aPyvKxBHFvimuRajHMum+JuhdpMAC077M1MbIoObXvvupIJ30Etu+++pdhkqm5L4Vk/h4IaXTvrq65x4Nm9G+iUukM+QR074ftYfyYb7svtbe/ifRAAK/8Lx9cGySE7/pX9W1FZ3mvuuxId1CRee+SsK8Rsqg4b6hJ1t4kZ/XvlJkGozSJDe/nqesaZQU4r4NRrd/bH/dvsl7T0zekte+VMp9g08g177UsCiHpOJFv8dEVAdub9i+4uQEPE7X4r7g1xoxrSnhvsT0gSqOGdu+4ZGzDfVlSb8df+TK7LexP0kjfBu7SOK+tPUWxi7x1L7pgC5V20zVvpbK4QYB66a+b4McjMYm2b4H0HDNkdvfvuTSbOuKg9W+sNy3Be6A076iIx46nm3evkhyo3gjPdi+eDjcEz7T3r5bp4gcX6favgNl8D9RaN2+qmzYtL+/076bRC3f2GHWvlAsORQwfdS+mI5xBSiK0r7t02Rz7PDZvhdtYYdnSdu+hIyIkDDZ377c43InmPi/v5lzRV0kDuK+HrnodF8i4b7WNYXuFRbbvsM2qylczOi+SpMp01Qq2762VcIF7+Tavv1UAldnEdm+cQTtSZSf3b6ycyuNkazivt1u1i6sHOa+/8QDySsD575WSxZppdPqvhpLMgBKM+G+LDieS6LR476deVcbGVjcvhZwQrJ8KeK+6em9GF6B975TSXeM4M/kvh0DZTxrPSA/hUxnHCVNTL8HshBFXv7VvjVVeBLKQte+VmbNxnzQlr8Ntalv0vqbv6LdbTVRYn2/vEyXNdvo1b5q+TxLVFLivmfgJ4EYyse+DNdjvI192b73YR0cXjDhvkKiNQXpAO6+fFuv+ub97r7eDV2olMLmvsrH1oq0dty+z+Qn4c3r2r7CW0VL0XHevvQDrV2dMtm+Gdkxp2ag477ozVlP9VrKvgvkqpPPW9W+UCTRzls/0b4VO3s6GXHXviep+vVP79e+bbFz/E6w0L5MqG4M1x/avrZ3LBtpNt6+MQiGtnRzz75uRxJhlzBCv6abxRBx7ui+ZHV5IcjReb+jcY8eWSwEv2RNHsQIC+W+vSXUD4ay4b5vwjZSHvLevg3H35DcFO6+ucpceXlh4b7t3uFkn3HivoZmX4RZ39y+VdAegqZd4r6A1olbxOTcvsUZeXN4X96+s/VXo0EK374ffQwvfRDdvnE3hrmmyuG+d846xlBt5L6wuedLWh7gvgQEBm7CoNO+snyLtJEN375f0H1XIeAMvwJNu0QT7dO+vU2MrBaZ5L5WvNTpINLkvkJU05IFiOG+22IHDuuq7L5wADCqXZnnvmoHTbUAstu+fgFIsbHa3b6dOLFqvYjovm3ZzsBkgOG+J1oeX3CO4r65ywAhcivdvoky3SDbFty+ZqHkUoTx4L6c+E/jWP/ZvuFMLPYeEU6/nhVEvn6l4L7B4EMd1fTVvi1MD+Opl+O+CwU7JVX95L5EHyIqLDfBPsljsVcineO+8vAV4W5n5L4g0WWIS/Xnvop51eysruy+DTO8E4Gd176QY73aNkXdvppgjT0Gcjw/VRdnGedO2r7KnEU+H1bXvkdIWzppJdS+6Ilu8JuJ2L5X1mrgB2HWvtQzipQiVDG/5glr3Oo30L79wij/ZbHSviRm8AlatNa+opPxfpgq0L46qaaxQPbfvgeLklYeXRo/sWy2Ni6d0r7Y1RrLTU4tP/tefv4f2OK+99fYtY+52L6qpMyNr5zVvkGEiOw7WNO+BE0SeNKK0763EZ1syu3Svvd87r2YHNy+1bA6oD1l176Cc2P1Oy3Qvl0+yoonbX6/8xguaQRf1746JyilzrMDvwIMBVYVieC+swCb478O0b4XN3LqSxfXvjzyOU8n+bk+U3ND3KBGzL6aKTj0+S/avl5To5twwdS+ASdhO5Pv0b4TFkQNo8ravg17dOZbc9W+DcbEzGDdTb8Zlk185VBQvzqSGk9eetu+Jcr6MROvJT/OsLbY3zDYvn2xKmZ7YNy+7HgksVYO475FxcFttuBEv5Voz8sZx9q+z1MrF9iV1b45AxlQek3lvl5l6XnUNty+QFIZWDpV6L54pDE33pbhvo6WOPIxTyQ/fAn4VF+AJD+vk0cwqAtgv1JZ85FPjse+iErYRdrZ0T47fOfmNkDoPjzpQc/yONG+QaveI56UFz+DPyIkWbjVvjLwfBFKCNa+LrJ1CphWVr808fnym13Vvtr8t7hFmde+650F9b161L6LD1j1sHALP4hDBiH3lde+i0LI4nQgaj80lYSFU1/XvlH8UOgz1u++SgnMk8MuIj9IdwNvQmo2v/1t3qYcjtG+pSy93tzA477ni2kxci3Qvtp/TSw/Z9K+jPh7I+hQEL85sUFS8THQvvhOOwDKvQS/xkRvKHqA0L5FbQ16KEbQvqpLa2YYxdK+Fi4dSOdbz74cb1A6SKbLvvV6rTRwSM2+aRqj/8nNyb7UpYZ1Ix7IvkcsFy8XPfk+eWpDmAzfhL/0I5eXcK3TvjRNrvU4Tde+8ZTWXsLF0773Wy41fCfhvhnxLtH/xWe/Q2Yav2H14L4WKaQjEtRjv2vi7Otk9/S+72Q8twEH275DqEiH9AlWvw+oOkcUdCi/M4Bf9/IR2b4aapZ9sXTkvmrdY5NuMyi/uB8urSvczb4zg6xbfGPNvjAJOdFb686+tWtFwdAvLr81+GUh8Ro3v+eZsquvrDa/8qzH5pnZ7r47IBKZOm3Pvml4bPu+AM++xfr1tu+01b5wgyCanx+ZvgDJC0uBidW+KfF3c2Y/175xlLz3u+/SvmHVGY03vQM/MrbNg0SyYj+1I0W9quTDPuYwua5jMNO+PB+XYEoY2r40a2aMWVoxv53/aKXeYsu+lVHOgfv/qb5AcAHIc4ncvtQlDPPGVyG/8ofVUP280r5iyCUJ573MvnPWMNs++eK+6X+xc5Fh576+btqfFg7NvmQEsVm19tC+hsxQR4I57b6VyPrYHf/AvocD6thBDZm/T0O0Oq8K875Lb3ZPlbnQvlJzrfPPROO+u8BjUvi9F7/nELNCdDwyv6OacC1o4M6+LouyNSODJL/fGemoDV3WPoBx8WT0dBE/Zh1bmjQo1D46ikorPHrmPiO9HhfIZ86+vWyRpNg3277QiaIFM0zSPtKb+KGTsiC/ql3+G5afVr/dpPa0k4DQvuwxzJYB8c++cT5Vp97Pzb4KWTqPk2oFv1lTYOVQEne/Req47ZoR0L5V+R6sRRPXvh75T/FOEdi++exvM/f6yr6Qoq9TcM+jv8Y2Cl3hr56+le0v85OU0b5iquts9ki0vq6f6HR+ecy+eqABAs2t1L56dvCfwpMHv1bkxsNGzte+HvQAwWLwb7+J81Fo4NVAv3PLYPSdquO+CEylBlCu1r71uuNd40gEvyu0xL1O486+wlewFJOTC7/V+rCdF+zIvp7iWEwf2A+/88N43RqmxL62SjHD0x3HvgivFgASnNG+jFKZuLloyr7pO4bgk9HIvsJkDktDKNW+EGeEtWGe1r7yEgTWagrWvvBAtIvNENe+HAN0NYZ4sr7vkcU/z+u3vugpmeKYoLy+R9TkeU68vL77tUjmVY+2vnZIO7x0IJ2/4gbEU/3B/z6dPAwQnmHUvrNDKWHMqNG+3x5LgD60y77kIJywSvHWvikJfoSCndK+pzEOmw34PL9QmIod6I3VvpHS93UtftW+ejfGOL4Hgb9lcs7MfO/Lvl3r4KoZdle/gSDwEvRPU7+8H1M0jSFVv72KzNH4Hku/WpC0BH2MZr/CGAFsS0PIvjyXs8X9qMy+BW4ekXdsZb91Q0dAilcwv+w4LmgmooK/8o2FFyn7tT6nT7y3/o5+v3/f3kEQSk6/eOajckpAlD59KBxgQ/3PvvBt1W7Zh+U+HkBWkr9zyj7l0GUxoWrlvlkIWKA8x42/WqvnpglKm7+llXav3Y+yvi0BKTfaipI/hLNbzB44r74B49Lt9sLKvkn061mNLkE/xAA27Ecwab8qCr4lT44Rv7/teP8kjOK+lhbR/Vf+LT9G6MDvOWP6PneHgbQ9+Dq/2InqcWvh7T4Us2x9xYP0vgEPvY3h6+0+5KltlzDbQ79grFRR/QrxPpU6dae8oeo+emWKkQ+v8z4diFJbia35Pumucmx+zN4+EToyAEhz/T5zsyZrn91TP2agrN27+vU+IscxMpWfQr9E7gNH75HvPkDKyDQUyLc+QWoPzMJEBj9WAuwS88jHPnWQPriLChA/gS5h32ND9T4AHGKAnXX4PhHVrdFIbe4+23elkUyA8T4+t/IboJjzvpM27UTjsNA+CaX+l/r75z6iw3vWU6YyPyF2eOrlvhc/pKngSSjlbz+s9YBZ3eL+Ph1Xn5zMdRo/hodGJGfm8T4cA6qy8377PlWtxF5gaO8++BGes/u19z6k5jIqBvn/Psl+O0a5CPQ+iIcvJtZO+D5F78zgA4X8PkMBxGiEA+4+RahrIU6H+j5vxMOxZlXwPjpQVUpMH/o+9USuk5cBpj4HL0+NRNoDP9JHIOm7TBA/tHcJxArZtL/pMjhzCojwPous6h6K0vY+/yPVdXKT5j78Oo6Pul7wPnFLpIuNpAE/ak+wssxdMr+IvLjhiVMPP1SNNvfH9Ag/1AFLyLsSwL4i8y99+kdBvoUFxOJdEam+puB3+J3z1T4MEGYAChoHv+F09DWQlSk/Zlj4c29d+D54TLGatcFzv54YKqoR8wQ/rNvgIMkoqz4wY4JgLwTVPuMVuI7YMOc+7WENUkabIT/wQk/CqRu7vuAjvrMqV+g+1jfuZkTNuD//QdqwlIEev2BWtl+zixc/SdKBKQX+mr/X0QANm6vDPkJKJfNM3eQ+WeY8wvarcb+i8TkfROkrP+7ZNqd8tBo/zRgMiHs8/T6iHL5FJowSPy6RzzNCQSk/qeYb0vDDbL/p5ZtZ1dH6Pgw0AOyk9A4/3VZT/d/9/T7qTq5jAvZkvwb0H+qFSR8/cXd+PMZ3gr9pq1f/lg9xvwK3dBr7PXW/EzeeRPVgY7+aW4gzuCCeP8DWCJgqFoG/tuyP5iGSib/HCML8DQJiv9Sqc/tbYK0/9mmNQHyudr/m8qBGLqtAvwNXcQYYSEa/CywyBfkS0r6uP7usnFbKviazw+9gFM++nqfW8+r50b6FQPgtsPZrv/V3Tnhh7sq+Z5cIYrXrYr9Fzjjkpzgov8pcKcXYgsS/w0kOirgJ+z6NGUsyUe2Nv06fHUHLNSE/QCWYoPTmT78G/1jnp1gHv4DGI0MXsRa/MVKqJfHuAr8vpLrM+lQGP4Ab5EM4788+uCunnkAPlD4qRvMfyiSWvu6tJwhA2K2/2Vv0W7C9/b49gBwibA3Hvkwnlt+E96Q+gOIGBtCI+T7EVCXxMiobv5WE4QUO9eU+SDV0z7Mlnj4w2mdFxAV+vrF/2MLyCqi+d3COe04JAz/vhd3OU4WhPmmVQptGtLs+JhW3V7n/fL7noA1BTV6mPhCjk/uzFlC/n4Tno4W6gr4Qzdfq6cFKvwjKNwYZQHa/IgLJX6DZBL97BOON36MFv2R+Gvv8y5e/4M+w3Z3MMr/yOFgM0qAhv6ot8U+BEx+/cuvgKAAP8b7gYK8XpZEkPxVI99ZJZ2C/g5fyPvhIOr8zS2KV+zRAvxDFncq8iHq/fitmdY4vAD8HyKvDS/ARP+/sMOzPEf0+nNkjny1mBL/p785qLgEjv5mGwwRTy4K/RlQ2SkgGxb7/r6nUQKPCvsE1JWm/EcW+B+bRgUW/vr50JuNRX6DHvg/InbwGHvU+4Zs/tAMLo76KyjcRRg+wPoVgzXi3I8O+qqBzT050Dz8J1FucR81mP7DzRm5a3ru+aJnHIKHRI78XrgktAnTkvjVo2xIZ2L2+gGRrMfHUwT5oSwnlzAYEP1UMr0WD6QI/6sPm4TSC074Osqeeul3Bv4q+A6+BkgE/w0n/NbIsD78fr5JqINL/PnnqwbE+Bgc/OKjThgusAz83CpxDlZHzPgWB+BJPyS0/F4DZPVgZET9yDxTrY/z5PmF9stAg0QU/MRDGE2ER/z5ji3WRlDPPPhnQjEilEOQ+U7kRgd+5yT7S7+zPB2efvl389+lhyJG+OuQhEHLpzD7XrUDt0G3bPt4ZygprZsk+syig4l+u6L4F/3MxdL1Nv/w2Xc1h2wA/pUB8gNVjBT9l8QnagVZkv3rWkVsOKgA/lowVIfuRAD8nk/KYvw4JP98+2RRpdgo/AxTA1yAUAz92U5tq2ZEGP5JL+URoeHC+j5N9nnLQjL6CVolWKfpjP6G0Ih11lRU/supxcoevHz/TwAv0HqqUvr2ij/kCHZK+7XUfkjkXQz/GJE80Zg0yvv+8B1dL+ua+5sDkIxFjBD8qbD6IAdMNP/ZqE3qrbwQ/I9YIlt8JBz9KDfAgRqADPzdP0whfwQ8/z25DNqu3DD93oscrRcXwPqNc4mPkrAw/tJl8baBuCj894SVEU93Vvmb7bvES2Ma+77YhGqVkIL84Z/dfLATzvret7uLY0TS/jPcHxmbe374aLkWoik3XvopBATyCjAs/6nYVyDe+H79BPT0Ced7Zvlw63x9kx9q+3m7TV3wP075qFf5GeWXIvoGm6SL3G+K+MnT+olW0376Kio7kzcrBvva2cljNpVK/6pIeWC4VRb9AhGCt+pjAvius80m5yti+w7lgq0Lxwj52qjT0kSXAvmFR5qMM6um+GbEn82jo3z70bhYPE8uuPkJGqQ+DE7g+GZD+7n3IwD4ZGza5/Vu2Pgne0rnaZqg+hgPd+6rssz6hvv4qjUigPmsZZQ7rQLM+q4/gwwwYYr/MLp4YL9BKv6XWIqkF/CE/FbLc/MDXGr8O5uqvMsbWvsBcSl7F496+EJyoFLET275KcJBFmp+Cv+HKNaTvnzK/Oczd7FsA3L6VVSjZsmhwv9P/QNSRNsE+MhXowIcIxj6dlYD+XLbdPr0G6uRrI7M+1rSfVknHsr86nfC2TLfePmphfDrrUKu/Ih8B8Sb1sT4XLT+USJIZP2dEPup9k5C/R/ZOFvw44L7hi9ekYzNpv2O9W8pDmkC/cUQOpW8cWD8hRB+SIHfUvhFrJAj1j+W+fTo4pc+yUb//NwfoT2dWvxu+06aSV+e+BWfGFTr13b4NMVlJEX3hvviyiLX7s+q+kpUaMQQl4b5g9lM1UCnvvpTfp1KHEAO/2htu7lD22b4jjxyflnngvkmMw4/12+e+3YGx1+Ui5b4CDPDQpn7nvm8Icn7YP+K+QWgRFHI3VL8LJ+gcIxzyvhtx7Aunp/W+U9Jy3H7u5b7NnCXVgiZDv4RYfXDDqfO+3XHad0tc8D6udPH9KqTTvtTc4Ai0uQe/2Bf9ri8JNL+MZeRn3jnsvvUKRD7NpzE/a+jktsSa6b4GitQ/Jv3PvnPN2b2WENe+lBiGJ+RHx768pj78uszJvs76jdypGr2+a1UlTIvNGb/kx75rpGhsv38HGZCGA9m+jCmjgMa2Q78Duw/4fqNTP5VI+3TSkPW+StSZ99d6Mr/CogUHpeP2vgLAPSMOrO2++HHUxyiL6L7C54cVYhHfvnDlJSzxr+W+mh2aL8G31b7GLvL+IRDavj/RG/p9bfi+HzPLQv9X374AIvRP3vbevn0s9vVEae++xvx1a4ixyL6mi0ZBxS6Evw0Zh77BHeW+\",\"dtype\":\"float64\",\"shape\":[1452]}}},\"id\":\"7d040554-f479-4d78-993f-a1847a84d475\",\"type\":\"ColumnDataSource\"},{\"attributes\":{},\"id\":\"3d05fed6-9695-4b2a-a4fb-8d206b2126c7\",\"type\":\"BasicTicker\"},{\"attributes\":{\"callback\":null},\"id\":\"91b5efc7-9871-4880-b48b-6fc874b90c89\",\"type\":\"DataRange1d\"},{\"attributes\":{\"bottom_units\":\"screen\",\"fill_alpha\":{\"value\":0.5},\"fill_color\":{\"value\":\"lightgrey\"},\"left_units\":\"screen\",\"level\":\"overlay\",\"line_alpha\":{\"value\":1.0},\"line_color\":{\"value\":\"black\"},\"line_dash\":[4,4],\"line_width\":{\"value\":2},\"plot\":null,\"render_mode\":\"css\",\"right_units\":\"screen\",\"top_units\":\"screen\"},\"id\":\"1d5b2775-eff3-4f80-8d6e-22d99ec6b904\",\"type\":\"BoxAnnotation\"},{\"attributes\":{\"source\":{\"id\":\"7d040554-f479-4d78-993f-a1847a84d475\",\"type\":\"ColumnDataSource\"}},\"id\":\"77bbd646-a217-44ee-8c44-96ba433e0c34\",\"type\":\"CDSView\"},{\"attributes\":{\"fill_alpha\":{\"value\":0.1},\"fill_color\":{\"value\":\"#1f77b4\"},\"line_alpha\":{\"value\":0.1},\"line_color\":{\"value\":\"#1f77b4\"},\"size\":{\"units\":\"screen\",\"value\":5},\"x\":{\"field\":\"x\"},\"y\":{\"field\":\"y\"}},\"id\":\"f036d814-a0f0-497d-b161-674b2f9473aa\",\"type\":\"Circle\"},{\"attributes\":{\"data_source\":{\"id\":\"7d040554-f479-4d78-993f-a1847a84d475\",\"type\":\"ColumnDataSource\"},\"glyph\":{\"id\":\"8e2d59a0-9a82-4e62-bb0d-a1f5a0dc4a18\",\"type\":\"Circle\"},\"hover_glyph\":null,\"muted_glyph\":null,\"nonselection_glyph\":{\"id\":\"f036d814-a0f0-497d-b161-674b2f9473aa\",\"type\":\"Circle\"},\"selection_glyph\":null,\"view\":{\"id\":\"77bbd646-a217-44ee-8c44-96ba433e0c34\",\"type\":\"CDSView\"}},\"id\":\"0ad9cc56-71ce-4615-b65c-fbf537730936\",\"type\":\"GlyphRenderer\"},{\"attributes\":{},\"id\":\"4b24bf8c-e16e-4c1d-b662-21c020bc4c1d\",\"type\":\"WheelZoomTool\"},{\"attributes\":{\"plot\":null,\"text\":\"\"},\"id\":\"dd7671c9-0c2d-4309-9059-3f25590a14fd\",\"type\":\"Title\"},{\"attributes\":{},\"id\":\"c1bcc569-5a71-46b7-bdf3-21bd41c3a59b\",\"type\":\"LinearScale\"},{\"attributes\":{},\"id\":\"a51db172-fbf6-41a9-92c9-041c94ebeeed\",\"type\":\"HelpTool\"},{\"attributes\":{\"items\":[{\"id\":\"b5107b86-f4bd-4073-9e7c-b3640edc08cb\",\"type\":\"LegendItem\"}],\"plot\":{\"id\":\"2cd8a13f-2761-4153-a533-82b9fe32f6bf\",\"subtype\":\"Figure\",\"type\":\"Plot\"}},\"id\":\"7d3366ca-947f-4941-a933-5598b59a106f\",\"type\":\"Legend\"},{\"attributes\":{},\"id\":\"b7f7186e-6348-4944-8b1f-b89707794a37\",\"type\":\"BasicTicker\"},{\"attributes\":{},\"id\":\"1a69f1c9-bd7f-485b-a56a-530fd8ecf08f\",\"type\":\"LinearScale\"},{\"attributes\":{\"plot\":{\"id\":\"2cd8a13f-2761-4153-a533-82b9fe32f6bf\",\"subtype\":\"Figure\",\"type\":\"Plot\"},\"ticker\":{\"id\":\"3d05fed6-9695-4b2a-a4fb-8d206b2126c7\",\"type\":\"BasicTicker\"}},\"id\":\"fb747b91-d3b3-4f72-9a1f-51c94242408f\",\"type\":\"Grid\"},{\"attributes\":{\"formatter\":{\"id\":\"4f22a80f-4f74-4a8e-bc5c-27327beac710\",\"type\":\"BasicTickFormatter\"},\"plot\":{\"id\":\"2cd8a13f-2761-4153-a533-82b9fe32f6bf\",\"subtype\":\"Figure\",\"type\":\"Plot\"},\"ticker\":{\"id\":\"3d05fed6-9695-4b2a-a4fb-8d206b2126c7\",\"type\":\"BasicTicker\"}},\"id\":\"4b16a909-f757-47bb-af97-e5714e139866\",\"type\":\"LinearAxis\"},{\"attributes\":{},\"id\":\"f8bad803-c5a2-41e0-9e9c-ca7c86650e57\",\"type\":\"ResetTool\"},{\"attributes\":{},\"id\":\"f340b861-be94-43d0-93d1-8f9df7448ebf\",\"type\":\"PanTool\"}],\"root_ids\":[\"2cd8a13f-2761-4153-a533-82b9fe32f6bf\"]},\"title\":\"Bokeh Application\",\"version\":\"0.12.13\"}};\n",
       "  var render_items = [{\"docid\":\"e4459f78-192a-4327-9084-60510e5874bc\",\"elementid\":\"5f16a31d-3984-4d43-8742-bc51536a00db\",\"modelid\":\"2cd8a13f-2761-4153-a533-82b9fe32f6bf\"}];\n",
       "  root.Bokeh.embed.embed_items_notebook(docs_json, render_items);\n",
       "\n",
       "  }\n",
       "  if (root.Bokeh !== undefined) {\n",
       "    embed_document(root);\n",
       "  } else {\n",
       "    var attempts = 0;\n",
       "    var timer = setInterval(function(root) {\n",
       "      if (root.Bokeh !== undefined) {\n",
       "        embed_document(root);\n",
       "        clearInterval(timer);\n",
       "      }\n",
       "      attempts++;\n",
       "      if (attempts > 100) {\n",
       "        console.log(\"Bokeh: ERROR: Unable to run BokehJS code because BokehJS library is missing\")\n",
       "        clearInterval(timer);\n",
       "      }\n",
       "    }, 10, root)\n",
       "  }\n",
       "})(window);"
      ],
      "application/vnd.bokehjs_exec.v0+json": ""
     },
     "metadata": {
      "application/vnd.bokehjs_exec.v0+json": {
       "id": "2cd8a13f-2761-4153-a533-82b9fe32f6bf"
      }
     },
     "output_type": "display_data"
    }
   ],
   "source": [
    "p = figure()\n",
    "\n",
    "\n",
    "p.circle(x='x', y='y', color='colors', legend = 'labels',source=source , size =5)\n",
    "show(p)\n",
    "#colors\n",
    "#firstandsecondv = [ xi,j) for i,j in zip(V[0],V[1])  ]\n",
    "#ColumnDataSource = firstandsecondv"
   ]
  },
  {
   "cell_type": "markdown",
   "metadata": {},
   "source": [
    "# SVD and PCA of Spectra"
   ]
  }
 ],
 "metadata": {
  "kernelspec": {
   "display_name": "Python 2",
   "language": "python",
   "name": "python2"
  },
  "language_info": {
   "codemirror_mode": {
    "name": "ipython",
    "version": 2
   },
   "file_extension": ".py",
   "mimetype": "text/x-python",
   "name": "python",
   "nbconvert_exporter": "python",
   "pygments_lexer": "ipython2",
   "version": "2.7.14"
  }
 },
 "nbformat": 4,
 "nbformat_minor": 2
}
